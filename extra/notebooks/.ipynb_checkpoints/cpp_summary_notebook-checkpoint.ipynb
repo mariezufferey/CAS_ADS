{
 "cells": [
  {
   "cell_type": "markdown",
   "metadata": {},
   "source": [
    "### Les références\n",
    "\n",
    "En C++ on peut coller deux (ou plus) étiquettes à une case mémoire. On obtient alors un deuxième moyen d'accéder à la même case mémoire. On parle parfois d'alias, mais le mot correct est **référence**. Au niveau du code, on utilise une esperluette (`&`) pour déclarer une référence sur une variable. \n",
    "    "
   ]
  },
  {
   "cell_type": "markdown",
   "metadata": {},
   "source": [
    "```\n",
    "// Déclaration d'une variable\n",
    "int ageUser(16); \n",
    "// Déclaration d'une référence \"ageUser\" accrochée à la variable ageUser\n",
    "int& myVar(ageUser);\n",
    "```"
   ]
  },
  {
   "cell_type": "markdown",
   "metadata": {},
   "source": [
    "Une **référence** doit impérativement être du même type que la variable à laquelle elle est accrochée ! Une fois qu'elle a été déclarée, on peut manipuler la référence comme si on manipulait la variable elle-même. Il n'y a aucune différence entre les deux."
   ]
  },
  {
   "cell_type": "markdown",
   "metadata": {},
   "source": [
    "### Passage par valeur"
   ]
  },
  {
   "cell_type": "markdown",
   "metadata": {},
   "source": [
    "```\n",
    "#include <iostream>\n",
    "using namespace std;\n",
    "\n",
    "int ajouteDeux(int a)\n",
    "{\n",
    "    a += 2;\n",
    "    return a;\n",
    "}\n",
    "\n",
    "int main()\n",
    "{\n",
    "    int nombre(4), resultat;\n",
    "    resultat = ajouteDeux(nombre);\n",
    "    cout << \"Le nombre original vaut :\" << nombre << endl;\n",
    "    cout << \"Le résultat vaut: \" << resultat << endl;\n",
    "    return 0;\n",
    "}\n",
    "```"
   ]
  },
  {
   "cell_type": "markdown",
   "metadata": {},
   "source": [
    "Lors de l'appel à la fonction, il se passe les choses suivantes :\n",
    "1. Le programme évalue la valeur de nombre. Il trouve 4.\n",
    "2. Le programme alloue un nouvel espace dans la mémoire et y écrit la valeur 4. Cet espace mémoire possède l'étiquette `a`,le nom de la variable dans la fonction.\n",
    "3. Le programme entre dans la fonction.\n",
    "4. Le programme ajoute 2 à la variable `a`.\n",
    "5. La valeur de `a` est ensuite copiée et affectée à la variable resultat, qui vaut donc maintenant 6.\n",
    "6. On sort alors de la fonction.\n",
    "\n",
    "Ce qui est important, c'est que la variable `nombre` est copiée dans une nouvelle case mémoire. On dit que l'argument a est passé **par valeur**. "
   ]
  },
  {
   "cell_type": "markdown",
   "metadata": {},
   "source": [
    "### Passage par référence\n",
    "Plutôt que de copier la valeur de nombre dans la variable `a`, il est possible d'ajouter une « deuxième étiquette » à la variable `nombre` à l'intérieur de la fonction. Et c'est bien sûr une **référence** qu'il faut utiliser comme argument de la fonction."
   ]
  },
  {
   "cell_type": "markdown",
   "metadata": {},
   "source": [
    "```\n",
    "int ajouteDeux(int& a)\n",
    "{\n",
    "    a += 2;\n",
    "    return a;\n",
    "}\n",
    "```"
   ]
  },
  {
   "cell_type": "markdown",
   "metadata": {},
   "source": [
    "Lorsque l'on appelle la fonction, il n'y a plus de copie. Le programme donne simplement un alias à la variable nombre. Cette fois, la variable `a` et la variable `nombre` sont confondues. On dit que l'argument a est passé **par référence**. Cela permet à la fonction `ajouteDeux` de modifier ses arguments. Le passage par référence offre un gros avantage sur le passage par valeur : aucune copie n'est effectuée."
   ]
  },
  {
   "cell_type": "markdown",
   "metadata": {},
   "source": [
    "### Passage par référence constante\n",
    "En utilisant un passage par référence, aucune copie n'est effectuée. Mais cette manière de procéder autorise la modification de l'argument. La solution est d'utiliser ce que l'on appelle un **passage par référence constante**. On évite la copie en utilisant une référence et l'on empêche la modification de l'argument en le déclarant constant."
   ]
  },
  {
   "cell_type": "markdown",
   "metadata": {},
   "source": [
    "```\n",
    "#include <string>\n",
    "void f1(string const& texte);\n",
    "```"
   ]
  },
  {
   "cell_type": "markdown",
   "metadata": {},
   "source": [
    "### Les tableaux dynamiques\n",
    "Ce sont des tableaux dont la taille peut varier."
   ]
  },
  {
   "cell_type": "markdown",
   "metadata": {},
   "source": [
    "```\n",
    "#include <vector>\n",
    "\n",
    "// déclarer un tableau dynamique de 5 entiers\n",
    "vector<int> tableau(5);\n",
    "````"
   ]
  },
  {
   "cell_type": "markdown",
   "metadata": {},
   "source": [
    "### Notation des pointeurs\n",
    "\n",
    "Pour la variable `int nombre`:\n",
    "- `nombre` permet d'accéder à la valeur de la variable ;\n",
    "- `&nombre` permet d'accéder à l'adresse de la variable.\n",
    "\n",
    "Sur un pointeur `int *pointeur:\n",
    "- `pointeur` permet d'accéder à la valeur du pointeur (i.e. adresse de la variable pointée);\n",
    "- `*pointeur` permet d'accéder à la valeur de la variable pointée."
   ]
  },
  {
   "cell_type": "markdown",
   "metadata": {},
   "source": [
    "Pour demander manuellement une case mémoire, il faut utiliser `new`:"
   ]
  },
  {
   "cell_type": "markdown",
   "metadata": {},
   "source": [
    "```\n",
    "int *pointeur(0);\n",
    "pointeur = new int;\n",
    "*pointeur = 2;\n",
    "//On accède à la case mémoire pour en modifier la valeur\n",
    "```\n",
    "\n"
   ]
  },
  {
   "cell_type": "markdown",
   "metadata": {},
   "source": [
    "La deuxième ligne demande une case mémoire pouvant stocker un entier et l'adresse de cette case est stockée dans le pointeur."
   ]
  },
  {
   "cell_type": "markdown",
   "metadata": {},
   "source": [
    "Pour le moment, ces pointeurs ne contiennent aucune adresse connue. C'est une situation très dangereuse. Si vous essayez d'utiliser le pointeur, vous ne savez pas quelle case de la mémoire vous manipulez. Ce peut être n'importe quelle case, par exemple celle qui contient votre mot de passe Windows ou celle stockant l'heure actuelle. **Il ne faut donc jamais déclarer un pointeur sans lui donner d'adresse**. Par conséquent, pour être tranquille, il faut toujours déclarer un pointeur en lui donnant la valeur 0 :"
   ]
  },
  {
   "cell_type": "markdown",
   "metadata": {},
   "source": [
    "```\n",
    "int *pointeur(0);\n",
    "double *pointeurA(0);\n",
    "unsigned int *pointeurB(0);\n",
    "string *pointeurC(0);\n",
    "vector<int> *pointeurD(0);\n",
    "int const *pointeurE(0);\n",
    "```"
   ]
  },
  {
   "cell_type": "markdown",
   "metadata": {},
   "source": [
    "L'adresse 0 n'existe pas. Lorsque vous créez un pointeur contenant l'adresse 0, cela signifie qu'il ne contient l'adresse d'aucune case."
   ]
  },
  {
   "cell_type": "markdown",
   "metadata": {},
   "source": [
    "Si vous changez la valeur du pointeur, vous perdez le seul moyen d'accéder à cette case mémoire. Vous ne pourrez donc plus l'utiliser ni la supprimer ! Elle sera définitivement perdue mais elle continuera à prendre de la place. C'est ce qu'on appelle une **fuite de mémoire**. Il faut donc faire très attention !\n",
    "\n",
    "Pour libérer la case mémoire:"
   ]
  },
  {
   "cell_type": "markdown",
   "metadata": {},
   "source": [
    "```\n",
    "delete pointeur;\n",
    "```"
   ]
  },
  {
   "cell_type": "markdown",
   "metadata": {},
   "source": [
    "La case est alors rendue à l'ordinateur qui pourra l'employer à autre chose. Le pointeur, lui, existe toujours et il pointe toujours sur la case, mais vous n'avez plus le droit de l'utiliser."
   ]
  },
  {
   "cell_type": "markdown",
   "metadata": {},
   "source": [
    "Quand utiliser des pointeurs ? Il y a en réalité trois cas d'application :\n",
    "1. gérer soi-même le moment de la création et de la destruction des cases mémoire ;\n",
    "2. partager une variable dans plusieurs morceaux du code ;\n",
    "3. sélectionner une valeur parmi plusieurs options."
   ]
  },
  {
   "cell_type": "markdown",
   "metadata": {},
   "source": [
    "### Exemple de classe"
   ]
  },
  {
   "cell_type": "markdown",
   "metadata": {},
   "source": [
    "Déclaration du prototype dans`Personnage.h`\n",
    "\n",
    "```\n",
    "#include <string>\n",
    "class Personnage\n",
    "{\n",
    "    public:\n",
    "        Personnage(); //Constructeur par défaut\n",
    "        Personnage(std::string nomArme, int degatsArme); // autre constructeur\n",
    "        Personnage(Personnage const& autre); // changer le constructeur par copie\n",
    "        void recevoirDegats(int nbDegats);\n",
    "        void attaquer(Personnage &cible);\n",
    "        void boirePotionDeVie(int quantitePotion);\n",
    "        void changerArme(std::string nomNouvelleArme, int\n",
    "        degatsNouvelleArme);\n",
    "        bool estVivant() const;\n",
    "    private:\n",
    "        int m_vie;\n",
    "        int m_mana;\n",
    "        std::string m_nomArme;\n",
    "        int m_degatsArme;\n",
    "        ~Personnage(); //destructeur\n",
    "};\n",
    "```"
   ]
  },
  {
   "cell_type": "markdown",
   "metadata": {},
   "source": [
    "Implémentation de la classe dans `Personnage.cpp`\n",
    "\n",
    "```\n",
    "include \"Personnage.h\"\n",
    "using namespace std;\n",
    "void Personnage::recevoirDegats(int nbDegats)\n",
    "{\n",
    "    m_vie -= nbDegats;\n",
    "    //On enlève le nombre de dégâts reçus à la vie du personnage\n",
    "    if (m_vie < 0) //Pour éviter d'avoir une vie négative\n",
    "    {\n",
    "        m_vie = 0; //On met la vie à 0 (cela veut dire mort)\n",
    "    }\n",
    "}\n",
    "\n",
    "//On reçoit en paramètre une référence vers un objet de type Personnage. On aurait pu recevoir aussi un pointeur mais, comme les références sont plus faciles à manipuler, on ne va pas s'en priver.\n",
    "void Personnage::attaquer(Personnage &cible)\n",
    "{\n",
    "    cible.recevoirDegats(m_degatsArme);\n",
    "    //On inflige à la cible les dégâts que cause notre arme\n",
    "}\n",
    "void Personnage::boirePotionDeVie(int quantitePotion)\n",
    "{\n",
    "    m_vie += quantitePotion;\n",
    "    if (m_vie > 100) //Interdiction de dépasser 100 de vie\n",
    "    {\n",
    "        m_vie = 100;\n",
    "    }\n",
    "\n",
    "}\n",
    "void Personnage::changerArme(string nomNouvelleArme, int degatsNouvelleArme)\n",
    "{\n",
    "    m_nomArme = nomNouvelleArme;\n",
    "    m_degatsArme = degatsNouvelleArme;\n",
    "}\n",
    "bool Personnage::estVivant() const\n",
    "{\n",
    "    return m_vie > 0\n",
    "}\n",
    "\n",
    "//CONSTRUCTEUR PAR DEFAUT\n",
    "Personnage::Personnage()\n",
    "{\n",
    "    m_vie = 100;\n",
    "    m_mana = 100;\n",
    "    m_nomArme = \"Épée rouillée\";\n",
    "    m_degatsArme = 10;\n",
    "}\n",
    "\n",
    "// AUTRE CONSTRUCTEUR \n",
    "Personnage::Personnage(string nomArme, int degatsArme) : m_vie(100), m_mana(100),m_nomArme(nomArme), m_degatsArme(degatsArme)\n",
    "{\n",
    "}\n",
    "\n",
    "// autre implémentation du constructeur de copie\n",
    "Personnage::Personnage(Personnage const& autre): m_vie(autre.m_vie), m_mana(autre.m_mana), m_nomArme(autre.m_nomArme), m_degatsArme(autre.m_degatsArme)\n",
    "{\n",
    "}\n",
    "\n",
    "//destructeur\n",
    "Personnage::~Personnage()\n",
    "{\n",
    "    /* Rien à mettre ici car on ne fait pas d'allocation dynamique\n",
    "    dans la classe Personnage. Le destructeur est donc inutile mais\n",
    "    je le mets pour montrer à quoi cela ressemble.\n",
    "    En temps normal, un destructeur fait souvent des delete et quelques\n",
    "    autres vérifications si nécessaire avant la destruction de l'objet.\n",
    "    */\n",
    "}\n",
    "\n",
    "```"
   ]
  },
  {
   "cell_type": "markdown",
   "metadata": {},
   "source": [
    "Utilisation de la classe dans `main.cpp`\n",
    "```\n",
    "#include <iostream>\n",
    "#include \"Personnage.h\" //Ne pas oublier\n",
    "using namespace std;\n",
    "int main()\n",
    "{\n",
    "    // créer un personnage en utilisant un constructeur par défaut\n",
    "    Personnage david, goliath;\n",
    "    //Création de 2 objets de type Personnage : david et goliath\n",
    "    goliath.attaquer(david); //goliath attaque david\n",
    "    david.boirePotionDeVie(20); //david récupère 20 de vie en\n",
    "    buvant une potion\n",
    "    goliath.attaquer(david); //goliath réattaque david\n",
    "    david.attaquer(goliath); //david contre-attaque... c'est assez\n",
    "    clair non ?\n",
    "    goliath.changerArme(\"Double hache tranchante vénéneuse de la\n",
    "    mort\", 40);\n",
    "    goliath.attaquer(david);\n",
    "    // créer un personnage en utilisant un autre constructeur\n",
    "    Personnage goliath2(\"Épée aiguisée\", 20);\n",
    "    return 0;\n",
    "}\n",
    "```"
   ]
  },
  {
   "cell_type": "markdown",
   "metadata": {},
   "source": [
    "- le **constructeur** : c'est une méthode appelée automatiquement à chaque fois que l'on crée un objet basé sur cette classe.\n",
    "- le **destructeur** : c'est une méthode appelée automatiquement lorsqu'un objet est détruit, par exemple à la fin de la fonction dans laquelle il a été déclaré ou, si l'objet a été alloué dynamiquement avec new, lors d'un delete."
   ]
  },
  {
   "cell_type": "markdown",
   "metadata": {},
   "source": [
    "Alternative pour implémenter le constructeur: la **liste d'initialisation**\n",
    "\n",
    "Le constructeur :\n",
    "```\n",
    "Personnage::Personnage()\n",
    "{\n",
    "    m_vie = 100;\n",
    "    m_mana = 100;\n",
    "    m_nomArme = \"Épée rouillée\";\n",
    "    m_degatsArme = 10;\n",
    "}\n",
    "```\n",
    "peut être écrit ainsi:\n",
    "\n",
    "```\n",
    "Personnage::Personnage() : m_vie(100), m_mana(100), m_nomArme(\"Épée\n",
    "rouillée\"), m_degatsArme(10)\n",
    "{\n",
    "    //Rien à mettre dans le corps du constructeur, tout a déjà été\n",
    "    fait !\n",
    "}\n",
    "```\n"
   ]
  },
  {
   "cell_type": "markdown",
   "metadata": {},
   "source": [
    "Le compilateur crée automatiquement un **constructeur par défaut** qui ne fait rien. Ce n'est pas tout, il crée aussi ce qu'on appelle un \"**constructeur de copie**\". C'est une surcharge du constructeur qui initialise notre\n",
    "objet en copiant les valeurs des attributs de l'autre objet.\n",
    "\n",
    "Le **constructeur de copie** est une surcharge particulière du constructeur. Le constructeur de copie devient généralement indispensable dans une classe qui contient des pointeurs. Le constructeur de copie généré par défaut se contente de copier la valeur de tous les attributs... et même des pointeurs !"
   ]
  },
  {
   "cell_type": "markdown",
   "metadata": {},
   "source": [
    "Le **destructeur** est une méthode appelée lorsque l'objet est supprimé de la mémoire. Son principal rôle est de désallouer la mémoire (via des `delete`) qui a été allouée dynamiquement.\n",
    "\n",
    "Dans le cas de notre classe `Personnage`, on n'a fait aucune allocation dynamique (il n'y a aucun `new`). Le destructeur est donc inutile. \n",
    "\n",
    "Le destructeur ne peut prendre aucun paramètre. Il y a donc toujours un seul destructeur, il ne peut pas être surchargé."
   ]
  },
  {
   "cell_type": "markdown",
   "metadata": {},
   "source": [
    "**Les méthodes constantes** sont des méthodes de « lecture seule ». Elles possèdent le mot-clé `const` à la fin de leur prototype et de leur déclaration. Quand vous dites « ma méthode est constante », vous indiquez au compilateur que votre méthode ne modifie pas l'objet, c'est-à-dire qu'elle ne modifie la valeur d'aucun de ses attributs. Cela sert principalement à 3 choses :\n",
    "1. Pour vous : vous savez que votre méthode ne fait que lire les attributs et vous vous interdisez dès le début de les modifier. Si par erreur vous tentez d'en modifier un, le compilateur plante en vous reprochant de ne pas respecter la règle que vous vous êtes fixée. Et cela, c'est bien.\n",
    "2. Pour les utilisateurs de votre classe : c'est très important aussi pour eux, cela leur indique que la méthode se contente de renvoyer un résultat et qu'elle ne modifie pas l'objet. Dans une documentation, le mot-clé const apparaît dans le prototype de la méthode et c'est un excellent indicateur de ce qu'elle fait, ou plutôt de ce qu'elle ne peut pas faire (cela pourrait se traduire par : « cette méthode ne modifiera pas votre objet »).\n",
    "3. Pour le compilateur : si vous vous rappelez le chapitre sur les variables, je vous conseillais de toujours déclarer `const` ce qui peut l'être. Nous sommes ici dans le même cas. On offre des garanties aux utilisateurs de la classe et on aide le compilateur à générer du code binaire de meilleure qualité."
   ]
  },
  {
   "cell_type": "markdown",
   "metadata": {},
   "source": [
    "### Surchage d'opérateur"
   ]
  },
  {
   "cell_type": "markdown",
   "metadata": {},
   "source": [
    "Example de prototype:\n",
    "```\n",
    "bool operator==(Objet const& a, Objet const& b);\n",
    "```"
   ]
  },
  {
   "cell_type": "markdown",
   "metadata": {},
   "source": [
    "### Le pointeur `this`\n",
    "\n",
    "Dans toutes les classes, on dispose d'un pointeur ayant pour nom `this`, qui pointe vers l'objet actuel. Je peux vous donner un exemple : vous êtes dans une méthode de votre classe et cette méthode doit renvoyer un pointeur vers l'objet auquel elle appartient. Sans le this, on ne pourrait pas l'écrire. Voilà ce que cela pourrait donner :\n",
    "```\n",
    "Personnage* Personnage::getAdresse() const\n",
    "{\n",
    "    return this;\n",
    "}\n",
    "```"
   ]
  },
  {
   "cell_type": "markdown",
   "metadata": {},
   "source": [
    "`this` étant un pointeur sur un objet, `*this` est l'objet lui-même ! Notre opérateur renvoie donc l'objet lui-même.\n",
    "\n",
    "Nous l'avons en fait déjà rencontré une fois, lors de la **surcharge de l'opérateur +=**. Souvenez-vous, notre opérateur ressemblait à ceci :"
   ]
  },
  {
   "cell_type": "markdown",
   "metadata": {},
   "source": [
    "```\n",
    "Duree& Duree::operator+=(const Duree &duree2)\n",
    "{\n",
    "    //Des calculs compliqués...\n",
    "    return *this;\n",
    "}\n",
    "```"
   ]
  },
  {
   "cell_type": "markdown",
   "metadata": {},
   "source": [
    "Ne confondez pas le **constructeur de copie** avec la **surcharge de l'opérateur** `=` (`operator=`). Ils se ressemblent beaucoup mais il y a une différence : le constructeur de copie est appelé lors de l'**initialisation** (à la création de l'objet) tandis que la méthode operator= est appelée si on essaie d'**affecter** un autre objet par la suite, après son\n",
    "initialisation.\n",
    "```\n",
    "Personnage david = goliath; //Constructeur de copie\n",
    "david = goliath; //operator=\n",
    "```"
   ]
  },
  {
   "cell_type": "markdown",
   "metadata": {},
   "source": [
    "```Personnage& Personnage::operator=(Personnage const& personnageACopier)\n",
    "{\n",
    "    if(this != &personnageACopier)\n",
    "    //On vérifie que l'objet n'est pas le même que celui reçu enargument\n",
    "    {\n",
    "        m_vie = personnageACopier.m_vie; //On copie tous les champs\n",
    "        m_mana = personnageACopier.m_mana;\n",
    "        delete m_arme;\n",
    "        m_arme = new Arme(*(personnageACopier.m_arme));\n",
    "    }\n",
    "    return *this; //On renvoie l'objet lui-même\n",
    "}\n",
    "```"
   ]
  },
  {
   "cell_type": "markdown",
   "metadata": {},
   "source": [
    "Comme ce n'est pas un constructeur, on ne peut pas utiliser la **liste d'initialisation** et donc tout se passe entre les accolades. Il faut penser à vérifier que l'on n'est pas en train de faire `david=david`, que l'on travaille donc avec deux objets distincts. Il faut donc vérifier que leurs adresses mémoires (`this` et `&personnageACopier`) soient différentes. Il faut renvoyer `*this` comme pour les opérateurs +=, -=, etc. C'est une règle à respecter. Il faut penser à supprimer l'ancienne `Arme` avant de créer la nouvelle. C'est ce qui est fait au niveau de l'instruction `delete`. Ceci n'était pas nécessaire dans le constructeur de copie puisque le personnage ne possédait pas d'arme avant."
   ]
  },
  {
   "cell_type": "markdown",
   "metadata": {},
   "source": [
    "**Si l'on a besoin d'écrire un constructeur de copie, alors il faut aussi obligatoirement écrire une surcharge de\n",
    "operator=.**"
   ]
  },
  {
   "cell_type": "markdown",
   "metadata": {},
   "source": [
    "### Appeler le constructeur de la classe mère\n",
    "Pour appeler le constructeur de `Personnage` en premier, il faut y faire appel depuis le constructeur de `Magicien`. C'est dans un cas comme cela qu'il est indispensable de se servir de la liste d'initialisation\n",
    "```\n",
    "Magicien::Magicien() : Personnage(), m_mana(100)\n",
    "{\n",
    "}\n",
    "```\n",
    "Le premier élément de la liste d'initialisation indique de faire appel en premier lieu au constructeur de la classe parente `Personnage`. Puis on réalise les initialisations propres au `Magicien` (comme l'initialisation du mana à 100). Lorsqu'on crée un objet de type `Magicien`, le compilateur appelle le constructeur par défaut de la classe mère (celui qui ne prend pas de paramètre).\n",
    "\n",
    "\n",
    "Le gros avantage de cette technique est que l'on peut « transmettre » les paramètres du constructeur de `Magicien` au constructeur de `Personnage`.\n",
    "\n",
    "Pour surcharger le constructeur de Personnage pour qu'il accepte un paramètre string:\n",
    "```\n",
    "Personnage::Personnage(string nom) : m_vie(100), m_nom(nom)\n",
    "{\n",
    "}\n",
    "```\n",
    "Par exemple, si le constructeur de `Personnage` prend un nom en paramètre, il faut que le `Magicien` accepte lui aussi ce paramètre et le fasse passer au constructeur de `Personnage` :\n",
    "```\n",
    "Magicien::Magicien(string nom) : Personnage(nom), m_mana(100)\n",
    "{\n",
    "}\n",
    "```"
   ]
  },
  {
   "cell_type": "markdown",
   "metadata": {},
   "source": [
    "- **public** : les éléments qui suivent sont accessibles depuis l'extérieur de la classe ;\n",
    "- **private** : les éléments qui suivent ne sont pas accessibles depuis l'extérieur de la classe.\n",
    "- les éléments qui suivent **protected** ne sont pas accessibles depuis l'extérieur de la classe, sauf si c'est une classe fille."
   ]
  },
  {
   "cell_type": "markdown",
   "metadata": {},
   "source": [
    "Quand on écrit une fonction qui a le même nom que celle héritée de la classe mère, on parle de **masquage**. La fonction héritée de `Personnage` est masquée, cachée. Pour masquer une fonction, il suffit qu'elle ait le même nom qu'une autre fonction héritée. Le nombre et le type des arguments ne joue aucun rôle.\n",
    "\n",
    "**Démasquage** : utiliser une fonction qui était masquée. On a utilisé ici l'opérateur `::` appelé **opérateur de résolution de portée**. Il sert à déterminer quelle fonction (ou variable) utiliser quand il y a ambiguïté ou si il y a plusieurs possibilités."
   ]
  },
  {
   "cell_type": "markdown",
   "metadata": {},
   "source": [
    "**polymorphisme** : créer du code fonctionnant de différentes manières selon le type qui l'utilise."
   ]
  },
  {
   "cell_type": "markdown",
   "metadata": {},
   "source": [
    "**résolution statique** des liens : c'est le type de la variable qui détermine quelle fonction membre appeler et non sa vraie nature."
   ]
  },
  {
   "cell_type": "markdown",
   "metadata": {},
   "source": [
    "**résolution dynamique des liens**:  lors de l'exécution, le programme utilise la bonne version des méthodes car il sait si l'objet est de type mère ou de type fille. Pour faire cela, il faut deux ingrédients :\n",
    "1. utiliser un **pointeur** ou une **référence** ;\n",
    "2. utiliser des **méthodes virtuelles**."
   ]
  },
  {
   "cell_type": "markdown",
   "metadata": {},
   "source": [
    "### Déclarer une méthode virtuelle\n",
    "Il suffit d'ajouter le mot-clé `virtual` dans le prototype de la classe (dans le fichier *.h* donc)\n",
    "```\n",
    "virtual void affiche() const;\n",
    "```\n",
    "Il n'est pas nécessaire de mettre `virtual` devant les méthodes des classes filles. Elles sont automatiquement\n",
    "virtuelles par héritage.\n",
    "Il ne faut pas mettre `virtual` dans le fichier *.cpp* mais uniquement dans le *.h*. et utiliser une référence\n",
    "```\n",
    "void presenter(Vehicule const& v)\n",
    "{\n",
    "    v.affiche();\n",
    "}\n",
    "```"
   ]
  },
  {
   "cell_type": "markdown",
   "metadata": {},
   "source": [
    "### Les fonctions virtuelles pures\n",
    "Dans toutes les classes filles de `Vehicule`, il y a une fonction nommée `nbrRoues()` qui renvoie un `int` et\n",
    "qui ne prend aucun argument mais, dans la classe `Vehicule`, cette fonction n'existe pas. \n",
    "* Il faut ajouter « = 0 » à la fin du prototype !*\n",
    "```\n",
    "virtual int nbrRoues() const = 0;\n",
    "```\n",
    "Et évidemment, on n'a rien à écrire dans le *.cpp* puisque, justement, on ne sait pas quoi y mettre. On peut carrément supprimer complètement la méthode. L'important étant que son prototype soit présent dans le *.h*."
   ]
  },
  {
   "cell_type": "markdown",
   "metadata": {},
   "source": [
    "### Les classes abstraites\n",
    "Une classe qui possède au moins une méthode virtuelle pure est une classe abstraite. Notre classe `Vehicule` est donc une **classe abstraite**.\n",
    "Pourquoi donner un nom spécial à ces classes ? Eh bien parce qu'elles ont une règle bien particulière : **on ne peut pas créer d'objet (i.e. d'instance) à partir d'une classe abstraite.**\n",
    "\n",
    "On peut résumer les **fonctions virtuelles** de la manière suivante :\n",
    "- une méthode virtuelle peut être redéfinie dans une classe fille ;\n",
    "- une méthode virtuelle pure doit être redéfinie dans une classe fille.\n"
   ]
  },
  {
   "cell_type": "markdown",
   "metadata": {},
   "source": [
    "### Les méthodes statiques\n",
    "Ce sont des méthodes qui appartiennent à la classe mais pas aux objets instanciés à partir de la classe. Dans le *.h*, le prototype d'une méthode statique ressemble à ceci :\n",
    "```\n",
    "class MaClasse\n",
    "{\n",
    "    public:\n",
    "        MaClasse();\n",
    "        static void maMethode();\n",
    "};\n",
    "```\n",
    "Son implémentation dans le *.cpp* ne possède pas en revanche de mot-clé `static` :\n",
    "```\n",
    "void MaClasse::maMethode() //Ne pas remettre 'static' dans l'implémentation !!!\n",
    "{\n",
    "    cout << \"Bonjour !\" << endl;\n",
    "}\n",
    "```\n",
    "\n",
    "Ensuite, dans le `main()`, la méthode statique s'appelle comme ceci :\n",
    "```\n",
    "int main()\n",
    "{\n",
    "    MaClasse::maMethode();\n",
    "}\n",
    "```\n",
    "C'est justement cela, **la particularité des méthodes statiques. Pour les utiliser, pas besoin de créer un objet.** Il suffit de faire précéder le nom de la méthode du nom de la classe suivi d'un double deux-points.\n",
    "Cette méthode, comme je vous le disais, **ne peut pas accéder aux attributs de la classe**.\n"
   ]
  },
  {
   "cell_type": "markdown",
   "metadata": {},
   "source": [
    "### Les attributs statiques\n",
    "Il existe aussi ce qu'on appelle des attributs statiques. Tout comme les méthodes statiques, les attributs statiques appartiennent à la classe et non aux objets créés à partir de la classe.\n",
    "\n",
    "C'est assez simple en fait : il suffit de rajouter le mot-clé `static` au début de la ligne. **Un attribut `static`, bien qu'il soit accessible de l'extérieur, peut très bien être déclaré `private` ou `protected`**. Appelez cela une exception, car c'en est bien une.\n",
    "```\n",
    "class MaClasse\n",
    "{\n",
    "    public:\n",
    "        MaClasse();\n",
    "    private:\n",
    "        static int monAttribut;\n",
    "};\n",
    "```\n",
    "Sauf qu'on ne peut pas initialiser l'attribut statique ici. Il faut le faire dans l'espace global, c'est-à-dire en dehors de toute classe ou fonction, en dehors du main() notamment.\n",
    "**Initialiser l'attribut en dehors de toute fonction ou classe**:\n",
    "```\n",
    "//(espace global)\n",
    "int MaClasse::monAttribut = 5;\n",
    "```\n",
    "Cette ligne se met généralement dans le fichier *.cpp* de la classe.\n",
    "\n",
    "Un attribut déclaré comme statique se comporte comme une variable globale, c'est-à-dire une variable accessible partout dans le code.\n",
    "\n",
    "Une des utilisations les plus courantes des attributs statiques est la création d'un compteur d'instances."
   ]
  },
  {
   "cell_type": "markdown",
   "metadata": {},
   "source": [
    "### L'amitié\n",
    "Dans les langages orientés objet, l'amitié est le fait de donner un accès complet aux éléments d'une classe. \n",
    "\n",
    "Pour déclarer une **fonction amie** d'une classe, on utilise la syntaxe suivante :\n",
    "```\n",
    "friend std::ostream& operator<< (std::ostream& flux, Duree const&duree);\n",
    "```\n",
    "On écrit `friend` suivi du prototype de la fonction et on place le tout à l'intérieur de la classe :\n",
    "```\n",
    "class Duree\n",
    "{\n",
    "    public:\n",
    "        Duree(int heures = 0, int minutes = 0, int secondes = 0);\n",
    "    private:\n",
    "        void affiche(ostream& out) const;\n",
    "        int m_heures;\n",
    "        int m_minutes;\n",
    "        int m_secondes;\n",
    "        friend std::ostream& operator<< (std::ostream& flux, Duree const& duree);\n",
    "};\n",
    "```\n",
    "Vous pouvez mettre le prototype de la fonction **dans la partie publique, protégée ou privée de la classe, cela n'a aucune importance**.\n",
    "Notre opérateur `<<` a maintenant accès à tout ce qui se trouve dans la classe `Duree`, sans aucune restriction\n",
    "\n",
    "Vos programmes devraient respecter les deux règles suivantes :\n",
    "1. une fonction amie ne doit pas, en principe, modifier l'instance de la classe ;\n",
    "2. les fonctions amies ne doivent être utilisées que si vous ne pouvez pas faire autrement.\n"
   ]
  },
  {
   "cell_type": "markdown",
   "metadata": {},
   "source": [
    "### Les conteneurs de la STL \n",
    "les conteneurs de la STL triés suivant leur catégorie.\n",
    "1. Séquences :\n",
    "    - vector\n",
    "    - deque\n",
    "    - list\n",
    "    - stack\n",
    "    - queue\n",
    "    - priority_queue\n",
    "2. Conteneurs associatifs :\n",
    "    - set\n",
    "    - multiset\n",
    "    - map\n",
    "    - multimap"
   ]
  },
  {
   "cell_type": "markdown",
   "metadata": {},
   "source": [
    "### Les itérateurs\n",
    "Les **itérateurs** sont des objets ressemblant aux pointeurs, qui vont nous permettre de parcourir les conteneurs. L'intérêt de ces objets est qu'on les utilise de la même manière quel que soit le conteneur ! "
   ]
  },
  {
   "cell_type": "markdown",
   "metadata": {},
   "source": [
    "```\n",
    "#include<deque>\n",
    "#include <iostream>\n",
    "using namespace std;\n",
    "int main()\n",
    "{\n",
    "    deque<int> d(5,6);\n",
    "    deque<int>::iterator it;\n",
    "    //Une deque de 5 éléments valant 6\n",
    "    //Un itérateur sur une deque d'entiers\n",
    "    //Et on itère sur la deque\n",
    "    for(it = d.begin(); it!=d.end(); ++it)\n",
    "    {\n",
    "        cout << *it << endl;\n",
    "        //On accède à l'élément pointé via l'étoile\n",
    "    }\n",
    "    return 0;\n",
    "}\n",
    "```"
   ]
  },
  {
   "cell_type": "markdown",
   "metadata": {},
   "source": [
    "Il existe en réalité **cinq sortes d'itérateurs**. Lorsque l'on déclare un `vector::iterator` ou un `map::iterator`, on déclare en réalité un objet d'une de ces cinq catégories. Cela intervient via une **redéfinition de type**.\n",
    "Parmi les cinq types d'itérateurs, seuls deux sont utilisés pour les conteneurs : les **bidirectional iterators** et les **random access iterators**. \n",
    "\n",
    "Les **bidirectional iterators**: ce sont les plus simples des deux. *Bidirectional iterator* signifie itérateur bidirectionnel, mais cela ne nous avance pas beaucoup... Ce sont des itérateurs qui permettent d'avancer et de reculer sur le conteneur. Cela veut dire que vous pouvez utiliser aussi bien ++ que --. L'important étant que l'on ne peut avancer que d'un seul élément à la fois. Donc pour accéder au sixième élément d'un conteneur, il faut partir de la position begin() puis appeler cinq fois l'opérateur ++. Ce sont les itérateurs utilisés pour les list, set et map. On ne peut donc pas utiliser ces itérateurs pour accéder directement au milieu d'un de ces conteneurs.\n",
    "\n",
    "Les random access iterators"
   ]
  },
  {
   "cell_type": "markdown",
   "metadata": {},
   "source": [
    "Les **foncteurs**, quant à eux, sont des objets que l'on utilise comme fonction. Nous allons alors pouvoir appliquer ces fonctions à tous les éléments d'un conteneur par exemple.\n",
    "\n",
    "Si vous suivez un cours d'informatique à l'université, on vous dira que les **itérateurs** sont des abstractions des pointeurs et que les **foncteurs** sont des abstractions des fonctions.\n",
    "\n",
    "Les **foncteurs** sont des objets possédant une surcharge de l'opérateur `()`. Ils peuvent ainsi agir comme une fonction mais être passés en argument à une méthode ou à une autre fonction.\n",
    "\n",
    "Un **foncteur** est une classe possédant si nécessaire des attributs et des méthodes. Mais, en plus de cela, elle doit proposer un opérateur `()` qui effectue l'opération que l'on souhaite."
   ]
  },
  {
   "cell_type": "markdown",
   "metadata": {},
   "source": [
    "```class Addition{\n",
    "    public:\n",
    "    int operator()(int a, int b) //La surcharge de l'opérateur ()\n",
    "    {\n",
    "        return a+b;\n",
    "    }\n",
    "};\n",
    "```"
   ]
  },
  {
   "cell_type": "markdown",
   "metadata": {},
   "source": [
    "### Des foncteurs évolutifs"
   ]
  },
  {
   "cell_type": "markdown",
   "metadata": {},
   "source": [
    "```\n",
    "class Remplir{\n",
    "    public:\n",
    "    Remplir(int i)\n",
    "    :m_valeur(i)\n",
    "    {}\n",
    "    int operator()()\n",
    "    {\n",
    "    ++m_valeur;\n",
    "    return m_valeur;\n",
    "    }\n",
    "    private:\n",
    "    int m_valeur;\n",
    "};\n",
    "int main()\n",
    "{\n",
    "    vector<int> tab(100,0); //Un tableau de 100 cases valant toutes\n",
    "    0\n",
    "    Remplir f(0);\n",
    "    for(vector<int>::iterator it=tab.begin(); it!=tab.end(); ++it)\n",
    "    {\n",
    "        *it = f(); //On appelle simplement le foncteur sur chacun des éléments du tableau\n",
    "    }\n",
    "return 0;\n",
    "}\n",
    "```"
   ]
  },
  {
   "cell_type": "markdown",
   "metadata": {},
   "source": [
    "La première chose à remarquer est que notre foncteur possède un constructeur. Son but est simplement d'initialiser correctement l'attribut `m_valeur`. L'opérateur parenthèse renvoie simplement la valeur de cet attribut, mais ce n'est pas tout. Il incrémente cet attribut à chaque appel. Notre foncteur renvoie donc une valeur différente à chaque appel !"
   ]
  },
  {
   "cell_type": "markdown",
   "metadata": {},
   "source": [
    "Si vous connaissez le C, vous aurez peut-être pensé au mot-clé static qui autorise le même genre de choses pour les\n",
    "fonctions normales. Le foncteur avec des attributs constitue l'équivalent, en C++, de cette technique."
   ]
  },
  {
   "cell_type": "markdown",
   "metadata": {},
   "source": [
    "Les **prédicats** sont des foncteurs un peu particuliers. Ce sont des foncteurs prenant un seul argument et renvoyant un booléen. Ils servent à tester une propriété particulière de l'objet passé en argument. Ex: prédicat qui teste si une chaîne de caractères contient des voyelles."
   ]
  },
  {
   "cell_type": "markdown",
   "metadata": {},
   "source": [
    "```\n",
    "class TestVoyelles\n",
    "{\n",
    "public:\n",
    "bool operator()(string const& chaine) const\n",
    "{\n",
    "for(int i(0); i<chaine.size(); ++i)\n",
    "{\n",
    "switch (chaine[i])\n",
    "//On teste les lettres une à une\n",
    "{\n",
    "case 'a':\n",
    "//Si c'est une voyelle\n",
    "case 'e':\n",
    "case 'i':\n",
    "case 'o':\n",
    "case 'u':\n",
    "case 'y':\n",
    "return true; //On renvoie 'true'\n",
    "default:\n",
    "break;\n",
    "//Sinon, on continue\n",
    "}\n",
    "}\n",
    "return false;\n",
    "//Si on arrive là, c'est qu'il n'y avait pas\n",
    "de voyelle du tout\n",
    "}\n",
    "};\n",
    "```"
   ]
  },
  {
   "cell_type": "markdown",
   "metadata": {},
   "source": [
    "### Les foncteurs pré-définis\n",
    "Pour les opérations les plus simples, le travail est pré-mâché. Tout se trouve dans le fichier d'en-tête `functional`. \n",
    "Prenons tout de même un exemple. Le premier foncteur que je vous ai présenté prenait comme arguments deux entiers et renvoyait la somme de ces nombres. La STL propose un foncteur nommé plus (quelle originalité) pour faire cela.\n",
    "```\n",
    "#include <iostream>\n",
    "#include <functional> //Ne pas oublier !\n",
    "using namespace std;\n",
    "int main()\n",
    "{\n",
    "    plus<int> foncteur;\n",
    "    //On déclare le foncteur additionnant\n",
    "    deux entiers\n",
    "    int a(2), b(3);\n",
    "    //On utilise le foncteur comme s'il s'agissait d'une fonction\n",
    "    cout << a << \" + \" << b << \" = \" << foncteur(a,b) << endl; \n",
    "    return 0;\n",
    "}\n",
    "```\n",
    "Comme pour les conteneurs, il faut indiquer le type souhaité entre les chevrons. En utilisant ces foncteurs prédéfinis, on s'économise un peu de travail. \n"
   ]
  },
  {
   "cell_type": "markdown",
   "metadata": {},
   "source": [
    "### pitulatif des conteneurs les plus courants"
   ]
  },
  {
   "cell_type": "markdown",
   "metadata": {},
   "source": [
    "**vector**\n",
    "- Exemple : vector<int>\n",
    "- éléments stockés côte-à-côte ;\n",
    "- optimisé pour l'ajout en fin de tableau ;\n",
    "- éléments indexés par des entiers.\n",
    "\n",
    "**deque**\n",
    "- Exemple : deque<int>\n",
    "- éléments stockés côte-à-côte ;\n",
    "- optimisé pour l'ajout en début et en fin de tableau ;\n",
    "- éléments indexés par des entiers.\n",
    "\n",
    "**list**\n",
    "- Exemple : list<int>\n",
    "- éléments stockés de manière « aléatoire » dans la mémoire ;\n",
    "- ne se parcourt qu'avec des itérateurs ;\n",
    "- optimisé pour l'insertion et la suppression au milieu.\n",
    "\n",
    "**map**\n",
    "- Exemple : map<string,int>\n",
    "- éléments indexés par ce que l'on veut ;\n",
    "- éléments triés selon leurs index ;\n",
    "- ne se parcourt qu'avec des itérateurs.\n",
    "\n",
    "**set**\n",
    "- Exemple : set<int>\n",
    "- éléments triés ;\n",
    "- ne se parcourt qu'avec des itérateurs."
   ]
  },
  {
   "cell_type": "markdown",
   "metadata": {},
   "source": [
    "### Gestion des exceptions\n",
    "```\n",
    "int division(int a,int b)\n",
    "{\n",
    "    try\n",
    "    {\n",
    "        if(b == 0)\n",
    "            throw string(\"Division par zéro !\");\n",
    "        else\n",
    "            return a/b;\n",
    "    }\n",
    "    catch(string const& chaine)\n",
    "    {\n",
    "        cerr << chaine << endl;\n",
    "    }\n",
    "}\n",
    "```"
   ]
  },
  {
   "cell_type": "markdown",
   "metadata": {},
   "source": [
    "Créer sa propre classe d'exception en la dérivant grâce à un héritage. Par exemple :"
   ]
  },
  {
   "cell_type": "markdown",
   "metadata": {},
   "source": [
    "```\n",
    "#include <exception>\n",
    "using namespace std;\n",
    "class Erreur: public exception\n",
    "{\n",
    "    public:\n",
    "    Erreur(int numero=0, string const& phrase=\"\", int niveau=0)\n",
    "    throw()\n",
    "    :m_numero(numero),m_phrase(phrase),m_niveau(niveau)\n",
    "    {}\n",
    "    virtual const char* what() const throw()\n",
    "    {\n",
    "        return m_phrase.c_str();\n",
    "    }\n",
    "    int getNiveau() const throw()\n",
    "    {\n",
    "        return m_niveau;\n",
    "    }\n",
    "    virtual ~Erreur() throw()\n",
    "    {}\n",
    "    private:\n",
    "        int m_numero;\n",
    "        string m_phrase;\n",
    "        int m_niveau;\n",
    "};"
   ]
  },
  {
   "cell_type": "markdown",
   "metadata": {},
   "source": [
    "Le **fichier standard** qui contient des classes d'exception pour les cas les plus courants.\n",
    "Le fichier `stdexcept` contient 9 classes d'exceptions séparées en 2 catégories, les exceptions « logiques » (**logic errors** en anglais) et les exceptions « d'exécution » (**runtime errors** en anglais).\n",
    "Toutes les exceptions présentées dérivent de la classe exception et possèdent un constructeur prenant en argument une chaîne de caractères qui décrit le problème. Les classes d'exception: domain_error, invalid_argument, length_error, out_of_range, logic_error, range_error, overflow_error, underflow_error, runtime_error."
   ]
  },
  {
   "cell_type": "markdown",
   "metadata": {},
   "source": [
    "```\n",
    "int division(int a,int b) // Calcule a divisé par b.\n",
    "{\n",
    "    if(b==0)\n",
    "        throw domain_error(\"Division par zéro\");\n",
    "    else\n",
    "        return a/b;\n",
    "}\n",
    "```"
   ]
  },
  {
   "cell_type": "markdown",
   "metadata": {},
   "source": [
    "Pour utiliser les **assertions**, il faut inclure le fichier d'en-tête `cassert`. Une assertion permet de tester si une expression est vraie ou non."
   ]
  },
  {
   "cell_type": "markdown",
   "metadata": {},
   "source": [
    "```\n",
    "#include <cassert>\n",
    "using namespace std;\n",
    "int main()\n",
    "{\n",
    "    int a(5);\n",
    "    int b(5);\n",
    "    assert(a == b) ; //On vérifie que a et b sont égaux\n",
    "    return 0;\n",
    "}\n",
    "//reste du programme\n",
    "```"
   ]
  },
  {
   "cell_type": "markdown",
   "metadata": {},
   "source": [
    "### La création de Templates"
   ]
  },
  {
   "cell_type": "markdown",
   "metadata": {},
   "source": [
    "```\n",
    "template <typename T>\n",
    "T maximum(const T& a, const T& b)\n",
    "{\n",
    "    if(a>b)\n",
    "        return a;\n",
    "    else\n",
    "        return b;\n",
    "}\n",
    "```"
   ]
  },
  {
   "cell_type": "markdown",
   "metadata": {},
   "source": [
    "Exemple pour une fonction plus compliqué (avec types différents): par contre, il faut explicitement indiquer les types à utiliser lors de l'appel de la fonction.\n",
    "```\n",
    "#include<iostream>\n",
    "using namespace std;\n",
    "template<typename T, typename S>\n",
    "S moyenne(T tableau[], int taille)\n",
    "{\n",
    "    S somme(0);\n",
    "    //La somme des éléments du tableau\n",
    "    for(int i(0); i<taille; ++i)\n",
    "        somme += tableau[i];\n",
    "    return somme/taille;\n",
    "}\n",
    "int main()\n",
    "{\n",
    "    int tab[5];\n",
    "    //Remplissage du tableau\n",
    "    cout << \"Moyenne : \" << moyenne<int,double>(tab,5) << endl;\n",
    "    return 0;\n",
    "}\n",
    "```"
   ]
  },
  {
   "cell_type": "markdown",
   "metadata": {},
   "source": [
    "### La spécialisation\n",
    "Imaginons (comme précédemment) que le critère de comparaison qui nous intéresse est la longueur de la chaîne. Cela se fait en spécialisant la fonction template"
   ]
  },
  {
   "cell_type": "markdown",
   "metadata": {},
   "source": [
    "```\n",
    "template <>\n",
    "string maximum<string>(const string& a, const string& b)\n",
    "{\n",
    "    if(a.size()>b.size())\n",
    "        return a;\n",
    "    else\n",
    "        return b;\n",
    "    }\n",
    "```\n",
    "Vous remarquerez deux choses:\n",
    "1. la première ligne ne comporte aucun type entre `<` et `>` ;\n",
    "2. le prototype de la fonction utilise cette fois le type que l'on veut et plus le type générique `T`."
   ]
  },
  {
   "cell_type": "markdown",
   "metadata": {},
   "source": [
    "La seule difficulté de la spécialisation est la syntaxe qui commence par la ligne `template<>`. Si vous vous souvenez de cela, vous savez tout. Vous pouvez évidemment spécialiser la fonction pour plusieurs types différents. Il vous faudra alors créer une spécialisation par type."
   ]
  },
  {
   "cell_type": "markdown",
   "metadata": {},
   "source": [
    "Pour pouvoir compiler et avoir le comportement voulu, votre programme devra être organisé d'une manière spéciale. Il faut respecter un ordre particulier :\n",
    "1. la fonction générique ;\n",
    "2. les fonctions spécialisées.\n",
    "**L'ordre est essentiel**.\n",
    "Lors de la compilation, le compilateur cherche une fonction spécialisée. S'il n'en trouve pas, alors il utilise la fonction générique déclarée au-dessus."
   ]
  },
  {
   "cell_type": "markdown",
   "metadata": {},
   "source": [
    "### Les classes templates\n",
    "Ce sont des classes dont le type des arguments peut varier.\n",
    "e.g. créer un rectangle qui peut être construit avec des int, float, double, ..."
   ]
  },
  {
   "cell_type": "markdown",
   "metadata": {},
   "source": [
    "```\n",
    "template <typename T>\n",
    "class Rectangle{\n",
    "    //...\n",
    "    private:\n",
    "        //Les côtés du Rectangle\n",
    "        T m_gauche;\n",
    "        T m_droite;\n",
    "        T m_haut;\n",
    "        T m_bas;\n",
    "};\n",
    "```"
   ]
  },
  {
   "cell_type": "markdown",
   "metadata": {},
   "source": [
    "avec une méthode\n",
    "```\n",
    "template <typename T>\n",
    "class Rectangle{\n",
    "    public:\n",
    "        //...\n",
    "        T hauteur() const\n",
    "        {\n",
    "        return m_haut-m_bas;\n",
    "        }\n",
    "    private:\n",
    "        //Les cotes du Rectangle\n",
    "        T m_gauche;\n",
    "        T m_droite;\n",
    "        T m_haut;\n",
    "        T m_bas;\n",
    "};\n",
    "```\n",
    "Il n'y a pas besoin de redéclarer le type `template T` juste avant la fonction membre puisque celui que nous\n",
    "avons déclaré avant la classe reste valable pour tout ce qui se trouve à l'intérieur."
   ]
  },
  {
   "cell_type": "markdown",
   "metadata": {},
   "source": [
    "Et si je veux mettre le corps de ma fonction à l'extérieur de ma classe ? Bonne question. On prend souvent l'habitude de séparer le prototype de la définition. Et cela peut se faire aussi ici. Pour cela, on\n",
    "mettra le prototype dans la classe et la définition à l'extérieur mais il faut indiquer à nouveau qu'on utilise un type variable `T` :\n",
    "```\n",
    "template <typename T>\n",
    "class Rectangle{\n",
    "    public:\n",
    "    //...\n",
    "        T hauteur() const;\n",
    "};\n",
    "//...\n",
    "template<typename T>\n",
    "T Rectangle<T>::hauteur() const\n",
    "{\n",
    "    return m_haut-m_bas;\n",
    "}\n",
    "```\n",
    "Vous remarquerez aussi l'utilisation du type template dans le nom de la classe puisque cette fonction sera instanciée de manière différente pour chaque `T`. Souvenez-vous que tout doit se trouver dans le fichier *.h* !"
   ]
  },
  {
   "cell_type": "markdown",
   "metadata": {},
   "source": [
    "### Le constructeur\n",
    "```\n",
    "template <typename T>\n",
    "class Rectangle{\n",
    "    public:\n",
    "        Rectangle(T gauche, T droite, T haut, T bas)\n",
    "        :m_gauche(gauche),\n",
    "        m_droite(droite),\n",
    "        m_haut(haut),\n",
    "        m_bas(bas)\n",
    "        {}\n",
    "    //...\n",
    "};\n",
    "```\n",
    "Et comme pour toutes les autres méthodes, on peut définir le constructeur à l'extérieur de la classe. "
   ]
  },
  {
   "cell_type": "markdown",
   "metadata": {},
   "source": [
    "### L'héritage multiple\n",
    "L'**héritage multiple** consiste à hériter de plusieurs classes à la fois. \n",
    "Pour hériter de plusieurs classes, il suffit de mettre une virgule entre les noms de classe."
   ]
  },
  {
   "cell_type": "markdown",
   "metadata": {},
   "source": [
    "```\n",
    "class FenCalculatrice : public QWidget, public Ui::FenCalculatrice\n",
    "{\n",
    "};\n",
    "```"
   ]
  },
  {
   "cell_type": "markdown",
   "metadata": {},
   "source": [
    "### Les namespaces\n",
    "\n",
    "Le préfixe `std::` correspond à ce qu'on appelle un **namespace**, c'est-à-dire en français un espace de noms. Les namespaces sont utiles dans de très gros programmes où il y a beaucoup de noms différents de classes et de variables. \n",
    "\n",
    "Quand vous avez beaucoup de noms différents dans un programme, il y a un risque que deux classes aient le même nom. Par exemple, vous pourriez utiliser deux classes Couleur dans votre programme : une dans votre bibliothèque « Jeu3D » et une autre dans votre bibliothèque « Fenetre ». Normalement, avoir 2 classes du même nom est interdit... sauf si ces classes sont chacune dans un namespace différent ! Imaginez que les namespaces sont comme des « boîtes » qui évitent de mélanger les noms de classes et de variables (figure suivante).\n",
    "\n",
    "Si la classe est dans un namespace, on doit préfixer son intitulé par le nom du namespace :\n",
    "```\n",
    "Jeu3D::Couleur rouge; // Utilisation de la classe Couleur située\n",
    "```\n",
    "dans le namespace Jeu3D\n",
    "```\n",
    "Fenetre::Couleur vert; // Utilisation d'une AUTRE classe appelée elle aussi Couleur, dans le namespace Fenetre\n",
    "```"
   ]
  },
  {
   "cell_type": "markdown",
   "metadata": {},
   "source": [
    "### Les types énumérés\n",
    "Dans un programmes, on a parfois besoin de manipuler des variables qui ne peuvent prendre qu'un petit nombre de valeurs différentes. Un type énuméré se déclare comme ceci :\n",
    "```\n",
    "enum Niveau{Facile, Moyen, Difficile};\n",
    "```\n",
    "On l'utilise alors comme n'importe quelle autre variable.\n",
    "```\n",
    "int main()\n",
    "{\n",
    "    Niveau level;\n",
    "    //...\n",
    "    if(level == Moyen)\n",
    "        cout << \"Vous avez choisi le niveau moyen\" << endl;\n",
    "    //...\n",
    "    return 0;\n",
    "}\n",
    "```"
   ]
  },
  {
   "cell_type": "markdown",
   "metadata": {},
   "source": [
    "On retrouve souvent les types énumérés dans des codes employant les tests `switch`. Voici un exemple utilisant un type énuméré pour les directions d'un personnage sur une carte :\n",
    "```\n",
    "enum Direction{Nord, Sud, Est, Ouest};\n",
    "int main()\n",
    "{\n",
    "    Direction dir;\n",
    "    Personnage p;\n",
    "    //...\n",
    "    switch(dir)\n",
    "    {\n",
    "    case Nord: p.avancerNord(); break;\n",
    "    case Sud: p.avancerSud(); break;\n",
    "    case Est: p.avancerEst(); break;\n",
    "    case Ouest: p.avancerOuest(); break;\n",
    "    }\n",
    "    //...\n",
    "    return 0;\n",
    "}\n",
    "```"
   ]
  },
  {
   "cell_type": "markdown",
   "metadata": {},
   "source": [
    "### La redéfinition de type\n",
    "Les ```typedefs``` (**redéfinition de type** en français) permettent de créer des alias sur des noms de types pour éviter de devoir en taper l'intitulé à rallonge. Par exemple, si l'on souhaite renommer le type précédent en Iterateur, on écrit :\n",
    "```\n",
    "typedef std::map<std::string, std::vector<int> >::iterator Iterateur\n",
    "```\n",
    "À partir de là, on peut déclarer des objets de ce type en utilisant l'alias :\n",
    "```\n",
    "Iterateur it;\n",
    "```"
   ]
  },
  {
   "cell_type": "markdown",
   "metadata": {},
   "source": [
    "EXTRA - esperluette\n",
    "\n",
    "https://www.developpez.net/forums/d1291272/c-cpp/cpp/debuter/reference-adresse/\n",
    "\n",
    "\n",
    " En fait, tout dépend de ce qui se trouve avant l'esperluette.\n",
    "\n",
    "    Si tu as un identifiant de type (int &, MaClasse &, ... ), c'est une référence, et il faut l'initialiser en lui donnant une variable existante du type attendu.\n",
    "    Si tu as un opérateur d'affectation ( = ) comme dans int * ptr = & i , c'est l'opérateur \"address of\" qui permet de récupérer l'adresse à laquelle se trouve l'élément que tu veux faire pointer par ton pointeur.\n",
    "\n",
    "Tu vois, c'est tout simple\n",
    "\n",
    "[EDIT]J'ai oublié le cas de l'appel d'une fonction :\n",
    "\n",
    "    dans le prototype d'une fonction, tu te retrouves dans le premier cas,\n",
    "    Si tu l'utilise lors de l'appel d'une fonction, c'est l'opérateur address of \n",
    "\n",
    "\n",
    "En réalité, la norme parle de \"rvalue\" et de \"lvalue\".\n",
    "\n",
    "une lvalue se trouve d'office à gauche de l'opérateur d'affectation \"=\" (s'il y en a un)et représente généralement une variable que l'on déclare, par exemple:\n",
    "Code : \tSélectionner tout - Visualiser dans une fenêtre à part\n",
    "\n",
    "1\n",
    "2\n",
    "3\n",
    "\t\n",
    "\n",
    "int i ; // déclare une variable de type int nommé i\n",
    "int * ptr = &i; // déclare une variable de type \"pointeur sur int\" nommée ptr et lui affecte l'adresse de i\n",
    "int & ref = i; // déclare une variable de type \"référence sur int\" nommée ref qui est un alias de i\n",
    "\n",
    "une rvalue est tout ce qui peut se trouver à droite de l'opérateur d'affectation, ou qui agit comme tel, par exemple :\n",
    "Code : \tSélectionner tout - Visualiser dans une fenêtre à part\n",
    "\n",
    "1\n",
    "2\n",
    "3\n",
    "\t\n",
    "\n",
    "int i = 3; // 3 est une rvalue\n",
    "foo( & i); // &i représente l'adresse de i, passée à une fonction, c'est une rvalue\n",
    "int result = bar(); // le résultat de bar peut etre affecté à résult : c'est une rvalue\n",
    "\n",
    "Selon ces termes,\n",
    "\n",
    "    chaque fois qu'une esperluette intervient dans une expression rvalue, c'est l'opérateur \"address of\"\n",
    "    chaque fois que l'esperluette intervient dans une expression lvalue, c'est le symbole d'une référence\n",
    "    \n",
    "    \n",
    "    <hl>\n",
    "    \n",
    "     Un pointeur, c'est une variable \"comme une autre\", à ceci pres qu'elle contient... l'adresse mémoire à laquelle on va trouver un objet du type indiqué.\n",
    "\n",
    "L'utilisation de pointeurs pose énormément de problèmes, car :\n",
    "\n",
    "    Ils peuvent représenter une adresse qui ne correspond pas à un objet réel\n",
    "    il peuvent représenter une adresse qui signifie que l'ojbet n'existe pas\n",
    "    ils utilisent une syntaxe particulière pour leur manipulation\n",
    "    Il sont souvent synonymes d'allocation dynamique de la mémoire, et de tous les problèmes que l'on peut y associer comme le dépassement d'index, les tentatives de double libérations de la mémoire ou les fuites mémoires.\n",
    "    L'utilisateur ne sait que rarement s'il doit ou non s'occuper lui-même de l'allocation dynamique de mémoire et / ou de la libération de la mémoire\n",
    "\n",
    "Comprenons nous quand meme : les pointeurs ont sans doute représenté une avancée majeure en programmation dans le sens où ils ont permis la transmission d'informations locales à une fonction vers une fonction \"utilisatrice\" de ces informations en en évitant la copie.\n",
    "\n",
    "Mais bon, les pointeurs souffrent de maux qui leurs sont propres\n",
    "\n",
    "C'est pourquoi C++ (et les autres langages par la suite) ont introduit la notion de référence.\n",
    "\n",
    "La référence n'est qu'un alias de variable, un pseudonyme que l'on donne à une variable lorsqu'on la transmet à une fonction, par exemple.\n",
    "\n",
    "Au cas où tu ne l'aurais pas remarqué, il y a quelqu'un derrière le clavier qui écrit koala01...\n",
    "\n",
    "Ce quelqu'un, c'est moi .\n",
    "\n",
    "Mais tout ce qu'écrit koala01, c'est moi qui l'écrit, tout ce qu'il peut arriver à koala01, c'est à moi que cela arrive.\n",
    "\n",
    "Et il ne pourrait pas y avoir de koala01 si je n'existais pas réellement.\n",
    "\n",
    "Le principe d'une référence est strictement pareil :\n",
    "\n",
    "    Pour qu'une référence puisse exister, il faut qu'il existe un objet auquel elle puisse... faire référence\n",
    "    Toutes les modifications que la référence pourrait subir seront répercutée sur l'objet \"original\", et inversement\n",
    "\n",
    "\n",
    "Bon, pour etre tout à fait honnête (mais dépêches toi de l'oublier après l'avoir lu ) il est vrai que, si tu regarde au niveau du code assembleur généré, il n'y aura aucune différence entre un pointeur et une référence : la référence sera gérée exactement comme s'il s'agissait d'un pointeur.\n",
    "\n",
    "Tu as donc parfaitement le choix d'utiliser soit une référence soit un pointeur lorsqu'il s'agit de transmettre des arguments dont tu veux éviter la copie à une fonction, mais...\n",
    "\n",
    "comme la référence est plus sécurisante et plus simple à l'emploi (elle offre une garantie d'existence de l'objet référencé, elle autorise la même syntaxe que si on travaillait avec l'objet lui-même, elle n'est pas synonyme de gestion dynamique de la mémoire, et bien d'autres choses que tu apprendras en leur temps), il est très largement recommander d'utiliser les références \"chaque fois que possible\", et de n'utiliser les pointeurs que \"lorsque tu n'as pas le choix\", et les circonstances dans lesquelles l'utilisation d'un pointeur se justifient sont très limitées \n",
    "\n",
    "\n",
    " Il faut voir une référence comme un allias sur une variable existante.\n",
    "Une référence ne peut pas être nulle et doit être initialisée à la déclaration. "
   ]
  }
 ],
 "metadata": {
  "kernelspec": {
   "display_name": "C++11",
   "language": "C++",
   "name": "cling-cpp11"
  },
  "language_info": {
   "codemirror_mode": "c++",
   "file_extension": ".c++",
   "mimetype": "text/x-c++src",
   "name": "c++"
  }
 },
 "nbformat": 4,
 "nbformat_minor": 4
}
