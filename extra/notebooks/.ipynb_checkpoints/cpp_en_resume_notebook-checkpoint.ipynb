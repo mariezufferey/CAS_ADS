{
 "cells": [
  {
   "cell_type": "code",
   "execution_count": null,
   "metadata": {},
   "outputs": [],
   "source": [
    "Qu'est-ce que le C++ ?\n",
    "    Les programmes permettent de réaliser toutes sortes d'actions sur un ordinateur : navigation sur le Web, rédaction de\n",
    "textes, manipulation des fichiers, etc.\n",
    "Pour réaliser des programmes, on écrit des instructions pour l'ordinateur dans un langage de programmation. C'est le\n",
    "code source.\n",
    "Le code doit être traduit en binaire par un outil appelé compilateur pour qu'il soit possible de lancer le programme.\n",
    "L'ordinateur ne comprend en effet que le binaire.\n",
    "Le C++ est un langage de programmation très répandu et rapide. C'est une évolution du langage C car il offre en\n",
    "particulier la possibilité de programmer en orienté objet, une technique de programmation puissante qui sera présentée\n",
    "dans ce livre."
   ]
  },
  {
   "cell_type": "code",
   "execution_count": null,
   "metadata": {},
   "outputs": [],
   "source": [
    "Les logiciels nécessaires pour programmer .\n",
    "\n",
    "En résumé\n",
    "Un IDE est un outil tout-en-un à destination des développeurs, qui permet de créer des programmes.\n",
    "Un IDE est composé d'un éditeur de texte, d'un compilateur et d'un debugger.\n",
    "Code::Blocks, Visual C++ et Xcode sont parmi les IDE les plus connus pour programmer en C++.\n",
    "Nous prendrons Code::Blocks comme base dans la suite de ce cours."
   ]
  },
  {
   "cell_type": "code",
   "execution_count": null,
   "metadata": {},
   "outputs": [],
   "source": [
    "Votre premier programme\n",
    "\n",
    "En résumé\n",
    "On distingue deux types de programmes : les programmes graphiques (GUI) et les programmes console.\n",
    "Il est plus simple de réaliser des programmes console pour commencer, c'est donc ce type de programme que nous\n",
    "étudierons en premier.\n",
    "Un programme possède toujours une fonction main() : c'est son point de démarrage.\n",
    "La directive cout permet d'afficher du texte dans une console.\n",
    "On peut ajouter des commentaires dans son code source pour expliquer son fonctionnement. Ils prennent la forme //\n",
    "Commentaire ou /* Commentaire */."
   ]
  },
  {
   "cell_type": "code",
   "execution_count": null,
   "metadata": {},
   "outputs": [],
   "source": [
    "Utiliser la mémoire\n",
    "\n",
    "En résumé\n",
    "Une variable est une information stockée en mémoire.\n",
    "Il existe différents types de variables en fonction de la nature de l'information à stocker : int, char, bool...\n",
    "Une variable doit être déclarée avant utilisation. Exemple : int ageUtilisateur(16);\n",
    "La valeur d'une variable peut être affichée à tout moment avec cout.\n",
    "Les références sont des étiquettes qui permettent d'appeler une variable par un autre nom. Exemple : int&\n",
    "maReference(ageUtilisateur);"
   ]
  },
  {
   "cell_type": "code",
   "execution_count": null,
   "metadata": {},
   "outputs": [],
   "source": [
    "Une vraie calculatrice\n",
    "\n",
    "En résumé\n",
    "Pour demander à l'utilisateur de saisir une information au clavier, on utilise cin >> variable;. La valeur saisie sera\n",
    "stockée dans la variable.\n",
    "Il ne faut pas confondre le sens des chevrons cout << et cin >>.\n",
    "On peut faire toutes sortes d'opérations mathématiques de base en C++ : addition, soustraction, multiplication... Exemple\n",
    ": resultat = a + b;\n",
    "Les constantes sont des variables qu'on ne peut pas modifier une fois qu'elles ont été créées. On utilise le mot const\n",
    "pour les définir.\n",
    "Pour ajouter 1 à la valeur d'une variable, on effectue ce qu'on appelle une incrémentation : variable++;. L'opération\n",
    "inverse, appelée décrémentation, existe aussi.\n",
    "Si vous souhaitez utiliser des fonctions mathématiques plus complexes, comme la racine carrée, il faut inclure l'en-tête\n",
    "<cmath> dans votre code et faire appel à la fonction comme dans cet exemple : resultat = sqrt(100);\n"
   ]
  },
  {
   "cell_type": "code",
   "execution_count": null,
   "metadata": {},
   "outputs": [],
   "source": [
    "Les structures de contrôle\n",
    "\n",
    "En résumé\n",
    "Les conditions permettent de tester la valeur des variables et de modifier le comportement du programme en\n",
    "conséquence.\n",
    "La condition de type if (si) ... else if (sinon si) ... else (sinon) est la plus courante.\n",
    "La condition switch, plus spécifique, permet de tester les différentes valeurs possibles d'une seule variable.\n",
    "Les boucles permettent de répéter les mêmes instructions plusieurs fois.\n",
    "On distingue trois types de boucles : while, do... while et for.\n",
    "La boucle for est généralement utilisée lorsqu'on sait combien de fois on souhaite répéter les instructions, tandis que\n",
    "while et do... while sont plutôt utilisées lorsqu'on souhaite répéter des instructions jusqu'à ce qu'une condition\n",
    "spécifique soit vérifiée."
   ]
  },
  {
   "cell_type": "code",
   "execution_count": null,
   "metadata": {},
   "outputs": [],
   "source": [
    "Découper son programme en fonctions\n",
    "\n",
    "En résumé\n",
    "Une fonction est une portion de code contenant des instructions et ayant un rôle précis.\n",
    "Tous les programmes ont au moins une fonction : main(). C'est celle qui s'exécute au démarrage du programme.\n",
    "Découper son programme en différentes fonctions ayant chacune un rôle différent permet une meilleure organisation.\n",
    "Une même fonction peut être appelée plusieurs fois au cours de l'exécution d'un programme.\n",
    "Une fonction peut recevoir des informations en entrée (appelées arguments) et renvoyer un résultat en sortie grâce à\n",
    "return.\n",
    "Les fonctions peuvent recevoir des références en argument pour modifier directement une information précise en\n",
    "mémoire.\n",
    "Lorsque le programme grossit, il est conseillé de créer plusieurs fichiers regroupant des fonctions. Les fichiers .cpp\n",
    "contiennent les définitions des fonctions et les fichiers .h, plus courts, contiennent leurs prototypes. Les fichiers .h\n",
    "permettent d'annoncer l'existence des fonctions à l'ensemble des autres fichiers du programme."
   ]
  },
  {
   "cell_type": "code",
   "execution_count": null,
   "metadata": {},
   "outputs": [],
   "source": [
    "Les tableaux\n",
    "\n",
    "En résumé\n",
    "Les tableaux sont des successions de variables en mémoire. Un tableau à 4 cases correspond donc en mémoire à 4\n",
    "variables les unes à la suite des autres.\n",
    "Un tableau s'initialise comme ceci : int meilleurScore[4]; (pour 4 cases).\n",
    "La première case est toujours numérotée 0 (meilleurScore[0]).\n",
    "Si la taille du tableau est susceptible de varier, créez un tableau dynamique de type vector : vector<int>\n",
    "tableau(5);.\n",
    "On peut créer des tableaux multi-dimensionnels. Par exemple, int tableau[5][4]; revient à créer un tableau de 5\n",
    "lignes et 4 colonnes.\n",
    "Les chaînes de caractères string peuvent être considérées comme des tableaux. Chacune des cases correspond à un\n",
    "caractère."
   ]
  },
  {
   "cell_type": "code",
   "execution_count": null,
   "metadata": {},
   "outputs": [],
   "source": [
    "Lire et modifier des fichiers\n",
    "\n",
    "En résumé\n",
    "En C++, pour lire ou écrire dans un fichier, on doit inclure le fichier d'en-tête <fstream>.\n",
    "On doit créer un objet de type ofstream pour ouvrir un fichier en écriture et ifstream pour l'ouvrir en lecture.\n",
    "L'écriture se fait comme avec cout : monFlux << \"Texte\"; tandis que la lecture se fait comme avec cin :\n",
    "monFlux >> variable;.\n",
    "On peut lire un fichier ligne par ligne avec getline().\n",
    "Le curseur indique à quelle position vous êtes au sein du fichier, pendant une opération de lecture ou d'écriture. Au\n",
    "besoin, il est possible de déplacer ce curseur."
   ]
  },
  {
   "cell_type": "code",
   "execution_count": null,
   "metadata": {},
   "outputs": [],
   "source": [
    "Les pointeurs\n",
    "\n",
    "En résumé\n",
    "Chaque variable est stockée en mémoire à une adresse différente.\n",
    "www.openclassrooms.comPartie 1 : [Théorie] Découverte de la programmation en C++\n",
    "163/613\n",
    "Il ne peut y avoir qu'une seule variable par adresse.\n",
    "On peut récupérer l'adresse d'une variable avec le symbole &, comme ceci : &variable.\n",
    "Un pointeur est une variable qui stocke l'adresse d'une autre variable.\n",
    "Un pointeur se déclare comme ceci : int *pointeur; (dans le cas d'un pointeur vers une variable de type int).\n",
    "Par défaut, un pointeur affiche l'adresse qu'il contient. En revanche, si on écrit *pointeur, on obtient la valeur qui se\n",
    "trouve à l'adresse indiquée par le pointeur.\n",
    "On peut réserver manuellement une case en mémoire avec new. Dans ce cas, il faut libérer l'espace en mémoire dès qu'on\n",
    "n'en a plus besoin, avec delete.\n",
    "Les pointeurs sont une notion complexe à saisir du premier coup. N'hésitez pas à relire ce chapitre plusieurs fois. Vous\n",
    "comprendrez mieux leur intérêt plus loin dans cet ouvrage.\n"
   ]
  },
  {
   "cell_type": "code",
   "execution_count": null,
   "metadata": {},
   "outputs": [],
   "source": [
    "Introduction : la vérité sur les strings enfin dévoilée .\n",
    "\n",
    "En résumé\n",
    "La programmation orientée objet est une façon de concevoir son code. On considère qu'on manipule des objets.\n",
    "Les objets sont parfois complexes à l'intérieur mais leur utilisation nous est volontairement simplifiée. C'est un des\n",
    "avantages de la programmation orientée objet.\n",
    "Un objet est constitué d'attributs et de méthodes, c'est-à-dire de variables et de fonctions membres.\n",
    "On appelle les méthodes de ses objets pour les modifier ou obtenir des informations.\n",
    "La gestion du texte en mémoire est en fait complexe. Pour nous simplifier les choses, le langage C++ nous propose le type\n",
    "string. Grâce à lui, nous pouvons créer des objets de type string et manipuler du texte sans avoir à nous soucier du\n",
    "fonctionnement de la mémoire."
   ]
  },
  {
   "cell_type": "code",
   "execution_count": null,
   "metadata": {},
   "outputs": [],
   "source": [
    "Les classes (Partie 1/2)\n",
    "\n",
    "Il est nécessaire de créer une classe pour pouvoir ensuite créer des objets.\n",
    "La classe est le plan de construction de l'objet.\n",
    "Une classe est constituée d'attributs et de méthodes (variables et fonctions).\n",
    "Les éléments qui constituent la classe peuvent être publics ou privés. S'ils sont publics, tout le monde peut les utiliser\n",
    "n'importe où dans le code. S'ils sont privés, seule la classe peut les utiliser.\n",
    "En programmation orientée objet, on suit la règle d'encapsulation : on rend les attributs privés, afin d'obliger les autres\n",
    "développeurs à utiliser uniquement les méthodes."
   ]
  },
  {
   "cell_type": "code",
   "execution_count": null,
   "metadata": {},
   "outputs": [],
   "source": [
    "Les classes (Partie 2/2)\n",
    "\n",
    "En résumé\n",
    "Le constructeur est une méthode appelée automatiquement lorsqu'on crée l'objet. Le destructeur, lui, est appelé lorsque\n",
    "l'objet est supprimé.\n",
    "On peut surcharger un constructeur, c'est-à-dire créer plusieurs constructeurs. Cela permet de créer un objet de\n",
    "différentes manières.\n",
    "Une méthode constante est une méthode qui ne change pas l'objet. Cela signifie que les attributs ne sont pas modifiés\n",
    "par la méthode.\n",
    "Puisque le principe d'encapsulation impose de protéger les attributs, on crée des méthodes très simples appelées\n",
    "accesseurs qui renvoient la valeur d'un attribut. Par exemple, getDegats() renvoie la valeur de l'attribut degats.\n",
    "Un objet peut contenir un autre objet au sein de ses attributs.\n",
    "La programmation orientée objet impose un code très structuré. C'est ce qui rend le code souple, pérenne et réutilisable."
   ]
  },
  {
   "cell_type": "code",
   "execution_count": null,
   "metadata": {},
   "outputs": [],
   "source": [
    "La surcharge d'opérateurs\n",
    "\n",
    "En résumé\n",
    "Le C++ permet de surcharger les opérateurs, c'est-à-dire de créer des méthodes pour modifier le comportement des\n",
    "symboles +, -, *, /, >=, etc.\n",
    "Pour surcharger un opérateur, on doit donner un nom précis à sa méthode (operator+ pour le symbole + par exemple).\n",
    "Ces méthodes doivent prendre des paramètres et renvoyer parfois des valeurs d'un certain type précis. Cela dépend de\n",
    "l'opérateur que l'on surcharge.\n",
    "Il ne faut pas abuser de la surcharge d'opérateur car elle peut avoir l'effet inverse du but recherché, qui est de rendre la\n",
    "lecture du code plus simple."
   ]
  },
  {
   "cell_type": "code",
   "execution_count": null,
   "metadata": {},
   "outputs": [],
   "source": [
    "Classes et pointeurs\n",
    "\n",
    "En résumé\n",
    "Pour associer des classes entre elles, on peut utiliser les pointeurs : une classe peut contenir un pointeur vers une autre\n",
    "classe.\n",
    "Lorsque les classes sont associées par un pointeur, il faut veiller à bien libérer la mémoire afin que tous les éléments\n",
    "soient supprimés.\n",
    "Il existe une surcharge particulière du constructeur appelée « constructeur de copie ». C'est un constructeur appelé\n",
    "lorsqu'un objet doit être copié. Il est important de le définir lorsqu'un objet utilise des pointeurs vers d'autres objets.\n",
    "Le pointeur this est un pointeur qui existe dans tous les objets. Il pointe vers... l'objet lui-même."
   ]
  },
  {
   "cell_type": "code",
   "execution_count": null,
   "metadata": {},
   "outputs": [],
   "source": [
    "L'héritage\n",
    "\n",
    "uand il y a ambiguïté ou si il y a plusieurs possibilités.\n",
    "En résumé\n",
    "L'héritage permet de spécialiser une classe.\n",
    "Lorsqu'une classe hérite d'une autre classe, elle récupère toutes ses propriétés et ses méthodes.\n",
    "Faire un héritage a du sens si on peut dire que l'objet A « est un » objet B. Par exemple, une Voiture « est un »\n",
    "Vehicule.\n",
    "La classe de base est appelée classe mère et la classe qui en hérite est appelée classe fille.\n",
    "Les constructeurs sont appelés dans un ordre bien précis : classe mère, puis classe fille.\n",
    "En plus de public et private, il existe une portée protected. Elle est équivalente à private mais elle est un peu\n",
    "plus ouverte : les classes filles peuvent elles aussi accéder aux éléments.\n",
    "Si une méthode a le même nom dans la classe fille et la classe mère, c'est la méthode la plus spécialisée, celle de la classe\n",
    "fille, qui est appelée."
   ]
  },
  {
   "cell_type": "code",
   "execution_count": null,
   "metadata": {},
   "outputs": [],
   "source": [
    "Le polymorphisme\n",
    "\n",
    "En résumé\n",
    "Le polymorphisme permet de manipuler des objets d'une classe fille via des pointeurs ou des références sur une classe\n",
    "mère.\n",
    "Deux ingrédients sont nécessaires : des fonctions virtuelles et des pointeurs ou références sur l'objet.\n",
    "Si l'on ne sait pas quoi mettre dans le corps d'une méthode de la classe mère, on peut la déclarer virtuelle pure.\n",
    "Une classe avec des méthodes virtuelles pures est dite abstraite. On ne peut pas créer d'objet à partir d'une telle classe."
   ]
  },
  {
   "cell_type": "code",
   "execution_count": null,
   "metadata": {},
   "outputs": [],
   "source": [
    "Eléments statiques et amitié \n",
    "\n",
    "En résumé\n",
    "Une méthode statique est une méthode qui peut être appelée directement sans créer d'objet. Il s'agit en fait d'une fonction\n",
    "classique.\n",
    "Un attribut statique est partagé par tous les objets issus d'une même classe.\n",
    "Une fonction amie d'une classe peut accéder à tous ses éléments, même les éléments privés.\n",
    "L'amitié doit être utilisée avec parcimonie en C++, uniquement lorsque cela est nécessaire."
   ]
  },
  {
   "cell_type": "code",
   "execution_count": null,
   "metadata": {},
   "outputs": [],
   "source": [
    "Qu'est-ce que la bibliothèque standard ?\n",
    "\n",
    "En résumé\n",
    "La bibliothèque standard du C++ propose de nombreuses briques de base pour simplifier l'écriture de nos programmes.\n",
    "On peut considérer qu'elle est découpée en trois parties : la STL, les flux et tout ce qui a été repris du langage C.\n",
    "Parmi les éléments repris du C, on utilise principalement cctype pour analyser des lettres, ctime pour la\n",
    "mesure du temps et cstdlib pour générer des nombres aléatoires."
   ]
  },
  {
   "cell_type": "code",
   "execution_count": null,
   "metadata": {},
   "outputs": [],
   "source": [
    "Les conteneurs ...\n",
    "\n",
    "En résumé\n",
    "La STL propose de nombreux conteneurs. Ils sont tous optimisés pour des usages différents.\n",
    "Les deque et vector permettent de stocker des objets côte-à-côte dans la mémoire.\n",
    "Les map et set sont à utiliser si l'on souhaite indexer les éléments contenus avec autre chose que des\n",
    "entiers.\n",
    "Choisir le bon conteneur est une tâche difficile. Sachez que vector est le plus fréquemment utilisé. Vous pourrez\n",
    "toujours revenir\n",
    "sur votre décision par la suite si vous avez besoin d'un conteneur plus adapté."
   ]
  },
  {
   "cell_type": "code",
   "execution_count": null,
   "metadata": {},
   "outputs": [],
   "source": [
    "Itérateurs et foncteurs\n",
    "\n",
    "En résumé\n",
    "Les itérateurs sont assimilables à des pointeurs limités à un conteneur.\n",
    "On utilise les opérateurs ++ et -- pour les déplacer et l'opérateur * pour accéder à l'élément pointé.\n",
    "Les foncteurs sont des classes qui surchargent l'opérateur (). On les utilise comme des fonctions.\n",
    "La STL utilise beaucoup les foncteurs pour modifier le comportement de ses conteneurs."
   ]
  },
  {
   "cell_type": "code",
   "execution_count": null,
   "metadata": {},
   "outputs": [],
   "source": [
    "La puissance des algorithmes\n",
    "\n",
    "En résumé\n",
    "Les algorithmes de la STL permettent d'effectuer des traitements sur des données.\n",
    "On les utilise en spécifiant les éléments à modifier grâce à deux itérateurs.\n",
    "Certains algorithmes utilisent des foncteurs, par exemple pour les appliquer à tous les éléments du conteneur ou pour\n",
    "chercher un élément correspondant à un critère donné."
   ]
  },
  {
   "cell_type": "code",
   "execution_count": null,
   "metadata": {},
   "outputs": [],
   "source": [
    "Utiliser les itérateurs sur les flux\n",
    "\n",
    "En résumé\n",
    "Il existe des itérateurs sur les flux.\n",
    "Ces itérateurs ne peuvent qu'avancer. Ils ne possèdent donc que l'opérateur ++ et l'opérateur *.\n",
    "On peut utiliser ces itérateurs avec les algorithmes pour simplifier nos programmes.\n",
    "On peut écrire et lire dans les chaînes de caractères grâce aux istringstream et ostringstream. Cela\n",
    "permet de combiner la puissance des flux à la simplicité des string.\n",
    "On utilise les stringstream pour convertir des nombres en chaîne et vice-versa."
   ]
  },
  {
   "cell_type": "code",
   "execution_count": null,
   "metadata": {},
   "outputs": [],
   "source": [
    "Aller plus loin avec la SL\n",
    "\n",
    "En résumé\n",
    "Les string proposent eux aussi des itérateurs. On peut donc utiliser les algorithmes également sur les chaînes de\n",
    "caractères.\n",
    "Les tableaux statiques ne possèdent pas d'itérateurs mais on utilise pour les remplacer les pointeurs.\n",
    "La SL propose quelques outils pour le calcul scientifique, notamment une classe de nombres complexes et des tableaux\n",
    "optimisés\n",
    "pour effectuer des opérations mathématiques.\n"
   ]
  },
  {
   "cell_type": "code",
   "execution_count": null,
   "metadata": {},
   "outputs": [],
   "source": [
    "La gestion des erreurs avec les exceptions\n",
    "\n",
    "En résumé\n",
    "Dans tous les programmes, des erreurs peuvent survenir. Les exceptions servent à réparer ces erreurs.\n",
    "Les exceptions sont lancées grâce au mot-clé throw, placé dans un bloc try, et rattrapées par un bloc catch.\n",
    "La bibliothèque standard propose la classe exception comme base pour créer ses exceptions personnalisées.\n",
    "Les assertions permettent aux développeurs de trouver facilement les erreurs en faisant des tests lors de la phase de\n",
    "création d'un programme."
   ]
  },
  {
   "cell_type": "code",
   "execution_count": null,
   "metadata": {},
   "outputs": [],
   "source": [
    "Créer des templates\n",
    "\n",
    "En résumé\n",
    "Les templates sont utilisés pour créer différentes versions d'une fonction ou d'une classe pour des types différents.\n",
    "Pour créer une fonction ou une classe template, il faut déclarer un type générique en utilisant la syntaxe\n",
    "template<typename T>.\n",
    "Pour utiliser une fonction ou une classe template, on indique le type désiré entre les chevrons < et >.\n",
    "Il est possible de spécialiser les templates pour leur imposer un comportement particulier pour certains types."
   ]
  },
  {
   "cell_type": "code",
   "execution_count": null,
   "metadata": {},
   "outputs": [],
   "source": []
  },
  {
   "cell_type": "code",
   "execution_count": null,
   "metadata": {},
   "outputs": [],
   "source": []
  },
  {
   "cell_type": "code",
   "execution_count": null,
   "metadata": {},
   "outputs": [],
   "source": []
  }
 ],
 "metadata": {
  "kernelspec": {
   "display_name": "C++11",
   "language": "C++",
   "name": "cling-cpp11"
  },
  "language_info": {
   "codemirror_mode": "c++",
   "file_extension": ".c++",
   "mimetype": "text/x-c++src",
   "name": "c++"
  }
 },
 "nbformat": 4,
 "nbformat_minor": 4
}
