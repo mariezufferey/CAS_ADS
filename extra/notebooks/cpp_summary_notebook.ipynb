{
 "cells": [
  {
   "cell_type": "markdown",
   "metadata": {},
   "source": [
    "### Les références\n",
    "\n",
    "En C++ on peut coller deux (ou plus) étiquettes à une case mémoire. On obtient alors un deuxième moyen d'accéder à la même case mémoire. On parle parfois d'*alias*, mais le mot correct est *référence*. Au niveau du code, on utilise une esperluette (&) pour déclarer une référence sur une variable. \n",
    "    "
   ]
  },
  {
   "cell_type": "code",
   "execution_count": 1,
   "metadata": {},
   "outputs": [
    {
     "data": {
      "text/plain": []
     },
     "execution_count": 1,
     "metadata": {},
     "output_type": "execute_result"
    }
   ],
   "source": [
    "// Déclaration d'une variable\n",
    "int ageUser(16); \n",
    "// Déclaration d'une référence \"ageUser\" accrochée à la ageUser\n",
    "int& myVar(ageUser);"
   ]
  },
  {
   "cell_type": "markdown",
   "metadata": {},
   "source": [
    "Une référence doit impérativement être du même type que la variable à laquelle elle est accrochée !\n",
    "\n",
    "Une fois qu'elle a été déclarée, on peut manipuler la référence comme si on manipulait la variable elle-même. Il n'y a aucune différence entre les deux.\n",
    "\n"
   ]
  },
  {
   "cell_type": "code",
   "execution_count": null,
   "metadata": {},
   "outputs": [],
   "source": [
    "### Passage par valeur"
   ]
  },
  {
   "cell_type": "code",
   "execution_count": null,
   "metadata": {},
   "outputs": [],
   "source": [
    "#include <iostream>\n",
    "using namespace std;\n",
    "\n",
    "int ajouteDeux(int a)\n",
    "{\n",
    "    a += 2;\n",
    "    return a;\n",
    "}\n",
    "\n",
    "int main()\n",
    "{\n",
    "    int nombre(4), resultat;\n",
    "    resultat = ajouteDeux(nombre);\n",
    "    cout << \"Le nombre original vaut :\" << nombre << endl;\n",
    "    cout << \"Le résultat vaut: \" << resultat << endl;\n",
    "    return 0;\n",
    "}"
   ]
  },
  {
   "cell_type": "markdown",
   "metadata": {},
   "source": [
    "Lors de l'appel à la fonction, il se passe les choses suivantes :\n",
    "1. Le programme évalue la valeur de nombre. Il trouve 4.\n",
    "2. Le programme alloue un nouvel espace dans la mémoire et y écrit la valeur 4. Cet espace mémoire possède l'étiquette *a*,le nom de la variable dans la fonction.\n",
    "3. Le programme entre dans la fonction.\n",
    "4. Le programme ajoute 2 à la variable *a*.\n",
    "5. La valeur de a est ensuite copiée et affectée à la variable resultat, qui vaut donc maintenant 6.\n",
    "6. On sort alors de la fonction.\n",
    "\n",
    "Ce qui est important, c'est que la variable *nombre* est copiée dans une nouvelle case mémoire. On dit que l'argument a est passé **par valeur**. "
   ]
  },
  {
   "cell_type": "markdown",
   "metadata": {},
   "source": [
    "### Passage par référence\n",
    "\n",
    "Plutôt que de copier la valeur de nombre dans la variable a, il est possible d'ajouter une « deuxième étiquette » à la variable *nombre* à l'intérieur de la fonction. Et c'est bien sûr une référence qu'il faut utiliser comme argument de la fonction."
   ]
  },
  {
   "cell_type": "code",
   "execution_count": null,
   "metadata": {},
   "outputs": [],
   "source": [
    "int ajouteDeux(int& a)\n",
    "{\n",
    "    a += 2;\n",
    "    return a;\n",
    "}"
   ]
  },
  {
   "cell_type": "markdown",
   "metadata": {},
   "source": [
    "Lorsque l'on appelle la fonction, il n'y a plus de copie. Le programme donne simplement un alias à la variable nombre. \n",
    "Cette fois, la variable *a* et la variable nombre sont confondues. On dit que l'argument a est passé **par référence**. Cela permet à la fonction *ajouteDeux()* de modifier ses arguments.\n",
    "Le passage par référence offre un gros avantage sur le passage par valeur : aucune copie n'est effectuée."
   ]
  },
  {
   "cell_type": "markdown",
   "metadata": {},
   "source": [
    "### Passage par référence constante\n",
    "\n",
    "En utilisant un passage par référence, aucune copie n'est effectuée. Mais cette manière de procéder autorise la modification de l'argument.\n",
    "\n",
    "La solution est d'utiliser ce que l'on appelle un **passage par référence constante**. On évite la copie en utilisant une référence etl'on empêche la modification de l'argument en le déclarant constant.\n"
   ]
  },
  {
   "cell_type": "code",
   "execution_count": null,
   "metadata": {},
   "outputs": [],
   "source": [
    "void f1(string const& texte);"
   ]
  }
 ],
 "metadata": {
  "kernelspec": {
   "display_name": "C++11",
   "language": "C++",
   "name": "cling-cpp11"
  },
  "language_info": {
   "codemirror_mode": "c++",
   "file_extension": ".c++",
   "mimetype": "text/x-c++src",
   "name": "c++"
  }
 },
 "nbformat": 4,
 "nbformat_minor": 4
}
