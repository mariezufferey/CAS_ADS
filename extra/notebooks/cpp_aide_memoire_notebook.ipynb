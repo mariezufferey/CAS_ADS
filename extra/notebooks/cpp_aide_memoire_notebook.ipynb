{
 "cells": [
  {
   "cell_type": "markdown",
   "metadata": {},
   "source": [
    "### Le type *enum*\n",
    "\n",
    "Un type énumération est constitué d'un ensemble fini de valeurs ou énumérateurs. Lorsque l’on définit un type `enum`, des valeurs entières de 0 à n sont automatiquement affectées à chaque énumérateur. On peut modifier ces\n",
    "valeurs et même affecter des valeurs identiques à des énumérateurs\n",
    "différents."
   ]
  },
  {
   "cell_type": "markdown",
   "metadata": {},
   "source": [
    "```\n",
    "#include <iostream.h>\n",
    "\n",
    "enum couleur {cyan, rouge, magenta, vert, jaune, bleu};\n",
    "enum test {non=0, oui=1, faux=0, vrai=1};\n",
    "enum polarite {moins=-1, plus=+1} polar1=moins, polar2;\n",
    "enum jour {lundi=1, mardi=2, mercredi=3, jeudi=4, vendredi=5, samedi=6, dimanche=7};\n",
    "\n",
    "int main()\n",
    "{\n",
    "    couleur color=jaune;\n",
    "    if (color==4) \n",
    "        cout << \"jaune\" << endl;\n",
    "    test reponse1=non, reponse2=oui;\n",
    "    if(reponse1==0) \n",
    "        cout << \"c’est non et faux\" << endl;\n",
    "    if(reponse2==1) \n",
    "        cout << \"c’est oui et vrai\" << endl;\n",
    "    polarite polar3;\n",
    "    polar3=plus;\n",
    "    polar2=moins;\n",
    "    if (polar3==polar1) \n",
    "        cout << \"identique\" << endl;\n",
    "    else \n",
    "        cout << \"oppose\" << endl;\n",
    "    if (polar2==polar1) \n",
    "        cout << \"identique\" << endl;\n",
    "    else \n",
    "        cout << \"oppose\" << endl;\n",
    "    if (polar1==-1) \n",
    "        cout << \"c’est moins\" << endl;\n",
    "    jour jsem=vendredi;\n",
    "    if(jsem==5) \n",
    "        cout << \"vendredi = \" << jsem <<endl;\n",
    "    if(jsem>4) \n",
    "        cout << \"vendredi > 4 \" <<endl;\n",
    "    if(jsem<3) \n",
    "        cout << \"vendredi = \" << jsem << endl;\n",
    "    else \n",
    "        cout << \"vendredi n’est pas inferieur a 3\" << endl;\n",
    "    return 0;\n",
    "}\n",
    "```"
   ]
  },
  {
   "cell_type": "markdown",
   "metadata": {},
   "source": [
    "### L'opérateur conditionnel\n",
    "Il existe un opérateur conditionnel assez peu utilisé mais qui cependant permet de traiter des expressions simples. Cet opérateur remplace le classique `if then else`. La forme de cette expression est :\n",
    "```\n",
    "expression1 ? expression2 : expression3\n",
    "```"
   ]
  },
  {
   "cell_type": "markdown",
   "metadata": {},
   "source": [
    "### L'instruction `goto`\n",
    "Comme d'autres structures de contrôle de flux, l’instruction goto va elle aussi générer un saut mais, dans ce cas, la destination est précisée par une étiquette. Cette instruction peut permettre de bouleverser la logique d’exécution d’un programme. L’étiquette qui suit `goto` est un identificateur suivi d’un point-virgule. La destination ou cible du saut est cette même étiquette suivie de deux-points. L’étiquette doit être unique dans le programme (ou au sein de la fonction).\n"
   ]
  },
  {
   "cell_type": "markdown",
   "metadata": {},
   "source": [
    "```\n",
    "#include <iostream.h>\n",
    "#include <math.h>\n",
    "main()\n",
    "{\n",
    "double n, r;\n",
    "saisie:\n",
    "cout << \"Entrer un nombre reel (0 pour terminer) :\n",
    "\";\n",
    "cin >> n;\n",
    "if (n==0) goto fin3;\n",
    "if (n<0) goto fin1;\n",
    "else {\n",
    "r=sqrt(n);\n",
    "cout << \"Racine carree de \" << n << \" = \" << r\n",
    "<< endl;\n",
    "goto fin2;\n",
    "}\n",
    "fin1:\n",
    "cout << \"Nombre negatif - Erreur!\" << endl;\n",
    "goto saisie;\n",
    "fin2:\n",
    "goto saisie;\n",
    "fin3:\n",
    "cout << \"Fin de traitement\" << endl;\n",
    "return 0;\n",
    "}\n",
    "```\n"
   ]
  },
  {
   "cell_type": "markdown",
   "metadata": {},
   "source": [
    "### Le passage par valeurs et par référence\n",
    "Les fonctions vues précédemment utilisaient des arguments qui étaient transmis dans la fonction par l’intermédiaire d’un processus nommé **passage par valeur**. Lors de l’appel de la fonction on évalue l’argument et on l’affecte ensuite à l’argument présent dans l’en-tête de la fonction avant d’en commencer l’exécution. Par ce moyen des expressions peuvent être utilisées comme argument. Cette méthode de travail avec les fonctions est la plus courante toutefois dans quelques cas de figure on peut être amené à travailler autrement. On utilise alors le **passage par référence**. En effet, le passage par valeur ne modifie en rien la valeur de l’argument que l’on passe à la fonction, même si celui-ci est manipulé dans le corps de la fonction. **Lors de l’utilisation du passage par référence, l’argument peut prendre une nouvelle valeur au retour de la fonction**. Pour passer un argument par référence, il suffit d’ajouter un `&` (et commercial) derrière le type de l’argument ou devant sa variable. Voici sa syntaxe :\n",
    "```\n",
    "type nomfonction (type argument1& variableargument,...)\n",
    "```\n",
    "ou\n",
    "```\n",
    "type nomfonction(type argument1 &variableargument1,...)\n",
    "```"
   ]
  },
  {
   "cell_type": "markdown",
   "metadata": {},
   "source": [
    "```\n",
    "#include <iostream.h>\n",
    "double volume(double surfBase, int& hauteur)\n",
    "{\n",
    "    double volume;\n",
    "    hauteur=hauteur*2;\n",
    "    volume=surfBase*hauteur;\n",
    "    return volume;\n",
    "}\n",
    "int main()\n",
    "{\n",
    "    int R, H;\n",
    "    cout << \"Entrez le rayon du cercle : \";\n",
    "    cin >> R;\n",
    "    cout << \"Entrez la hauteur du cylindre : \";\n",
    "    cin >> H;\n",
    "    cout << \"Volume du cylindre : \" << volume\n",
    "    (R*R*3.14, H) << endl;\n",
    "    cout << \"Hauteur du cylindre : \" << H << endl;\n",
    "    return 0 ;\n",
    "}\n",
    "```"
   ]
  },
  {
   "cell_type": "markdown",
   "metadata": {},
   "source": [
    "Il existe un autre moyen d’effectuer le passage d’un argument, c’est le **passage par référence constante**.\n",
    "Une autre des caractéristiques du passage par référence c’est que **cette technique évite la duplication de l’argument lorsqu’il est passé à la fonction**. Le fait que cette duplication n’ait pas lieu allège la mémoire et rend donc plus efficace le programme. Pour utiliser le passage par référence tout en maintenant l’efficacité on peut utiliser le passage par référence constante qui consiste à faire précéder l’argument du mot-clé `const`."
   ]
  },
  {
   "cell_type": "markdown",
   "metadata": {},
   "source": [
    "```\n",
    "#include <iostream.h>\n",
    "double volume(double surfBase,const int& hauteur)\n",
    "{\n",
    "    double volume;\n",
    "    volume=surfBase*hauteur;\n",
    "    return volume;\n",
    "}\n",
    "int main()\n",
    "{\n",
    "    int R, H;\n",
    "    cout << \"Entrez le rayon du cercle : \";\n",
    "    cin >> R;\n",
    "    cout << \"Entrez la hauteur du cylindre : \";\n",
    "    cin >> H;\n",
    "    cout << \"Volume du cylindre : \" << volume\n",
    "    (R*R*3.14, H) << endl;\n",
    "    cout << \"Hauteur du cylindre : \" << H << endl;\n",
    "    return 0;\n",
    "}\n",
    "```"
   ]
  },
  {
   "cell_type": "markdown",
   "metadata": {},
   "source": [
    "### La fonction `inline`\n",
    "Quand le temps d’exécution est de première importance dans un programme, on peut faire appel à la fonction `inline` . Quand le compilateur rencontre cette fonction, il incorpore immédiatement les instructions de la fonction qui suit, contrairement à un traitement normal qui passe par une procédure d’appel puis une procédure de retour. Par ce biais on va donc faire une économie substantielle de temps machine au détriment cependant d’une consommation mémoire plus importante, puisqu’à chaque appel de la fonction les instructions correspondantes sont générées. La syntaxe est la suivante :\n",
    "```\n",
    "inline type nomfonction(...)\n",
    "```"
   ]
  },
  {
   "cell_type": "markdown",
   "metadata": {},
   "source": [
    "```\n",
    "#include <iostream.h>\n",
    "inline double inverse(int);\n",
    "int main()\n",
    "{\n",
    "    int n;\n",
    "    double carreinverse(int);\n",
    "    cout << \"Entrer un nombre entier : \";\n",
    "    cin >> n;\n",
    "    cout << inverse(n) << endl;\n",
    "    return 0;\n",
    "}\n",
    "double inverse(int x)\n",
    "{\n",
    "    return 1.0/x;\n",
    "}\n",
    "```"
   ]
  },
  {
   "cell_type": "markdown",
   "metadata": {},
   "source": [
    "### Les tableaux et les fonctions\n",
    "Le passage du tableau est effectué par valeur, cependant, ses éléments sont modifiés par la fonction comme avec un passage par référence. Cela est dû au fonctionnement même du compilateur."
   ]
  },
  {
   "cell_type": "markdown",
   "metadata": {},
   "source": [
    "### Les pointeurs et les fonctions\n",
    "Nous allons souvent être amenés à passer un pointeur comme argument d’une fonction. La technique la plus souvent retenue est un passage par référence. C’est en effet compréhensible puisque la donnée (le contenu de l’adresse) sera modifiée de façon globale, dans la fonction et le programme qui l’appelle."
   ]
  },
  {
   "cell_type": "markdown",
   "metadata": {},
   "source": [
    "### Les pointeurs et les tableaux\n",
    "Pour le compilateur, le nom d’un tableau est un pointeur vers le premier élément."
   ]
  },
  {
   "cell_type": "markdown",
   "metadata": {},
   "source": [
    "### Les structures:  déclaration et définition\n",
    "Pour déclarer une structure, on va devoir préciser le type et le nom des variables qu’elle va manipuler. Le mot-clé retenu pour la déclaration d’une structure est `struct`. La syntaxe est la suivante :\n",
    "```\n",
    "struct nomstructure {\n",
    "    typechamp1 nomchamp1 ;\n",
    "    typechamp2 nomchamp2 ;\n",
    "    typechampn nomchampn ;\n",
    "} ;\n",
    "```\n",
    "Le mot-clé `struct` est optionnel et deux champs de la structure ne peuvent pas posséder un même nom.\n",
    "Tous les types de données sont admis. Lorsque la structure a été déclarée on peut préciser les variables qui\n",
    "seront du type spécifié. On désigne ces variables par le terme **variables structurées**.\n",
    "Le nom des variables structurés peut suivre la déclaration de la structure, suivant la syntaxe suivante :\n",
    "```\n",
    "struct nomstructure {\n",
    "    typechamp1 nomchamp1 ;\n",
    "    typechamp2 nomchamp2 ;\n",
    "    //[...]\n",
    "    typechampn nomchampn ;\n",
    "} nomvariable1, nomvariable2,..., nom variable3;\n",
    "```"
   ]
  },
  {
   "cell_type": "markdown",
   "metadata": {},
   "source": [
    "### Les structures et pointeurs\n",
    "L’adresse de départ de rangement des variables d’une structure s’obtient classiquement à l’aide de l’opérateur `&` (adresse). On peut déclarer un pointeur sur cette variable comme pour toute autre. On peut accéder à un membre d’une structure par l’intermédiaire de sa variable pointeur via la syntaxe suivante :\n",
    "```\n",
    "pointeurvarstruct->membrestruct\n",
    "```\n",
    "où `pointeurvarstruct` est une variable pointeur associée à la structure et `->` un opérateur d’un type équivalent à `.(point)`."
   ]
  },
  {
   "cell_type": "markdown",
   "metadata": {},
   "source": [
    "Il faut bien distinguer `(*pointeurvarstruct).membrestruct` qui désigne le membre pointé par la structure de l’expression `*(pointeur-varstruct.membrestruct)` qui pointe le membre de la structure. L’opérateur `->` peut aussi être employé pour accéder à un élément d’un tableau qui est membre d’une structure suivant la syntaxe :\n",
    "```\n",
    "pointeurvariable->membrestruct[expression]\n",
    "```\n",
    "où expression est une valeur positive ou nulle qui désigne un élément du tableau."
   ]
  },
  {
   "cell_type": "markdown",
   "metadata": {},
   "source": [
    "### Les structures imbriquées\n",
    "Une structure peut être membre d’une autre structure."
   ]
  },
  {
   "cell_type": "markdown",
   "metadata": {},
   "source": [
    "### Les définitions de type\n",
    "Le langage C++ offre la possibilité de définir ses propres types comme avec les types `enum` mais aussi des types qui sont des alias de types déjà existants. C’est la directive utilisant le mot-clé `typedef` qui se charge de cette opération. La syntaxe est la suivante :\n",
    "```\n",
    "typedef type typealias\n",
    "```"
   ]
  },
  {
   "cell_type": "markdown",
   "metadata": {},
   "source": [
    "```\n",
    "#include <iostream.h>\n",
    "typedef double reel;\n",
    "typedef int entier;\n",
    "const reel PI=3.14159;\n",
    "int main()\n",
    "{\n",
    "    entier i;\n",
    "    for(i=1; i<=4;++i)\n",
    "        cout<<\"Rayon : \"<<i<<\" - Circonference :\"<<2*PI*i<<endl; \n",
    "    return 0;\n",
    "}\n",
    "```"
   ]
  },
  {
   "cell_type": "markdown",
   "metadata": {},
   "source": [
    "Les définitions de type sont utilisables dans la déclaration de tableaux, comme dans l’exemple suivant :\n",
    "```\n",
    "typedef float degre\n",
    "degre celsius[50], fahrenheit[50]\n",
    "```\n",
    "Cette forme est équivalente à celle-ci :\n",
    "```\n",
    "typedef float degre[50]\n",
    "degre celsius, fahrenheit\n",
    "```\n",
    "La directive `typedef` est applicable sur les structures, où elle simplifie leur utilisation, lorsque le programmeur doit manipuler plusieurs structures identiques de noms différents."
   ]
  },
  {
   "cell_type": "markdown",
   "metadata": {},
   "source": [
    "### Les qualificatifs d'accès\n",
    "Il y a 3 étiquettes possibles que l’on appelle aussi des **qualificatifs d’accès**:\n",
    "– `private`: elle définit un accès aux membres seulement depuis l’intérieur de la classe ;\n",
    "– `public`: elle définit un accès aux membres seulement depuis l’extérieur de la classe ;\n",
    "– `protected`: elle définit un accès aux membres seulement aux classes dérivées ou amies."
   ]
  },
  {
   "cell_type": "markdown",
   "metadata": {},
   "source": [
    "### Les listes d’initialisations\n",
    "C++ fournit aussi le moyen d’initialiser les données membres de l’objet de façon simple par l’intermédiaire des **listes d’initialisations de constructeurs**. Cette liste permet la gestion de valeurs par défaut si aucun paramètre n’est passé lors de l’appel de la fonction."
   ]
  },
  {
   "cell_type": "markdown",
   "metadata": {},
   "source": [
    "```\n",
    "#include <iostream.h>\n",
    "class trapeze {\n",
    "    private:\n",
    "        double b, B, h;\n",
    "    public:\n",
    "        trapeze(double x=1, double y=2, doublez=1):b(x),B(y),h(z) {}\n",
    "        double surface (void){\n",
    "            return ((b+B)*h/2);\n",
    "        }\n",
    "};\n",
    "int main(){\n",
    "    trapeze T1, T2(15, 20, 3.5), T3(5.5, 15, 4);\n",
    "    cout<<\"Surface : \"<<T1.surface()<<endl;\n",
    "    cout<<\"Surface : \"<<T2.surface()<<endl;\n",
    "    cout<<\"Surface : \"<<T3.surface()<<endl;\n",
    "    return 0;\n",
    "}\n",
    "```"
   ]
  },
  {
   "cell_type": "markdown",
   "metadata": {},
   "source": [
    "### Le destructeur\n",
    "Lorsqu’un objet n’est plus utilisé, d’une manière analogue à sa construction on va pouvoir le supprimer ou le détruire par l’appel d’une fonction de destruction nommée **destructeur**. Une classe ne peut comporter qu’un seul destructeur qui existe automatiquement par défaut s’il n’est pas déclaré. Il est tout de même conseillé de le déclarer."
   ]
  },
  {
   "cell_type": "markdown",
   "metadata": {},
   "source": [
    "### Les constructeurs\n",
    "Lorsqu’aucun constructeur n’est défini, le compilateur défini automatiquement deux constructeurs : le **constructeur par défaut** et le **constructeur par copie**. \n",
    "\n",
    "**Le constructeur par défaut** est appelé chaque fois qu’un objet est déclaré. Il ne comporte pas de paramètres. Quand un objet est dupliqué c’est le constructeur par copie qui intervient. Il comporte un paramètre qui est l’objet qui doit être copié.\n",
    "\n",
    "**Le constructeur par copie** n’est pas obligatoire, il faut cependant le déclarer lorsque les données des membres sont manipulées par l’intermédiaire d’un pointeur. Il est tout à possible d’avoir un pointeur sur une classe. Pour accéder au membre d’un objet géré par un pointeur on utilise l’opérateur `->`."
   ]
  },
  {
   "cell_type": "markdown",
   "metadata": {},
   "source": [
    "### Les membres statiques\n",
    "Lorsque la valeur d’une donnée s’applique à plusieurs membres d’une classe, elle peut être déclarée comme un membre spécifique. Ce type de donnée membre est nommé donnée **membre statique** et le mot-clé qui lui confère cette propriété est `static`. Une donnée membre statique est une donnée membre globale pour la classe qui peut être déclarée comme étant privée (`private`) ou publique (`public`)."
   ]
  },
  {
   "cell_type": "markdown",
   "metadata": {},
   "source": [
    "### Les fonctions amies\n",
    "Les fonctions membres d’une classe peuvent accéder à tous les membres public et privés de n’importe quel objet de la classe. Il n’en est pas de même pour les fonctions classiques ou les fonctions membres d’une autre classe. Une possibilité existe en langage C++, c’est la fonction amie qui va autoriser l’accès aux membres privés. Le mot-clé pour déclarer une fonction amie est `friend`."
   ]
  },
  {
   "cell_type": "markdown",
   "metadata": {},
   "source": [
    "```\n",
    "#include <iostream.h>\n",
    "int const TRUE=1, FALSE=0;\n",
    "class rectangle {\n",
    "private:\n",
    "double L, l;\n",
    "public:\n",
    "rectangle(double x, double y){\n",
    "L=x; l=y;}\n",
    "double surface (void){\n",
    "return L*l;\n",
    "}\n",
    "friend double SurfEgal(const rectangle&, const\n",
    "rectangle&);\n",
    "};\n",
    "double SurfEgal(const rectangle& R1, const\n",
    "rectangle& R2)\n",
    "{\n",
    "if (R1.L*R1.l== R2.L*R2.l) return TRUE;\n",
    "else return FALSE;\n",
    "}\n",
    "```"
   ]
  },
  {
   "cell_type": "markdown",
   "metadata": {},
   "source": [
    "### Le mot-clé pointeur `this`\n",
    "Le mot-clé `this` référence à l’aide d’un pointeur l’objet sur lequel un opérateur ou une méthode porte ou travaille."
   ]
  },
  {
   "cell_type": "markdown",
   "metadata": {},
   "source": [
    "```\n",
    "#include <iostream.h>\n",
    "class trapeze {\n",
    "private:\n",
    "double b, B, h;\n",
    "public:\n",
    "trapeze(double, double, double);\n",
    "double surface (void){\n",
    "return ((b+B)*h/2);\n",
    "}\n",
    "};\n",
    "trapeze::trapeze(double x, double y, double z){\n",
    "this->b=x;\n",
    "this->B=y;\n",
    "this->h=z;\n",
    "}\n",
    "```"
   ]
  },
  {
   "cell_type": "markdown",
   "metadata": {},
   "source": [
    "### La surcharge d'opérateurs arithmétiques\n",
    "La surcharge des opérateurs arithmétiques + , - , * , / est très pratique et souvent utilisée. Il faut toutefois prendre en compte que ces opérateurs arithmétiques ne font partie des fonctions membres de la classe et ne peuvent donc pas accéder aux données membres privées. Pour résoudre ce problème, il faut faire intervenir la notion de fonction amie."
   ]
  },
  {
   "cell_type": "markdown",
   "metadata": {},
   "source": [
    "```\n",
    "#include <iostream.h>\n",
    "class rectangle{\n",
    "    private:\n",
    "        double L, l;\n",
    "    public:\n",
    "        rectangle(double x=0, double y=0)\n",
    "        {\n",
    "            L=x; \n",
    "            l=y;\n",
    "        }\n",
    "        friend rectangle operator +(rectangle&, rectangle&);\n",
    "        void affiche()\n",
    "        {\n",
    "            cout<<\"Longueur r3 : \"<<L<<endl;\n",
    "            cout<<\"Largeur r3 : \"<<l<<endl;\n",
    "        }\n",
    "};\n",
    "rectangle operator +(rectangle& m, rectangle& n)\n",
    "{\n",
    "    rectangle R(m.L+n.L, m.l+n.l);\n",
    "    return R;\n",
    "}\n",
    "int main()\n",
    "{\n",
    "    double L1, l1, L2, l2;\n",
    "    cout<<\"Longueur rectangle r1 : \";\n",
    "    cin>>L1;\n",
    "    cout<<\"Largeur rectangle r1 : \";\n",
    "    cin>>l1;\n",
    "    cout<<\"Longueur rectangle r2 : \";\n",
    "    cin>>L2;\n",
    "    cout<<\"Largeur rectangle r2 : \";\n",
    "    cin>>l2;\n",
    "    rectangle r1(L1, l1);\n",
    "    rectangle r2(L2, l2);\n",
    "    rectangle r3=r1+r2;\n",
    "    r3.affiche();\n",
    "    return 0;\n",
    "}\n",
    "```"
   ]
  },
  {
   "cell_type": "markdown",
   "metadata": {},
   "source": [
    "### La surcharge de l'opérateur d'affectation\n",
    "La surcharge de l’opérateur d’affectation = est un peu plus délicate car il nous faut tester lors de cette opération que les objets ne sont pas identiques ce qui conduirait l’affectation d’un objet à lui-même."
   ]
  },
  {
   "cell_type": "markdown",
   "metadata": {},
   "source": [
    "```\n",
    "#include <iostream.h>\n",
    "class rectangle {\n",
    "    private:\n",
    "        double L, l;\n",
    "    public:\n",
    "        rectangle(double x=2, double y=2.5):L(x),l(y){};\n",
    "        rectangle(const rectangle&);\n",
    "        rectangle& operator =(const rectangle& R)\n",
    "        {\n",
    "            if (&R != this)\n",
    "            {\n",
    "                this->L=R.L;\n",
    "                this->l=R.l;\n",
    "            }\n",
    "            return *this;\n",
    "        }\n",
    "        double surface (void)\n",
    "        {\n",
    "            return L*l;\n",
    "        }\n",
    "};\n",
    "```"
   ]
  },
  {
   "cell_type": "markdown",
   "metadata": {},
   "source": [
    "### Le polymorphisme\n",
    "\n",
    "Cette caractéristique qui permet à des instances d’objets de types différents de répondre de façon différente à un même appel de fonction est le **polymorphisme**.\n",
    "\n",
    "En C++ un pointeur sur une instance d’une classe de base peut pointer sur toute instance de classe dérivée. Ce sont les fonctions virtuelles qui vont nous permettre de réaliser ce traitement. Elles vont réaliser un **lien dynamique**, c’est-à-dire que le type de l’objet ne sera pris en compte qu’au moment de l’exécution et non pas au moment de la compilation comme c’est le cas classiquement (lien statique). Le mot-clé `virtual` est utilisé pour déclarer la fonction membre qui sera gérée par un lien dynamique."
   ]
  },
  {
   "cell_type": "markdown",
   "metadata": {},
   "source": [
    "```\n",
    "#include <iostream.h>\n",
    "class polygone\n",
    "{\n",
    "    public :\n",
    "        void saisie(double a, double b)\n",
    "        {\n",
    "            l=a; h=b;\n",
    "        }\n",
    "        virtual double surf(void)\n",
    "        {\n",
    "            cout<<\"Appel de la fonction surf de la classede base qui renvoie : \";\n",
    "            return (0);\n",
    "        }\n",
    "    protected:\n",
    "        double l, h;\n",
    "};\n",
    "class rectangle:public polygone\n",
    "{\n",
    "    public:\n",
    "        double surf(void)\n",
    "        {\n",
    "            cout<<\"Appel de la fonction surf de la classe de base qui renvoie : \";\n",
    "            return l*h; \n",
    "        }\n",
    "    };\n",
    "class triangle:public polygone\n",
    "{\n",
    "    public:\n",
    "        double surf(void)\n",
    "        {\n",
    "            cout<<\"Appel de la fonction surf de la classe de base qui renvoie : \";\n",
    "            return l*h/2;\n",
    "        }\n",
    "};\n",
    "```"
   ]
  },
  {
   "cell_type": "markdown",
   "metadata": {},
   "source": [
    "### Les patrons\n",
    "Les patrons ou modèles sont utilisables sur les fonctions et sur les classes. Ils permettent de condenser le code en offrant la possibilité d’écrire une seule fois la définition d’une fonction ou d’une classe.\n",
    "\n",
    "Les **patrons de fonctions** permettent de créer des fonctions génériques qui vont supporter plusieurs types de données différents. Le mot-clé retenu pour ces patrons est template suivi de class qui spécifie le type. La syntaxe utilisée est la suivante : \n",
    "```\n",
    "template <class T>\n",
    "```\n",
    "Le paramètre `T` est le paramètre de type qui va venir remplacer les types classiques présents dans la définition de la fonction."
   ]
  },
  {
   "cell_type": "markdown",
   "metadata": {},
   "source": [
    "```\n",
    "#include <iostream.h>\n",
    "template <class T>\n",
    "void affiche(T *tableau, int n) {\n",
    "for(int i=0;i<n;i++){\n",
    "cout<<\"Element \"<<i<<\" : \"<<tableau[i]<<endl;\n",
    "}\n",
    "cout << endl;\n",
    "}\n",
    "main()\n",
    "{\n",
    "int entier[6] = {25, 4, 52, 18, 6, 55};\n",
    "affiche(entier, 6);\n",
    "double decimal[3] = {12.3, 23.4, 34.5};\n",
    "affiche(decimal, 3);\n",
    "char *chaine[] = {\"Tim\", \"Berners\", \"Lee\"};\n",
    "affiche(chaine, 3);\n",
    "return 0;\n",
    "}\n",
    "```"
   ]
  },
  {
   "cell_type": "markdown",
   "metadata": {},
   "source": [
    "Les **patrons de classe** sont identiques aux patrons de fonctions. Les fonctions membres d’un patron de classe sont aussi des patrons de fonctions qui ont un en-tête de patron identique au patron de classe. Nous allons donc obtenir de cette façon des classes génériques qui vont pouvoir, comme les patrons de fonctions, traiter des types de données différents."
   ]
  },
  {
   "cell_type": "markdown",
   "metadata": {},
   "source": [
    "```\n",
    "#include <iostream.h>\n",
    "template <class T>class rectangle\n",
    "{\n",
    "    private:\n",
    "        T L,l;\n",
    "    public:\n",
    "        rectangle();\n",
    "        rectangle(T,T);\n",
    "        void affiche(void);\n",
    "};\n",
    "template <class T>rectangle<T>::rectangle()\n",
    "{\n",
    "    L=0; l=0;\n",
    "}\n",
    "template <class T>rectangle<T>::rectangle(T Lg,T lg)\n",
    "{\n",
    "    L=Lg; \n",
    "    l=lg;\n",
    "}\n",
    "template <class T>void rectangle<T>::affiche()\n",
    "{\n",
    "    cout<<\"Surface : \"<<L*l<<endl;\n",
    "}\n",
    "int main()\n",
    "{\n",
    "    float L1=2.5, l1=4.5;\n",
    "    double L2=5.5, l2=7.25;\n",
    "    int L3=5, l3=3;\n",
    "    rectangle<float>s1(L1,l1);\n",
    "    rectangle<double>s2(L2,l2);\n",
    "    rectangle<int>s3(L3,l3);\n",
    "    s1.affiche();\n",
    "    s2.affiche();\n",
    "    s3.affiche();\n",
    "    return 0;\n",
    "}\n",
    "```"
   ]
  },
  {
   "cell_type": "code",
   "execution_count": null,
   "metadata": {},
   "outputs": [],
   "source": []
  }
 ],
 "metadata": {
  "kernelspec": {
   "display_name": "C++11",
   "language": "C++",
   "name": "cling-cpp11"
  },
  "language_info": {
   "codemirror_mode": "c++",
   "file_extension": ".c++",
   "mimetype": "text/x-c++src",
   "name": "c++"
  }
 },
 "nbformat": 4,
 "nbformat_minor": 4
}
