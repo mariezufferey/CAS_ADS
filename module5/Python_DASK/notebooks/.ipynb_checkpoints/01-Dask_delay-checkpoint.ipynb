{
 "cells": [
  {
   "cell_type": "markdown",
   "metadata": {},
   "source": [
    "# Parallel computing"
   ]
  },
  {
   "cell_type": "markdown",
   "metadata": {},
   "source": [
    "This notebooks is heavily based on [this](https://github.com/dask/dask-tutorial/blob/master/01_dask.delayed.ipynb) official dask tutorial.\n",
    "\n",
    "We first \"reserve\" some CPU. We will see in the next chapter exactly how this is done. "
   ]
  },
  {
   "cell_type": "code",
   "execution_count": 3,
   "metadata": {},
   "outputs": [],
   "source": [
    "from time import sleep\n",
    "from dask.distributed import Client"
   ]
  },
  {
   "cell_type": "code",
   "execution_count": null,
   "metadata": {},
   "outputs": [],
   "source": [
    "client = Client()"
   ]
  },
  {
   "cell_type": "markdown",
   "metadata": {},
   "source": [
    "There are two simple situations where we can benefit from parallelization: we can have a series of **independent** functions e.g. in a data processing pipeline, or we can have multiple **independent** calls to a given function in a for loop. Let's see the first case, and learn how Dask deals with it."
   ]
  },
  {
   "cell_type": "markdown",
   "metadata": {},
   "source": [
    "## Delaying computation"
   ]
  },
  {
   "cell_type": "markdown",
   "metadata": {},
   "source": [
    "For the purpose of illustration, we imagine that we have two functions that are slow to execute. To simulate the slowness we just pause execution within the functions for a few seconds using ```time.sleep```, let's say here 1s."
   ]
  },
  {
   "cell_type": "code",
   "execution_count": 1,
   "metadata": {},
   "outputs": [],
   "source": [
    "def inc(x):\n",
    "    sleep(1)\n",
    "    return x + 1\n",
    "\n",
    "def add(x, y):\n",
    "    sleep(1)\n",
    "    return x + y"
   ]
  },
  {
   "cell_type": "markdown",
   "metadata": {},
   "source": [
    "If we use the timing magic function we can check that the following \"script\" takes 3s:"
   ]
  },
  {
   "cell_type": "code",
   "execution_count": null,
   "metadata": {},
   "outputs": [],
   "source": [
    "%%time\n",
    "x = inc(1)\n",
    "y = inc(2)\n",
    "z = add(x, y)"
   ]
  },
  {
   "cell_type": "markdown",
   "metadata": {},
   "source": [
    "In principle we could execute the two first lines in parallel as the variables are indpendent. The solution implemented by Dask is the following:\n",
    "- \"Take notes\" on what the program should be doing\n",
    "- With that information, smartly split the problem into subproblems\n",
    "- Send each problem to an individual process (e.g. two cores)\n",
    "\n",
    "So how do we tell Dask what tasks it should take into account when \"taking notes\"? The solution is to use the function ```delayed()``` which takes as input another function. Every function \"decorated\" with the delay function will be included in the Dask flow. Let's try it:"
   ]
  },
  {
   "cell_type": "markdown",
   "metadata": {},
   "source": [
    "MZ:\n",
    "delayed function -> makes the computation parallel; it delays the calculation\n",
    "it takes a function as argument\n",
    "create a delayed object\n",
    "Dask just take note to create the function and to add them\n",
    "but no computation\n",
    "-> call compute() to actually perform the computation\n",
    "\n",
    "NB: dask does not optimize what is inside the function !\n",
    "may be worth to split in single blocks to pass to delayed"
   ]
  },
  {
   "cell_type": "code",
   "execution_count": 9,
   "metadata": {},
   "outputs": [],
   "source": [
    "from dask import delayed"
   ]
  },
  {
   "cell_type": "code",
   "execution_count": 32,
   "metadata": {},
   "outputs": [
    {
     "name": "stdout",
     "output_type": "stream",
     "text": [
      "CPU times: user 686 µs, sys: 540 µs, total: 1.23 ms\n",
      "Wall time: 820 µs\n"
     ]
    }
   ],
   "source": [
    "%%time\n",
    "x = delayed(inc)(1)\n",
    "y = delayed(inc)(2)\n",
    "z = delayed(add)(x, y)"
   ]
  },
  {
   "cell_type": "markdown",
   "metadata": {},
   "source": [
    "We see that the time consumed is minimal. But has z been really calculated ? "
   ]
  },
  {
   "cell_type": "code",
   "execution_count": 33,
   "metadata": {},
   "outputs": [
    {
     "data": {
      "text/plain": [
       "Delayed('add-901f6d69-1c83-47a7-b38c-5d1ea3a03e1a')"
      ]
     },
     "execution_count": 33,
     "metadata": {},
     "output_type": "execute_result"
    }
   ],
   "source": [
    "z"
   ]
  },
  {
   "cell_type": "markdown",
   "metadata": {},
   "source": [
    "No! ```z``` is also a delayed object now. Dask *knows* how to calculate it but *hasn't done it yet*. To effectively get the result of z, we have to use the ```compute()``` function or method:"
   ]
  },
  {
   "cell_type": "code",
   "execution_count": 38,
   "metadata": {},
   "outputs": [
    {
     "name": "stdout",
     "output_type": "stream",
     "text": [
      "CPU times: user 146 ms, sys: 20.9 ms, total: 167 ms\n",
      "Wall time: 2.03 s\n"
     ]
    },
    {
     "data": {
      "text/plain": [
       "5"
      ]
     },
     "execution_count": 38,
     "metadata": {},
     "output_type": "execute_result"
    }
   ],
   "source": [
    "%%time\n",
    "z.compute()\n",
    "# => MZ: here the computation actually takes place"
   ]
  },
  {
   "cell_type": "markdown",
   "metadata": {},
   "source": [
    "The computation time is now only 2s instead of 3. Indeed the two first calls to ```inc``` could be done in parallel, making us gain 1s in the process."
   ]
  },
  {
   "cell_type": "markdown",
   "metadata": {},
   "source": [
    "## What is Dask actually doing: Task graph"
   ]
  },
  {
   "cell_type": "markdown",
   "metadata": {},
   "source": [
    "Dask offers a very useful way to visualize how the task are split through the ```visualize()``` method that one can use on any delayed variable. Let's check e.g. what is ```z```:"
   ]
  },
  {
   "cell_type": "code",
   "execution_count": 40,
   "metadata": {},
   "outputs": [
    {
     "data": {
      "image/png": "[encoded data removed]",
      "text/plain": [
       "<IPython.core.display.Image object>"
      ]
     },
     "execution_count": 40,
     "metadata": {},
     "output_type": "execute_result"
    }
   ],
   "source": [
    "z.visualize()"
   ]
  },
  {
   "cell_type": "markdown",
   "metadata": {},
   "source": [
    "Each \"leaf\" of that tree starts and indepenent calculation that can be sent to an independent process if available. Here the two ```inc()``` calls start separately and are then combined in the ```add()``` call.\n",
    "\n",
    "Generating this **Task graph** and handling the flow of information beetween processes is **the main task of Dask**.\n",
    "\n",
    "We can make our calculation slighly more complex and see what happens:"
   ]
  },
  {
   "cell_type": "code",
   "execution_count": 65,
   "metadata": {},
   "outputs": [
    {
     "name": "stdout",
     "output_type": "stream",
     "text": [
      "CPU times: user 1.86 ms, sys: 1.16 ms, total: 3.02 ms\n",
      "Wall time: 2.52 ms\n"
     ]
    }
   ],
   "source": [
    "%%time\n",
    "x = delayed(inc)(1)\n",
    "y = delayed(inc)(2)\n",
    "z = delayed(add)(x, y)\n",
    "\n",
    "x2 = delayed(inc)(1)\n",
    "y2 = delayed(inc)(2)\n",
    "z2 = delayed(add)(x2, y2)\n",
    "\n",
    "total = delayed(add)(z, z2)"
   ]
  },
  {
   "cell_type": "code",
   "execution_count": 66,
   "metadata": {},
   "outputs": [
    {
     "data": {
      "image/png": "[encoded data removed]",
      "text/plain": [
       "<IPython.core.display.Image object>"
      ]
     },
     "execution_count": 66,
     "metadata": {},
     "output_type": "execute_result"
    }
   ],
   "source": [
    "total.visualize()"
   ]
  },
  {
   "cell_type": "markdown",
   "metadata": {},
   "source": [
    "Let's however look at alternative ways of caclulating this last sum. First, what happens if we just use a regualr ```+``` sign ?"
   ]
  },
  {
   "cell_type": "code",
   "execution_count": 67,
   "metadata": {},
   "outputs": [],
   "source": [
    "total_plus = z + z2"
   ]
  },
  {
   "cell_type": "code",
   "execution_count": 68,
   "metadata": {},
   "outputs": [
    {
     "data": {
      "image/png": "[encoded data removed]",
      "text/plain": [
       "<IPython.core.display.Image object>"
      ]
     },
     "execution_count": 68,
     "metadata": {},
     "output_type": "execute_result"
    }
   ],
   "source": [
    "total_plus.visualize()"
   ]
  },
  {
   "cell_type": "markdown",
   "metadata": {},
   "source": [
    "We obtain exactly the same graph. Dask knows about standard operations and automatically includes them in the task graph. Let's see if we us the standard Python ```sum()``` function: "
   ]
  },
  {
   "cell_type": "code",
   "execution_count": 69,
   "metadata": {},
   "outputs": [],
   "source": [
    "total_sum = sum([z, z2])"
   ]
  },
  {
   "cell_type": "code",
   "execution_count": 70,
   "metadata": {},
   "outputs": [
    {
     "data": {
      "image/png": "[encoded data removed]",
      "text/plain": [
       "<IPython.core.display.Image object>"
      ]
     },
     "execution_count": 70,
     "metadata": {},
     "output_type": "execute_result"
    }
   ],
   "source": [
    "total_sum.visualize()"
   ]
  },
  {
   "cell_type": "markdown",
   "metadata": {},
   "source": [
    "We now see an **important** difference! ```z``` and ```z2``` are calculated in **sequence** and not in parallel (except for their \"internal definitions\"). What happens here is that ```sum()``` not beeing included in the task graph, triggers the computation first of ```z``` and **then** of ```z2```.\n",
    "\n",
    "This shows that one should be careful when using ```delay()``` for parallelization. Other recommendations are: not delaying a delayed function, breaking long code into multiple delayed functions etc. (see [here](https://docs.dask.org/en/latest/delayed-best-practices.html) for more details)."
   ]
  },
  {
   "cell_type": "markdown",
   "metadata": {},
   "source": [
    "## Exercises"
   ]
  },
  {
   "cell_type": "markdown",
   "metadata": {},
   "source": [
    "If you haven't executed the notebook unil now, import the packages and start the client."
   ]
  },
  {
   "cell_type": "code",
   "execution_count": null,
   "metadata": {},
   "outputs": [],
   "source": [
    "from dask.distributed import Cient\n",
    "from dask import delayed\n",
    "client = Client()"
   ]
  },
  {
   "cell_type": "markdown",
   "metadata": {},
   "source": [
    "Based on what we just learned apply the ```inc()``` function on the list ```data``` (using a for loop or a comprehension list) and then multiply all elements using the numpy function ```np.prod()```. Check the task graph to make sure everyting happens as expected:"
   ]
  },
  {
   "cell_type": "code",
   "execution_count": 103,
   "metadata": {},
   "outputs": [],
   "source": [
    "data = [3,8,1,4,2,9,4,6]"
   ]
  },
  {
   "cell_type": "code",
   "execution_count": null,
   "metadata": {},
   "outputs": [],
   "source": [
    "newdata = [delayed(inc)(x) for x in data]\n",
    "newdata\n",
    "import numpy as np\n",
    "prod = np.prod(newdata)\n",
    "prod\n",
    "prod.visualize()\n",
    "# prod is a delayed object\n",
    "# -> bad, it is doying everything sequential, not parallel\n",
    "prod = delay(np.prod)(newdata)\n",
    "prod.visualize()\n",
    "# -> ok, now everything is run in parallel\n",
    "\n",
    "# NB: make sense to use paralell if you have huge of data,\n",
    "# otherwise it can even take longer time ..."
   ]
  }
 ],
 "metadata": {
  "kernelspec": {
   "display_name": "Python 3",
   "language": "python",
   "name": "python3"
  },
  "language_info": {
   "codemirror_mode": {
    "name": "ipython",
    "version": 3
   },
   "file_extension": ".py",
   "mimetype": "text/x-python",
   "name": "python",
   "nbconvert_exporter": "python",
   "pygments_lexer": "ipython3",
   "version": "3.5.2"
  }
 },
 "nbformat": 4,
 "nbformat_minor": 4
}
