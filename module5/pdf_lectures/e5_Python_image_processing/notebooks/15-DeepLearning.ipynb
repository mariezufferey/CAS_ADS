{
 "cells": [
  {
   "cell_type": "markdown",
   "metadata": {},
   "source": [
    "# 15. Deep learning"
   ]
  },
  {
   "cell_type": "markdown",
   "metadata": {},
   "source": [
    "Deep learning methods are used more and more fequently for complex segmentation tasks. The basic idea of that approach is to let a system learn by itself what are the important features of the objects to segment by feeding it training examples.\n",
    "\n",
    "Of course you will not learn all the details about deep learning in this single notebook. The goal here is simply to give a very brief overview of the steps involved. In particular the goal is to show that if you are provided with a trained network *e.g.* by a collaborator, using it to segment your data is very straightforward.\n",
    "\n",
    "The example here uses Tensorflow and Keras. Tensorflow is Google's deep learning library that is widely used. Keras is a layer that sits on top of tools like Tensorflow and allows one to simplify the prototyping of a deep learning pipeline. It can also transparently be used with other \"backends\" like PyTorch, Facebook's deep learning library."
   ]
  },
  {
   "cell_type": "code",
   "execution_count": 2,
   "metadata": {},
   "outputs": [],
   "source": [
    "import numpy as np\n",
    "import matplotlib.pyplot as plt\n",
    "from skimage.external.tifffile import TiffFile\n",
    "from skimage.measure import label, regionprops\n",
    "from skimage.segmentation import watershed\n",
    "\n",
    "#import your function\n",
    "import sys, os\n",
    "from course_functions import detect_nuclei\n",
    "\n",
    "if not os.path.isdir('MyData/DL'):\n",
    "    os.makedirs('MyData/DL')"
   ]
  },
  {
   "cell_type": "markdown",
   "metadata": {},
   "source": [
    "## 15.1 Creating the training set"
   ]
  },
  {
   "cell_type": "markdown",
   "metadata": {},
   "source": [
    "As a simple example, we are going to use the Zebra fish embryo *nuclei* that we have tried to segment before. Usually, one would create a training set by manually segmenting data or at least manually correcting them. Here we cheat and use our previous segmentation pipeline to create a learning dataset.\n",
    "\n",
    "First we have to decide how large our training images are going to be. This is set by the type of computing resource used and the memory size."
   ]
  },
  {
   "cell_type": "code",
   "execution_count": 3,
   "metadata": {},
   "outputs": [],
   "source": [
    "imsize = 64\n",
    "image_rows = 64\n",
    "image_cols = 64\n",
    "channels = 1\n"
   ]
  },
  {
   "cell_type": "code",
   "execution_count": 4,
   "metadata": {},
   "outputs": [],
   "source": [
    "#load the image to process\n",
    "data = TiffFile('Data/30567/30567.tif')\n",
    "image = data.pages[0].asarray()\n",
    "per_image = np.floor(np.array(image.shape)/imsize)"
   ]
  },
  {
   "cell_type": "markdown",
   "metadata": {},
   "source": [
    "To create our training set, we are going to segment 5 images using our previous pipeline. Then we are going to cut the original image and its mask into 64x64 pieces. We exclude images which have no nuclei as they don't contain interesting information."
   ]
  },
  {
   "cell_type": "code",
   "execution_count": 5,
   "metadata": {},
   "outputs": [
    {
     "name": "stderr",
     "output_type": "stream",
     "text": [
      "/usr/local/lib/python3.5/dist-packages/skimage/filters/rank/generic.py:102: UserWarning: Bitdepth of 14 may result in bad rank filter performance due to large number of bins.\n",
      "  \"performance due to large number of bins.\" % bitdepth)\n"
     ]
    },
    {
     "data": {
      "text/plain": [
       "<matplotlib.image.AxesImage at 0x7fbdbc1573c8>"
      ]
     },
     "execution_count": 5,
     "metadata": {},
     "output_type": "execute_result"
    },
    {
     "data": {
      "image/png": "[encoded data removed]",
      "text/plain": [
       "<Figure size 432x288 with 1 Axes>"
      ]
     },
     "metadata": {
      "needs_background": "light"
     },
     "output_type": "display_data"
    }
   ],
   "source": [
    "all_images = []\n",
    "all_masks = []\n",
    "for t in (3,13,23,33,43):\n",
    "    image = data.pages[t].asarray()\n",
    "    im_float = image.astype(np.float32)\n",
    "    #create your mask\n",
    "    nuclei = detect_nuclei(image)\n",
    "    nuclei = nuclei.astype(np.uint8)\n",
    "    \n",
    "    for i in range(int(per_image[0])):\n",
    "        for j in range(int(per_image[1])):\n",
    "            if np.sum(nuclei[i*imsize:(i+1)*imsize,j*imsize:(j+1)*imsize])>1:\n",
    "                all_images.append(im_float[i*imsize:(i+1)*imsize,j*imsize:(j+1)*imsize])\n",
    "                all_masks.append(nuclei[i*imsize:(i+1)*imsize,j*imsize:(j+1)*imsize])\n",
    "\n",
    "plt.imshow(nuclei, cmap = 'gray')"
   ]
  },
  {
   "cell_type": "markdown",
   "metadata": {},
   "source": [
    "Here we could split our dataset into a training and testing set. We have enough other data so we use all examples for training."
   ]
  },
  {
   "cell_type": "code",
   "execution_count": 6,
   "metadata": {},
   "outputs": [
    {
     "name": "stdout",
     "output_type": "stream",
     "text": [
      "283\n",
      "280\n",
      "3\n"
     ]
    }
   ],
   "source": [
    "num_images = 5\n",
    "total = len(all_masks)\n",
    "\n",
    "num_train = int(0.99*total)\n",
    "num_test = total-num_train\n",
    "print(total)\n",
    "print(num_train)\n",
    "print(num_test)\n"
   ]
  },
  {
   "cell_type": "markdown",
   "metadata": {},
   "source": [
    "Now we create empty arrays that are going to contain all our data. Note that this works only if the data are not too large or you have a computer with **a lot of RAM**. The alternative is to use a more complex approach using Python generators, which are going to *serve* images sequentially."
   ]
  },
  {
   "cell_type": "code",
   "execution_count": 7,
   "metadata": {},
   "outputs": [],
   "source": [
    "imgs = np.ndarray((num_train, image_rows, image_cols,channels), dtype=np.float64)\n",
    "imgs_mask = np.ndarray((num_train, image_rows, image_cols), dtype=np.uint8)\n",
    "imgs_test = np.ndarray((num_test, image_rows, image_cols,channels), dtype=np.float64)\n",
    "imgs_id = np.ndarray((num_test, ), dtype=np.int32)\n",
    "imgs_weight = np.ndarray((num_train, image_rows, image_cols), dtype=np.uint8)\n",
    "imgs_weight[:]=1"
   ]
  },
  {
   "cell_type": "markdown",
   "metadata": {},
   "source": [
    "Now we fill up our containers. Note that they have to be in special shapes to be fed correctly to the network. Also, in addition to our images and masks, we have so-called weights. This is an image that is going to assign more importance to certain regions. This is important for example if one category of pixels appears much less than another, like in our case nuclei vs. background.\n",
    "\n",
    "Note also that we correct all images by normalizing them to avoid extreme values."
   ]
  },
  {
   "cell_type": "code",
   "execution_count": 8,
   "metadata": {},
   "outputs": [],
   "source": [
    "for counter in range(total):\n",
    "    if counter<num_train:\n",
    "        imgs[counter] = all_images[counter][..., np.newaxis]\n",
    "        imgs_mask[counter] = all_masks[counter]\n",
    "        imgs_weight[counter] = 10*all_masks[counter]+1\n",
    "    else:\n",
    "        imgs_test[counter-num_train] = all_images[counter][..., np.newaxis]\n",
    "        imgs_id[counter-num_train] = counter-num_train\n",
    "\n",
    "mean_val = np.mean(imgs)\n",
    "imgs = imgs - mean_val\n",
    "std_val = np.std(imgs)\n",
    "imgs = imgs/std_val\n",
    "\n",
    "np.save('MyData/DL/'+'imgs_train.npy', imgs)\n",
    "np.save('MyData/DL/'+'imgs_mask_train.npy', imgs_mask.reshape((num_train,image_rows*image_cols)))\n",
    "np.save('MyData/DL/'+'imgs_test.npy', imgs_test)\n",
    "np.save('MyData/DL/'+'imgs_id_test.npy', imgs_id)\n",
    "np.save('MyData/DL/'+'imgs_weight_train.npy', imgs_weight.reshape((num_train,image_rows*image_cols)))\n"
   ]
  },
  {
   "cell_type": "markdown",
   "metadata": {},
   "source": [
    "## 15.2 Training the network"
   ]
  },
  {
   "cell_type": "markdown",
   "metadata": {},
   "source": [
    "Now we can import our small deep learning module."
   ]
  },
  {
   "cell_type": "code",
   "execution_count": 9,
   "metadata": {},
   "outputs": [
    {
     "name": "stderr",
     "output_type": "stream",
     "text": [
      "Using TensorFlow backend.\n"
     ]
    }
   ],
   "source": [
    "import deeplearning"
   ]
  },
  {
   "cell_type": "markdown",
   "metadata": {},
   "source": [
    "And we can run the training of our network."
   ]
  },
  {
   "cell_type": "code",
   "execution_count": 11,
   "metadata": {},
   "outputs": [
    {
     "name": "stdout",
     "output_type": "stream",
     "text": [
      "Train on 224 samples, validate on 56 samples\n",
      "Epoch 1/10\n",
      "224/224 [==============================] - 30s 134ms/step - loss: 0.9972 - dice_coef: 0.3031 - val_loss: 0.4593 - val_dice_coef: 0.3932\n",
      "Epoch 2/10\n",
      "224/224 [==============================] - 28s 126ms/step - loss: 0.3411 - dice_coef: 0.5606 - val_loss: 0.2240 - val_dice_coef: 0.6404\n",
      "Epoch 3/10\n",
      "224/224 [==============================] - 22s 97ms/step - loss: 0.1893 - dice_coef: 0.7272 - val_loss: 0.1442 - val_dice_coef: 0.7747\n",
      "Epoch 4/10\n",
      "224/224 [==============================] - 21s 94ms/step - loss: 0.1358 - dice_coef: 0.8080 - val_loss: 0.1444 - val_dice_coef: 0.7878\n",
      "Epoch 5/10\n",
      "224/224 [==============================] - 21s 95ms/step - loss: 0.1316 - dice_coef: 0.8231 - val_loss: 0.1267 - val_dice_coef: 0.7974\n",
      "Epoch 6/10\n",
      "224/224 [==============================] - 21s 95ms/step - loss: 0.1203 - dice_coef: 0.8308 - val_loss: 0.1128 - val_dice_coef: 0.8404\n",
      "Epoch 7/10\n",
      "224/224 [==============================] - 21s 95ms/step - loss: 0.1135 - dice_coef: 0.8412 - val_loss: 0.1132 - val_dice_coef: 0.8246\n",
      "Epoch 8/10\n",
      "224/224 [==============================] - 21s 95ms/step - loss: 0.1094 - dice_coef: 0.8488 - val_loss: 0.1011 - val_dice_coef: 0.8491\n",
      "Epoch 9/10\n",
      "224/224 [==============================] - 21s 95ms/step - loss: 0.1008 - dice_coef: 0.8589 - val_loss: 0.1094 - val_dice_coef: 0.8190\n",
      "Epoch 10/10\n",
      "224/224 [==============================] - 32s 144ms/step - loss: 0.1024 - dice_coef: 0.8557 - val_loss: 0.1024 - val_dice_coef: 0.8686\n"
     ]
    }
   ],
   "source": [
    "image_rows = 64\n",
    "image_cols = 64\n",
    "\n",
    "#deeplearning.nuclei_train('MyData/DL/', image_rows,image_cols, dims=1, batch_size = 10, epochs = 100, weights = None)\n",
    "deeplearning.nuclei_train('MyData/DL/', image_rows,image_cols, dims=1, batch_size = 10, epochs = 10, weights = None)"
   ]
  },
  {
   "cell_type": "markdown",
   "metadata": {},
   "source": [
    "## 15.3 Using the trained network"
   ]
  },
  {
   "cell_type": "markdown",
   "metadata": {},
   "source": [
    "Let's load an image that we did **not** use for training and select a 512x512 region."
   ]
  },
  {
   "cell_type": "code",
   "execution_count": null,
   "metadata": {},
   "outputs": [],
   "source": [
    "image = data.pages[143].asarray()[0:512,0:512]\n",
    "im_float = image.astype(float)"
   ]
  },
  {
   "cell_type": "markdown",
   "metadata": {},
   "source": [
    "Now we load again the network and say what the input size will be. Then **most importantly**, we use the weights that we just trained."
   ]
  },
  {
   "cell_type": "code",
   "execution_count": null,
   "metadata": {},
   "outputs": [],
   "source": [
    "model = deeplearning.get_unet(1,512,512)\n",
    "model.load_weights('MyData/DL/weights.h5')"
   ]
  },
  {
   "cell_type": "markdown",
   "metadata": {},
   "source": [
    "We correct now this single picture **with the same factors** used for the training set, so that it is in the same *state*."
   ]
  },
  {
   "cell_type": "code",
   "execution_count": null,
   "metadata": {},
   "outputs": [],
   "source": [
    "imgs_test = im_float.astype('float32')\n",
    "imgs_test = imgs_test\n",
    "imgs_test = imgs_test - mean_val\n",
    "imgs_test = imgs_test/std_val\n",
    "plt.imshow(imgs_test)\n",
    "plt.show()"
   ]
  },
  {
   "cell_type": "markdown",
   "metadata": {},
   "source": [
    "Finally we reshape it to fit into the network and use the predict() function to generate a prediction for each pixel to be foreground or background."
   ]
  },
  {
   "cell_type": "code",
   "execution_count": null,
   "metadata": {},
   "outputs": [],
   "source": [
    "imgs_test = imgs_test[np.newaxis,...,np.newaxis]\n",
    "imgs_mask_test = model.predict(imgs_test, verbose=1)\n",
    "imgs_mask_test = np.reshape(imgs_mask_test,imgs_test.shape)"
   ]
  },
  {
   "cell_type": "markdown",
   "metadata": {},
   "source": [
    "Finally we can plot the resulting image, which has values from 0 to 1."
   ]
  },
  {
   "cell_type": "code",
   "execution_count": null,
   "metadata": {},
   "outputs": [],
   "source": [
    "plt.imshow(imgs_mask_test[0,:,:,0], vmin = 0, vmax = 1, cmap= 'gray')\n",
    "plt.show()"
   ]
  },
  {
   "cell_type": "markdown",
   "metadata": {},
   "source": [
    "We can now set a threshold for what should be considerd foreground to generate a mask, and compare to the previous segmentation."
   ]
  },
  {
   "cell_type": "code",
   "execution_count": null,
   "metadata": {},
   "outputs": [],
   "source": [
    "nuclei = detect_nuclei(image)\n",
    "\n",
    "plt.figure(figsize=(10,10))\n",
    "plt.subplot(1,2,1)\n",
    "plt.imshow(imgs_mask_test[0,:,:,0]>0.9, cmap = 'gray')\n",
    "plt.subplot(1,2,2)\n",
    "plt.imshow(nuclei[0:512,0:512], cmap = 'gray')\n",
    "plt.show()"
   ]
  },
  {
   "cell_type": "code",
   "execution_count": null,
   "metadata": {},
   "outputs": [],
   "source": []
  }
 ],
 "metadata": {
  "kernelspec": {
   "display_name": "Python 3",
   "language": "python",
   "name": "python3"
  }
 },
 "nbformat": 4,
 "nbformat_minor": 4
}
