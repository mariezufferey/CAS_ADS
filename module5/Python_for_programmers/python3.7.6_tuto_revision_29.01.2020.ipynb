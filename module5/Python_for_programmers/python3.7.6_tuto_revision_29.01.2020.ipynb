{
 "cells": [
  {
   "cell_type": "markdown",
   "metadata": {},
   "source": [
    "# 3. An informal introduction to Python"
   ]
  },
  {
   "cell_type": "markdown",
   "metadata": {},
   "source": [
    "### 3.1.2. Strings"
   ]
  },
  {
   "cell_type": "code",
   "execution_count": 4,
   "metadata": {},
   "outputs": [
    {
     "name": "stdout",
     "output_type": "stream",
     "text": [
      "hello\\tsalut\n",
      "hello\\tsalut\n",
      "hello\tsalut\n"
     ]
    }
   ],
   "source": [
    "### raw strings (add 'r' before the first quote):\n",
    "#-> characters prefaced by \\ are not interpreted as special characters:\n",
    "print(r'hello\\tsalut')\n",
    "print(r\"hello\\tsalut\")\n",
    "print('hello\\tsalut')\n",
    "\n",
    "# NB: unlike other languages special characters have the same meaning\n",
    "# with both single and double quotes have the same meaning; the only \n",
    "# difference is that within single you don't need to escape double and vice-versa."
   ]
  },
  {
   "cell_type": "code",
   "execution_count": 6,
   "metadata": {},
   "outputs": [
    {
     "name": "stdout",
     "output_type": "stream",
     "text": [
      " \n",
      "Usage: funcName\n",
      "-h help:this displays help\n",
      "\n"
     ]
    }
   ],
   "source": [
    "### triple quotes to span muultiple lines\n",
    "# end of lines automatically included, can be prevented by using \\\n",
    "print(\"\"\" \n",
    "Usage: funcName\n",
    "-h help:\\\n",
    "this displays help\n",
    "\"\"\")"
   ]
  },
  {
   "cell_type": "code",
   "execution_count": 10,
   "metadata": {},
   "outputs": [
    {
     "name": "stdout",
     "output_type": "stream",
     "text": [
      "Put several strings to have them joined together.\n"
     ]
    }
   ],
   "source": [
    "### automatic concatenation (works only with 2 string literals, not variables; in this case use '+')\n",
    "text = ('Put several strings'\n",
    "       ' to have them joined together.')\n",
    "print(text)"
   ]
  },
  {
   "cell_type": "code",
   "execution_count": 11,
   "metadata": {},
   "outputs": [
    {
     "name": "stdout",
     "output_type": "stream",
     "text": [
      "c\n",
      ".\n"
     ]
    }
   ],
   "source": [
    "### string index: negatives indices start from -1\n",
    "text = 'ceci est une longue phrase.'\n",
    "print(text[0])\n",
    "print(text[-1])"
   ]
  },
  {
   "cell_type": "code",
   "execution_count": 12,
   "metadata": {},
   "outputs": [
    {
     "data": {
      "text/plain": [
       "'ce'"
      ]
     },
     "execution_count": 12,
     "metadata": {},
     "output_type": "execute_result"
    }
   ],
   "source": [
    "### slicing: the start is always included and the end excluded\n",
    "text[0:2] # from position 0 (included) to 2 (excluded)\n",
    "# => for non-negative indices, the length of the slice is the difference of the indices"
   ]
  },
  {
   "cell_type": "raw",
   "metadata": {},
   "source": [
    "### "
   ]
  },
  {
   "cell_type": "code",
   "execution_count": 14,
   "metadata": {},
   "outputs": [
    {
     "data": {
      "text/plain": [
       "True"
      ]
     },
     "execution_count": 14,
     "metadata": {},
     "output_type": "execute_result"
    }
   ],
   "source": [
    "# => this ensures that \n",
    "text[:2] + text[2:] == text"
   ]
  },
  {
   "cell_type": "code",
   "execution_count": 18,
   "metadata": {},
   "outputs": [
    {
     "data": {
      "text/plain": [
       "''"
      ]
     },
     "execution_count": 18,
     "metadata": {},
     "output_type": "execute_result"
    }
   ],
   "source": [
    "### out of range slice indices are handled gracefully\n",
    "text[1000:12000]"
   ]
  },
  {
   "cell_type": "code",
   "execution_count": 20,
   "metadata": {},
   "outputs": [
    {
     "data": {
      "text/plain": [
       "'Jeci est une longue phrase.'"
      ]
     },
     "execution_count": 20,
     "metadata": {},
     "output_type": "execute_result"
    }
   ],
   "source": [
    "### Python strings are immutable\n",
    "# text[0] = 'J'\n",
    "# raises TypeError: 'str' object does not support item assignment\n",
    "# you would need to create a new one:\n",
    "'J' + text[1:]"
   ]
  },
  {
   "cell_type": "markdown",
   "metadata": {},
   "source": [
    "### 3.1.3. Lists"
   ]
  },
  {
   "cell_type": "code",
   "execution_count": 25,
   "metadata": {},
   "outputs": [
    {
     "name": "stdout",
     "output_type": "stream",
     "text": [
      "[1, 4, 16, 25]\n",
      "[100, 4, 16]\n",
      "[36, 4, 16, 25]\n",
      "[36, 4, 16, 25]\n"
     ]
    }
   ],
   "source": [
    "### slice operations return new  (shallow) copy of the list\n",
    "squares = [1,4,16,25]\n",
    "nbrs = squares[:3]\n",
    "# lists are mutable\n",
    "nbrs[0] = 100\n",
    "print(squares)\n",
    "print(nbrs)\n",
    "# but\n",
    "nbrs2 = squares\n",
    "nbrs2[0] = 36\n",
    "print(squares)\n",
    "print(nbrs2)"
   ]
  },
  {
   "cell_type": "code",
   "execution_count": 41,
   "metadata": {},
   "outputs": [
    {
     "name": "stdout",
     "output_type": "stream",
     "text": [
      "[1, 4, 16, 25, 36, 49]\n",
      "[1, 4, 16, 25]\n"
     ]
    }
   ],
   "source": [
    "### lists also support concatenation\n",
    "squares = [1,4,16,25]\n",
    "squares + [36, 49] # this does not modifiy squares\n",
    "print(squares + [36, 49])\n",
    "print(squares)"
   ]
  },
  {
   "cell_type": "code",
   "execution_count": 42,
   "metadata": {},
   "outputs": [
    {
     "name": "stdout",
     "output_type": "stream",
     "text": [
      "[1, 4, 16, 25, 36]\n"
     ]
    }
   ],
   "source": [
    "### new elements can be added with append()\n",
    "squares.append(36)  # this directly modifiies squares\n",
    "print(squares)"
   ]
  },
  {
   "cell_type": "code",
   "execution_count": 44,
   "metadata": {},
   "outputs": [
    {
     "name": "stdout",
     "output_type": "stream",
     "text": [
      "[100, 121, 36]\n",
      "[36]\n",
      "[]\n"
     ]
    }
   ],
   "source": [
    "### assignment to slices is possible:\n",
    "# replace some values:\n",
    "squares[0:2] = [100, 121]\n",
    "print(squares)\n",
    "# remove some values:\n",
    "squares[0:2] = []\n",
    "print(squares)\n",
    "# clear the list\n",
    "squares[:] = []\n",
    "print(squares)"
   ]
  },
  {
   "cell_type": "markdown",
   "metadata": {},
   "source": [
    "# 4. More control flow tools"
   ]
  },
  {
   "cell_type": "markdown",
   "metadata": {},
   "source": [
    "## 4.1. if statements"
   ]
  },
  {
   "cell_type": "code",
   "execution_count": null,
   "metadata": {},
   "outputs": [],
   "source": []
  },
  {
   "cell_type": "code",
   "execution_count": null,
   "metadata": {},
   "outputs": [],
   "source": [
    "### if...elif...elif.. sequence is a substitute for the \"switch\" or \"case\"\n",
    "# statements found in other languages"
   ]
  },
  {
   "cell_type": "markdown",
   "metadata": {},
   "source": [
    "## 4.2. for statements"
   ]
  },
  {
   "cell_type": "code",
   "execution_count": 45,
   "metadata": {},
   "outputs": [
    {
     "name": "stdout",
     "output_type": "stream",
     "text": [
      "['defenestrate', 'cat', 'window', 'defenestrate']\n"
     ]
    }
   ],
   "source": [
    "### if you need to modify the sequence you are iterating over inside the loop\n",
    "# (e.g. to duplicate selected items), it is recommended to first make a copy\n",
    "# (iterating over the sequence does not implicitly make a copy)\n",
    "# slice notation is specially convenient in this case\n",
    "words = ['cat', 'window', 'defenestrate']\n",
    "for w in words[:]:\n",
    "    if len(w) > 6:\n",
    "        words.insert(0, w)\n",
    "print(words)\n",
    "\n",
    "# if it was written for w in words: => this would create an infinite loop,\n",
    "# inserting defenestrate over and over again !"
   ]
  },
  {
   "cell_type": "markdown",
   "metadata": {},
   "source": [
    "## 4.3. range() function"
   ]
  },
  {
   "cell_type": "code",
   "execution_count": 46,
   "metadata": {},
   "outputs": [
    {
     "name": "stdout",
     "output_type": "stream",
     "text": [
      "0 defenestrate\n",
      "1 cat\n",
      "2 window\n",
      "3 defenestrate\n"
     ]
    }
   ],
   "source": [
    "### range(): the given endpoint is never part of the sequence\n",
    "# combine range() and len() to iterate over the indices of a sequence:\n",
    "\n",
    "for i in range(len(words)):\n",
    "    print(i, words[i])\n",
    "    \n",
    "# NB: in this case, usually more convenient to use enumerate()"
   ]
  },
  {
   "cell_type": "code",
   "execution_count": 47,
   "metadata": {},
   "outputs": [
    {
     "data": {
      "text/plain": [
       "[0, 1, 2, 3, 4]"
      ]
     },
     "execution_count": 47,
     "metadata": {},
     "output_type": "execute_result"
    }
   ],
   "source": [
    "### the range function returns an iterable object \n",
    "# can use list() to make lists from iterables\n",
    "list(range(5))"
   ]
  },
  {
   "cell_type": "markdown",
   "metadata": {},
   "source": [
    "## 4.4. break, continue and else statements"
   ]
  },
  {
   "cell_type": "code",
   "execution_count": 52,
   "metadata": {},
   "outputs": [
    {
     "name": "stdout",
     "output_type": "stream",
     "text": [
      "2  is a prime number\n",
      "3  is a prime number\n",
      "4 equals 2 * 2\n",
      "5  is a prime number\n",
      "6 equals 2 * 3\n",
      "7  is a prime number\n",
      "8 equals 2 * 4\n",
      "9 equals 3 * 3\n"
     ]
    }
   ],
   "source": [
    "# else executed:\n",
    "# - with for => executed when the loop terminates through exhaustion of the list\n",
    "# - with while = > when the condition becomes false\n",
    "# but not when the loop is terminated by break statement\n",
    "\n",
    "for n in range(2,10):\n",
    "    for x in range(2,n):\n",
    "        if n % x == 0:\n",
    "            print(n, 'equals', x, '*', n//x)\n",
    "            break\n",
    "    else:\n",
    "        # => belongs to the for-loop not to the if statement !\n",
    "        # not executed when the for-loop has been terminated by a break\n",
    "        # loop fell through without finding a factor\n",
    "        print(n, ' is a prime number')\n",
    "\n",
    "# when used with a loop, the else has more in common with the else of a try statement:\n",
    "# - in a try statement: else clause runs when no exception occurs\n",
    "# - in a loop: else clause runs when no break occurs"
   ]
  },
  {
   "cell_type": "code",
   "execution_count": 54,
   "metadata": {},
   "outputs": [
    {
     "name": "stdout",
     "output_type": "stream",
     "text": [
      "Found even number:  2\n",
      "Found a number:  3\n",
      "Found even number:  4\n",
      "Found a number:  5\n",
      "Found even number:  6\n",
      "Found a number:  7\n",
      "Found even number:  8\n",
      "Found a number:  9\n"
     ]
    }
   ],
   "source": [
    "# continue goes to next iteration of the loop\n",
    "for num in range(2,10):\n",
    "    if num % 2 == 0:\n",
    "        print(\"Found even number: \", num)\n",
    "        continue\n",
    "    print(\"Found a number: \", num)"
   ]
  },
  {
   "cell_type": "markdown",
   "metadata": {},
   "source": [
    "## 4.5. pass statement"
   ]
  },
  {
   "cell_type": "code",
   "execution_count": 55,
   "metadata": {},
   "outputs": [],
   "source": [
    "### pass does nothing, can be used when a statement is required\n",
    "# syntactically but the program requires no action\n",
    "#while True:\n",
    "#    pass  # infinite loop\n",
    "\n",
    "# commonly used for creating minimal class:\n",
    "class MyEmptyClass:\n",
    "    pass\n",
    "\n",
    "# can be used as placeholder for a function or conditional body\n",
    "# when working on new code, allowing to keep thinking at \n",
    "# more abstract level; the pass is silently ignored\n",
    "def initlog(*args):\n",
    "    pass\n",
    "initlog()"
   ]
  },
  {
   "cell_type": "markdown",
   "metadata": {},
   "source": [
    "## 4.6. Defining functions"
   ]
  },
  {
   "cell_type": "code",
   "execution_count": 56,
   "metadata": {},
   "outputs": [
    {
     "name": "stdout",
     "output_type": "stream",
     "text": [
      "0 1 1 2 3 \n"
     ]
    }
   ],
   "source": [
    "# the first statement of a function body can be a string literal\n",
    "# -> function documentation string (docstring)\n",
    "def fib(n):\n",
    "    \"\"\"Print Fibonacci series up to n\"\"\"\n",
    "    a, b = 0, 1\n",
    "    while a < n:\n",
    "        print(a, end=' ')\n",
    "        a, b = b, a+b\n",
    "    print()\n",
    "fib(5)"
   ]
  },
  {
   "cell_type": "code",
   "execution_count": 59,
   "metadata": {},
   "outputs": [
    {
     "name": "stdout",
     "output_type": "stream",
     "text": [
      "<function fib at 0x7f8e581316a8>\n"
     ]
    }
   ],
   "source": [
    "# The execution of a function introduces a new symbol table used for the local variables of the function. \n",
    "# -> all variable assignments in a function store the value in the local symbol table; \n",
    "# variable references first look in the local symbol table, \n",
    "# then in the local symbol tables of enclosing functions, \n",
    "# then in the global symbol table, and\n",
    "# finally in the table of built-in names.\n",
    "# Global variables and variables of enclosing functions cannot be directly assigned a value within a function\n",
    "# (unless, for global variables, named in a global statement, \n",
    "# or, for variables of enclosing functions, named in a nonlocal statement), although they may be referenced.\n",
    "\n",
    "# The actual parameters (arguments) to a function call are introduced in the local symbol table\n",
    "# of the called function when it is called; \n",
    "# thus, arguments are passed using call by value \n",
    "# (where the value is always an object reference, not the value of the object). \n",
    "# When a function calls another function, a new local symbol table is created for that call.\n",
    "\n",
    "# A function definition introduces the function name in the current symbol table.\n",
    "# The value of the function name has a type that is recognized by the interpreter as a user-defined function. \n",
    "# This value can be assigned to another name which can then also be used as a function. \n",
    "# This serves as a general renaming mechanism:\n",
    "print(fib)\n",
    "f = fib"
   ]
  },
  {
   "cell_type": "code",
   "execution_count": 123,
   "metadata": {},
   "outputs": [
    {
     "name": "stdout",
     "output_type": "stream",
     "text": [
      "100\n"
     ]
    }
   ],
   "source": [
    "### NB: global variable\n",
    "# https://www.dotnetperls.com/nonlocal-python\n",
    "def method():\n",
    "    # Change \"value\" to mean the global variable.\n",
    "    # ... The assignment will be local without \"global.\"\n",
    "    global value\n",
    "    value = 100\n",
    "\n",
    "value = 0\n",
    "method()\n",
    "\n",
    "# The value has been changed to 100.\n",
    "print(value)\n",
    "\n",
    "# This program uses the global keyword. In method(), we use the statement \"global value.\" \n",
    "# This means that the identifier \"value\" refers to the global \"value,\" which is accessed outside the method."
   ]
  },
  {
   "cell_type": "code",
   "execution_count": 126,
   "metadata": {},
   "outputs": [
    {
     "name": "stdout",
     "output_type": "stream",
     "text": [
      "100\n",
      "50\n"
     ]
    }
   ],
   "source": [
    "### NB: nonlocal variable\n",
    "# https://www.dotnetperls.com/nonlocal-python\n",
    "\n",
    "def method():\n",
    "    def method2():\n",
    "        # In nested method, reference nonlocal variable.\n",
    "        nonlocal value\n",
    "        value = 100\n",
    "\n",
    "    # Set local.\n",
    "    value = 10\n",
    "    method2()\n",
    "\n",
    "    # Local variable reflects nonlocal change.\n",
    "    print(value)\n",
    "value = 50\n",
    "# Call method.\n",
    "method()\n",
    "print(value)\n",
    "# Nonlocal is similar in meaning to global. But it takes effect primarily in nested methods.\n",
    "# It means \"not a global or local variable.\" \n",
    "# So it changes the identifier to refer to an enclosing method's variable.\n",
    "\n",
    "# Method2() uses nonlocal to reference the \"value\" variable from method().\n",
    "# It will never reference a local or a global."
   ]
  },
  {
   "cell_type": "code",
   "execution_count": 61,
   "metadata": {},
   "outputs": [
    {
     "name": "stdout",
     "output_type": "stream",
     "text": [
      "0 1 1 2 3 \n",
      "0 1 1 2 3 \n",
      "None\n"
     ]
    }
   ],
   "source": [
    "# Coming from other languages, you might object that fib is not a function\n",
    "# but a procedure since it doesn’t return a value. \n",
    "# In fact, even functions without a return statement do return a value: None\n",
    "# Writing the value None is normally suppressed by the interpreter if it would be the only value written.\n",
    "# can be see with print()\n",
    "fib(5)\n",
    "print(fib(5))\n",
    "# -> return statement without expression argument returns None\n",
    "# -> falling off the end of a function also returns None"
   ]
  },
  {
   "cell_type": "code",
   "execution_count": 62,
   "metadata": {},
   "outputs": [
    {
     "name": "stdout",
     "output_type": "stream",
     "text": [
      "[5, 2, 3, 4]\n"
     ]
    }
   ],
   "source": [
    "# a method is a function that belongs to an object, named obj.methodname\n",
    "results = [5,2,3]\n",
    "results.append(4)\n",
    "print(results)\n",
    "# methodname is the name of the method defined by object's type\n",
    "# different types define different methods\n",
    "# methods of different types may have the same name"
   ]
  },
  {
   "cell_type": "markdown",
   "metadata": {},
   "source": [
    "## 4.7. More on defining functions\n",
    "\n",
    "3 forms, which can be combined, for defining functions with variable number of arguments:\n",
    "1. default argument values\n",
    "2. keyword arguments\n",
    "3. arbitrary argument lists"
   ]
  },
  {
   "cell_type": "markdown",
   "metadata": {},
   "source": [
    "### 4.7.1. Default argument values"
   ]
  },
  {
   "cell_type": "code",
   "execution_count": 67,
   "metadata": {},
   "outputs": [
    {
     "name": "stdout",
     "output_type": "stream",
     "text": [
      "Yes or No:Yes\n",
      "Try again!\n",
      "Yes or No:yes\n"
     ]
    },
    {
     "data": {
      "text/plain": [
       "True"
      ]
     },
     "execution_count": 67,
     "metadata": {},
     "output_type": "execute_result"
    }
   ],
   "source": [
    "def ask_ok(prompt, retries=4, reminder='Try again!'):\n",
    "    while True:\n",
    "        ok = input(prompt)\n",
    "        if ok in ('y', 'yes'):\n",
    "            return True\n",
    "        elif ok in ('n', 'no'):\n",
    "            return False\n",
    "        retries = retries - 1\n",
    "        if retries < 0:\n",
    "            raise ValueError('invalid user input')\n",
    "        print(reminder)\n",
    "        \n",
    "ask_ok(\"Yes or No:\")"
   ]
  },
  {
   "cell_type": "code",
   "execution_count": 69,
   "metadata": {},
   "outputs": [
    {
     "name": "stdout",
     "output_type": "stream",
     "text": [
      "[1]\n",
      "[1, 2]\n"
     ]
    }
   ],
   "source": [
    "### ! the default value is evaluated only once !\n",
    "# makes a difference when the default is a mutable object (list, dict, of class instances)\n",
    "def f(a, L=[]):\n",
    "    L.append(a)\n",
    "    return L\n",
    "print(f(1))\n",
    "print(f(2))\n",
    "# -> accumulates the arguments passed on subsequent calls"
   ]
  },
  {
   "cell_type": "code",
   "execution_count": 70,
   "metadata": {},
   "outputs": [
    {
     "name": "stdout",
     "output_type": "stream",
     "text": [
      "[1]\n",
      "[2]\n"
     ]
    }
   ],
   "source": [
    "### To not share the default between subsequent calls, can be written:\n",
    "def f2(a, L=None):\n",
    "    if L is None:\n",
    "        L = []\n",
    "    L.append(a)\n",
    "    return L\n",
    "print(f2(1))\n",
    "print(f2(2))"
   ]
  },
  {
   "cell_type": "markdown",
   "metadata": {},
   "source": [
    "### 4.7.2. Keyword arguments"
   ]
  },
  {
   "cell_type": "code",
   "execution_count": 74,
   "metadata": {},
   "outputs": [
    {
     "name": "stdout",
     "output_type": "stream",
     "text": [
      "voltage =  2\n",
      "state =  a stiff\n",
      "action =  voom\n",
      "voltage =  2\n",
      "state =  state2\n",
      "action =  action2\n",
      "voltage =  2\n",
      "state =  state2\n",
      "action =  action2\n"
     ]
    }
   ],
   "source": [
    "### functions can be called using keyword arguments in the form kwarg=value\n",
    "def parrot(voltage, state = 'a stiff', action = 'voom'):\n",
    "    print(\"voltage = \", voltage)\n",
    "    print(\"state = \", state)\n",
    "    print(\"action = \", action)\n",
    "\n",
    "parrot(2)\n",
    "parrot(2, 'state2', 'action2')\n",
    "parrot(2, 'state2', action='action2')\n",
    "\n",
    "# keyword arguments must follow positional arguments !\n",
    "# parrot(2,  action = 'action3', 'state3') => will not work !"
   ]
  },
  {
   "cell_type": "code",
   "execution_count": 78,
   "metadata": {},
   "outputs": [
    {
     "name": "stdout",
     "output_type": "stream",
     "text": [
      "a\n",
      "{}\n",
      "a\n",
      "{'b': 5}\n"
     ]
    }
   ],
   "source": [
    "### when a final formal parameter of the form **name is present\n",
    "# it receives a dictionary containing all keyword arguments \n",
    "# except for those corresponding to a formal parameter\n",
    "\n",
    "def myfunc(a, **other_params):\n",
    "    print(a) \n",
    "    print(other_params)\n",
    "myfunc(\"a\")\n",
    "myfunc(\"a\",b=5)\n",
    "# myfunc(\"a\",5) ! not correct ! extra-parameters should be keyword arguments\n"
   ]
  },
  {
   "cell_type": "code",
   "execution_count": 87,
   "metadata": {},
   "outputs": [
    {
     "name": "stdout",
     "output_type": "stream",
     "text": [
      "a\n",
      "()\n",
      "a\n",
      "(5,)\n"
     ]
    }
   ],
   "source": [
    "### this may be combined with a formal paramter of the form *name\n",
    "# which receives a tuple containing the positional arguments beyond the formal parameter\n",
    "\n",
    "def myfunc(a, *other_params):\n",
    "    print(a) \n",
    "    print(other_params)\n",
    "myfunc(\"a\")\n",
    "myfunc(\"a\", 5)\n",
    "#myfunc(a=\"a\", 5) #SyntaxError: positional argument follows keyword argument\n",
    "#myfunc(10, a=\"a\")# TypeError: myfunc() got multiple values for argument 'a'"
   ]
  },
  {
   "cell_type": "code",
   "execution_count": 93,
   "metadata": {},
   "outputs": [
    {
     "name": "stdout",
     "output_type": "stream",
     "text": [
      "Do you have any Emmental ?\n",
      "arg1\n",
      "arg2\n",
      "arg3\n",
      "kw1 : keyword1\n",
      "kw2 : keyword2\n",
      "('arg1', 'arg2', 'arg3')\n",
      "{'kw1': 'keyword1', 'kw2': 'keyword2'}\n"
     ]
    }
   ],
   "source": [
    "### *name must occur before **name\n",
    "\n",
    "def cheesehop(kind, *arguments, **keywords):\n",
    "    print(\"Do you have any\", kind, \"?\")\n",
    "    for arg in arguments:\n",
    "        print(arg)\n",
    "    for kw in keywords:\n",
    "        print(kw, \":\", keywords[kw])\n",
    "    print(arguments)\n",
    "    print(keywords)\n",
    "        \n",
    "#cheesehop(\"Emmental\", \"arg1\", \"arg2\", \"arg3\", kw1=\"keyword1\", kw2=\"keyword2\")\n",
    "\n",
    "# NB: the order in which the keyword arguments are printed is guaranteed to match\n",
    "# the order in whcih they are provided in the function call # not true ???\n",
    "\n",
    "cheesehop(\"Emmental\", \"arg1\", \"arg2\", \"arg3\", kw2=\"keyword2\", kw1=\"keyword1\")\n"
   ]
  },
  {
   "cell_type": "markdown",
   "metadata": {},
   "source": [
    "### 4.7.3. Arbitrary argument lists"
   ]
  },
  {
   "cell_type": "code",
   "execution_count": 101,
   "metadata": {},
   "outputs": [
    {
     "name": "stdout",
     "output_type": "stream",
     "text": [
      "start:premier élément,deuxième élément,troisième élément\n",
      "a\n",
      "a_def\n",
      "(5, 6, 7)\n",
      "a\n",
      "a_def\n",
      "()\n",
      "a\n",
      "a_def\n"
     ]
    }
   ],
   "source": [
    "### specify that a function can be called with an arbitrary number of arguments\n",
    "# these arguments will be wrapped up in a tuple\n",
    "# before the variable number of arguments, zero or more normal arguments may occur\n",
    "\n",
    "def append_multiple_items(first_string, separator, *args):\n",
    "    print(first_string + separator.join(args))\n",
    "    \n",
    "append_multiple_items(\"start:\", \",\", \"premier élément\", \"deuxième élément\", \"troisième élément\")\n",
    "    \n",
    "# Normally, these variadic arguments will be last in the list of formal parameters,\n",
    "# because they scoop up all remaining input arguments that are passed to the function. \n",
    "\n",
    "# Any formal parameters which occur after the *args parameter are ‘keyword-only’ arguments,\n",
    "# meaning that they can only be used as keywords rather than positional arguments.\n",
    "\n",
    "# -> this might be useful to force the user to use keyword arguments\n",
    "# (e.g. if another programmer swap the arguments, if you use positional arguments only\n",
    "# might lead to undesired behaviour !)\n",
    "\n",
    "def keyword_args(*, without_def, with_def='def'):\n",
    "    print(without_def)\n",
    "    print(with_def)\n",
    "\n",
    "keyword_args(without_def='a', with_def='a_def')\n",
    "# keyword_args('a', with_def='a_def') \n",
    "# TypeError keyword_args() takes 0 positional arguments but 1 positional argument \n",
    "# (and 1 keyword-only argument) were given\n",
    "\n",
    "#-> the value of * is not stored, syntaxic sugar !\n",
    "# (instead of writting, e.g.)\n",
    "# the value of * is not stored, syntaxic sugar !\n",
    "def keyword_args2(*name, without_def, with_def='def'):\n",
    "    print(name)\n",
    "    print(without_def)\n",
    "    print(with_def)\n",
    "keyword_args2(5,6,7,without_def='a', with_def='a_def')\n",
    "keyword_args2(without_def='a', with_def='a_def')\n",
    "\n"
   ]
  },
  {
   "cell_type": "markdown",
   "metadata": {},
   "source": [
    "### 4.7.4. Unpacking argument lists"
   ]
  },
  {
   "cell_type": "code",
   "execution_count": 103,
   "metadata": {},
   "outputs": [
    {
     "data": {
      "text/plain": [
       "[3, 4, 5]"
      ]
     },
     "execution_count": 103,
     "metadata": {},
     "output_type": "execute_result"
    }
   ],
   "source": [
    "### The reverse situation occurs when the arguments are already in a list or tuple \n",
    "# but need to be unpacked for a function call requiring separate positional arguments. \n",
    "# For instance, the built-in range() function expects separate start and stop arguments. \n",
    "\n",
    "# If they are not available separately, write the function call with the * operator \n",
    "# to unpack the arguments out of a list or tuple:\n",
    "\n",
    "list(range(3,6))\n",
    "args = [3,6]\n",
    "list(range(*args))"
   ]
  },
  {
   "cell_type": "code",
   "execution_count": 113,
   "metadata": {},
   "outputs": [
    {
     "name": "stdout",
     "output_type": "stream",
     "text": [
      "([1, 2, 3],)\n",
      "(1, 2, 3)\n",
      "('key2', 'key1')\n",
      "{'key2': 'keyword2', 'key1': 'keyword1'}\n"
     ]
    }
   ],
   "source": [
    "### in the same fashion, the ** can deliver kewyword arguments\n",
    "\n",
    "def func_arglist(*list_args):\n",
    "    print(list_args)\n",
    "    \n",
    "def func_kwargs(**keyword_args):\n",
    "    print(keyword_args)\n",
    "    \n",
    "arg_dict={'key1':'keyword1', 'key2':'keyword2'}\n",
    "arg_list = [1,2,3]\n",
    "\n",
    "func_arglist(arg_list) # -> pass the list as 1 parameter\n",
    "func_arglist(*arg_list) # -> unpack the list in 3 parameters\n",
    "func_arglist(*arg_dict) # -> this pass the keys of the dicts as unpacked parameters\n",
    "\n",
    "func_kwargs(**arg_dict)\n",
    "\n",
    "# But the following will not work:\n",
    "#func_arglist(**arg_dict)\n",
    "#TypeError: func_arglist() got an unexpected keyword argument 'key2'\n",
    "# func_kwargs(arg_list)\n",
    "# TypeError: func_kwargs() takes 0 positional arguments but 1 was given\n",
    "# func_kwargs(*arg_dict)\n",
    "# TypeError: func_kwargs() takes 0 positional arguments but 2 were given"
   ]
  },
  {
   "cell_type": "markdown",
   "metadata": {},
   "source": [
    "### 4.7.5. Lambda expressions"
   ]
  },
  {
   "cell_type": "code",
   "execution_count": 117,
   "metadata": {},
   "outputs": [
    {
     "name": "stdout",
     "output_type": "stream",
     "text": [
      "43\n",
      "44\n",
      "[(1, 'one'), (3, 'three'), (2, 'two')]\n"
     ]
    }
   ],
   "source": [
    "### Create small anonymous functions with lambda keyword\n",
    "# can be used wherever function objects are required\n",
    "# are syntactically restricted to single expression\n",
    "# semantically, just syntactic sugar for normal function definition\n",
    "# like nested function definitions, can reference variables from containing scope\n",
    "\n",
    "# e.g. use of lambda to return a function\n",
    "def make_incremator(n):\n",
    "    return lambda x: x+n\n",
    "f = make_incremator(42)\n",
    "print(f(1))\n",
    "print(f(2))\n",
    "\n",
    "#e.g. use lambda to pass small function as argument\n",
    "pairs = [(1, 'one'), (2, 'two'), (3, 'three')]\n",
    "pairs.sort(key=lambda duo: duo[1])\n",
    "print(pairs)"
   ]
  },
  {
   "cell_type": "markdown",
   "metadata": {},
   "source": [
    "### 4.7.6. Documentation strings"
   ]
  },
  {
   "cell_type": "code",
   "execution_count": 127,
   "metadata": {},
   "outputs": [
    {
     "name": "stdout",
     "output_type": "stream",
     "text": [
      "Do nothing, but document it.\n",
      "\n",
      "     No, really, it doesn't do anything.\n",
      "    \n"
     ]
    }
   ],
   "source": [
    "### Some conventions about content and formatting of documentation strings:\n",
    "# - 1st line should always be a short, concise summary of the object’s purpose.\n",
    "# should not explicitly state the object’s name or type, \n",
    "# should begin with a capital letter and end with a period.\n",
    "# - If there are more lines, 2nd line should be blank, \n",
    "# visually separating the summary from the rest of the description. \n",
    "# - The following lines should be one or more paragraphs describing the object’s calling conventions, \n",
    "# its side effects, etc.\n",
    "# The Python parser does not strip indentation from multi-line string literals in Python,\n",
    "# so tools that process documentation have to strip indentation if desired.\n",
    "# This is done using the following convention:\n",
    "# - The 1st non-blank line after the 1st line of the string determines the amount of indentation\n",
    "# for the entire documentation string. \n",
    "# (We can’t use the 1st line since it is generally adjacent to the string’s opening quotes \n",
    "# so its indentation is not apparent in the string literal.) \n",
    "# Whitespace “equivalent” to this indentation is then stripped from the start of all lines of the string.\n",
    "# Lines that are indented less should not occur,\n",
    "# but if they occur all their leading whitespace should be stripped. \n",
    "# Equivalence of whitespace should be tested after expansion of tabs (to 8 spaces, normally).\n",
    "\n",
    "# For example:\n",
    "\n",
    "def my_function():\n",
    "    \"\"\"Do nothing, but document it.\n",
    "\n",
    "     No, really, it doesn't do anything.\n",
    "    \"\"\"\n",
    "    pass\n",
    "...\n",
    "print(my_function.__doc__)"
   ]
  },
  {
   "cell_type": "markdown",
   "metadata": {},
   "source": [
    "### 4.7.7. Function annotations"
   ]
  },
  {
   "cell_type": "code",
   "execution_count": 119,
   "metadata": {},
   "outputs": [
    {
     "name": "stdout",
     "output_type": "stream",
     "text": [
      "Annotations: {'ham': <class 'str'>, 'eggs': <class 'str'>, 'return': <class 'str'>}\n",
      "Arguments: spam eggs\n"
     ]
    },
    {
     "data": {
      "text/plain": [
       "'spam and eggs'"
      ]
     },
     "execution_count": 119,
     "metadata": {},
     "output_type": "execute_result"
    }
   ],
   "source": [
    "### completely optional metadata information about the types used by user-defined functions \n",
    "# are stored in the __annotations__ attribute of the function as a dictionary and\n",
    "# have no effect on any other part of the function.\n",
    "# Parameter annotations are defined by a colon after the parameter name,\n",
    "# followed by an expression evaluating to the value of the annotation.\n",
    "# Return annotations are defined by a literal ->, \n",
    "# followed by an expression, between the parameter list and the colon denoting the end of the def statement.\n",
    "\n",
    "# The following example has a positional argument, a keyword argument, and the return value annotated:\n",
    "\n",
    "def f(ham: str, eggs: str='eggs') -> str:\n",
    "    print(\"Annotations:\", f.__annotations__)\n",
    "    print(\"Arguments:\", ham, eggs)\n",
    "    return ham + ' and ' + eggs\n",
    "\n",
    "f('spam')"
   ]
  },
  {
   "cell_type": "code",
   "execution_count": 121,
   "metadata": {},
   "outputs": [
    {
     "name": "stdout",
     "output_type": "stream",
     "text": [
      "Annotations: {'ham': <class 'str'>, 'eggs': <class 'str'>}\n",
      "Arguments: spam eggs\n"
     ]
    },
    {
     "data": {
      "text/plain": [
       "'spam and eggs'"
      ]
     },
     "execution_count": 121,
     "metadata": {},
     "output_type": "execute_result"
    }
   ],
   "source": [
    "def f(ham: str, eggs: str='eggs'):\n",
    "    print(\"Annotations:\", f.__annotations__)\n",
    "    print(\"Arguments:\", ham, eggs)\n",
    "    return ham + ' and ' + eggs\n",
    "f('spam')"
   ]
  },
  {
   "cell_type": "markdown",
   "metadata": {},
   "source": [
    "## 4.8. Intermezzo: coding style"
   ]
  },
  {
   "cell_type": "code",
   "execution_count": null,
   "metadata": {},
   "outputs": [],
   "source": [
    "# use 4-space indentation, and no tabs.\n",
    "# wrap lines so that they don’t exceed 79 characters.\n",
    "# use blank lines to separate functions and classes, and larger blocks of code inside functions.\n",
    "# put comments on a line of their own.\n",
    "# Use docstrings.\n",
    "# Use spaces around operators and after commas,\n",
    "# but not directly inside bracketing constructs: a = f(1, 2) + g(3, 4).\n",
    "# Name your classes and functions consistently; convention:\n",
    "# UpperCamelCase for classes, lowercase_with_underscores for functions and methods\n",
    "# use self as the name for the first method argument\n",
    "# don’t use fancy encodings \n",
    "# don’t use non-ASCII characters in identifiers \n",
    "\n"
   ]
  },
  {
   "cell_type": "markdown",
   "metadata": {},
   "source": [
    "# 5. Data structures"
   ]
  },
  {
   "cell_type": "markdown",
   "metadata": {},
   "source": [
    "## 5.1. More on lists"
   ]
  },
  {
   "cell_type": "code",
   "execution_count": 156,
   "metadata": {},
   "outputs": [
    {
     "name": "stdout",
     "output_type": "stream",
     "text": [
      "[1, 2, 4, 5, 6, 7]\n",
      "[1, 2, 4, 5, 6, 7, 8, [9, 10], 10, 11]\n",
      "[12, 1, 2, 4, 5, 6, 7, 8, [9, 10], 10, 11, 13, 13]\n",
      "[12, 1, 2, 4, 5, 6, 7, 8, [9, 10], 10, 11, 13]\n",
      "[12, 1, 2, 4, 5, 6, 7, 8, [9, 10], 10, 11]\n",
      "13\n",
      "[1, 2, 4, 5, 6, 7, 8, [9, 10], 10, 11]\n",
      "12\n",
      "[]\n",
      "[0, 1, 3, 5, 7, 8]\n",
      "[8, 7, 5, 3, 1, 0]\n",
      "[36, 7, 5, 3, 1, 0]\n",
      "[100, 7, 5, 3, 1, 0]\n",
      "[36, 7, 5, 3, 1, 0]\n"
     ]
    }
   ],
   "source": [
    "list1 = [1,2,4,5]\n",
    "\n",
    "### list.append(x)\n",
    "list1.append(6)\n",
    "\n",
    "# equivalent to:\n",
    "list1[len(list1):] = [7]\n",
    "print(list1)\n",
    "\n",
    "### list.extend(iterable)\n",
    "list1.extend([8])\n",
    "list1.append([9,10])   # -> this adds the list as an item at the end of the list\n",
    "list1.extend([10,11])  # -> adds all items as elements of the list\n",
    "print(list1)\n",
    "\n",
    "### list.insert(i, x)\n",
    "list1.insert(0, 12)\n",
    "list1.insert(len(list1), 13) # equivalent to \n",
    "list1.append(13)\n",
    "print(list1)\n",
    "\n",
    "### list.remove(x)\n",
    "list1.remove(13)  # remove the 1st element matching the passed value\n",
    "print(list1)\n",
    "# if not found, raises ValueError\n",
    "\n",
    "### list.pop()\n",
    "x = list1.pop()  # no argument passed, remove the last element and returns its value\n",
    "print(list1)  \n",
    "print(x)\n",
    "\n",
    "y = list1.pop(0)  # remove the i-th element and returns its value\n",
    "print(list1)\n",
    "print(y)\n",
    "\n",
    "### list.clear()\n",
    "list1.clear()\n",
    "print(list1)\n",
    "# equivalent to\n",
    "del list1[:]\n",
    "\n",
    "### list.index(x)\n",
    "list1 = [1,2,2,4,5]\n",
    "list1.index(4)    # return 0-based index of the first item matching the value\n",
    "list1.index(4, 3, len(list1)) # slice notation to specify where to search in subsequence\n",
    "#list1.index(4, 0, 2) # raises ValueError if not found\n",
    "\n",
    "### list.count(x)\n",
    "list1.count(2) # returns the nbr of times it appears in the list\n",
    "\n",
    "### list.sort()\n",
    "list1 = [5,3,8,1,0,7]\n",
    "list1.sort()   # sort in place\n",
    "print(list1)\n",
    "\n",
    "### list.reverse()\n",
    "list1.reverse()\n",
    "print(list1)  # reverse in place\n",
    "\n",
    "### list.copy()\n",
    "list2 = list1.copy() # returns a shallow copy\n",
    "list2[0] = 100 \n",
    "list3 = list1\n",
    "list3[0] = 36\n",
    "print(list1)\n",
    "print(list2)\n",
    "print(list3)\n"
   ]
  },
  {
   "cell_type": "markdown",
   "metadata": {},
   "source": [
    "### 5.1.1. Using lists as stacks"
   ]
  },
  {
   "cell_type": "code",
   "execution_count": 157,
   "metadata": {},
   "outputs": [
    {
     "name": "stdout",
     "output_type": "stream",
     "text": [
      "[3, 4, 5]\n"
     ]
    }
   ],
   "source": [
    "### use append() and pop() to use lists as stacks\n",
    "# = last-in, first-out (last element added is the first retrieved)\n",
    "stack = [3,4,5]\n",
    "stack.append(6)\n",
    "stack.append(7)\n",
    "stack.pop()\n",
    "stack.pop()\n",
    "print(stack)\n"
   ]
  },
  {
   "cell_type": "markdown",
   "metadata": {},
   "source": [
    "### 5.1.2. Using lists as queues"
   ]
  },
  {
   "cell_type": "code",
   "execution_count": 158,
   "metadata": {},
   "outputs": [
    {
     "name": "stdout",
     "output_type": "stream",
     "text": [
      "deque(['Eric', 'Johan', 'Michell', 'Terry', 'Graham'])\n",
      "Eric\n",
      "Johan\n"
     ]
    }
   ],
   "source": [
    "# = first-in, first-out (first element added is the first retrieved)\n",
    "# lists are not efficient for this purpose:\n",
    "# append() and pop() from the end of lists are fast, but inserts and pops from the beginning\n",
    "# of the list is slow (all other elements have to be shifted)\n",
    "# to implement queue, use collections.deque, designed to have fast appends and pops from both ends\n",
    "\n",
    "from collections import deque\n",
    "queue = deque([\"Eric\", \"Johan\", \"Michell\"])\n",
    "queue.append(\"Terry\")\n",
    "queue.append(\"Graham\")\n",
    "print(queue)\n",
    "first_out = queue.popleft()  # remove 1st element\n",
    "print(first_out)\n",
    "scd_out = queue.popleft()\n",
    "print(scd_out)\n"
   ]
  },
  {
   "cell_type": "markdown",
   "metadata": {},
   "source": [
    "### 5.1.3. List comprehensions"
   ]
  },
  {
   "cell_type": "code",
   "execution_count": 172,
   "metadata": {},
   "outputs": [
    {
     "name": "stdout",
     "output_type": "stream",
     "text": [
      "[0, 1, 4, 9, 16, 25, 36, 49, 64, 81]\n",
      "[0, 1, 4, 9, 16, 25, 36, 49, 64, 81]\n",
      "[(1, 3), (1, 4), (2, 3), (2, 1), (2, 4), (3, 1), (3, 4)]\n",
      "[(1, 3), (1, 4), (2, 3), (2, 1), (2, 4), (3, 1), (3, 4)]\n",
      "[-8, -4, 0, 4, 8]\n",
      "[4, 8]\n",
      "[4, 2, 0, 2, 4]\n",
      "['banana', 'apple', 'melon']\n",
      "[(-4, 16), (-2, 4), (0, 0), (2, 4), (4, 16)]\n",
      "[1, 2, 3, 4, 5, 6, 7, 8, 9]\n",
      "['3.1', '3.14', '3.142', '3.1416', '3.14159']\n"
     ]
    }
   ],
   "source": [
    "squares = [x**2 for x in range(10)]\n",
    "print(squares)\n",
    "### equivalent to\n",
    "squares = list(map(lambda x: x**2, range(10)))\n",
    "print(squares)\n",
    "\n",
    "combs = [(x,y) for x in [1,2,3] for y in [3,1,4] if x != y]\n",
    "print(combs)\n",
    "\n",
    "### equivalent to\n",
    "combs = []\n",
    "for x in [1,2,3]:\n",
    "    for y in [3,1,4]:\n",
    "        if x != y:\n",
    "            combs.append((x,y))\n",
    "print(combs)\n",
    "# !!! the order of the for and if statements remain the same !!!\n",
    "\n",
    "vec = [-4,-2,0,2,4]\n",
    "\n",
    "# create a list with value doubled\n",
    "res1 = [x*2 for x in vec]\n",
    "print(res1)\n",
    "\n",
    "# filter the list to exclude negative value\n",
    "res2 = [x*2 for x in vec if x > 0]\n",
    "print(res2)\n",
    "\n",
    "# apply a function to all elements\n",
    "res3 = [abs(x) for x in vec]\n",
    "print(res3)\n",
    "\n",
    "# call a method on each element\n",
    "fruits = [\"  banana \", \"  apple  \", \"melon  \"]\n",
    "res4 = [x.strip() for x in fruits]\n",
    "print(res4)\n",
    "\n",
    "# create a list of 2-tuples\n",
    "res5 = [(x, x**2) for x in vec] # the tuple must be in () -> otherwise SyntaxError\n",
    "print(res5)\n",
    "\n",
    "# flatten a list of lists\n",
    "nest_list = [[1,2,3], [4,5,6], [7,8,9]]\n",
    "res6 = [num for elem in nest_list for num in elem]\n",
    "print(res6)\n",
    "\n",
    "# canc ontain complex expressions and nested functions\n",
    "from math import pi\n",
    "res7 = [str(round(pi, i)) for i in range(1,6)]\n",
    "print(res7)"
   ]
  },
  {
   "cell_type": "markdown",
   "metadata": {},
   "source": [
    "### 5.1.4. Nested list comprehensions"
   ]
  },
  {
   "cell_type": "code",
   "execution_count": 176,
   "metadata": {},
   "outputs": [
    {
     "name": "stdout",
     "output_type": "stream",
     "text": [
      "[[1, 2, 3, 4], [5, 6, 7, 8], [9, 10, 11, 12]]\n",
      "[[1, 5, 9], [2, 6, 10], [3, 7, 11], [4, 8, 12]]\n",
      "[[1, 5, 9], [2, 6, 10], [3, 7, 11], [4, 8, 12]]\n",
      "[(1, 5, 9), (2, 6, 10), (3, 7, 11), (4, 8, 12)]\n"
     ]
    }
   ],
   "source": [
    "### the initial expression in a list expression can be any arbitrary expression\n",
    "# including another list comprehension\n",
    "\n",
    "# e.g. a 3x4 matrix implementd as 3 lists of length 4\n",
    "matrix = [\n",
    "    [1,2,3,4],\n",
    "    [5,6,7,8],\n",
    "    [9,10,11,12]\n",
    "]\n",
    "print(matrix)\n",
    "# can be transposed as 4x3 matrix using list comprehension\n",
    "t_matrix = [ [row[i] for row in matrix] for i in range(4)]\n",
    "print(t_matrix)\n",
    "\n",
    "# the nested list comprehension is evaluated in the context of the for that follows it\n",
    "# equivalent to\n",
    "transposed = []\n",
    "for i in range(4):\n",
    "    # the following lines implement the list comprehension\n",
    "    transposed_row = []\n",
    "    for row in matrix:\n",
    "        transposed_row.append(row[i])\n",
    "    transposed.append(transposed_row)\n",
    "print(transposed)\n",
    "\n",
    "# you might often prefer built-in function instead of complex flow statements\n",
    "# e.g. transpose using zip\n",
    "zip_t_mat = list(zip(*matrix))\n",
    "print(zip_t_mat)"
   ]
  },
  {
   "cell_type": "markdown",
   "metadata": {},
   "source": [
    "## 5.2. del statement"
   ]
  },
  {
   "cell_type": "code",
   "execution_count": 178,
   "metadata": {},
   "outputs": [
    {
     "name": "stdout",
     "output_type": "stream",
     "text": [
      "[-1, 6, 78, 4, 3]\n",
      "[-1, 78, 4, 3]\n",
      "[]\n"
     ]
    }
   ],
   "source": [
    "### a way to remove item from a list\n",
    "# does not return the deleted element (unlike pop())\n",
    "# can be used to remove slices\n",
    "# can clear the entire list\n",
    "# can clear entire variables\n",
    "a = [-1,-1,6,78,4,3]\n",
    "del a[0]\n",
    "print(a)\n",
    "del a[1:2]\n",
    "print(a)\n",
    "del a[:]\n",
    "print(a)\n",
    "del a  # delete the variable\n",
    "# print(a) # NameError => the variable does not exist anymore"
   ]
  },
  {
   "cell_type": "markdown",
   "metadata": {},
   "source": [
    "## 5.3. Tuples and sequences"
   ]
  },
  {
   "cell_type": "code",
   "execution_count": 194,
   "metadata": {},
   "outputs": [
    {
     "name": "stdout",
     "output_type": "stream",
     "text": [
      "(1, 2, 'hello')\n",
      "1\n",
      "((1, 2, 'hello'), 1, 2)\n",
      "([1, 2, 3], [4, 5, 6])\n",
      "2\n",
      "5\n",
      "()\n",
      "(1,)\n",
      "1\n",
      "(1,)\n",
      "(1, 4, 'hello')\n",
      "1\n",
      "4\n",
      "hello\n"
     ]
    }
   ],
   "source": [
    "### tuples are number of values separated by commas\n",
    "t1 = 1, 2, \"hello\"\n",
    "print(t1)\n",
    "print(t1[0])\n",
    "# tuples may be nested\n",
    "t2 = t1, 1, 2\n",
    "print(t2)\n",
    "# tuples are immutable !\n",
    "#t2[0] = 5 # TypeError: 'tuple' object does not support item assignment\n",
    "# but can contain mutable objects\n",
    "t4 = [1,2,3], [4,5,6]\n",
    "print(t4)\n",
    "print(t4[0][1])\n",
    "t4[0][1] = 5  # => the mutable object inside the unmutable tuple can be modified !!!\n",
    "print(t4[0][1])\n",
    "\n",
    "# accessed via \n",
    "# -indexing or\n",
    "# - unpacking or even\n",
    "# - by attribut in the case of namedtuples\n",
    "\n",
    "# create empty tuple\n",
    "t5 =()\n",
    "print(t5)\n",
    "# create tuple with 1 element\n",
    "t6 = 1,\n",
    "print(t6)\n",
    "t7 = (1)   # !!! () not enough -> this does not create a tuple !\n",
    "print(t7)  \n",
    "t8 = (1,) # with 1 element -> needs a comma !\n",
    "print(t8)\n",
    "\n",
    "# tuple packing:\n",
    "t9 = 1,4,\"hello\"\n",
    "print(t9)\n",
    "# reverse operation also possible\n",
    "n1, n2, str1 = t9\n",
    "print(n1)\n",
    "print(n2)\n",
    "print(str1)\n",
    "# needs the same number of element right and left !\n",
    "#n1,n2 = t9  # ValueError: too many values to unpack (expected 2)\n",
    "n1,n2 = t9[:2] # this will work\n",
    "# multiple assignment is in fact tuple packing and unpacking\n",
    "\n"
   ]
  },
  {
   "cell_type": "markdown",
   "metadata": {},
   "source": [
    "## 5.4. Sets"
   ]
  },
  {
   "cell_type": "code",
   "execution_count": 198,
   "metadata": {},
   "outputs": [
    {
     "name": "stdout",
     "output_type": "stream",
     "text": [
      "{'orange', 'banana', 'apple', 'kiwi'}\n",
      "{'b', 'c', 'a', 'r'}\n",
      "{'s', 'z', 'h', 'a', 'm'}\n",
      "{'b', 'c', 'a', 'r'}\n",
      "{'b', 'c', 'r'}\n",
      "{'a', 'm', 's', 'r', 'b', 'z', 'c', 'h'}\n",
      "{'a'}\n",
      "{'m', 's', 'r', 'b', 'z', 'c', 'h'}\n"
     ]
    }
   ],
   "source": [
    "### unordered collection with no duplicate elements\n",
    "# also support mathematical operations (e.g. union, intersection, difference)\n",
    "\n",
    "# create an empty set\n",
    "s1 = set()\n",
    "# ! not s1={} => this would create an empty dict !\n",
    "\n",
    "basket = {'apple','orange','banana','kiwi'}\n",
    "print(basket)\n",
    "'orange' in basket\n",
    "\n",
    "a = set('abraca')  # create a set of unique letters\n",
    "print(a) \n",
    "b = set('shazam')\n",
    "print(b)\n",
    "\n",
    "# unique letters in a:\n",
    "print(a)\n",
    "#letters in a but not in b \n",
    "print(a-b)\n",
    "# letters in a or in b or in both\n",
    "print(a|b)\n",
    "# letters in both a and b\n",
    "print(a&b)\n",
    "# letters only in a or only in b\n",
    "print(a^b)"
   ]
  },
  {
   "cell_type": "code",
   "execution_count": 199,
   "metadata": {},
   "outputs": [
    {
     "name": "stdout",
     "output_type": "stream",
     "text": [
      "{'r', 'd'}\n"
     ]
    }
   ],
   "source": [
    "### set comprehensions are also supported\n",
    "a = { x for x in 'abracadbra' if x not in 'abc'}\n",
    "print(a)"
   ]
  },
  {
   "cell_type": "markdown",
   "metadata": {},
   "source": [
    "## 5.5. Dictionaries"
   ]
  },
  {
   "cell_type": "code",
   "execution_count": 208,
   "metadata": {},
   "outputs": [
    {
     "name": "stdout",
     "output_type": "stream",
     "text": [
      "101\n",
      "['bill', 'franki', 'jo']\n",
      "['bill', 'franki', 'jo']\n",
      "True\n",
      "True\n",
      "{'joe': 4534, 'jeanne': 56, 'marc': 2342}\n",
      "{'mark': 234, 'joe': 342, 'luc': 234}\n"
     ]
    }
   ],
   "source": [
    "### dictionaries are indexed by keys, which can be of any immutable types; keys can be\n",
    "# - strings and numbers\n",
    "# - tuples if they contain only strings, numbers, tuples\n",
    "# (a tuple containing any mutable object either directly or indirectly cannot be used as key !)\n",
    "# lists cannot be used as keys as they can be modified\n",
    "\n",
    "# store key-value pairs\n",
    "# keys are unique\n",
    "\n",
    "# create an empty dictionary\n",
    "d1 = {}\n",
    "\n",
    "tel_dict =  {'jack':101, 'bill':34, 'jo':424, 'franki':12}\n",
    "print(tel_dict['jack'])\n",
    "\n",
    "# delete an entry with del\n",
    "del tel_dict['jack']\n",
    "\n",
    "#tel_dict['jack'] # raise a KeyError: 'jack' if the key not in the dict\n",
    "\n",
    "# list(dict) returns the list of the keys\n",
    "print(list(tel_dict))\n",
    "\n",
    "# to have sorted keys use sorted(dict)\n",
    "print(sorted(tel_dict))\n",
    "\n",
    "# 'in' to check if a value in the keys\n",
    "print('franki' in tel_dict)\n",
    "print('jack' not in tel_dict)\n",
    "\n",
    "# dict() constructor builds dicts directly from sequences of key-value pairs\n",
    "d2 = dict([('joe', 4534), ('jeanne', 56), ('marc', 2342)])\n",
    "print(d2)\n",
    "\n",
    "# if the keys are strings, easily created using keyword arguments\n",
    "d3 = dict(mark=234, joe=342, luc=234)\n",
    "print(d3)"
   ]
  },
  {
   "cell_type": "code",
   "execution_count": 209,
   "metadata": {},
   "outputs": [
    {
     "name": "stdout",
     "output_type": "stream",
     "text": [
      "{2: 4, 4: 16, 6: 36}\n"
     ]
    }
   ],
   "source": [
    "### dict comprehensions can be used to create dictionaries\n",
    "d4 = {x: x**2 for x in (2,4,6)}\n",
    "print(d4)"
   ]
  },
  {
   "cell_type": "markdown",
   "metadata": {},
   "source": [
    "## 5.6. Looping techniques"
   ]
  },
  {
   "cell_type": "code",
   "execution_count": 210,
   "metadata": {},
   "outputs": [
    {
     "name": "stdout",
     "output_type": "stream",
     "text": [
      "leonard leo\n",
      "mariejoelle marijo\n",
      "marcel marc\n"
     ]
    }
   ],
   "source": [
    "### items() on dictionary to retrieve keys and corresponding values\n",
    "name_surname = dict(marcel = \"marc\", leonard=\"leo\", mariejoelle=\"marijo\")\n",
    "for name, surname in name_surname.items():\n",
    "    print(name, surname)"
   ]
  },
  {
   "cell_type": "code",
   "execution_count": 211,
   "metadata": {},
   "outputs": [
    {
     "name": "stdout",
     "output_type": "stream",
     "text": [
      "# 0 marcel\n",
      "# 1 leonard\n",
      "# 2 mariejoelle\n"
     ]
    }
   ],
   "source": [
    "### enumerate() to iterate over a sequence to retrieve the index and the value\n",
    "all_names = ['marcel', 'leonard', 'mariejoelle']\n",
    "for i, name in enumerate(all_names):\n",
    "    print(\"#\", i, name)"
   ]
  },
  {
   "cell_type": "code",
   "execution_count": 212,
   "metadata": {},
   "outputs": [
    {
     "name": "stdout",
     "output_type": "stream",
     "text": [
      "name : leonard\n",
      "surname : leo\n",
      "adresse : rue dufour\n",
      "city : geneva\n"
     ]
    }
   ],
   "source": [
    "### zip() to loop over two or more sequences at a time\n",
    "questions = [\"name\", \"surname\" , \"adresse\", \"city\"]\n",
    "answers = [\"leonard\", \"leo\" , \"rue dufour\", \"geneva\"]\n",
    "\n",
    "for q, a in zip(questions, answers):\n",
    "    print(q, \":\", a)"
   ]
  },
  {
   "cell_type": "code",
   "execution_count": 214,
   "metadata": {},
   "outputs": [
    {
     "name": "stdout",
     "output_type": "stream",
     "text": [
      "7\n",
      "4\n",
      "1\n"
     ]
    }
   ],
   "source": [
    "### reversed() to loop over a sequence in reversed order\n",
    "for i in reversed(range(1,10,3)):\n",
    "    print(i)"
   ]
  },
  {
   "cell_type": "code",
   "execution_count": 215,
   "metadata": {},
   "outputs": [
    {
     "name": "stdout",
     "output_type": "stream",
     "text": [
      "apple\n",
      "apple\n",
      "kiwi\n",
      "orange\n",
      "orange\n",
      "pear\n",
      "['apple', 'orange', 'apple', 'pear', 'orange', 'kiwi']\n"
     ]
    }
   ],
   "source": [
    "### sorted() to loop over a sequence in sorted order\n",
    "# sorted() returns a new ordered sequence, let the source unaltered\n",
    "basket = [\"apple\", \"orange\", \"apple\", \"pear\", \"orange\", \"kiwi\"]\n",
    "for fruit in sorted(basket):\n",
    "    print(fruit)\n",
    "print(basket)"
   ]
  },
  {
   "cell_type": "code",
   "execution_count": 216,
   "metadata": {},
   "outputs": [
    {
     "name": "stdout",
     "output_type": "stream",
     "text": [
      "[65.2, nan, 52.5, nan]\n",
      "[65.2, 52.5]\n"
     ]
    }
   ],
   "source": [
    "# even if tempting to modifiy a list while looping over it\n",
    "# often easier and safer to create a new list (cf. example above)\n",
    "import math\n",
    "raw_data = [65.2, float('NaN'), 52.5, float(\"NaN\")]\n",
    "filt_data = []\n",
    "for value in raw_data:\n",
    "    if not math.isnan(value):\n",
    "        filt_data.append(value)\n",
    "print(raw_data)\n",
    "print(filt_data)"
   ]
  },
  {
   "cell_type": "markdown",
   "metadata": {},
   "source": [
    "## 5.7. More on conditions"
   ]
  },
  {
   "cell_type": "code",
   "execution_count": null,
   "metadata": {},
   "outputs": [],
   "source": [
    "### while and if statements can contain any operators\n",
    "# not just comparisons\n",
    "\n",
    "### the comparison operators in and not in check\n",
    "# whether a value occurs or not in a sequence\n",
    "\n",
    "### is and is not compare whether 2 objects are really the same\n",
    "# this only matter for mutable objects like lists"
   ]
  },
  {
   "cell_type": "code",
   "execution_count": 222,
   "metadata": {},
   "outputs": [
    {
     "name": "stdout",
     "output_type": "stream",
     "text": [
      "Trondheim\n",
      "Marco\n"
     ]
    }
   ],
   "source": [
    "### comparisons can be chained\n",
    "a = 5\n",
    "b = 6\n",
    "c = 6\n",
    "a < b == c # tests whether a is less than b and moreover b equals c\n",
    "\n",
    "### and and or are short-circuit operators \n",
    "# (evaluation stops as soon as the outcome is determined)\n",
    "\n",
    "### When used as a general value and not as a Boolean\n",
    "# the return value of a short-circuit operator is the\n",
    "# last evaluated argument\n",
    "\n",
    "string1, string2, string3 = '', 'Trondheim', 'Marco'\n",
    "non_null_or = string1 or string2 or string3\n",
    "print(non_null_or)\n",
    "string1, string2, string3 = 'Michel', 'Trondheim', 'Marco'\n",
    "non_null_and = string1 and string2 and string3\n",
    "print(non_null_and)\n",
    "\n",
    "### NB: in Python unlike C, assignment cannot occur inside expressions"
   ]
  },
  {
   "cell_type": "markdown",
   "metadata": {},
   "source": [
    "## 5.8. Comparing sequences and other types"
   ]
  },
  {
   "cell_type": "code",
   "execution_count": 223,
   "metadata": {},
   "outputs": [
    {
     "name": "stdout",
     "output_type": "stream",
     "text": [
      "True\n",
      "True\n",
      "True\n",
      "True\n",
      "True\n",
      "True\n",
      "True\n"
     ]
    }
   ],
   "source": [
    "### Sequence objects may be compared to other objects with the same sequence type. \n",
    "# The comparison uses lexicographical ordering: \n",
    "# first the first two items are compared, and if they differ this determines the outcome of the comparison; \n",
    "# if they are equal, the next two items are compared, and so on, until either sequence is exhausted.\n",
    "# If two items to be compared are themselves sequences of the same type, \n",
    "# the lexicographical comparison is carried out recursively. \n",
    "# If all items of two sequences compare equal, the sequences are considered equal. \n",
    "# If one sequence is an initial sub-sequence of the other, \n",
    "# the shorter sequence is the smaller (lesser) one. \n",
    "# Lexicographical ordering for strings uses the Unicode code point number to order individual characters.\n",
    "#Some examples of comparisons between sequences of the same type:\n",
    "\n",
    "print((1, 2, 3) < (1, 2, 4))\n",
    "print([1, 2, 3] < [1, 2, 4])\n",
    "print('ABC' < 'C' < 'Pascal' < 'Python')\n",
    "print((1, 2, 3, 4)< (1, 2, 4))\n",
    "print((1, 2)< (1, 2, -1))\n",
    "print((1, 2, 3) == (1.0, 2.0, 3.0))\n",
    "print((1, 2, ('aa', 'ab'))< (1, 2, ('abc', 'a'), 4))\n",
    "\n",
    "# NB: comparing objects of different types with < or > is legal provided that the objects have\n",
    "# appropriate comparison methods.\n",
    "# For example, mixed numeric types are compared according to their numeric value, so 0 equals 0.0, etc. \n",
    "# Otherwise, rather than providing an arbitrary ordering, the interpreter will raise a TypeError exception."
   ]
  },
  {
   "cell_type": "code",
   "execution_count": null,
   "metadata": {},
   "outputs": [],
   "source": []
  }
 ],
 "metadata": {
  "kernelspec": {
   "display_name": "Python 3",
   "language": "python",
   "name": "python3"
  },
  "language_info": {
   "codemirror_mode": {
    "name": "ipython",
    "version": 3
   },
   "file_extension": ".py",
   "mimetype": "text/x-python",
   "name": "python",
   "nbconvert_exporter": "python",
   "pygments_lexer": "ipython3",
   "version": "3.5.2"
  }
 },
 "nbformat": 4,
 "nbformat_minor": 2
}
