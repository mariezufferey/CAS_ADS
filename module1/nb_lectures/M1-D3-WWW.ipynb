{
 "cells": [
  {
   "cell_type": "markdown",
   "metadata": {},
   "source": [
    "Notebook 3, Module 1, Data and Data Management, CAS Applied Data Science, 2019-08-23, S. Haug, University of Bern. "
   ]
  },
  {
   "cell_type": "markdown",
   "metadata": {},
   "source": [
    "# 3. Data acquisition on the world wide web\n",
    "\n",
    "**Learning outcomes:**\n",
    "\n",
    "Participants will be able to collect data from www sources. Examples are provided and exercised.\n",
    "\n",
    "\n",
    "**Further sources**\n",
    "- Examples all over internet\n",
    "- A book: https://www.packtpub.com/big-data-and-business-intelligence/mastering-social-media-mining-python\n"
   ]
  },
  {
   "cell_type": "markdown",
   "metadata": {},
   "source": [
    "## 3.1 Analyse Aare with data from https://aareguru.existenz.ch/\n",
    "\n"
   ]
  },
  {
   "cell_type": "markdown",
   "metadata": {},
   "source": [
    "Get the data from website, bring it into a format which can be imported into a dataframe, plot the time series and the histograms."
   ]
  },
  {
   "cell_type": "code",
   "execution_count": 3,
   "metadata": {},
   "outputs": [
    {
     "data": {
      "text/html": [
       "<div>\n",
       "<style scoped>\n",
       "    .dataframe tbody tr th:only-of-type {\n",
       "        vertical-align: middle;\n",
       "    }\n",
       "\n",
       "    .dataframe tbody tr th {\n",
       "        vertical-align: top;\n",
       "    }\n",
       "\n",
       "    .dataframe thead th {\n",
       "        text-align: right;\n",
       "    }\n",
       "</style>\n",
       "<table border=\"1\" class=\"dataframe\">\n",
       "  <thead>\n",
       "    <tr style=\"text-align: right;\">\n",
       "      <th></th>\n",
       "      <th>flow</th>\n",
       "      <th>temperature</th>\n",
       "      <th>timestamp</th>\n",
       "    </tr>\n",
       "  </thead>\n",
       "  <tbody>\n",
       "    <tr>\n",
       "      <th>0</th>\n",
       "      <td>125</td>\n",
       "      <td>11.40</td>\n",
       "      <td>2020-04-19 06:50:00</td>\n",
       "    </tr>\n",
       "    <tr>\n",
       "      <th>1</th>\n",
       "      <td>124</td>\n",
       "      <td>11.41</td>\n",
       "      <td>2020-04-19 07:00:00</td>\n",
       "    </tr>\n",
       "    <tr>\n",
       "      <th>2</th>\n",
       "      <td>124</td>\n",
       "      <td>11.44</td>\n",
       "      <td>2020-04-19 07:10:00</td>\n",
       "    </tr>\n",
       "    <tr>\n",
       "      <th>3</th>\n",
       "      <td>125</td>\n",
       "      <td>11.46</td>\n",
       "      <td>2020-04-19 07:20:00</td>\n",
       "    </tr>\n",
       "    <tr>\n",
       "      <th>4</th>\n",
       "      <td>124</td>\n",
       "      <td>11.49</td>\n",
       "      <td>2020-04-19 07:30:00</td>\n",
       "    </tr>\n",
       "  </tbody>\n",
       "</table>\n",
       "</div>"
      ],
      "text/plain": [
       "   flow  temperature           timestamp\n",
       "0   125        11.40 2020-04-19 06:50:00\n",
       "1   124        11.41 2020-04-19 07:00:00\n",
       "2   124        11.44 2020-04-19 07:10:00\n",
       "3   125        11.46 2020-04-19 07:20:00\n",
       "4   124        11.49 2020-04-19 07:30:00"
      ]
     },
     "execution_count": 3,
     "metadata": {},
     "output_type": "execute_result"
    }
   ],
   "source": [
    "from urllib.request import urlopen\n",
    "import pandas as pd\n",
    "#import mathplot\n",
    "startlink = \"https://aareguru.existenz.ch/v2018/current\"\n",
    "f = urlopen(startlink)\n",
    "l = str(f.read())\n",
    "l=l.split('[')[3].split(']')\n",
    "l='['+l[0]+']'\n",
    "#print(l)\n",
    "df = pd.read_json(l)\n",
    "df.head()\n",
    "#df\n"
   ]
  },
  {
   "cell_type": "code",
   "execution_count": 4,
   "metadata": {},
   "outputs": [
    {
     "data": {
      "text/plain": [
       "<Figure size 640x480 with 1 Axes>"
      ]
     },
     "metadata": {},
     "output_type": "display_data"
    },
    {
     "data": {
      "text/plain": [
       "<matplotlib.axes._subplots.AxesSubplot at 0x7f9a58d8d4e0>"
      ]
     },
     "execution_count": 4,
     "metadata": {},
     "output_type": "execute_result"
    }
   ],
   "source": [
    "import matplotlib.pyplot as plt\n",
    "df['temperature'].plot()\n",
    "plt.show()\n",
    "df['flow'].plot()"
   ]
  },
  {
   "cell_type": "markdown",
   "metadata": {},
   "source": [
    "Are flow and temperature correlated on this day? Let's look at the scatter plots."
   ]
  },
  {
   "cell_type": "code",
   "execution_count": 5,
   "metadata": {},
   "outputs": [
    {
     "data": {
      "image/png": "[encoded data removed]",
      "text/plain": [
       "<Figure size 576x576 with 4 Axes>"
      ]
     },
     "metadata": {
      "needs_background": "light"
     },
     "output_type": "display_data"
    }
   ],
   "source": [
    "from pandas.plotting import scatter_matrix\n",
    "scatter_matrix(df, alpha=0.2, figsize=(8, 8), diagonal='hist')\n",
    "plt.show()"
   ]
  },
  {
   "cell_type": "markdown",
   "metadata": {},
   "source": [
    "There seems to be a quite complicated correlation, if at all. Let's look at the summary statistics."
   ]
  },
  {
   "cell_type": "code",
   "execution_count": 6,
   "metadata": {},
   "outputs": [
    {
     "data": {
      "text/html": [
       "<div>\n",
       "<style scoped>\n",
       "    .dataframe tbody tr th:only-of-type {\n",
       "        vertical-align: middle;\n",
       "    }\n",
       "\n",
       "    .dataframe tbody tr th {\n",
       "        vertical-align: top;\n",
       "    }\n",
       "\n",
       "    .dataframe thead th {\n",
       "        text-align: right;\n",
       "    }\n",
       "</style>\n",
       "<table border=\"1\" class=\"dataframe\">\n",
       "  <thead>\n",
       "    <tr style=\"text-align: right;\">\n",
       "      <th></th>\n",
       "      <th>flow</th>\n",
       "      <th>temperature</th>\n",
       "    </tr>\n",
       "  </thead>\n",
       "  <tbody>\n",
       "    <tr>\n",
       "      <th>count</th>\n",
       "      <td>275.000000</td>\n",
       "      <td>275.000000</td>\n",
       "    </tr>\n",
       "    <tr>\n",
       "      <th>mean</th>\n",
       "      <td>121.687273</td>\n",
       "      <td>12.443164</td>\n",
       "    </tr>\n",
       "    <tr>\n",
       "      <th>std</th>\n",
       "      <td>8.471314</td>\n",
       "      <td>0.722593</td>\n",
       "    </tr>\n",
       "    <tr>\n",
       "      <th>min</th>\n",
       "      <td>112.000000</td>\n",
       "      <td>11.030000</td>\n",
       "    </tr>\n",
       "    <tr>\n",
       "      <th>25%</th>\n",
       "      <td>113.000000</td>\n",
       "      <td>12.045000</td>\n",
       "    </tr>\n",
       "    <tr>\n",
       "      <th>50%</th>\n",
       "      <td>123.000000</td>\n",
       "      <td>12.470000</td>\n",
       "    </tr>\n",
       "    <tr>\n",
       "      <th>75%</th>\n",
       "      <td>132.500000</td>\n",
       "      <td>12.810000</td>\n",
       "    </tr>\n",
       "    <tr>\n",
       "      <th>max</th>\n",
       "      <td>134.000000</td>\n",
       "      <td>14.000000</td>\n",
       "    </tr>\n",
       "  </tbody>\n",
       "</table>\n",
       "</div>"
      ],
      "text/plain": [
       "             flow  temperature\n",
       "count  275.000000   275.000000\n",
       "mean   121.687273    12.443164\n",
       "std      8.471314     0.722593\n",
       "min    112.000000    11.030000\n",
       "25%    113.000000    12.045000\n",
       "50%    123.000000    12.470000\n",
       "75%    132.500000    12.810000\n",
       "max    134.000000    14.000000"
      ]
     },
     "execution_count": 6,
     "metadata": {},
     "output_type": "execute_result"
    }
   ],
   "source": [
    "df.describe()"
   ]
  },
  {
   "cell_type": "markdown",
   "metadata": {},
   "source": [
    "**Possible further exercise or project for Module 1 and 2**\n",
    "\n",
    "Find some colleague who can the historical data (use the API) out of https://aareguru.existenz.ch/. Bring all data into one data frame. Look for correlations, averages (per month, per year ...). Combine the data with weather data, e.g. the wind on the Thun lake. For the Model 2 project, make a model predicting the Aare temperature. "
   ]
  },
  {
   "cell_type": "markdown",
   "metadata": {},
   "source": [
    "## 3.2 Get pictures (or files) from webpages\n",
    "\n",
    "Get a picture a show it directly."
   ]
  },
  {
   "cell_type": "code",
   "execution_count": 7,
   "metadata": {},
   "outputs": [
    {
     "data": {
      "text/html": [
       "<img src=\"http://web.lhep.unibe.ch/shaug/lar/numuqe/evd.planeview.00001.000000001.png\"/>"
      ],
      "text/plain": [
       "<IPython.core.display.Image object>"
      ]
     },
     "metadata": {},
     "output_type": "display_data"
    }
   ],
   "source": [
    "from IPython.display import Image as image\n",
    "from IPython.display import display\n",
    "\n",
    "url = 'http://web.lhep.unibe.ch/shaug/lar/numuqe/evd.planeview.00001.000000001.png'\n",
    "img = image(url=url)\n",
    "display(img)"
   ]
  },
  {
   "cell_type": "markdown",
   "metadata": {},
   "source": [
    "Download a file into the current directory (for further processing). In this exmple we downloud a file with tweets from the present US president. Then we load it into a dataframe for some analysis."
   ]
  },
  {
   "cell_type": "code",
   "execution_count": 9,
   "metadata": {},
   "outputs": [],
   "source": [
    "\n",
    "import urllib\n",
    "fname=\"http://web.lhep.unibe.ch/shaug/tmp/t-tweets.txt\"\n",
    "rllib.request.urlretrieve(fname,'t-tweets.txt')\n",
    "f = pd.read_json('t-tweets.txt')\n",
    "f.head()\n"
   ]
  },
  {
   "cell_type": "code",
   "execution_count": null,
   "metadata": {},
   "outputs": [],
   "source": [
    "df.info()"
   ]
  },
  {
   "cell_type": "markdown",
   "metadata": {},
   "source": [
    "Let's check how often Obama was mentioned in these 245 tweets."
   ]
  },
  {
   "cell_type": "code",
   "execution_count": null,
   "metadata": {},
   "outputs": [],
   "source": [
    "counter=0\n",
    "txt = df['text']\n",
    "for i in range(0,len(txt)):\n",
    "    if 'Obama' in txt[i]: counter+=1\n",
    "print(counter)"
   ]
  },
  {
   "cell_type": "markdown",
   "metadata": {},
   "source": [
    "(Yes, these are prefiltered tweets about Obama)"
   ]
  },
  {
   "cell_type": "markdown",
   "metadata": {},
   "source": [
    "## 3.2 Scrape Webpages (html scraping)\n",
    "\n",
    "There are almost two billion online websites. With python you can easily read and parse this data if you have the links. Here we get the links on the landing page of Science IT Suport, and if there are any, the mail addresses. \n",
    " "
   ]
  },
  {
   "cell_type": "code",
   "execution_count": 10,
   "metadata": {},
   "outputs": [
    {
     "data": {
      "text/html": [
       "<div>\n",
       "<style scoped>\n",
       "    .dataframe tbody tr th:only-of-type {\n",
       "        vertical-align: middle;\n",
       "    }\n",
       "\n",
       "    .dataframe tbody tr th {\n",
       "        vertical-align: top;\n",
       "    }\n",
       "\n",
       "    .dataframe thead th {\n",
       "        text-align: right;\n",
       "    }\n",
       "</style>\n",
       "<table border=\"1\" class=\"dataframe\">\n",
       "  <thead>\n",
       "    <tr style=\"text-align: right;\">\n",
       "      <th></th>\n",
       "      <th>Adresses</th>\n",
       "    </tr>\n",
       "  </thead>\n",
       "  <tbody>\n",
       "    <tr>\n",
       "      <th>0</th>\n",
       "      <td>src=\"//www.scits.unibe.ch/media/logo_unibern@2...</td>\n",
       "    </tr>\n",
       "    <tr>\n",
       "      <th>1</th>\n",
       "      <td>href=\"mailto:&amp;#x73;cit&amp;#x73;@&amp;#109;at&amp;#x68;&amp;#4...</td>\n",
       "    </tr>\n",
       "    <tr>\n",
       "      <th>2</th>\n",
       "      <td>list,&amp;nbsp;scits-info@math.unibe.ch,</td>\n",
       "    </tr>\n",
       "    <tr>\n",
       "      <th>3</th>\n",
       "      <td>itemprop=\"email\"&gt;sig&amp;#x76;&amp;#101;&amp;#x2e;h&amp;#x61;&amp;...</td>\n",
       "    </tr>\n",
       "    <tr>\n",
       "      <th>4</th>\n",
       "      <td>itemprop=\"email\"&gt;m&amp;#121;k&amp;#x68;&amp;#97;&amp;#x69;&amp;#10...</td>\n",
       "    </tr>\n",
       "  </tbody>\n",
       "</table>\n",
       "</div>"
      ],
      "text/plain": [
       "                                            Adresses\n",
       "0  src=\"//www.scits.unibe.ch/media/logo_unibern@2...\n",
       "1  href=\"mailto:&#x73;cit&#x73;@&#109;at&#x68;&#4...\n",
       "2               list,&nbsp;scits-info@math.unibe.ch,\n",
       "3  itemprop=\"email\">sig&#x76;&#101;&#x2e;h&#x61;&...\n",
       "4  itemprop=\"email\">m&#121;k&#x68;&#97;&#x69;&#10..."
      ]
     },
     "execution_count": 10,
     "metadata": {},
     "output_type": "execute_result"
    }
   ],
   "source": [
    "from urllib.request import urlopen\n",
    "import pandas as pd\n",
    "\n",
    "#startlink = \"http://www.scits.unibe.ch\"\n",
    "startlink = \"http://www.scits.unibe.ch/about_us/contact/\"\n",
    "f = urlopen(startlink)\n",
    "myfile = f.read()\n",
    "lines = str(myfile).split(' ')\n",
    "links = []\n",
    "addresses = []\n",
    "for line in lines:\n",
    "    if 'http' in line:\n",
    "        links.append(line)\n",
    "    elif '@' in line:\n",
    "        #print(line)\n",
    "        addresses.append(line)\n",
    "df_links = pd.DataFrame(links,columns=['Links'])\n",
    "df_addrs = pd.DataFrame(addresses,columns=['Adresses'])\n",
    "df_addrs"
   ]
  },
  {
   "cell_type": "markdown",
   "metadata": {},
   "source": [
    "The above code is not optimal as you have probably seen. Lets use regular expressions instead (from StackOverflow). Regular expressions are a bit geeky, but very powerful and great fun. If you don't wan't to learn them, you mostly find the expression you want by googling. "
   ]
  },
  {
   "cell_type": "code",
   "execution_count": 11,
   "metadata": {},
   "outputs": [
    {
     "name": "stdout",
     "output_type": "stream",
     "text": [
      "['logo_unibern@2x.png', 'scits-info@math.unibe.ch']\n",
      "['http://ogp.me', 'https://www.scits.unibe.ch', 'https://www.scits.unibe.ch', 'https://www.unibe.ch', 'https://www.scits.unibe.ch', 'https://www.scits.unibe.ch', 'https://www.scits.unibe.ch', 'https://www.scits.unibe.ch', 'https://www.scits.unibe.ch', 'https://www.scits.unibe.ch', 'https://www.scits.unibe.ch', 'https://www.scits.unibe.ch', 'https://www.scits.unibe.ch', 'https://www.scits.unibe.ch', 'https://www.scits.unibe.ch', 'https://www.scits.unibe.ch', 'https://www.suche.unibe.ch', 'http://schema.org', 'http://cmsrelaunch.unibe.ch', 'https://listserv.unibe.ch', 'http://schema.org', 'https://www.scits.unibe.ch', 'http://schema.org', 'https://www.scits.unibe.ch', 'http://schema.org', 'https://www.scits.unibe.ch', 'http://schema.org', 'https://www.scits.unibe.ch', 'http://schema.org', 'http://schema.org', 'https://www.scits.unibe.ch', 'http://schema.org', 'https://www.scits.unibe.ch', 'http://schema.org', 'https://www.scits.unibe.ch', 'http://schema.org', 'https://www.scits.unibe.ch', 'http://schema.org', 'https://www.scits.unibe.ch', 'http://schema.org', 'https://www.scits.unibe.ch', 'https://www.facebook.com', 'https://www.scits.unibe.ch', 'https://www.scits.unibe.ch', 'https://twitter.com', 'https://www.scits.unibe.ch', 'https://www.linkedin.com', 'https://www.scits.unibe.ch', 'https://www.scits.unibe.ch', 'https://www.scits.unibe.ch', 'https://www.unibe.ch', 'https://www.scits.unibe.ch', 'https://www.suche.unibe.ch', 'https://www.unibe.ch', 'https://www.unibe.ch', 'http://schema.org', 'http://schema.org', 'https://www.unibe.ch', 'https://www.swissuniversities.ch', 'https://www.scits.unibe.ch', 'https://www.scits.unibe.ch', 'https://www.suche.unibe.ch', 'https://maps.googleapis.com', 'https://www.scits.unibe.ch']\n"
     ]
    }
   ],
   "source": [
    "import re # the regular expression module\n",
    "startlink = \"http://www.scits.unibe.ch/about_us/contact/\"\n",
    "f = urlopen(startlink)\n",
    "html = f.read()\n",
    "# Extract email addresses\n",
    "reobj = re.compile(r\"\\b[A-Z0-9._%+-]+@[A-Z0-9.-]+\\.[A-Z]{2,6}\\b\", re.IGNORECASE)\n",
    "print(re.findall(reobj, html.decode('utf-8')))\n",
    "# Extract urls (links)\n",
    "urls = re.findall('https?://(?:[-\\w.]|(?:%[\\da-fA-F]{2}))+', html.decode('utf-8'))\n",
    "print(urls)"
   ]
  },
  {
   "cell_type": "markdown",
   "metadata": {},
   "source": [
    "### Possible exercise\n",
    "\n",
    "Hier a nice little challenge for you. Use the code above (together with a for loop or two) to scrape all webpages of your employer company for public available email addresses and put them into a dataframe :) (of course you could scrape all internet now, but we don't go that far today)."
   ]
  },
  {
   "cell_type": "code",
   "execution_count": 12,
   "metadata": {},
   "outputs": [],
   "source": [
    "# Write, copy and paste your code here\n"
   ]
  },
  {
   "cell_type": "markdown",
   "metadata": {},
   "source": [
    "### Tables from webpages\n",
    "\n",
    "If you or someone else pubslishes data in html tables, it can be collected with pandas quite easily, actually directly without using the urllib module."
   ]
  },
  {
   "cell_type": "code",
   "execution_count": 16,
   "metadata": {},
   "outputs": [],
   "source": [
    "import pandas as pd\n",
    "#link = \"https://en.wikipedia.org/wiki/List_of_countries_and_dependencies_by_population\"\n",
    "link = \"https://en.wikipedia.org/wiki/List_of_countries_by_electricity_consumption\"\n",
    "tables = pd.read_html(link)\n",
    "df = tables[0]\n",
    "df.head()"
   ]
  },
  {
   "cell_type": "markdown",
   "metadata": {},
   "source": [
    "In which countries are the people consuming the most?"
   ]
  },
  {
   "cell_type": "code",
   "execution_count": null,
   "metadata": {},
   "outputs": [],
   "source": [
    "df.info()"
   ]
  },
  {
   "cell_type": "code",
   "execution_count": null,
   "metadata": {},
   "outputs": [],
   "source": [
    "s_df = df.iloc[1:,1:2] \n",
    "s_df['consum'] = df.iloc[1:,7].astype('float')\n",
    "s_df.sort_values('consum', ascending=False)"
   ]
  },
  {
   "cell_type": "code",
   "execution_count": null,
   "metadata": {},
   "outputs": [],
   "source": [
    "s_df['consum'].plot(kind='hist',bins=50,range=(1000,50000))"
   ]
  },
  {
   "cell_type": "markdown",
   "metadata": {},
   "source": [
    "## 3.3 Run cron jobs (linux) / scheduled tasks (windows)\n",
    "\n",
    "If you need to collect data on a regular basis you typically run a so-called cron job on a Linux machine or a scheduled task on a Windows machine. For example, you can specify when and how often your Python data acquisition script should run. Maybe you would like to collect new Aare data every day. Of course, your computer has to be running and connected to internet if you collect data from internet.\n",
    "\n",
    "Here an example collecting Aare data. The python script aarecollect.py:"
   ]
  },
  {
   "cell_type": "code",
   "execution_count": 20,
   "metadata": {},
   "outputs": [
    {
     "data": {
      "text/plain": [
       "('aare-data-2020-04-21.json', <http.client.HTTPMessage at 0x7f9a589ec048>)"
      ]
     },
     "execution_count": 20,
     "metadata": {},
     "output_type": "execute_result"
    }
   ],
   "source": [
    "import urllib\n",
    "import datetime\n",
    "link = \"https://aareguru.existenz.ch/v2018/current\"\n",
    "filename = 'aare-data-'+ str(datetime.date.today()) +'.json'\n",
    "urllib.request.urlretrieve(link,filename)\n",
    "\n"
   ]
  },
  {
   "cell_type": "markdown",
   "metadata": {},
   "source": [
    "On Linux you specify when to execute this file and how often in the so called crontab. On Windows by configuring a Scheduled Task. Google instructions if you need to do this."
   ]
  },
  {
   "cell_type": "code",
   "execution_count": null,
   "metadata": {},
   "outputs": [],
   "source": []
  },
  {
   "cell_type": "markdown",
   "metadata": {},
   "source": [
    "### 5. Access data bases via Python (mysql)\n",
    "\n",
    "You can access data bases with appropriate APIs from Python and also the Jupyter notebooks. One very popular type of database is mysql. Install the API module:\n",
    "\n",
    "pip install mysql-connector-python-rf\n",
    "\n",
    "If we have acces to a machine with a database, we can connect database and retrieve data to analyse.\n"
   ]
  },
  {
   "cell_type": "code",
   "execution_count": 22,
   "metadata": {},
   "outputs": [],
   "source": [
    "import mysql.connector\n",
    "\n",
    "#cnx = mysql.connector.connect(user='scott', password='password',\n",
    "#                              host='mycomputer.unibe.ch',\n",
    "#                              database='employees')\n",
    "#cnx.close()"
   ]
  },
  {
   "cell_type": "markdown",
   "metadata": {},
   "source": [
    "See examples on how to create tables, fill and query them in the manual: https://dev.mysql.com/doc/connector-python/en/connector-python-examples.html"
   ]
  },
  {
   "cell_type": "markdown",
   "metadata": {},
   "source": [
    "# The follwing examples are not working, but indicates how one could data in different ways from social media"
   ]
  },
  {
   "cell_type": "markdown",
   "metadata": {},
   "source": [
    "### 2. Google search\n",
    "\n",
    "There is are APIs for doing google searches from Python. Hier is one explained. \n",
    "\n",
    "https://stackoverflow.com/questions/37083058/programmatically-searching-google-in-python-using-custom-search\n",
    "\n",
    "However, we didn't get it tp work right away. Maybe we used wrong key and id? \n",
    "\n",
    "If you need this, you will have to figure it out yourself.  "
   ]
  },
  {
   "cell_type": "code",
   "execution_count": null,
   "metadata": {},
   "outputs": [],
   "source": [
    "from googleapiclient.discovery import build\n",
    "import pprint"
   ]
  },
  {
   "cell_type": "code",
   "execution_count": null,
   "metadata": {},
   "outputs": [],
   "source": [
    "my_api_key = \"\" #\"Google API key\"\n",
    "my_cse_id = \"\"\n",
    "\n",
    "#def google_search(search_term, api_key, cse_id, **kwargs):\n",
    "    \n",
    "#service = build(\"customsearch\", \"v1\", developerKey=my_api_key)\n",
    "#res = service.cse().list(q='sigve haug', cx=my_cse_id, **kwargs).execute()\n",
    "#res = service.cse().list(q='sigve haug', cx=my_cse_id).execute()\n",
    "#    return res['items']\n",
    "\n",
    "#results = google_search('stackoverflow site:en.wikipedia.org', my_api_key, my_cse_id, num=10)\n",
    "#for result in results:\n",
    "#    pprint.pprint(result)"
   ]
  },
  {
   "cell_type": "markdown",
   "metadata": {},
   "source": [
    "### 3. Twitter\n",
    "\n",
    "**Note:** This example we couldn't execute because Twitter didn't yet approve the application request.\n",
    "\n",
    "Twitter generates about 500M tweets per day. Thus, data mining on twitter can be interesting.\n",
    "\n",
    "Note: there are rate limits in the use of the Twitter API, as well as limitations in case you want to provide a downloadable data-set, see:\n",
    "\n",
    "https://dev.twitter.com/overview/terms/agreement-and-policy\n",
    "\n",
    "https://dev.twitter.com/rest/public/rate-limiting\n",
    "\n",
    "Tweepy is one python module with clients for thwe Twitter API. Install it from your terminal/console:\n",
    "\n",
    "- pip install tweepy==3.3.0\n",
    "\n",
    "Now we need some login information from Twitter. So we must register an application. "
   ]
  },
  {
   "cell_type": "markdown",
   "metadata": {},
   "source": [
    "Point your browser to http://apps.twitter.com, log-in to Twitter (if you’re not already logged in) and register a new application. You can now choose a name and a description for your app (for example “Mining Demo” or similar). You will receive a consumer key and a consumer secret: these are application settings that should always be kept private. From the configuration page of your app, you can also require an access token and an access token secret. Similarly to the consumer keys, these strings must also be kept private: they provide the application access to Twitter on behalf of your account. The default permissions are read-only, which is all we need in our case, but if you decide to change your permission to provide writing features in your app, you must negotiate a new access token."
   ]
  },
  {
   "cell_type": "code",
   "execution_count": null,
   "metadata": {},
   "outputs": [],
   "source": []
  },
  {
   "cell_type": "code",
   "execution_count": null,
   "metadata": {},
   "outputs": [],
   "source": [
    "import tweepy\n",
    "from tweepy import OAuthHandler\n",
    " \n",
    "consumer_key = 'YOUR-CONSUMER-KEY'\n",
    "consumer_secret = 'YOUR-CONSUMER-SECRET'\n",
    "access_token = 'YOUR-ACCESS-TOKEN'\n",
    "access_secret = 'YOUR-ACCESS-SECRET'\n",
    " \n",
    "auth = OAuthHandler(consumer_key, consumer_secret)\n",
    "auth.set_access_token(access_token, access_secret)\n",
    " \n",
    "api = tweepy.API(auth)"
   ]
  },
  {
   "cell_type": "markdown",
   "metadata": {},
   "source": [
    "### 4. Instagram\n",
    "\n",
    "Largest photo sharing social media platform with 500 million monthly active users, and 95 million pictures and videos uploaded on Instagram daily. "
   ]
  },
  {
   "cell_type": "markdown",
   "metadata": {},
   "source": [
    "We need an Instagram API. From the command line :\n",
    "\n",
    "`python -m pip install -e git+https://github.com/LevPasha/Instagram-API-python.git#egg=InstagramAPI`\n",
    "\n",
    "And we need ffmpeg. We can get it like this:\n"
   ]
  },
  {
   "cell_type": "code",
   "execution_count": null,
   "metadata": {},
   "outputs": [],
   "source": [
    "import imageio\n",
    "imageio.plugins.ffmpeg.download()\n"
   ]
  },
  {
   "cell_type": "markdown",
   "metadata": {},
   "source": [
    "Logging in to Instagram Using the API. The login process takes some seconds and then returns a success message if successful."
   ]
  },
  {
   "cell_type": "code",
   "execution_count": null,
   "metadata": {},
   "outputs": [],
   "source": [
    "from InstagramAPI import InstagramAPI\n",
    "username=\"sigvehaugbern\" # sigvehaugbern\n",
    "InstagramAPI = InstagramAPI(username, <password>) # \n",
    "InstagramAPI.login()"
   ]
  },
  {
   "cell_type": "code",
   "execution_count": null,
   "metadata": {},
   "outputs": [],
   "source": [
    "InstagramAPI.getProfileData()\n",
    "result = InstagramAPI.LastJson"
   ]
  },
  {
   "cell_type": "code",
   "execution_count": null,
   "metadata": {},
   "outputs": [],
   "source": [
    "print (result['status'])"
   ]
  },
  {
   "cell_type": "code",
   "execution_count": null,
   "metadata": {},
   "outputs": [],
   "source": [
    "InstagramAPI.timelineFeed()"
   ]
  },
  {
   "cell_type": "code",
   "execution_count": null,
   "metadata": {},
   "outputs": [],
   "source": [
    "res = InstagramAPI.LastJson"
   ]
  },
  {
   "cell_type": "code",
   "execution_count": null,
   "metadata": {},
   "outputs": [],
   "source": [
    "res"
   ]
  },
  {
   "cell_type": "markdown",
   "metadata": {},
   "source": [
    "### Show the pictures from your account in the Jupyter notebook\n",
    "\n",
    "In the above json dictionary we have the link to the images. We can display them like this:"
   ]
  },
  {
   "cell_type": "code",
   "execution_count": null,
   "metadata": {},
   "outputs": [],
   "source": [
    "from IPython.display import Image as image\n",
    "from IPython.display import display\n",
    "\n",
    "url = 'https://instagram.fqls1-1.fna.fbcdn.net/vp/a881379f7a5d9ada39e60dd5791344a7/5C0DA510/t51.2885-15/sh0.08/e35/s750x750/39026032_683146402062694_5636277589606662144_n.jpg?ig_cache_key=MTg0NzI1ODEwNjE1ODA2NDU1OA%3D%3D.2'\n",
    "\n",
    "img = image(url=url)\n",
    "display(img)"
   ]
  },
  {
   "cell_type": "markdown",
   "metadata": {},
   "source": [
    "https://www.kdnuggets.com/2017/08/instagram-python-data-analysis.html"
   ]
  },
  {
   "cell_type": "markdown",
   "metadata": {},
   "source": [
    "In Module 3 you may do as project deep learning on pictures. Can you teach your deep neural network to distinguish a human from a pig? Or a male human face from a female human face? Instagram could be a source of pictures, e.g. by hash tags. If you do supervised learning, the annotation of the pictures is the larger job.   "
   ]
  },
  {
   "cell_type": "markdown",
   "metadata": {},
   "source": [
    "# Last word\n",
    "\n",
    "The power is yours. \n",
    "\n"
   ]
  }
 ],
 "metadata": {
  "kernelspec": {
   "display_name": "Python 3",
   "language": "python",
   "name": "python3"
  },
  "language_info": {
   "codemirror_mode": {
    "name": "ipython",
    "version": 3
   },
   "file_extension": ".py",
   "mimetype": "text/x-python",
   "name": "python",
   "nbconvert_exporter": "python",
   "pygments_lexer": "ipython3",
   "version": "3.5.2"
  }
 },
 "nbformat": 4,
 "nbformat_minor": 2
}
