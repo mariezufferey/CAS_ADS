{
 "cells": [
  {
   "cell_type": "markdown",
   "metadata": {},
   "source": [
    "Notebook 1, Module 1, Data and Data Management, CAS Applied Data Science, 2019-08-20, S. Haug, University of Bern. "
   ]
  },
  {
   "cell_type": "markdown",
   "metadata": {},
   "source": [
    "# 1. Data Management\n",
    "\n",
    "Estimated study time is up to 2 hours. According to your background and how much you want to learn, you may need more or less. You are supposed to google, read manuals and chat with others during working through this notebook in order to benefit fully.\n",
    "\n",
    "**Learning outcomes - after completion you**\n",
    "- Know about data sources, types and formats (see lecture slides)\n",
    "- Able to import and export data in Python\n",
    "- Able to do simple things with dataframes in Python\n",
    "- Know about data volumes, metadata and quality\n",
    "\n",
    "- Able to plot histograms and scatter plots in Python\n",
    "\n",
    "**Documentation on Pandas DataFrame**\n",
    "- Python: https://pandas.pydata.org/pandas-docs/stable/generated/pandas.DataFrame.html\n",
    "\n",
    "## Outline\n",
    "\n",
    "     0. About data management\n",
    "     1. Getting used to Jupyter lab\n",
    "     2. Import datasets into a Python dataframe\n",
    "     3. Indexing on a dataframe\n",
    "     4. Sorting \n",
    "     5. Filtering\n",
    "     6. Exporting\n",
    "     7. Missing and bad data\n",
    "     8. Metadata\n",
    "     9. Working on the filesystem\n"
   ]
  },
  {
   "cell_type": "markdown",
   "metadata": {},
   "source": [
    "### 0. About data management"
   ]
  },
  {
   "cell_type": "markdown",
   "metadata": {},
   "source": [
    "Handling or managing data involves many steps and technologies at many levels. Data my be colleccted by sensors. It can be a camera, a temperature sensor, a telescope, a microscope (with a camera), a microphone, a particle detector etc. Normally the data is then digitised, maybe preprocessed and written to some media in a certain format, e.g. hard disk. This part of the data management is normally taken care of by engineers. \n",
    "\n",
    "Data may also be collected from all sorts of databases, so data already collected somehow. Time series of financial data, customers, passengers, facebook likes, twitter tweets etc. This is data which is normally already on a media with some interface for access, e.g. paper to be read by a camera, a file on youtube, a table on wikipedia etc. We will look at some ways to collect such data. Some programming and computer skills are needed to do so. It may be that this part of the data management is taken care of by specialised computer scientists, but it may also be expected from a data scientist to have these skills. \n",
    "\n",
    "Analysing data with statisitical and machine learning tools, requires that the data is colleceted, cleaned, prepared for the tools. This is very often a very large part of a data analytics project and a prerequisite. It may involve removing bad data, filter out redundant and noisy data, unify the formats and types, transform the data etc. \n",
    "Thus, a data scientist must be able to perform this part of the data management. This notebook shows the basic operations with Python pandas. With other tools the concepts and operations are very similar.\n",
    "\n",
    "After the data analysis, after the extraction of information and the creation of knowledge, the data is often stored or archived for the future (if this seems cheaper than regenerating the data at a later point). In larger institutions this part of the data management may include educated librarians and others, not necessarily the data scientist.  \n"
   ]
  },
  {
   "cell_type": "markdown",
   "metadata": {},
   "source": [
    "### 1. Getting used to Jupyter lab and computational notebooks\n",
    "\n",
    "Jupyter lab is a \"laboratory\" where you can write rich text notebooks with executable code via your browser. There are several so-called kernels or computational back ends, i.e Python, R, Julia, bash etc can be supported. The text is written as Markdown. Latex is also supported (good for math). You can export the notebook in various formats, e.g. html. Everything can be done via the various tabs, however, the key shortcuts make you faster. \n",
    "\n",
    "*Useful key combinations*\n",
    "\n",
    "- Shift Enter or Control Enter = Run cell\n",
    "- Option Enter = Run cell and Insert new cell below\n",
    "\n",
    "*Exercises (10 min)*\n",
    "- Change and run this cell\n",
    "- Add a new cell and execute some python statement in it\n",
    "- Study the tabs"
   ]
  },
  {
   "cell_type": "code",
   "execution_count": 14,
   "metadata": {},
   "outputs": [
    {
     "name": "stdout",
     "output_type": "stream",
     "text": [
      "Hallo Sigve\n"
     ]
    }
   ],
   "source": [
    "# Write some Python here\n",
    "\n",
    "print('Hallo Sigve')"
   ]
  },
  {
   "cell_type": "markdown",
   "metadata": {},
   "source": [
    "### 2. Import a dataset into a Python DataFrame\n",
    "\n",
    "Pandas is a Python Module/Library for data analysis and manipulation. It has the data structure DataFrame which is quite powerful. Features\n",
    "\n",
    "- DataFrame object for data manipulation with integrated indexing.\n",
    "- Tools for reading and writing data between in-memory data structures and different file formats.\n",
    "- Data alignment and integrated handling of missing data.\n",
    "- Reshaping and pivoting of data sets.\n",
    "- Label-based slicing, fancy indexing, and subsetting of large data sets.\n",
    "- Data structure column insertion and deletion.\n",
    "- Group by engine allowing split-apply-combine operations on data sets.\n",
    "- Data set merging and joining.\n",
    "- Hierarchical axis indexing to work with high-dimensional data in a lower-dimensional data structure.\n",
    "- Time series-functionality: Date range generation and frequency conversion, moving window statistics, moving window linear regressions, date shifting and lagging.\n",
    "\n",
    "The module is highly optimized for performance, with critical code paths written in Cython or C. Documentation here: https://pandas.pydata.org/pandas-docs/stable/api.html\n",
    "\n",
    "For input/output (I/O) there are methods for reading SQL databases, HTML tables, clipboard, SAS, STATA etc."
   ]
  },
  {
   "cell_type": "code",
   "execution_count": 15,
   "metadata": {},
   "outputs": [],
   "source": [
    "import pandas"
   ]
  },
  {
   "cell_type": "code",
   "execution_count": 16,
   "metadata": {},
   "outputs": [
    {
     "data": {
      "text/html": [
       "<div>\n",
       "<style scoped>\n",
       "    .dataframe tbody tr th:only-of-type {\n",
       "        vertical-align: middle;\n",
       "    }\n",
       "\n",
       "    .dataframe tbody tr th {\n",
       "        vertical-align: top;\n",
       "    }\n",
       "\n",
       "    .dataframe thead th {\n",
       "        text-align: right;\n",
       "    }\n",
       "</style>\n",
       "<table border=\"1\" class=\"dataframe\">\n",
       "  <thead>\n",
       "    <tr style=\"text-align: right;\">\n",
       "      <th></th>\n",
       "      <th>slength</th>\n",
       "      <th>swidth</th>\n",
       "      <th>plength</th>\n",
       "      <th>pwidth</th>\n",
       "      <th>species</th>\n",
       "    </tr>\n",
       "  </thead>\n",
       "  <tbody>\n",
       "    <tr>\n",
       "      <th>0</th>\n",
       "      <td>5.1</td>\n",
       "      <td>3.5</td>\n",
       "      <td>1.4</td>\n",
       "      <td>0.2</td>\n",
       "      <td>Iris-setosa</td>\n",
       "    </tr>\n",
       "    <tr>\n",
       "      <th>1</th>\n",
       "      <td>4.9</td>\n",
       "      <td>3.0</td>\n",
       "      <td>1.4</td>\n",
       "      <td>0.2</td>\n",
       "      <td>Iris-setosa</td>\n",
       "    </tr>\n",
       "    <tr>\n",
       "      <th>2</th>\n",
       "      <td>4.7</td>\n",
       "      <td>3.2</td>\n",
       "      <td>1.3</td>\n",
       "      <td>0.2</td>\n",
       "      <td>Iris-setosa</td>\n",
       "    </tr>\n",
       "    <tr>\n",
       "      <th>3</th>\n",
       "      <td>4.6</td>\n",
       "      <td>3.1</td>\n",
       "      <td>1.5</td>\n",
       "      <td>0.2</td>\n",
       "      <td>Iris-setosa</td>\n",
       "    </tr>\n",
       "    <tr>\n",
       "      <th>4</th>\n",
       "      <td>5.0</td>\n",
       "      <td>3.6</td>\n",
       "      <td>1.4</td>\n",
       "      <td>0.2</td>\n",
       "      <td>Iris-setosa</td>\n",
       "    </tr>\n",
       "  </tbody>\n",
       "</table>\n",
       "</div>"
      ],
      "text/plain": [
       "  slength swidth plength pwidth      species\n",
       "0     5.1    3.5     1.4    0.2  Iris-setosa\n",
       "1     4.9    3.0     1.4    0.2  Iris-setosa\n",
       "2     4.7    3.2     1.3    0.2  Iris-setosa\n",
       "3     4.6    3.1     1.5    0.2  Iris-setosa\n",
       "4     5.0    3.6     1.4    0.2  Iris-setosa"
      ]
     },
     "execution_count": 16,
     "metadata": {},
     "output_type": "execute_result"
    }
   ],
   "source": [
    "# import the python module pandas with the abbreviation pd\n",
    "import pandas as pd\n",
    "# Read the data in the iris.csv file into a dataframe\n",
    "dataframe = pd.read_csv('iris.csv',dtype='str',names=['slength','swidth','plength','pwidth','species']) # data type is a string (str), i.e. not converted into numbers\n",
    "dataframe.head() # print data"
   ]
  },
  {
   "cell_type": "markdown",
   "metadata": {},
   "source": [
    "The notebook shows 50 rows per default. We can change this as we like:\n"
   ]
  },
  {
   "cell_type": "code",
   "execution_count": 17,
   "metadata": {},
   "outputs": [],
   "source": [
    "pd.set_option('display.max_rows', 30) # or whatever number you like or None  "
   ]
  },
  {
   "cell_type": "code",
   "execution_count": 18,
   "metadata": {},
   "outputs": [
    {
     "data": {
      "text/plain": [
       "<bound method NDFrame.head of     slength swidth plength pwidth         species\n",
       "0       5.1    3.5     1.4    0.2     Iris-setosa\n",
       "1       4.9    3.0     1.4    0.2     Iris-setosa\n",
       "2       4.7    3.2     1.3    0.2     Iris-setosa\n",
       "3       4.6    3.1     1.5    0.2     Iris-setosa\n",
       "4       5.0    3.6     1.4    0.2     Iris-setosa\n",
       "5       5.4    3.9     1.7    0.4     Iris-setosa\n",
       "6       4.6    3.4     1.4    0.3     Iris-setosa\n",
       "7       5.0    3.4     1.5    0.2     Iris-setosa\n",
       "8       4.4    2.9     1.4    0.2     Iris-setosa\n",
       "9       4.9    3.1     1.5    0.1     Iris-setosa\n",
       "10      5.4    3.7     1.5    0.2     Iris-setosa\n",
       "11      4.8    3.4     1.6    0.2     Iris-setosa\n",
       "12      4.8    3.0     1.4    0.1     Iris-setosa\n",
       "13      4.3    3.0     1.1    0.1     Iris-setosa\n",
       "14      5.8    4.0     1.2    0.2     Iris-setosa\n",
       "..      ...    ...     ...    ...             ...\n",
       "135     7.7    3.0     6.1    2.3  Iris-virginica\n",
       "136     6.3    3.4     5.6    2.4  Iris-virginica\n",
       "137     6.4    3.1     5.5    1.8  Iris-virginica\n",
       "138     6.0    3.0     4.8    1.8  Iris-virginica\n",
       "139     6.9    3.1     5.4    2.1  Iris-virginica\n",
       "140     6.7    3.1     5.6    2.4  Iris-virginica\n",
       "141     6.9    3.1     5.1    2.3  Iris-virginica\n",
       "142     5.8    2.7     5.1    1.9  Iris-virginica\n",
       "143     6.8    3.2     5.9    2.3  Iris-virginica\n",
       "144     6.7    3.3     5.7    2.5  Iris-virginica\n",
       "145     6.7    3.0     5.2    2.3  Iris-virginica\n",
       "146     6.3    2.5     5.0    1.9  Iris-virginica\n",
       "147     6.5    3.0     5.2    2.0  Iris-virginica\n",
       "148     6.2    3.4     5.4    2.3  Iris-virginica\n",
       "149     5.9    3.0     5.1    1.8  Iris-virginica\n",
       "\n",
       "[150 rows x 5 columns]>"
      ]
     },
     "execution_count": 18,
     "metadata": {},
     "output_type": "execute_result"
    }
   ],
   "source": [
    "dataframe.head"
   ]
  },
  {
   "cell_type": "code",
   "execution_count": 19,
   "metadata": {},
   "outputs": [
    {
     "name": "stdout",
     "output_type": "stream",
     "text": [
      "<class 'pandas.core.frame.DataFrame'>\n",
      "RangeIndex: 150 entries, 0 to 149\n",
      "Data columns (total 5 columns):\n",
      "slength    150 non-null object\n",
      "swidth     150 non-null object\n",
      "plength    150 non-null object\n",
      "pwidth     150 non-null object\n",
      "species    150 non-null object\n",
      "dtypes: object(5)\n",
      "memory usage: 5.9+ KB\n"
     ]
    }
   ],
   "source": [
    "dataframe.info()"
   ]
  },
  {
   "cell_type": "markdown",
   "metadata": {},
   "source": [
    "### Hint\n",
    "\n",
    "There are some ways to get help about modules and methods in Jupyter:"
   ]
  },
  {
   "cell_type": "code",
   "execution_count": 20,
   "metadata": {},
   "outputs": [
    {
     "ename": "SyntaxError",
     "evalue": "invalid syntax (<ipython-input-20-b42447b352cc>, line 1)",
     "output_type": "error",
     "traceback": [
      "\u001b[0;36m  File \u001b[0;32m\"<ipython-input-20-b42447b352cc>\"\u001b[0;36m, line \u001b[0;32m1\u001b[0m\n\u001b[0;31m    dataframe. #(tab completion - type tab after the dot to see all methods)\u001b[0m\n\u001b[0m                                                                            ^\u001b[0m\n\u001b[0;31mSyntaxError\u001b[0m\u001b[0;31m:\u001b[0m invalid syntax\n"
     ]
    }
   ],
   "source": [
    "dataframe. #(tab completion - type tab after the dot to see all methods)"
   ]
  },
  {
   "cell_type": "markdown",
   "metadata": {},
   "source": [
    "Get help about this object, if there is any:"
   ]
  },
  {
   "cell_type": "code",
   "execution_count": null,
   "metadata": {},
   "outputs": [],
   "source": [
    "dataframe?"
   ]
  },
  {
   "cell_type": "markdown",
   "metadata": {},
   "source": [
    "### 3. Indexing on a DataFrame\n",
    "\n",
    "By methods:"
   ]
  },
  {
   "cell_type": "code",
   "execution_count": null,
   "metadata": {},
   "outputs": [],
   "source": [
    "dataframe.iat[149,1] # by integer numbers (row 149, column 1)"
   ]
  },
  {
   "cell_type": "code",
   "execution_count": null,
   "metadata": {},
   "outputs": [],
   "source": [
    "dataframe.at[149,'slength'] # by row number and column name"
   ]
  },
  {
   "cell_type": "code",
   "execution_count": null,
   "metadata": {},
   "outputs": [],
   "source": [
    "dataframe.iat[149,1]=10 # Assign a new value"
   ]
  },
  {
   "cell_type": "markdown",
   "metadata": {},
   "source": [
    "Indexing a group/subset of the dataframe"
   ]
  },
  {
   "cell_type": "code",
   "execution_count": null,
   "metadata": {},
   "outputs": [],
   "source": [
    "sdf = dataframe.iloc[0:10,0:5]\n",
    "print(sdf)"
   ]
  },
  {
   "cell_type": "markdown",
   "metadata": {},
   "source": [
    "**Important** \n",
    "When you assign a (subset) of dataframe to a new one like above, no copy is made. This means that if you change values of the new frame, also the orginal frame will be changed. If you want a copy, you need to use the copy method."
   ]
  },
  {
   "cell_type": "markdown",
   "metadata": {},
   "source": [
    "Indexing by column names..."
   ]
  },
  {
   "cell_type": "code",
   "execution_count": null,
   "metadata": {},
   "outputs": [],
   "source": [
    "sdf['slength']"
   ]
  },
  {
   "cell_type": "markdown",
   "metadata": {},
   "source": [
    "Selecting (filtering) by column valuess_df = dataframe[dataframe['species']=='Iris-setosa']"
   ]
  },
  {
   "cell_type": "code",
   "execution_count": null,
   "metadata": {},
   "outputs": [],
   "source": [
    "s_df = dataframe[dataframe['species']=='Iris-setosa']"
   ]
  },
  {
   "cell_type": "code",
   "execution_count": null,
   "metadata": {},
   "outputs": [],
   "source": [
    "s_df.head"
   ]
  },
  {
   "cell_type": "markdown",
   "metadata": {},
   "source": [
    "Vectorized dataframe manipulations..."
   ]
  },
  {
   "cell_type": "code",
   "execution_count": null,
   "metadata": {},
   "outputs": [],
   "source": [
    "s_df['half slength']=s_df['slength'].astype('float')/2.\n",
    "s_df.head"
   ]
  },
  {
   "cell_type": "markdown",
   "metadata": {},
   "source": [
    "### 4. Sorting on a DataFrame\n",
    "\n",
    "..."
   ]
  },
  {
   "cell_type": "code",
   "execution_count": null,
   "metadata": {},
   "outputs": [],
   "source": [
    "s_df.sort_values(['slength','swidth']).head"
   ]
  },
  {
   "cell_type": "code",
   "execution_count": null,
   "metadata": {},
   "outputs": [],
   "source": [
    "s_df.head"
   ]
  },
  {
   "cell_type": "markdown",
   "metadata": {},
   "source": [
    "You may measure the time needed for the execution, e.g. with the system command time. System commands are executed with a %:"
   ]
  },
  {
   "cell_type": "code",
   "execution_count": null,
   "metadata": {},
   "outputs": [],
   "source": [
    "%time s_df[s_df['species']=='Iris-setosa'].sort_values('slength').head"
   ]
  },
  {
   "cell_type": "code",
   "execution_count": null,
   "metadata": {},
   "outputs": [],
   "source": [
    "%ls -l # list the file in your current directory with the linux command ls"
   ]
  },
  {
   "cell_type": "markdown",
   "metadata": {},
   "source": [
    "### 5. Filtering on a DataFrame\n",
    "..."
   ]
  },
  {
   "cell_type": "code",
   "execution_count": null,
   "metadata": {},
   "outputs": [],
   "source": [
    "s_df['slength'].astype('float')>5.0"
   ]
  },
  {
   "cell_type": "code",
   "execution_count": null,
   "metadata": {},
   "outputs": [],
   "source": [
    "s_df_large = s_df[s_df['slength'].astype('float')>5.0]"
   ]
  },
  {
   "cell_type": "code",
   "execution_count": null,
   "metadata": {},
   "outputs": [],
   "source": [
    "s_df_large.head"
   ]
  },
  {
   "cell_type": "markdown",
   "metadata": {},
   "source": [
    "### 6. Missing or bad data\n",
    "\n",
    "Datasets, in particular before they are \"cleaned\", may contain missing or wrongly formated values. There are DataFrame methods to deal with this:\n",
    "\n",
    "- DataFrame.dropna([axis, how, thresh, …])\tRemove missing values.\n",
    "- DataFrame.fillna([value, method, axis, …])\tFill NA/NaN values using the specified method\n",
    "- DataFrame.replace([to_replace, value, …])\tReplace values given in to_replace with value.\n",
    "- DataFrame.interpolate([method, axis, limit, …])\tInterpolate values according to different methods.\n",
    "\n"
   ]
  },
  {
   "cell_type": "markdown",
   "metadata": {},
   "source": [
    "### 7. Exporting dataframes\n",
    "\n",
    "DataFrame has several export methods. (html, hdf5, ascii, excel etc). Let's write our file to a text file in a csv format. "
   ]
  },
  {
   "cell_type": "code",
   "execution_count": null,
   "metadata": {},
   "outputs": [],
   "source": [
    "s_df.to_csv('~/Desktop/myout.txt')"
   ]
  },
  {
   "cell_type": "markdown",
   "metadata": {},
   "source": [
    "### 8. Metadata\n",
    "\n",
    "\n",
    "Metadata is data about the data, e.g. when was it collected, under which conditions, calibration etc. \n",
    "Metadata is normally not part of the statistical data analysis. \n",
    "\n",
    "DataFrame is not really made for storing metadata (should be done separately), but one can add new attributes to a dataframe:\n"
   ]
  },
  {
   "cell_type": "code",
   "execution_count": null,
   "metadata": {},
   "outputs": [],
   "source": [
    "s_df.myinstrument_name = 'Binky'\n",
    "s_df.myinstrument_name"
   ]
  },
  {
   "cell_type": "markdown",
   "metadata": {},
   "source": [
    "### 9. Working on the filesystem with the os module\n",
    "\n",
    "When managing large datasets, one often has to organise files in the file system. This includes finding them, moving and copying them, creating new folders/directories, renaming them etc. This can easily be done from Python with the os (operating system) module. \n",
    "\n",
    "Try to understand the following code and alter it to do something else. "
   ]
  },
  {
   "cell_type": "code",
   "execution_count": null,
   "metadata": {},
   "outputs": [],
   "source": [
    "import os\n",
    "\n",
    "new_dir = os.getcwd() +'/newnbdir' # Get the current directory into a string, add /newnbdir to the string\n",
    "os.makedirs(new_dir) # Create the folder\n",
    "files = os.listdir() # List the files in the current folder\n",
    "nb_files = [] # Create an empty list\n",
    "for file in files:\n",
    "    if 'ipynb' in file and file[0]!='.':\n",
    "        nb_files.append(file)\n",
    "for file in nb_files:\n",
    "    os.system('cp '+file+' '+new_dir+'/')"
   ]
  },
  {
   "cell_type": "markdown",
   "metadata": {},
   "source": [
    "## Exercise\n",
    "\n",
    "Read in the iris dataset from iris.csv into a dataframe. Set the values column 1 in row 39, 49 and 100 to NaN. Save the 100 first rows of the manupilated data set as file iris-NaN.csv.\n",
    "Read in this file and set all the NaN values to the average value of the respective column.\n",
    "Depending on how you do it, this may be 20-40 lines of Python code."
   ]
  },
  {
   "cell_type": "code",
   "execution_count": 21,
   "metadata": {},
   "outputs": [
    {
     "data": {
      "text/plain": [
       "<bound method NDFrame.head of           0         1         2         3         4         5         6    \\\n",
       "0    0.642134 -0.558046 -0.287874 -1.447960       NaN -1.338205  0.241819   \n",
       "1   -0.145804 -1.102466 -0.916527 -2.631535  0.019301 -0.078887       NaN   \n",
       "2   -0.296863       NaN -0.986844 -1.641854  0.073755 -0.834819       NaN   \n",
       "3    0.675548 -0.336745  0.399539 -1.195764  0.805444 -1.411983  0.542212   \n",
       "4         NaN -0.760234 -0.891004 -1.234054  0.111736 -0.323086 -0.985288   \n",
       "5   -1.299589 -0.616774 -0.371745 -0.775786 -0.583142 -1.265045 -1.337844   \n",
       "6   -0.918422       NaN -0.239595 -0.674718 -0.175264 -0.206493 -0.517457   \n",
       "7   -0.241084  0.349308  0.263156       NaN  0.460787 -0.294682  0.674310   \n",
       "8   -0.803603       NaN  0.305325  0.393645  0.442823  0.724301  0.162885   \n",
       "9         NaN       NaN       NaN       NaN  0.435204 -0.825935       NaN   \n",
       "10  -1.229060 -1.022178 -0.048276 -0.933538       NaN -0.518877 -0.337125   \n",
       "11  -1.722253 -0.592439  0.714840       NaN       NaN -0.226841 -0.878795   \n",
       "12  -0.680068  0.068169 -0.291947  0.794404       NaN  0.199702       NaN   \n",
       "13        NaN -1.313319 -0.279521  0.324167       NaN -0.092606  0.464031   \n",
       "14        NaN       NaN -0.842280 -0.288408 -0.621057  0.330598       NaN   \n",
       "..        ...       ...       ...       ...       ...       ...       ...   \n",
       "985  0.304039       NaN  0.162097       NaN -1.641157  0.520840 -0.768008   \n",
       "986  0.156013  0.140402 -1.115040 -0.838241       NaN  0.452949 -1.257036   \n",
       "987  0.523240       NaN -1.085033       NaN  0.861114 -0.935155 -0.197166   \n",
       "988 -0.826018  0.224484  0.547551 -0.204286 -0.006116  0.318721 -0.418222   \n",
       "989 -0.733979  0.631923  0.459024 -1.929988  0.450622       NaN -0.561799   \n",
       "990 -0.233705       NaN -0.256652  0.702352  0.563400 -0.017645  0.288337   \n",
       "991  0.749287  0.040470 -0.290917 -0.697449 -1.718461  0.354622  0.600100   \n",
       "992       NaN  0.019755 -1.487097       NaN  0.482136  0.134425  0.194695   \n",
       "993  0.411604 -1.024989  0.198761       NaN -0.684513 -0.230274 -0.065306   \n",
       "994       NaN  0.821215 -0.143493       NaN       NaN  0.385422  0.503809   \n",
       "995 -1.074967  0.144802  0.685817       NaN  0.612975       NaN -1.071965   \n",
       "996  0.387352  0.004426  0.609027  0.493642  0.486611 -1.089035 -0.565315   \n",
       "997       NaN -0.552787  0.185307  0.076307 -1.031946  0.059245  0.187504   \n",
       "998 -0.335038       NaN       NaN       NaN -2.182266  0.299233  0.227314   \n",
       "999       NaN  0.173430 -0.097054       NaN -0.327380 -0.265113       NaN   \n",
       "\n",
       "          7         8         9    ...       990       991       992  \\\n",
       "0   -0.852023  0.157797 -1.674305  ...       NaN -0.814753 -0.899094   \n",
       "1    0.535687 -1.020463 -0.876123  ...       NaN       NaN -0.504069   \n",
       "2   -0.106638 -0.209149       NaN  ...  0.365436 -0.174655 -1.069219   \n",
       "3    0.697017  0.448881       NaN  ... -0.992288  0.805184  0.048147   \n",
       "4    0.182112       NaN  0.676116  ...  0.863739 -0.091104 -0.073191   \n",
       "5   -0.159261  0.124157  0.429404  ... -1.686336  0.030923 -0.406798   \n",
       "6   -0.116942 -1.607497  0.246815  ...  0.027369 -0.038345  0.075993   \n",
       "7   -0.244793 -0.183922       NaN  ... -1.167412       NaN  0.784455   \n",
       "8   -1.548362 -0.469290 -1.386388  ... -1.012415       NaN       NaN   \n",
       "9   -0.182205 -1.293023 -0.615812  ...       NaN  0.197951       NaN   \n",
       "10        NaN -0.351675 -0.467201  ... -1.521333 -0.008413 -0.012063   \n",
       "11        NaN -0.639231 -0.534606  ... -1.842853       NaN -0.237843   \n",
       "12  -2.030864  0.209236  0.464045  ...       NaN  0.205695 -0.334745   \n",
       "13        NaN -0.029130  0.284124  ... -0.885372  0.421193 -0.186473   \n",
       "14  -0.274283 -0.012961 -0.422649  ...  0.411207       NaN  0.431246   \n",
       "..        ...       ...       ...  ...       ...       ...       ...   \n",
       "985 -0.555159 -1.030537       NaN  ...  0.438400  0.190478 -0.074370   \n",
       "986 -1.531171  0.475689 -0.079224  ...  0.351702 -0.294732 -0.661319   \n",
       "987  0.734871 -0.797299 -1.276979  ...  0.056430  0.040229       NaN   \n",
       "988 -2.506165       NaN -0.457316  ... -1.068238  0.551474 -0.947694   \n",
       "989  0.555343 -2.093025       NaN  ... -1.592976       NaN -0.268882   \n",
       "990       NaN -1.430864 -1.536598  ...  0.038715 -2.055491  0.824444   \n",
       "991 -0.641443 -1.430072       NaN  ... -0.615054  0.098321       NaN   \n",
       "992 -0.525968       NaN  0.818852  ...  0.699239 -0.744329 -0.415172   \n",
       "993  0.595213 -0.220581 -0.876402  ...       NaN  0.096410  0.664996   \n",
       "994       NaN  0.524271  0.398946  ... -0.606627  0.439173       NaN   \n",
       "995       NaN       NaN  0.805964  ...       NaN -0.309693  0.488429   \n",
       "996  0.126509 -2.020424  0.119116  ...  0.086034       NaN  0.303317   \n",
       "997  0.690633       NaN  0.890693  ...  0.142094 -0.525500 -2.431775   \n",
       "998       NaN       NaN -0.495330  ... -1.073214 -1.413486 -1.796639   \n",
       "999       NaN  0.619986       NaN  ... -0.936912       NaN -0.705830   \n",
       "\n",
       "          993       994       995       996       997       998       999  \n",
       "0   -0.468943 -1.546841 -0.057131       NaN -0.455177 -0.314327 -0.102268  \n",
       "1         NaN       NaN       NaN  0.253683 -0.297387 -1.108890 -0.639874  \n",
       "2   -1.307440  0.645719 -0.547205 -0.305834       NaN -0.857071 -0.793565  \n",
       "3   -1.604789  0.632818 -1.134816 -1.573522  0.171063  0.635959 -0.019427  \n",
       "4    0.737477  0.138028       NaN -0.236646       NaN -0.417711 -0.063733  \n",
       "5    0.898242 -0.698746  0.499032 -0.931382 -1.437747 -0.846048 -0.020250  \n",
       "6   -1.204319       NaN       NaN  0.101773       NaN -0.679593 -0.039837  \n",
       "7   -2.473056  0.087247       NaN -0.900231  0.444192 -1.280674  0.333284  \n",
       "8   -0.158003       NaN       NaN -0.924127 -0.207288  0.438506 -0.346247  \n",
       "9   -1.076200       NaN -0.520864  0.303155       NaN  0.659410 -0.637494  \n",
       "10  -2.021115       NaN  0.035436  0.845194 -0.455253       NaN -0.299815  \n",
       "11  -0.986436 -1.064077  0.637860       NaN       NaN -1.158124 -0.567547  \n",
       "12  -0.343335  0.279504       NaN -0.749733 -0.432708       NaN -0.769891  \n",
       "13   0.002304  0.297313 -0.086439 -0.819461  0.061000  0.246289 -1.809329  \n",
       "14  -0.888549 -0.277548       NaN -0.165759       NaN -0.136901  0.899066  \n",
       "..        ...       ...       ...       ...       ...       ...       ...  \n",
       "985       NaN       NaN  0.182752  0.885043 -0.304424 -0.041036 -0.742258  \n",
       "986       NaN -0.102730 -0.687179       NaN       NaN  0.344827 -0.186634  \n",
       "987  0.530263       NaN -0.108548  0.740262       NaN -0.462575 -0.760647  \n",
       "988 -1.534901       NaN -1.210595  0.119190 -0.692354       NaN -0.420410  \n",
       "989 -1.368329       NaN       NaN  0.694884  0.402129 -2.709279       NaN  \n",
       "990 -0.429398 -0.425044 -0.703064 -0.289974       NaN -1.175397 -0.097774  \n",
       "991 -0.184535 -1.020209       NaN -0.582722       NaN -0.659901  0.036349  \n",
       "992  0.773772 -0.524511 -0.859425       NaN -0.750527 -0.211787 -1.540719  \n",
       "993       NaN -0.211486 -0.479724 -0.359467 -0.444056  0.295582 -0.266297  \n",
       "994       NaN -0.710791 -2.004258  0.454528 -0.474300       NaN -0.687704  \n",
       "995       NaN -0.357305  0.475261 -0.081963       NaN  0.121205 -1.596080  \n",
       "996  0.650533  0.251501       NaN  0.640670 -0.120851 -0.462700  0.107847  \n",
       "997  0.767019 -0.757047 -0.921621  0.311760  0.271202  0.885209  0.118337  \n",
       "998 -0.572328 -0.816046  0.382319 -0.116883       NaN -1.289582  0.374502  \n",
       "999 -0.156193 -0.696668  0.024987 -0.696890 -1.276824 -0.461810  0.516433  \n",
       "\n",
       "[1000 rows x 1000 columns]>"
      ]
     },
     "execution_count": 21,
     "metadata": {},
     "output_type": "execute_result"
    }
   ],
   "source": [
    "# Example on how to fill a dataframe with some NaN\n",
    "import numpy as np\n",
    "df = pd.DataFrame(np.random.randn(1000,1000))\n",
    "df[df > 0.9] = pd.np.nan\n",
    "df.head"
   ]
  },
  {
   "cell_type": "code",
   "execution_count": 22,
   "metadata": {},
   "outputs": [],
   "source": [
    "# Solve your exercise here\n"
   ]
  },
  {
   "cell_type": "markdown",
   "metadata": {},
   "source": [
    "# End of today - remember to fill the mandatory form\n",
    "\n",
    "Everyone has to fill this form by 10 pm : https://forms.gle/bzDpGLUieVnheZUi6.\n",
    "Have a nice evening and see you tomorrow."
   ]
  },
  {
   "cell_type": "code",
   "execution_count": null,
   "metadata": {},
   "outputs": [],
   "source": []
  },
  {
   "cell_type": "code",
   "execution_count": null,
   "metadata": {},
   "outputs": [],
   "source": []
  }
 ],
 "metadata": {
  "kernelspec": {
   "display_name": "Python 3",
   "language": "python",
   "name": "python3"
  },
  "language_info": {
   "codemirror_mode": {
    "name": "ipython",
    "version": 3
   },
   "file_extension": ".py",
   "mimetype": "text/x-python",
   "name": "python",
   "nbconvert_exporter": "python",
   "pygments_lexer": "ipython3",
   "version": "3.5.2"
  }
 },
 "nbformat": 4,
 "nbformat_minor": 2
}
