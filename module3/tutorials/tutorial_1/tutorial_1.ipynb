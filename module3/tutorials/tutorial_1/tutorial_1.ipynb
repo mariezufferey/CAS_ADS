{
  "nbformat": 4,
  "nbformat_minor": 0,
  "metadata": {
    "colab": {
      "name": "tutorialI.ipynb",
      "version": "0.3.2",
      "provenance": [],
      "collapsed_sections": []
    },
    "kernelspec": {
      "display_name": "Python 3",
      "language": "python",
      "name": "python3"
    }
  },
  "cells": [
    {
      "metadata": {
        "id": "QAqFZz6IAmsz",
        "colab_type": "text"
      },
      "cell_type": "markdown",
      "source": [
        "# Tutorial I: Introduction to TensorFlow"
      ]
    },
    {
      "metadata": {
        "id": "UoAV8l4tAms0",
        "colab_type": "text"
      },
      "cell_type": "markdown",
      "source": [
        "<p>\n",
        "Bern Winter School on Machine Learning, 28.01-01.02 2019<br>\n",
        "Mykhailo Vladymyrov\n",
        "</p>\n",
        "\n",
        "This work is licensed under a <a href=\"http://creativecommons.org/licenses/by-nc-sa/4.0/\">Creative Commons Attribution-NonCommercial-ShareAlike 4.0 International License</a>."
      ]
    },
    {
      "metadata": {
        "id": "WlxFAJxAAms1",
        "colab_type": "text"
      },
      "cell_type": "markdown",
      "source": [
        "The main feature of TF is the way we define operations.\n",
        "In regular programming we define a set of functions or methods on the objects.\n",
        "In TF we define a computational graph. Computational graph is a directed graph in which every node corresponds to an operation or variable. Variables can feed their value into operations, and operations can feed their output into other operations.\n",
        "Then, during execution we feed some data and/or parameters as input of the graph, and the graph produces the output."
      ]
    },
    {
      "metadata": {
        "id": "tOUS7R7YAms1",
        "colab_type": "text"
      },
      "cell_type": "markdown",
      "source": [
        "## 00. Requirements"
      ]
    },
    {
      "metadata": {
        "id": "CaTTG7uHAms2",
        "colab_type": "text"
      },
      "cell_type": "markdown",
      "source": [
        "To run this notebooks you need Tensorflow and numpy installed.\n",
        "\n",
        "Basic knowledge of Python can be acquired [here](https://docs.python.org/3/tutorial/) and of Numpy [here](https://docs.scipy.org/doc/numpy-dev/user/quickstart.html)\n",
        "\n",
        "Full documentation on Tensorflow functions is available in the [reference](https://www.tensorflow.org/api_docs/python/). Sometimes [functions' implementation](https://github.com/tensorflow/tensorflow) might help to understand what is happening under the hood."
      ]
    },
    {
      "metadata": {
        "id": "aSIJLZt0Ams3",
        "colab_type": "text"
      },
      "cell_type": "markdown",
      "source": [
        "## 0. Cell execution"
      ]
    },
    {
      "metadata": {
        "id": "61Wck835Ams4",
        "colab_type": "text"
      },
      "cell_type": "markdown",
      "source": [
        "Press ``Ctrl+Enter`` or ``Shift+Enter`` on the next cell to execute the content"
      ]
    },
    {
      "metadata": {
        "id": "QYXYniCCAms5",
        "colab_type": "code",
        "colab": {
          "base_uri": "https://localhost:8080/",
          "height": 34
        },
        "outputId": "7c3f01cc-9609-4216-d0ab-e146c9825916"
      },
      "cell_type": "code",
      "source": [
        "print('It works')"
      ],
      "execution_count": 1,
      "outputs": [
        {
          "output_type": "stream",
          "text": [
            "It works\n"
          ],
          "name": "stdout"
        }
      ]
    },
    {
      "metadata": {
        "id": "KqqAF5ixAms8",
        "colab_type": "text"
      },
      "cell_type": "markdown",
      "source": [
        "Navigate between cells with arrows. Press `Enter` to edit cell, `Esc` to exit. Press `a` or `b` too create a new cell above or below."
      ]
    },
    {
      "metadata": {
        "id": "vWkzrhprAms9",
        "colab_type": "text"
      },
      "cell_type": "markdown",
      "source": [
        "## download libraries"
      ]
    },
    {
      "metadata": {
        "id": "8wBtR3viAms9",
        "colab_type": "code",
        "colab": {
          "base_uri": "https://localhost:8080/",
          "height": 289
        },
        "outputId": "3c954dfd-83b9-4fb7-88a7-570430ef625d"
      },
      "cell_type": "code",
      "source": [
        "! wget http://scits-training.unibe.ch/data/tut_files/t1.tgz\n",
        "! tar -xvzf t1.tgz"
      ],
      "execution_count": 2,
      "outputs": [
        {
          "output_type": "stream",
          "text": [
            "--2019-01-29 09:48:29--  http://scits-training.unibe.ch/data/tut_files/t1.tgz\n",
            "Resolving scits-training.unibe.ch (scits-training.unibe.ch)... 130.92.251.56\n",
            "Connecting to scits-training.unibe.ch (scits-training.unibe.ch)|130.92.251.56|:80... connected.\n",
            "HTTP request sent, awaiting response... 200 OK\n",
            "Length: 2185 (2.1K) [application/octet-stream]\n",
            "Saving to: ‘t1.tgz.2’\n",
            "\n",
            "t1.tgz.2            100%[===================>]   2.13K  --.-KB/s    in 0s      \n",
            "\n",
            "2019-01-29 09:48:30 (279 MB/s) - ‘t1.tgz.2’ saved [2185/2185]\n",
            "\n",
            "utils/\n",
            "utils/gr_disp.py\n",
            "utils/inception.py\n",
            "utils/__init__.py\n",
            "tar: A lone zero block at 16\n"
          ],
          "name": "stdout"
        }
      ]
    },
    {
      "metadata": {
        "id": "iUBhnuvCAmtA",
        "colab_type": "text"
      },
      "cell_type": "markdown",
      "source": [
        "## 1. Load necessary libraries"
      ]
    },
    {
      "metadata": {
        "id": "RkAOI9smAmtB",
        "colab_type": "code",
        "colab": {
          "base_uri": "https://localhost:8080/",
          "height": 17
        },
        "outputId": "0d13b836-d54c-49d1-d20d-5b95a7da6fca"
      },
      "cell_type": "code",
      "source": [
        "import sys\n",
        "\n",
        "import numpy as np\n",
        "import matplotlib.pyplot as plt\n",
        "import IPython.display as ipyd\n",
        "import tensorflow as tf\n",
        "\n",
        "# We'll tell matplotlib to inline any drawn figures like so:\n",
        "%matplotlib inline\n",
        "plt.style.use('ggplot')\n",
        "from utils import gr_disp\n",
        "\n",
        "from IPython.core.display import HTML\n",
        "HTML(\"\"\"<style> .rendered_html code { \n",
        "    padding: 2px 5px;\n",
        "    color: #0000aa;\n",
        "    background-color: #cccccc;\n",
        "} </style>\"\"\")"
      ],
      "execution_count": 3,
      "outputs": [
        {
          "output_type": "execute_result",
          "data": {
            "text/html": [
              "<style> .rendered_html code { \n",
              "    padding: 2px 5px;\n",
              "    color: #0000aa;\n",
              "    background-color: #cccccc;\n",
              "} </style>"
            ],
            "text/plain": [
              "<IPython.core.display.HTML object>"
            ]
          },
          "metadata": {
            "tags": []
          },
          "execution_count": 3
        }
      ]
    },
    {
      "metadata": {
        "id": "DH7ocf0WAmtE",
        "colab_type": "text"
      },
      "cell_type": "markdown",
      "source": [
        "## 2. Create our first graph"
      ]
    },
    {
      "metadata": {
        "id": "mFO_SXB-AmtF",
        "colab_type": "text"
      },
      "cell_type": "markdown",
      "source": [
        "First we need to define the input for the graph. The easiest way is to define so called ``placeholder``, where during the excecution we will feed in the input values."
      ]
    },
    {
      "metadata": {
        "id": "cWIR7rqgAmtF",
        "colab_type": "code",
        "colab": {}
      },
      "cell_type": "code",
      "source": [
        "input = tf.placeholder(name = 'input', shape=(), dtype=tf.float32)"
      ],
      "execution_count": 0,
      "outputs": []
    },
    {
      "metadata": {
        "id": "SliwR2NAAmtJ",
        "colab_type": "text"
      },
      "cell_type": "markdown",
      "source": [
        "Then we will define two simple operations. In most cases simple Python notation gives the desired result."
      ]
    },
    {
      "metadata": {
        "id": "F3bK8IonAmtL",
        "colab_type": "code",
        "colab": {}
      },
      "cell_type": "code",
      "source": [
        "out1 = input + 5"
      ],
      "execution_count": 0,
      "outputs": []
    },
    {
      "metadata": {
        "id": "mNpho0aaAmtO",
        "colab_type": "code",
        "colab": {}
      },
      "cell_type": "code",
      "source": [
        "out2 = input * out1"
      ],
      "execution_count": 0,
      "outputs": []
    },
    {
      "metadata": {
        "id": "VsA8PHq8AmtS",
        "colab_type": "code",
        "colab": {
          "base_uri": "https://localhost:8080/",
          "height": 641
        },
        "outputId": "7e234d42-643e-4fd6-fe96-36cfcfa95780"
      },
      "cell_type": "code",
      "source": [
        "gr_disp.show(tf.get_default_graph().as_graph_def())"
      ],
      "execution_count": 7,
      "outputs": [
        {
          "output_type": "display_data",
          "data": {
            "text/html": [
              "\n",
              "            <iframe seamless style=\"width:800px;height:620px;border:0\" srcdoc=\"\n",
              "            <script>\n",
              "              function load() {\n",
              "                document.getElementById(&quot;graph0.3667644314958487&quot;).pbtxt = 'node {\\n  name: &quot;input&quot;\\n  op: &quot;Placeholder&quot;\\n  attr {\\n    key: &quot;dtype&quot;\\n    value {\\n      type: DT_FLOAT\\n    }\\n  }\\n  attr {\\n    key: &quot;shape&quot;\\n    value {\\n      shape {\\n      }\\n    }\\n  }\\n}\\nnode {\\n  name: &quot;add/y&quot;\\n  op: &quot;Const&quot;\\n  attr {\\n    key: &quot;dtype&quot;\\n    value {\\n      type: DT_FLOAT\\n    }\\n  }\\n  attr {\\n    key: &quot;value&quot;\\n    value {\\n      tensor {\\n        dtype: DT_FLOAT\\n        tensor_shape {\\n        }\\n        float_val: 5.0\\n      }\\n    }\\n  }\\n}\\nnode {\\n  name: &quot;add&quot;\\n  op: &quot;Add&quot;\\n  input: &quot;input&quot;\\n  input: &quot;add/y&quot;\\n  attr {\\n    key: &quot;T&quot;\\n    value {\\n      type: DT_FLOAT\\n    }\\n  }\\n}\\nnode {\\n  name: &quot;mul&quot;\\n  op: &quot;Mul&quot;\\n  input: &quot;input&quot;\\n  input: &quot;add&quot;\\n  attr {\\n    key: &quot;T&quot;\\n    value {\\n      type: DT_FLOAT\\n    }\\n  }\\n}\\n';\n",
              "              }\n",
              "            </script>\n",
              "            <link rel=&quot;import&quot; href=&quot;https://tensorboard.appspot.com/tf-graph-basic.build.html&quot; onload=load()>\n",
              "            <div style=&quot;height:600px&quot;>\n",
              "              <tf-graph-basic id=&quot;graph0.3667644314958487&quot;></tf-graph-basic>\n",
              "            </div>\n",
              "        \"></iframe>\n",
              "        "
            ],
            "text/plain": [
              "<IPython.core.display.HTML object>"
            ]
          },
          "metadata": {
            "tags": []
          }
        }
      ]
    },
    {
      "metadata": {
        "id": "FhjdT-9EAmtV",
        "colab_type": "text"
      },
      "cell_type": "markdown",
      "source": [
        "## 3. Run the graph"
      ]
    },
    {
      "metadata": {
        "id": "VFKoVdqVAmtV",
        "colab_type": "code",
        "colab": {}
      },
      "cell_type": "code",
      "source": [
        "sess = tf.Session()"
      ],
      "execution_count": 0,
      "outputs": []
    },
    {
      "metadata": {
        "id": "9SWUXR0FAmtX",
        "colab_type": "text"
      },
      "cell_type": "markdown",
      "source": [
        "Session is used to compute the desired outputs, for example our defined ``out1``. "
      ]
    },
    {
      "metadata": {
        "id": "RuSXGNsUAmtY",
        "colab_type": "code",
        "colab": {}
      },
      "cell_type": "code",
      "source": [
        "#res1 = sess.run(out1)"
      ],
      "execution_count": 0,
      "outputs": []
    },
    {
      "metadata": {
        "id": "JrC24uq8Amta",
        "colab_type": "text"
      },
      "cell_type": "markdown",
      "source": [
        "If you will uncomment and run the above cell, you will get an error, indicating that the value for the ``input`` should be given. Here we will use feed dictionary, where we specify input as"
      ]
    },
    {
      "metadata": {
        "id": "vvo-qnirAmtc",
        "colab_type": "code",
        "colab": {
          "base_uri": "https://localhost:8080/",
          "height": 34
        },
        "outputId": "f9d4c7a2-4f30-4f82-e3b1-ca50c7013b6b"
      },
      "cell_type": "code",
      "source": [
        "res1 = sess.run(out1, feed_dict={input: 1})\n",
        "print(res1)\n",
        "#out1 = input+5 = 1+5 = 6"
      ],
      "execution_count": 10,
      "outputs": [
        {
          "output_type": "stream",
          "text": [
            "6.0\n"
          ],
          "name": "stdout"
        }
      ]
    },
    {
      "metadata": {
        "id": "BaXysO7hAmte",
        "colab_type": "text"
      },
      "cell_type": "markdown",
      "source": [
        "several values can be computed at the same time:"
      ]
    },
    {
      "metadata": {
        "id": "cqjrS-cvAmtg",
        "colab_type": "code",
        "colab": {
          "base_uri": "https://localhost:8080/",
          "height": 34
        },
        "outputId": "b5c8768e-2ba1-4697-f2f5-4d53bcbf7a03"
      },
      "cell_type": "code",
      "source": [
        "res1, res2 = sess.run((out1, out2), feed_dict={input: 3})\n",
        "print(res1, res2)\n",
        "#out1 = input+5 = 3+5 = 8\n",
        "#out1 = (input+5)*input = (3+5)*3 = 8*3=24"
      ],
      "execution_count": 11,
      "outputs": [
        {
          "output_type": "stream",
          "text": [
            "8.0 24.0\n"
          ],
          "name": "stdout"
        }
      ]
    },
    {
      "metadata": {
        "id": "Bdb83ue6Amtj",
        "colab_type": "text"
      },
      "cell_type": "markdown",
      "source": [
        "<span style=\"color:red\">*It is important to remember that in principle its better NOT TO USE ``feed_dict``: it is rather slow. \n",
        "There are several proper built-in mechanisms, that allow smooth data reading, in particular from disc (which is generally super slow!).*</span>\n",
        "\n",
        "While in this course we will keep using ``feed_dict``, since it's more visual, and helps to better understand what is going on, you are highly encouradged to read and follow the official [guidelines](https://www.tensorflow.org/programmers_guide/datasets) related to the data streaming and handling."
      ]
    },
    {
      "metadata": {
        "id": "MNTiK5olCGMg",
        "colab_type": "text"
      },
      "cell_type": "markdown",
      "source": [
        "MZ: NB: now we are using feed_dict because easier to understand, but not the best solution for big datasets\n",
        "\n"
      ]
    },
    {
      "metadata": {
        "id": "50TRb6MqAmtk",
        "colab_type": "text"
      },
      "cell_type": "markdown",
      "source": [
        "## 4. Tensor operations"
      ]
    },
    {
      "metadata": {
        "id": "zclwYiG_Amtm",
        "colab_type": "text"
      },
      "cell_type": "markdown",
      "source": [
        "For ML tasks we often need to perform operations on high-dimensional data. Theese are represented as tensors in TF. For example we can calculate sum of squared values in an 1D array with 5 elements:"
      ]
    },
    {
      "metadata": {
        "id": "zkiXhO8bAmtm",
        "colab_type": "code",
        "colab": {}
      },
      "cell_type": "code",
      "source": [
        "tf.reset_default_graph()\n",
        "\n",
        "# MZ: create array with 5 elements\n",
        "\n",
        "input_arr = tf.placeholder(name='input_arr', dtype=tf.float32, shape=(5,))\n",
        "squared = tf.multiply(input_arr, input_arr)\n",
        "out_sum = tf.reduce_sum(squared)\n",
        "\n",
        "# MZ:\n"
      ],
      "execution_count": 0,
      "outputs": []
    },
    {
      "metadata": {
        "scrolled": false,
        "id": "3bU8ReuxAmtq",
        "colab_type": "code",
        "colab": {
          "base_uri": "https://localhost:8080/",
          "height": 34
        },
        "outputId": "70d9c637-a597-4653-ceab-38e0ed5bd7cb"
      },
      "cell_type": "code",
      "source": [
        "np_arr = np.asarray((1,2,3,4,5), dtype=np.float32)\n",
        "with tf.Session() as sess:\n",
        "    print(sess.run(out_sum, feed_dict={input_arr: np_arr}))\n",
        "# squared = (1,4,9,16,25)\n",
        "# out_sum = 55"
      ],
      "execution_count": 17,
      "outputs": [
        {
          "output_type": "stream",
          "text": [
            "55.0\n"
          ],
          "name": "stdout"
        }
      ]
    },
    {
      "metadata": {
        "id": "jI1NRtMnAmts",
        "colab_type": "text"
      },
      "cell_type": "markdown",
      "source": [
        "Or we can do the same for several 1D arrays at once:"
      ]
    },
    {
      "metadata": {
        "id": "K-Ho7xPbAmtt",
        "colab_type": "code",
        "colab": {
          "base_uri": "https://localhost:8080/",
          "height": 68
        },
        "outputId": "1fbc9209-d361-47a4-d3d8-abed5ab58e87"
      },
      "cell_type": "code",
      "source": [
        "tf.reset_default_graph()\n",
        "input_arr = tf.placeholder(name='input_arr', dtype=tf.float32, shape=(None, 5)) #None stands for unknows length of the array\n",
        "squared = tf.multiply(input_arr, input_arr)\n",
        "out_sum = tf.reduce_sum(squared, axis=1) # sum only along 1st axis\n",
        "\n",
        "# MZ:\n",
        "# squared as not a value, Tensor object that specify what to do\n",
        "#print(type(squared))\n",
        "\n",
        "\n",
        "#Sample arrays of different size along first axis. \n",
        "#They all can be fed into the input_arr placeholder since along first axis size is unconstrained\n",
        "np_arr1 = np.asarray([[1,2,3,4,5]], dtype=np.float32)\n",
        "np_arr2 = np.asarray([[1,2,3,4,5], [2,3,4,5,6]], dtype=np.float32)\n",
        "np_arr3 = np.asarray([[1,2,3,4,5], [2,3,4,5,6], [25,65,12,12,11], [1,2,3,4,5], [2,3,4,5,6], [25,65,12,12,11]], dtype=np.float32)\n",
        "with tf.Session() as sess:\n",
        "    print(sess.run(out_sum, feed_dict={input_arr: np_arr1}))\n",
        "    print(sess.run(out_sum, feed_dict={input_arr: np_arr2}))\n",
        "    print(sess.run(out_sum, feed_dict={input_arr: np_arr3}))\n",
        "        "
      ],
      "execution_count": 44,
      "outputs": [
        {
          "output_type": "stream",
          "text": [
            "[55.]\n",
            "[55. 90.]\n",
            "[  55.   90. 5259.   55.   90. 5259.]\n"
          ],
          "name": "stdout"
        }
      ]
    },
    {
      "metadata": {
        "id": "7PwHR8snAmtv",
        "colab_type": "text"
      },
      "cell_type": "markdown",
      "source": [
        "## 5. Excercise 1"
      ]
    },
    {
      "metadata": {
        "id": "-JWoksVtAmtw",
        "colab_type": "text"
      },
      "cell_type": "markdown",
      "source": [
        "Hint: You can use question mark to get description of function right from Jupyter notebook:\n",
        "\n",
        "MZ: tells that tf.multiply supports broadcasting:\n",
        "e.g. broadcast the constant to multiply each element of an array with a constant.\n",
        "\"broadcasting describes how numpy treats arrays with different shapes during arithmetic operations. Subject to certain constraints, the smaller array is “broadcast” across the larger array so that they have compatible shapes. Broadcasting provides a means of vectorizing array operations so that looping occurs in C instead of Python. It does this without making needless copies of data and usually leads to efficient algorithm implementations.\""
      ]
    },
    {
      "metadata": {
        "code_folding": [],
        "id": "Y1Qo_64WAmtx",
        "colab_type": "code",
        "colab": {}
      },
      "cell_type": "code",
      "source": [
        "tf.multiply?\n",
        "\n",
        "\n"
      ],
      "execution_count": 0,
      "outputs": []
    },
    {
      "metadata": {
        "id": "YvFIFIQzAmtz",
        "colab_type": "text"
      },
      "cell_type": "markdown",
      "source": [
        "or ``Shift+Tab`` within the brackets to see function parameters (just ``Tab`` for google colab):"
      ]
    },
    {
      "metadata": {
        "id": "brwqwmpaAmt0",
        "colab_type": "code",
        "colab": {}
      },
      "cell_type": "code",
      "source": [
        "#tf.reduce_sum()"
      ],
      "execution_count": 0,
      "outputs": []
    },
    {
      "metadata": {
        "id": "VCYwvkBOAmt3",
        "colab_type": "text"
      },
      "cell_type": "markdown",
      "source": [
        "Modify the code bellow to calculate mean of array's elements."
      ]
    },
    {
      "metadata": {
        "id": "VgJ_dqdEAmt3",
        "colab_type": "code",
        "colab": {
          "base_uri": "https://localhost:8080/",
          "height": 658
        },
        "outputId": "1cd0c62c-468e-4608-f43a-dcc27c1cab36"
      },
      "cell_type": "code",
      "source": [
        "#1. reset the graph\n",
        "tf.reset_default_graph()\n",
        "\n",
        "\n",
        "# MZ: define the placeholder, that can then take different input data values\n",
        "input_arr = tf.placeholder(name='input_arr', shape=(None, None), dtype=tf.float32) #None stands for unknows length of the array\n",
        "\n",
        "# 2.use reduce_mean to claculate mean along specified axes\n",
        "out_mean = tf.reduce_mean(input_tensor=input_arr, axis = None)\n",
        "# axis = None [or missing argument] # 1 value -> overall mean\n",
        "# axis = 0: mean of (1,2,25), (2,3,65), ... # value for each column -> 5 values as output\n",
        "# axis = 1: mean of (1,2,3,4,5) (2,3,4,5,6), (25,65,12,12,12,11) # value for each row -> 3 numbers\n",
        "\n",
        "np_arr = np.asarray([[1,2,3,4,5], [2,3,4,5,6], [25,65,12,12,11]], dtype=np.float32)\n",
        "with tf.Session() as sess:\n",
        "  # 3. calculate the out_mean\n",
        "  # res = ...   \n",
        "  # MZ: \n",
        "  res = sess.run(out_mean, feed_dict={input_arr:np_arr})\n",
        "  print(res)\n",
        "\n",
        "#4. display the graph\n",
        "\n",
        "gr_disp.show(tf.get_default_graph().as_graph_def())"
      ],
      "execution_count": 47,
      "outputs": [
        {
          "output_type": "stream",
          "text": [
            "10.666667\n"
          ],
          "name": "stdout"
        },
        {
          "output_type": "display_data",
          "data": {
            "text/html": [
              "\n",
              "            <iframe seamless style=\"width:800px;height:620px;border:0\" srcdoc=\"\n",
              "            <script>\n",
              "              function load() {\n",
              "                document.getElementById(&quot;graph0.9173117568684614&quot;).pbtxt = 'node {\\n  name: &quot;input/arr&quot;\\n  op: &quot;Placeholder&quot;\\n  attr {\\n    key: &quot;dtype&quot;\\n    value {\\n      type: DT_FLOAT\\n    }\\n  }\\n  attr {\\n    key: &quot;shape&quot;\\n    value {\\n      shape {\\n        dim {\\n          size: -1\\n        }\\n        dim {\\n          size: -1\\n        }\\n      }\\n    }\\n  }\\n}\\nnode {\\n  name: &quot;Const&quot;\\n  op: &quot;Const&quot;\\n  attr {\\n    key: &quot;dtype&quot;\\n    value {\\n      type: DT_INT32\\n    }\\n  }\\n  attr {\\n    key: &quot;value&quot;\\n    value {\\n      tensor {\\n        dtype: DT_INT32\\n        tensor_shape {\\n          dim {\\n            size: 2\\n          }\\n        }\\n        tensor_content: &quot;\\\\000\\\\000\\\\000\\\\000\\\\001\\\\000\\\\000\\\\000&quot;\\n      }\\n    }\\n  }\\n}\\nnode {\\n  name: &quot;Mean&quot;\\n  op: &quot;Mean&quot;\\n  input: &quot;input/arr&quot;\\n  input: &quot;Const&quot;\\n  attr {\\n    key: &quot;T&quot;\\n    value {\\n      type: DT_FLOAT\\n    }\\n  }\\n  attr {\\n    key: &quot;Tidx&quot;\\n    value {\\n      type: DT_INT32\\n    }\\n  }\\n  attr {\\n    key: &quot;keep_dims&quot;\\n    value {\\n      b: false\\n    }\\n  }\\n}\\n';\n",
              "              }\n",
              "            </script>\n",
              "            <link rel=&quot;import&quot; href=&quot;https://tensorboard.appspot.com/tf-graph-basic.build.html&quot; onload=load()>\n",
              "            <div style=&quot;height:600px&quot;>\n",
              "              <tf-graph-basic id=&quot;graph0.9173117568684614&quot;></tf-graph-basic>\n",
              "            </div>\n",
              "        \"></iframe>\n",
              "        "
            ],
            "text/plain": [
              "<IPython.core.display.HTML object>"
            ]
          },
          "metadata": {
            "tags": []
          }
        }
      ]
    },
    {
      "metadata": {
        "id": "dADEcAnHAmt6",
        "colab_type": "text"
      },
      "cell_type": "markdown",
      "source": [
        "## 6. Optimization problem"
      ]
    },
    {
      "metadata": {
        "id": "EKTSyCUOAmt7",
        "colab_type": "text"
      },
      "cell_type": "markdown",
      "source": [
        "In ML we always try to optimize model parameters to minimize a loss function. TF allows for easy optimization problem solving.\n",
        "Let's see how this works. We will use a function $f$, parabolic with respect to the model parameter $t$: $f(x_1, x_2|t) = (x_1*t-x_2)^2$. Here $x_1$ and $x_2$ are given values for which we will try to minimize value of function $f$.\n",
        "\n",
        "We define `t` as a variable using `get_variable` and initialize it with a constant 0. Variables are by default trainable, *i.e.* their value will be changed during training. \n",
        "\n",
        "MZ: image recognition: millions of parameters to optimize. Let's start with 1 single parameter.\n",
        "\n",
        "\n",
        "Toy problem:\n",
        "define a parabolic and find optimal parameter"
      ]
    },
    {
      "metadata": {
        "id": "XocUE1D9Amt7",
        "colab_type": "code",
        "colab": {}
      },
      "cell_type": "code",
      "source": [
        "tf.reset_default_graph()\n",
        "\n",
        "t = tf.get_variable(name='t', dtype=tf.float32, shape=(), initializer=tf.constant_initializer(0))\n",
        "# MZ: \n",
        "# t is the parameter for which we search the optimal value\n",
        "# shape=() indicates that it is a scalar (not an array)\n",
        "# we need an initial value; normally, random value is chosen, here we choose 0\n",
        "x1 = tf.placeholder(name='x1', dtype=tf.float32, shape=())\n",
        "x2 = tf.placeholder(name='x2', dtype=tf.float32, shape=())"
      ],
      "execution_count": 0,
      "outputs": []
    },
    {
      "metadata": {
        "id": "jc6lr6NNAmt-",
        "colab_type": "code",
        "colab": {}
      },
      "cell_type": "code",
      "source": [
        "#function to be minimized\n",
        "# MZ:\n",
        "# set the function to minimize - toy example here:\n",
        "# we want to minimize the value of f\n",
        "# t is the model parameter that we want to optimize\n",
        "# minimize the value of a given function\n",
        "# find the value of t so that the function has minimal value\n",
        "f = tf.square(t*x1-x2)"
      ],
      "execution_count": 0,
      "outputs": []
    },
    {
      "metadata": {
        "id": "1apilSrXAmuB",
        "colab_type": "text"
      },
      "cell_type": "markdown",
      "source": [
        "Next we create and optimizer: object that on each iteration adjusts values of all trainable parameters (in our case just `t` to minimize the value of `f`. As the name sugests it uses steepest gradient descent."
      ]
    },
    {
      "metadata": {
        "id": "6IMRDa8cOGLT",
        "colab_type": "text"
      },
      "cell_type": "markdown",
      "source": [
        "MZ:\n",
        "\n",
        "We want to optimize the value of t - but how to optimize ? We will use gradient descent."
      ]
    },
    {
      "metadata": {
        "id": "MFOUmabmAmuC",
        "colab_type": "code",
        "colab": {}
      },
      "cell_type": "code",
      "source": [
        "optimizer = tf.train.GradientDescentOptimizer(learning_rate=0.01).minimize(f)\n",
        "# MZ: set the optimizer that we want to use"
      ],
      "execution_count": 0,
      "outputs": []
    },
    {
      "metadata": {
        "id": "udjgy-rxAmuG",
        "colab_type": "code",
        "colab": {
          "base_uri": "https://localhost:8080/",
          "height": 626
        },
        "outputId": "1919ec13-958d-4d0c-b1f5-7a147e07c14f"
      },
      "cell_type": "code",
      "source": [
        "#values of x1, x2 for which we will minimize f\n",
        "x1_val = 3.\n",
        "x2_val = 9.\n",
        "\n",
        "#buffers to store intermidiate values of t and f to plot them later.\n",
        "t_sv = []\n",
        "f_sv = []\n",
        "\n",
        "with tf.Session() as sess:\n",
        "    #don't forget to initialize all variables! \n",
        "    sess.run(tf.global_variables_initializer())\n",
        "    \n",
        "    #optimization works iteratively, adjusting the value of t on each step\n",
        "    for itr in range (30):\n",
        "        _ = sess.run(optimizer, feed_dict={x1:x1_val, x2:x2_val})\n",
        "        \n",
        "        # run optimize procedure\n",
        "        # optimize all the parameters on which the function depends\n",
        "        # parameters to optimize updated on each call of the optimizer\n",
        "        \n",
        "        f_val, t_val = sess.run([f, t], feed_dict={x1:x1_val, x2:x2_val})\n",
        "        #save the current values of t and the function f\n",
        "        t_sv.append(t_val)\n",
        "        f_sv.append(f_val)\n",
        "        \n",
        "\n",
        "\n",
        "#just find the nice range for plotting\n",
        "x0 = x2_val/x1_val\n",
        "xhalf = max(abs(t_sv[0]-x0), 5.)\n",
        "#fill array for parabola\n",
        "t_all = np.arange(x0-xhalf, x0+xhalf, xhalf/50.)\n",
        "f_all = np.asarray([(ti*x1_val-x2_val)*(ti*x1_val-x2_val) for ti in t_all])\n",
        "\n",
        "#draw all\n",
        "_, axs = plt.subplots(1, 2, figsize=(10,10))\n",
        "axs[0].plot(t_all, f_all, 'b', t_sv, f_sv, 'g^')\n",
        "axs[0].set_title('f(t | x1,x2)')\n",
        "axs[0].legend(('f(t)', 'training iterations'),  loc='upper center')\n",
        "axs[1].plot(f_sv)\n",
        "axs[1].set_title('f(itr)')\n"
      ],
      "execution_count": 56,
      "outputs": [
        {
          "output_type": "execute_result",
          "data": {
            "text/plain": [
              "Text(0.5, 1.0, 'f(itr)')"
            ]
          },
          "metadata": {
            "tags": []
          },
          "execution_count": 56
        },
        {
          "output_type": "display_data",
          "data": {
            "image/png": "[encoded data removed]",
            "text/plain": [
              "<Figure size 720x720 with 2 Axes>"
            ]
          },
          "metadata": {
            "tags": []
          }
        }
      ]
    },
    {
      "metadata": {
        "id": "LLOzJd-TP7Zu",
        "colab_type": "text"
      },
      "cell_type": "markdown",
      "source": [
        "we start at 0, then we descend the parabola until the minimum"
      ]
    },
    {
      "metadata": {
        "id": "skeW84SGAmuH",
        "colab_type": "text"
      },
      "cell_type": "markdown",
      "source": [
        "## 7. Excercise 2"
      ]
    },
    {
      "metadata": {
        "id": "LS_6bC2LAmuJ",
        "colab_type": "text"
      },
      "cell_type": "markdown",
      "source": [
        "Try to modify ``x1_val`` and ``x2_val`` in the above code, as well as the ``learning_rate`` and ``t`` initialization value, and see how it affects convergence. Get an intuition on simple example, it is very useful!\n",
        "\n",
        "Try to see when \n",
        "1. convergence is too slow \n",
        "2. oscillation near minimum occurs\n",
        "3. divergence\n",
        "\n",
        "\n",
        "MZ: during the exercises, will not modify x1_val and x2_val (time constraints), just by changing learning rate"
      ]
    },
    {
      "metadata": {
        "id": "PR8KAaLRRsWT",
        "colab_type": "code",
        "colab": {}
      },
      "cell_type": "code",
      "source": [
        "x1_val = 3.\n",
        "x2_val = 9."
      ],
      "execution_count": 0,
      "outputs": []
    },
    {
      "metadata": {
        "id": "EOsc8hWwRM-L",
        "colab_type": "code",
        "colab": {
          "base_uri": "https://localhost:8080/",
          "height": 1034
        },
        "outputId": "fdba11e2-4db5-4897-e75c-38c4ae7bf207"
      },
      "cell_type": "code",
      "source": [
        "#_ assignment => avoid an output is printed\n",
        "# bound of learning rate # depends on the function (10^-3 normal starting value; but need to try); should definitely be positive\n",
        "# multiple parameters: updated all at once, gradient calculated with respect to each of them but updated at the same time\n",
        "(you can virtually have different learning rate for different paramters, norma)\n",
        "\n",
        "### 1) LOW CONVERGENCE: LEARNING RATE = 0.0001\n",
        "\n",
        "optimizer = tf.train.GradientDescentOptimizer(learning_rate=0.0001).minimize(f)\n",
        "\n",
        "#buffers to store intermidiate values of t and f to plot them later.\n",
        "t_sv = []\n",
        "f_sv = []\n",
        "\n",
        "with tf.Session() as sess:\n",
        "    sess.run(tf.global_variables_initializer())\n",
        "    for itr in range (30):\n",
        "        _ = sess.run(optimizer, feed_dict={x1:x1_val, x2:x2_val})\n",
        "        f_val, t_val = sess.run([f, t], feed_dict={x1:x1_val, x2:x2_val})\n",
        "        t_sv.append(t_val)\n",
        "        f_sv.append(f_val)\n",
        "\n",
        "#just find the nice range for plotting\n",
        "x0 = x2_val/x1_val\n",
        "xhalf = max(abs(t_sv[0]-x0), 5.)\n",
        "#fill array for parabola\n",
        "t_all = np.arange(x0-xhalf, x0+xhalf, xhalf/50.)\n",
        "f_all = np.asarray([(ti*x1_val-x2_val)*(ti*x1_val-x2_val) for ti in t_all])\n",
        "\n",
        "#draw all\n",
        "_, axs = plt.subplots(1, 2, figsize=(10,10))\n",
        "axs[0].plot(t_all, f_all, 'b', t_sv, f_sv, 'g^')\n",
        "axs[0].set_title('f(t | x1,x2)')\n",
        "axs[0].legend(('f(t)', 'training iterations'),  loc='upper center')\n",
        "axs[1].plot(f_sv)\n",
        "axs[1].set_title('f(itr)')\n",
        "\n",
        "print(t_all)"
      ],
      "execution_count": 70,
      "outputs": [
        {
          "output_type": "stream",
          "text": [
            "[-2.00000000e+00 -1.90000000e+00 -1.80000000e+00 -1.70000000e+00\n",
            " -1.60000000e+00 -1.50000000e+00 -1.40000000e+00 -1.30000000e+00\n",
            " -1.20000000e+00 -1.10000000e+00 -1.00000000e+00 -9.00000000e-01\n",
            " -8.00000000e-01 -7.00000000e-01 -6.00000000e-01 -5.00000000e-01\n",
            " -4.00000000e-01 -3.00000000e-01 -2.00000000e-01 -1.00000000e-01\n",
            "  1.77635684e-15  1.00000000e-01  2.00000000e-01  3.00000000e-01\n",
            "  4.00000000e-01  5.00000000e-01  6.00000000e-01  7.00000000e-01\n",
            "  8.00000000e-01  9.00000000e-01  1.00000000e+00  1.10000000e+00\n",
            "  1.20000000e+00  1.30000000e+00  1.40000000e+00  1.50000000e+00\n",
            "  1.60000000e+00  1.70000000e+00  1.80000000e+00  1.90000000e+00\n",
            "  2.00000000e+00  2.10000000e+00  2.20000000e+00  2.30000000e+00\n",
            "  2.40000000e+00  2.50000000e+00  2.60000000e+00  2.70000000e+00\n",
            "  2.80000000e+00  2.90000000e+00  3.00000000e+00  3.10000000e+00\n",
            "  3.20000000e+00  3.30000000e+00  3.40000000e+00  3.50000000e+00\n",
            "  3.60000000e+00  3.70000000e+00  3.80000000e+00  3.90000000e+00\n",
            "  4.00000000e+00  4.10000000e+00  4.20000000e+00  4.30000000e+00\n",
            "  4.40000000e+00  4.50000000e+00  4.60000000e+00  4.70000000e+00\n",
            "  4.80000000e+00  4.90000000e+00  5.00000000e+00  5.10000000e+00\n",
            "  5.20000000e+00  5.30000000e+00  5.40000000e+00  5.50000000e+00\n",
            "  5.60000000e+00  5.70000000e+00  5.80000000e+00  5.90000000e+00\n",
            "  6.00000000e+00  6.10000000e+00  6.20000000e+00  6.30000000e+00\n",
            "  6.40000000e+00  6.50000000e+00  6.60000000e+00  6.70000000e+00\n",
            "  6.80000000e+00  6.90000000e+00  7.00000000e+00  7.10000000e+00\n",
            "  7.20000000e+00  7.30000000e+00  7.40000000e+00  7.50000000e+00\n",
            "  7.60000000e+00  7.70000000e+00  7.80000000e+00  7.90000000e+00]\n"
          ],
          "name": "stdout"
        },
        {
          "output_type": "display_data",
          "data": {
            "image/png": "[encoded data removed]",
            "text/plain": [
              "<Figure size 720x720 with 2 Axes>"
            ]
          },
          "metadata": {
            "tags": []
          }
        }
      ]
    },
    {
      "metadata": {
        "id": "h8SMQ5kvZnFc",
        "colab_type": "code",
        "colab": {}
      },
      "cell_type": "code",
      "source": [
        ""
      ],
      "execution_count": 0,
      "outputs": []
    },
    {
      "metadata": {
        "id": "bnIYxfkjStrl",
        "colab_type": "code",
        "colab": {
          "base_uri": "https://localhost:8080/",
          "height": 911
        },
        "outputId": "1ba90d34-dc35-4944-e7f1-40dd752e61fd"
      },
      "cell_type": "code",
      "source": [
        "### 3) DIVERGENCE: LEARNING RATE = 0.2\n",
        "\n",
        "optimizer = tf.train.GradientDescentOptimizer(learning_rate=0.2).minimize(f)\n",
        "\n",
        "#buffers to store intermidiate values of t and f to plot them later.\n",
        "t_sv = []\n",
        "f_sv = []\n",
        "\n",
        "with tf.Session() as sess:\n",
        "    sess.run(tf.global_variables_initializer())\n",
        "    for itr in range (30):\n",
        "        _ = sess.run(optimizer, feed_dict={x1:x1_val, x2:x2_val})\n",
        "        f_val, t_val = sess.run([f, t], feed_dict={x1:x1_val, x2:x2_val})\n",
        "        t_sv.append(t_val)\n",
        "        f_sv.append(f_val)\n",
        "\n",
        "#just find the nice range for plotting\n",
        "x0 = x2_val/x1_val\n",
        "xhalf = max(abs(t_sv[0]-x0), 5.)\n",
        "#fill array for parabola\n",
        "t_all = np.arange(x0-xhalf, x0+xhalf, xhalf/50.)\n",
        "f_all = np.asarray([(ti*x1_val-x2_val)*(ti*x1_val-x2_val) for ti in t_all])\n",
        "\n",
        "#draw all\n",
        "_, axs = plt.subplots(1, 2, figsize=(10,10))\n",
        "axs[0].plot(t_all, f_all, 'b', t_sv, f_sv, 'g^')\n",
        "axs[0].set_title('f(t | x1,x2)')\n",
        "axs[0].legend(('f(t)', 'training iterations'),  loc='upper center')\n",
        "axs[1].plot(f_sv)\n",
        "axs[1].set_title('f(itr)')\n",
        "\n",
        "print(t_all)"
      ],
      "execution_count": 71,
      "outputs": [
        {
          "output_type": "stream",
          "text": [
            "[-4.80000019 -4.64400019 -4.48800018 -4.33200018 -4.17600018 -4.02000017\n",
            " -3.86400017 -3.70800016 -3.55200016 -3.39600016 -3.24000015 -3.08400015\n",
            " -2.92800014 -2.77200014 -2.61600014 -2.46000013 -2.30400013 -2.14800013\n",
            " -1.99200012 -1.83600012 -1.68000011 -1.52400011 -1.36800011 -1.2120001\n",
            " -1.0560001  -0.9000001  -0.74400009 -0.58800009 -0.43200008 -0.27600008\n",
            " -0.12000008  0.03599993  0.19199993  0.34799994  0.50399994  0.65999994\n",
            "  0.81599995  0.97199995  1.12799995  1.28399996  1.43999996  1.59599997\n",
            "  1.75199997  1.90799997  2.06399998  2.21999998  2.37599998  2.53199999\n",
            "  2.68799999  2.844       3.          3.156       3.31200001  3.46800001\n",
            "  3.62400002  3.78000002  3.93600002  4.09200003  4.24800003  4.40400003\n",
            "  4.56000004  4.71600004  4.87200005  5.02800005  5.18400005  5.34000006\n",
            "  5.49600006  5.65200006  5.80800007  5.96400007  6.12000008  6.27600008\n",
            "  6.43200008  6.58800009  6.74400009  6.9000001   7.0560001   7.2120001\n",
            "  7.36800011  7.52400011  7.68000011  7.83600012  7.99200012  8.14800013\n",
            "  8.30400013  8.46000013  8.61600014  8.77200014  8.92800014  9.08400015\n",
            "  9.24000015  9.39600016  9.55200016  9.70800016  9.86400017 10.02000017\n",
            " 10.17600018 10.33200018 10.48800018 10.64400019 10.80000019]\n"
          ],
          "name": "stdout"
        },
        {
          "output_type": "display_data",
          "data": {
            "image/png": "[encoded data removed]",
            "text/plain": [
              "<Figure size 720x720 with 2 Axes>"
            ]
          },
          "metadata": {
            "tags": []
          }
        }
      ]
    },
    {
      "metadata": {
        "id": "3zA19s48TL5h",
        "colab_type": "code",
        "colab": {
          "base_uri": "https://localhost:8080/",
          "height": 1051
        },
        "outputId": "f7b75e82-66c7-40f4-979d-736ee769f3c6"
      },
      "cell_type": "code",
      "source": [
        "### 2) OSCILLATION: LEARNING RATE = 0.1\n",
        "\n",
        "# with 0.01, 10 and 6\n",
        "\n",
        "x1_val = 10.\n",
        "x2_val = 6.\n",
        "\n",
        "optimizer = tf.train.GradientDescentOptimizer(learning_rate=0.01).minimize(f)\n",
        "\n",
        "#buffers to store intermidiate values of t and f to plot them later.\n",
        "t_sv = []\n",
        "f_sv = []\n",
        "\n",
        "with tf.Session() as sess:\n",
        "    sess.run(tf.global_variables_initializer())\n",
        "    for itr in range (30):\n",
        "        _ = sess.run(optimizer, feed_dict={x1:x1_val, x2:x2_val})\n",
        "        f_val, t_val = sess.run([f, t], feed_dict={x1:x1_val, x2:x2_val})\n",
        "        t_sv.append(t_val)\n",
        "        f_sv.append(f_val)\n",
        "\n",
        "#just find the nice range for plotting\n",
        "x0 = x2_val/x1_val\n",
        "xhalf = max(abs(t_sv[0]-x0), 5.)\n",
        "#fill array for parabola\n",
        "t_all = np.arange(x0-xhalf, x0+xhalf, xhalf/50.)\n",
        "f_all = np.asarray([(ti*x1_val-x2_val)*(ti*x1_val-x2_val) for ti in t_all])\n",
        "\n",
        "print(t_all)\n",
        "\n",
        "#draw all\n",
        "_, axs = plt.subplots(1, 2, figsize=(10,10))\n",
        "axs[0].plot(t_all, f_all, 'b', t_sv, f_sv, 'g^')\n",
        "axs[0].set_title('f(t | x1,x2)')\n",
        "axs[0].legend(('f(t)', 'training iterations'),  loc='upper center')\n",
        "axs[1].plot(f_sv)\n",
        "axs[1].set_title('f(itr)')\n"
      ],
      "execution_count": 80,
      "outputs": [
        {
          "output_type": "stream",
          "text": [
            "[-4.40000000e+00 -4.30000000e+00 -4.20000000e+00 -4.10000000e+00\n",
            " -4.00000000e+00 -3.90000000e+00 -3.80000000e+00 -3.70000000e+00\n",
            " -3.60000000e+00 -3.50000000e+00 -3.40000000e+00 -3.30000000e+00\n",
            " -3.20000000e+00 -3.10000000e+00 -3.00000000e+00 -2.90000000e+00\n",
            " -2.80000000e+00 -2.70000000e+00 -2.60000000e+00 -2.50000000e+00\n",
            " -2.40000000e+00 -2.30000000e+00 -2.20000000e+00 -2.10000000e+00\n",
            " -2.00000000e+00 -1.90000000e+00 -1.80000000e+00 -1.70000000e+00\n",
            " -1.60000000e+00 -1.50000000e+00 -1.40000000e+00 -1.30000000e+00\n",
            " -1.20000000e+00 -1.10000000e+00 -1.00000000e+00 -9.00000000e-01\n",
            " -8.00000000e-01 -7.00000000e-01 -6.00000000e-01 -5.00000000e-01\n",
            " -4.00000000e-01 -3.00000000e-01 -2.00000000e-01 -1.00000000e-01\n",
            " -1.59872116e-14  1.00000000e-01  2.00000000e-01  3.00000000e-01\n",
            "  4.00000000e-01  5.00000000e-01  6.00000000e-01  7.00000000e-01\n",
            "  8.00000000e-01  9.00000000e-01  1.00000000e+00  1.10000000e+00\n",
            "  1.20000000e+00  1.30000000e+00  1.40000000e+00  1.50000000e+00\n",
            "  1.60000000e+00  1.70000000e+00  1.80000000e+00  1.90000000e+00\n",
            "  2.00000000e+00  2.10000000e+00  2.20000000e+00  2.30000000e+00\n",
            "  2.40000000e+00  2.50000000e+00  2.60000000e+00  2.70000000e+00\n",
            "  2.80000000e+00  2.90000000e+00  3.00000000e+00  3.10000000e+00\n",
            "  3.20000000e+00  3.30000000e+00  3.40000000e+00  3.50000000e+00\n",
            "  3.60000000e+00  3.70000000e+00  3.80000000e+00  3.90000000e+00\n",
            "  4.00000000e+00  4.10000000e+00  4.20000000e+00  4.30000000e+00\n",
            "  4.40000000e+00  4.50000000e+00  4.60000000e+00  4.70000000e+00\n",
            "  4.80000000e+00  4.90000000e+00  5.00000000e+00  5.10000000e+00\n",
            "  5.20000000e+00  5.30000000e+00  5.40000000e+00  5.50000000e+00]\n"
          ],
          "name": "stdout"
        },
        {
          "output_type": "execute_result",
          "data": {
            "text/plain": [
              "Text(0.5, 1.0, 'f(itr)')"
            ]
          },
          "metadata": {
            "tags": []
          },
          "execution_count": 80
        },
        {
          "output_type": "display_data",
          "data": {
            "image/png": "[encoded data removed]",
            "text/plain": [
              "<Figure size 720x720 with 2 Axes>"
            ]
          },
          "metadata": {
            "tags": []
          }
        }
      ]
    }
  ]
}