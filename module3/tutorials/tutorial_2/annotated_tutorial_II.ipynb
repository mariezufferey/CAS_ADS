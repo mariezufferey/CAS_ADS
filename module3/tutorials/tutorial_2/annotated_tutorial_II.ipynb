{
  "nbformat": 4,
  "nbformat_minor": 0,
  "metadata": {
    "colab": {
      "name": "Tutorial_II.ipynb",
      "version": "0.3.2",
      "provenance": [],
      "collapsed_sections": []
    },
    "kernelspec": {
      "display_name": "Python 3",
      "language": "python",
      "name": "python3"
    }
  },
  "cells": [
    {
      "metadata": {
        "id": "oWym-wHPXoYV",
        "colab_type": "text"
      },
      "cell_type": "markdown",
      "source": [
        "# Tutorial II: Optimization in TensorFlow & NN introduction"
      ]
    },
    {
      "metadata": {
        "id": "uJClyO8eXoYX",
        "colab_type": "text"
      },
      "cell_type": "markdown",
      "source": [
        "<p>\n",
        "Bern Winter School on Machine Learning, 28.01-01.02 2019<br>\n",
        "Mykhailo Vladymyrov\n",
        "</p>\n",
        "\n",
        "This work is licensed under a <a href=\"http://creativecommons.org/licenses/by-nc-sa/4.0/\">Creative Commons Attribution-NonCommercial-ShareAlike 4.0 International License</a>."
      ]
    },
    {
      "metadata": {
        "id": "uP6m0WuDXoYY",
        "colab_type": "text"
      },
      "cell_type": "markdown",
      "source": [
        "## download libraries"
      ]
    },
    {
      "metadata": {
        "id": "AFXU5KKAXoYZ",
        "colab_type": "code",
        "colab": {
          "base_uri": "https://localhost:8080/",
          "height": 289
        },
        "outputId": "04aca6fd-8e3b-4717-9a1d-3333efe9cbc7"
      },
      "cell_type": "code",
      "source": [
        "! wget http://scits-training.unibe.ch/data/tut_files/t1.tgz\n",
        "! tar -xvzf t1.tgz"
      ],
      "execution_count": 1,
      "outputs": [
        {
          "output_type": "stream",
          "text": [
            "--2019-01-29 16:08:49--  http://scits-training.unibe.ch/data/tut_files/t1.tgz\n",
            "Resolving scits-training.unibe.ch (scits-training.unibe.ch)... 130.92.251.56\n",
            "Connecting to scits-training.unibe.ch (scits-training.unibe.ch)|130.92.251.56|:80... connected.\n",
            "HTTP request sent, awaiting response... 200 OK\n",
            "Length: 2185 (2.1K) [application/octet-stream]\n",
            "Saving to: ‘t1.tgz’\n",
            "\n",
            "t1.tgz              100%[===================>]   2.13K  --.-KB/s    in 0s      \n",
            "\n",
            "2019-01-29 16:08:49 (264 MB/s) - ‘t1.tgz’ saved [2185/2185]\n",
            "\n",
            "utils/\n",
            "utils/gr_disp.py\n",
            "utils/inception.py\n",
            "utils/__init__.py\n",
            "tar: A lone zero block at 16\n"
          ],
          "name": "stdout"
        }
      ]
    },
    {
      "metadata": {
        "id": "ePiVu_64XoYb",
        "colab_type": "text"
      },
      "cell_type": "markdown",
      "source": [
        "## 1. Load necessary libraries"
      ]
    },
    {
      "metadata": {
        "id": "eH3yCrz_XoYd",
        "colab_type": "code",
        "colab": {
          "base_uri": "https://localhost:8080/",
          "height": 17
        },
        "outputId": "dfcb50ab-7862-4918-f35a-3db8f77742e7"
      },
      "cell_type": "code",
      "source": [
        "import sys\n",
        "\n",
        "import numpy as np\n",
        "import matplotlib.pyplot as plt\n",
        "import IPython.display as ipyd\n",
        "import tensorflow as tf\n",
        "\n",
        "# We'll tell matplotlib to inline any drawn figures like so:\n",
        "%matplotlib inline\n",
        "plt.style.use('ggplot')\n",
        "from utils import gr_disp\n",
        "\n",
        "from IPython.core.display import HTML\n",
        "HTML(\"\"\"<style> .rendered_html code { \n",
        "    padding: 2px 5px;\n",
        "    color: #0000aa;\n",
        "    background-color: #cccccc;\n",
        "} </style>\"\"\")"
      ],
      "execution_count": 2,
      "outputs": [
        {
          "output_type": "execute_result",
          "data": {
            "text/html": [
              "<style> .rendered_html code { \n",
              "    padding: 2px 5px;\n",
              "    color: #0000aa;\n",
              "    background-color: #cccccc;\n",
              "} </style>"
            ],
            "text/plain": [
              "<IPython.core.display.HTML object>"
            ]
          },
          "metadata": {
            "tags": []
          },
          "execution_count": 2
        }
      ]
    },
    {
      "metadata": {
        "id": "8p18KVSLX6Ow",
        "colab_type": "text"
      },
      "cell_type": "markdown",
      "source": [
        "MZ - aims: \n",
        "\n",
        "-> optimization of 2 parameters\n",
        "\n",
        "-> then start neural networks "
      ]
    },
    {
      "metadata": {
        "id": "-KwSkia2XoYf",
        "colab_type": "text"
      },
      "cell_type": "markdown",
      "source": [
        "## 1. Linear fit"
      ]
    },
    {
      "metadata": {
        "id": "Or4__Hk2XoYg",
        "colab_type": "text"
      },
      "cell_type": "markdown",
      "source": [
        "Here we will solve optimization problem to perform linear regression. First we will generate training set of 160 data points and test set of 40, laying on a line with a random offset $$y = a_0 x + b_0 + ofs$$, where $ofs$ is a random variable sampled from a normal distribution with standard deviation equal to $s_0$"
      ]
    },
    {
      "metadata": {
        "id": "OYYfPAgNXoYg",
        "colab_type": "code",
        "colab": {
          "base_uri": "https://localhost:8080/",
          "height": 282
        },
        "outputId": "a1c765e0-6882-4177-bcdd-80efae737387"
      },
      "cell_type": "code",
      "source": [
        "a0 = 3#3\n",
        "b0 = 5#5\n",
        "s0 = 1#1\n",
        "\n",
        "#all samples\n",
        "x_all = np.arange(0, 10, .05)\n",
        "n_all = x_all.shape[0]\n",
        "# MZ: draw some random offsets from normal distribution\n",
        "ofs_all = s0*np.random.randn(n_all)\n",
        "# MZ: calculate the corresponding coordinates\n",
        "y_all = np.asarray([a0*x+b0+o for x, o in zip(x_all, ofs_all)])\n",
        "    \n",
        "#randomize order and get 80% for training\n",
        "idx = np.random.permutation(n_all)\n",
        "n_train = n_all*80//100\n",
        "\n",
        "# MZ: -> look only at the training part to find the value of a and b\n",
        "\n",
        "idx_train = idx[0:n_train]\n",
        "idx_test = idx[n_train:]\n",
        "\n",
        "x_train = x_all[idx_train]\n",
        "y_train = y_all[idx_train]\n",
        "\n",
        "x_test = x_all[idx_test]\n",
        "y_test = y_all[idx_test]\n",
        "\n",
        "plt.plot(x_train, y_train, \"o\", x_test, y_test, \"b^\")\n",
        "plt.legend(('training points', 'test points'),  loc='upper left')"
      ],
      "execution_count": 5,
      "outputs": [
        {
          "output_type": "execute_result",
          "data": {
            "text/plain": [
              "<matplotlib.legend.Legend at 0x7f7ef2da7ac8>"
            ]
          },
          "metadata": {
            "tags": []
          },
          "execution_count": 5
        },
        {
          "output_type": "display_data",
          "data": {
            "image/png": "[encoded data removed]",
            "text/plain": [
              "<Figure size 432x288 with 1 Axes>"
            ]
          },
          "metadata": {
            "tags": []
          }
        }
      ]
    },
    {
      "metadata": {
        "id": "_DY5wybeYrMV",
        "colab_type": "text"
      },
      "cell_type": "markdown",
      "source": [
        "Now we want to find the values of the parametrers a and b.\n",
        "\n",
        "Find a function that depends on a and b and the minimum value of this function is reached when a and b correspond to the estimate of the true value of the paramters\n",
        "\n",
        "Basic approach: least square. Loss function as the sum of squared distances between predicted and target points."
      ]
    },
    {
      "metadata": {
        "id": "OnROERgfXoYj",
        "colab_type": "text"
      },
      "cell_type": "markdown",
      "source": [
        "We will then define loss function as the mean of squared residuals (distance from line along $y$) for the points.\n",
        "\n",
        "We will use [stochactic gradient descent](https://en.wikipedia.org/wiki/Stochastic_gradient_descent): on each iteration use only a fraction (`mini_batch_size`) of all training set. In many cases training set is huge and cannot be fed on each iteration in principle. Also it can sometimes help the optimizer to properly explore the manifold."
      ]
    },
    {
      "metadata": {
        "id": "8ATPbsdAXoYk",
        "colab_type": "code",
        "colab": {
          "base_uri": "https://localhost:8080/",
          "height": 602
        },
        "outputId": "1cf7361a-65ac-423b-dc0a-29d9b282a773"
      },
      "cell_type": "code",
      "source": [
        "tf.reset_default_graph()\n",
        "\n",
        "# MZ:\n",
        "# The optimizer will tune the a and b values\n",
        "# x and y are the arrays of points\n",
        "\n",
        "#here we have 2 trainable parameters, a and b\n",
        "a = tf.get_variable(name='a', dtype=tf.float32, initializer=tf.random_normal(()))\n",
        "# MZ: specifies the shape, () inside () -> indicates that is a scalar\n",
        "b = tf.get_variable(name='b', dtype=tf.float32, initializer=tf.random_normal(()))\n",
        "x = tf.placeholder(name='x', dtype=tf.float32, shape=(None))\n",
        "y = tf.placeholder(name='y', dtype=tf.float32, shape=(None))\n",
        "\n",
        "# define the loss -> least square\n",
        "# MZ: residuals = distances along the y axis\n",
        "residual = y - tf.multiply(x,a) - b \n",
        "residual2 = tf.square(residual)\n",
        "loss = tf.reduce_mean(residual2)\n",
        "\n",
        "# gradient descent to optimize the loss\n",
        "# loss = mean squared distance \n",
        "optimizer = tf.train.GradientDescentOptimizer(0.005).minimize(loss) #0.005\n",
        "mini_batch_size = 10 # 10\n",
        "\n",
        "# MZ - new here: perform schocastic gradient descent\n",
        "# instead of taking all points at once, randomly sample from the points\n",
        "# optimize on a part of the points, then take another part of the points, etc.\n",
        "# if too much data -> not possible to perform optimization on single data point,\n",
        "# because of memory issue, not achievable to iterate over all data points\n",
        "# n_train = total number of points that we have\n",
        "# mini_match_size of 10 -> take the first ten data, then the ten followers, etc.\n",
        "        \n",
        "l_sv_train = []\n",
        "l_sv_test = []\n",
        "with tf.Session() as sess:\n",
        "    #initialize all the variables \n",
        "    sess.run(tf.global_variables_initializer())\n",
        "    \n",
        "    #iterate training for 201 epoch\n",
        "    # 200 times through all the minibatches\n",
        "    for epoch in range (201):\n",
        "        #shuffle the data and perform stochastic gradient descent by runing over all minibatches\n",
        "        idx = np.random.permutation(n_train)\n",
        "        for mb in range(n_train//mini_batch_size):\n",
        "            sub_idx = idx[mini_batch_size*mb:mini_batch_size*(mb+1)]\n",
        "            # MZ: optimization step using one of this mini_batch\n",
        "            sess.run(optimizer, feed_dict={x:x_train[sub_idx], y:y_train[sub_idx]})\n",
        "            \n",
        "        #evaluate and save test and training loss, to be plotted in the end\n",
        "        # MZ: evaluate value of loss function on all the points from test and train\n",
        "        l_val_test = sess.run(loss, feed_dict={x:x_test, y:y_test})\n",
        "        l_val_train = sess.run(loss, feed_dict={x:x_train, y:y_train})\n",
        "        if epoch%40==0:\n",
        "            l_val, a_val, b_val = sess.run([loss, a, b], feed_dict={x:x_train, y:y_train})\n",
        "            print(epoch, l_val, a_val, b_val)\n",
        "            \n",
        "        l_sv_train.append(l_val_train)\n",
        "        l_sv_test.append(l_val_test)\n",
        "        \n",
        "end_fit_x = [x_all[0], x_all[-1]]\n",
        "end_fit_y = [a_val*x+b_val for x in end_fit_x]\n",
        "true_fn_y = [a0*x+b0 for x in end_fit_x]\n",
        "fig, axs = plt.subplots(2, 1, figsize=(10,8))\n",
        "axs[0].plot(x_train, y_train, 'ro', x_test, y_test, 'b^', end_fit_x, end_fit_y, 'g')\n",
        "axs[0].legend(('training points', 'test points', 'final fit'),  loc='upper left')\n",
        "ep_arr = np.arange(len(l_sv_train))\n",
        "axs[1].plot(ep_arr, l_sv_train, 'r', ep_arr, l_sv_test, 'b')\n",
        "axs[1].legend(('training loss', 'test loss'),  loc='upper right')\n",
        "\n",
        "# MZ:\n",
        "# print the following fields:\n",
        "# epoch - mean squared distance (loss) - value of a - value of b\n",
        "\n",
        "# best l_val: ~0.87"
      ],
      "execution_count": 6,
      "outputs": [
        {
          "output_type": "stream",
          "text": [
            "0 3.963044 3.5084696 1.7191638\n",
            "40 0.99670756 3.0661094 4.499829\n",
            "80 0.8725014 2.9698696 5.0751657\n",
            "120 0.86355555 2.9625218 5.197219\n",
            "160 0.866274 2.9480467 5.2219048\n",
            "200 0.8685492 2.9445207 5.2245235\n"
          ],
          "name": "stdout"
        },
        {
          "output_type": "execute_result",
          "data": {
            "text/plain": [
              "<matplotlib.legend.Legend at 0x7f7ec554b048>"
            ]
          },
          "metadata": {
            "tags": []
          },
          "execution_count": 6
        },
        {
          "output_type": "display_data",
          "data": {
            "image/png": "[encoded data removed]",
            "text/plain": [
              "<Figure size 720x576 with 2 Axes>"
            ]
          },
          "metadata": {
            "tags": []
          }
        }
      ]
    },
    {
      "metadata": {
        "id": "dlHhIHC0cTSl",
        "colab_type": "text"
      },
      "cell_type": "markdown",
      "source": [
        "size of the split of the data -> depends on the data you have\n",
        "\n",
        "if too small -> risk of overfitting\n",
        "\n",
        "image classification: 100'000 per class -> split 95-5-5% of the data (5% is not too small)"
      ]
    },
    {
      "metadata": {
        "id": "G2pispm0XoYn",
        "colab_type": "text"
      },
      "cell_type": "markdown",
      "source": [
        "## 2. Excercise 1"
      ]
    },
    {
      "metadata": {
        "id": "aq-cu7TMXoYp",
        "colab_type": "text"
      },
      "cell_type": "markdown",
      "source": [
        "Play with the true function parameters ```a0, b0, s0``` and the ``mini_batch_size`` value, check how it affects the convergence.\n",
        "\n",
        "1. How change of `s0` affects convergance?\n",
        "2. When one should stop training to prevent overfitting?"
      ]
    },
    {
      "metadata": {
        "id": "shl16X7ectYa",
        "colab_type": "code",
        "colab": {
          "base_uri": "https://localhost:8080/",
          "height": 605
        },
        "outputId": "5ddd828c-c960-4757-bf75-12cbdb14fba9"
      },
      "cell_type": "code",
      "source": [
        "# 1) CHANGE s0\n",
        "\n",
        "# s0 -> amplitude variation for the random offset \n",
        "\n",
        "a0 = 3#3\n",
        "b0 = 5#5\n",
        "s0 = 5#1 -> mean loss 23.81 # training loss and test loss curves separated (test over training)\n",
        "s0 = 0#1 -> mean loss 1.2e-6 # overlap training loss and test loss curves\n",
        "s0 = 10#1 -> mean loss 99.84\n",
        "# => increase of s0 slows the convergence\n",
        "\n",
        "\n",
        "x_all = np.arange(0, 10, .05)\n",
        "n_all = x_all.shape[0]\n",
        "ofs_all = s0*np.random.randn(n_all)\n",
        "y_all = np.asarray([a0*x+b0+o for x, o in zip(x_all, ofs_all)])\n",
        "    \n",
        "idx = np.random.permutation(n_all)\n",
        "n_train = n_all*80//100\n",
        "\n",
        "idx_train = idx[0:n_train]\n",
        "idx_test = idx[n_train:]\n",
        "\n",
        "x_train = x_all[idx_train]\n",
        "y_train = y_all[idx_train]\n",
        "\n",
        "x_test = x_all[idx_test]\n",
        "y_test = y_all[idx_test]\n",
        "\n",
        "tf.reset_default_graph()\n",
        "\n",
        "a = tf.get_variable(name='a', dtype=tf.float32, initializer=tf.random_normal(()))\n",
        "b = tf.get_variable(name='b', dtype=tf.float32, initializer=tf.random_normal(()))\n",
        "x = tf.placeholder(name='x', dtype=tf.float32, shape=(None))\n",
        "y = tf.placeholder(name='y', dtype=tf.float32, shape=(None))\n",
        "\n",
        "residual = y - tf.multiply(x,a) - b \n",
        "residual2 = tf.square(residual)\n",
        "loss = tf.reduce_mean(residual2)\n",
        "\n",
        "optimizer = tf.train.GradientDescentOptimizer(0.005).minimize(loss) #0.005\n",
        "mini_batch_size = 10 # 10\n",
        "\n",
        "l_sv_train = []\n",
        "l_sv_test = []\n",
        "with tf.Session() as sess:\n",
        "    sess.run(tf.global_variables_initializer())\n",
        "    \n",
        "    for epoch in range (201):\n",
        "        idx = np.random.permutation(n_train)\n",
        "        for mb in range(n_train//mini_batch_size):\n",
        "            sub_idx = idx[mini_batch_size*mb:mini_batch_size*(mb+1)]\n",
        "            sess.run(optimizer, feed_dict={x:x_train[sub_idx], y:y_train[sub_idx]})\n",
        "            \n",
        "        l_val_test = sess.run(loss, feed_dict={x:x_test, y:y_test})\n",
        "        l_val_train = sess.run(loss, feed_dict={x:x_train, y:y_train})\n",
        "        if epoch%40==0:\n",
        "            l_val, a_val, b_val = sess.run([loss, a, b], feed_dict={x:x_train, y:y_train})\n",
        "            print(epoch, l_val, a_val, b_val)\n",
        "            \n",
        "        l_sv_train.append(l_val_train)\n",
        "        l_sv_test.append(l_val_test)\n",
        "        \n",
        "end_fit_x = [x_all[0], x_all[-1]]\n",
        "end_fit_y = [a_val*x+b_val for x in end_fit_x]\n",
        "true_fn_y = [a0*x+b0 for x in end_fit_x]\n",
        "fig, axs = plt.subplots(2, 1, figsize=(10,8))\n",
        "axs[0].plot(x_train, y_train, 'ro', x_test, y_test, 'b^', end_fit_x, end_fit_y, 'g')\n",
        "axs[0].legend(('training points', 'test points', 'final fit'),  loc='upper left')\n",
        "ep_arr = np.arange(len(l_sv_train))\n",
        "axs[1].plot(ep_arr, l_sv_train, 'r', ep_arr, l_sv_test, 'b')\n",
        "axs[1].legend(('training loss', 'test loss'),  loc='upper right')\n",
        "\n",
        "# s0 = 1 best l_val: 0.86\n",
        "# s0 = 5 best l_val: 23.81"
      ],
      "execution_count": 11,
      "outputs": [
        {
          "output_type": "stream",
          "text": [
            "0 102.548935 3.9875488 1.264828\n",
            "40 101.35293 2.9832647 4.2594953\n",
            "80 101.25609 3.5487578 5.050209\n",
            "120 97.42528 3.1539376 5.087875\n",
            "160 100.8408 3.510467 5.1788073\n",
            "200 99.53494 2.9361448 5.115214\n"
          ],
          "name": "stdout"
        },
        {
          "output_type": "execute_result",
          "data": {
            "text/plain": [
              "<matplotlib.legend.Legend at 0x7f7ec171ae80>"
            ]
          },
          "metadata": {
            "tags": []
          },
          "execution_count": 11
        },
        {
          "output_type": "display_data",
          "data": {
            "image/png": "[encoded data removed]",
            "text/plain": [
              "<Figure size 720x576 with 2 Axes>"
            ]
          },
          "metadata": {
            "tags": []
          }
        }
      ]
    },
    {
      "metadata": {
        "id": "G_uY6KEvm4xZ",
        "colab_type": "code",
        "colab": {}
      },
      "cell_type": "code",
      "source": [
        "overfit"
      ],
      "execution_count": 0,
      "outputs": []
    },
    {
      "metadata": {
        "id": "jHZV5aVOm5tk",
        "colab_type": "text"
      },
      "cell_type": "markdown",
      "source": [
        "big fluctuation around true position (high s0) -> needs\n",
        "\n",
        "bigger mini_batch -> less iteration on each epoch\n",
        "\n",
        "s0=40\n",
        "\n",
        "epoch=600 \n",
        "\n",
        "training loss continues to decrease, but after 50 epochs, test loss start again to increase; test data different to the train data; we are getting of from the test data (indicates that we are getting off from true distribution)\n",
        "\n",
        "overfitting: loss of test data decrease than increase again"
      ]
    },
    {
      "metadata": {
        "id": "SHN0NAbwXoYr",
        "colab_type": "text"
      },
      "cell_type": "markdown",
      "source": [
        "## 3. A bit of things"
      ]
    },
    {
      "metadata": {
        "id": "McaH--knXoYt",
        "colab_type": "text"
      },
      "cell_type": "markdown",
      "source": [
        "The training as we just saw is done iteratively, by adjusting the model parameters.\n",
        "\n",
        "We perform optimization several times for all traininng dataset. Going through all this dataset is refered to as 'epoch'.\n",
        "\n",
        "When we do training its usually done in two loops. In outer loop we iterate over all epochs. For each epoch we usually split the dataset into small chuncks, 'mini-batches', and optimization it performed for all of those.\n",
        "\n",
        "It is important that data doesn't go to the training pipeline in same order. So the overall scheme looks like this (pseudocode):\n",
        "\n",
        "\n",
        "```\n",
        "x,y = get_training_data()\n",
        "for epoch in range(number_epochs):\n",
        "   x_shfl,y_shfl = shuffle(x,y)\n",
        "   \n",
        "   for mb_idx in range(number_minibatches_in_batch):\n",
        "       x_mb,y_mb = get_minibatch(x_shfl,y_shfl, mb_idx)\n",
        "       \n",
        "       optimize_on(data=x_mb, labels=y_mb)\n",
        "```"
      ]
    },
    {
      "metadata": {
        "id": "bZfx22BSXoYv",
        "colab_type": "text"
      },
      "cell_type": "markdown",
      "source": [
        "Shuffling can be easily done using permuted indexes."
      ]
    },
    {
      "metadata": {
        "id": "2SrRm0DTXoYw",
        "colab_type": "code",
        "colab": {
          "base_uri": "https://localhost:8080/",
          "height": 34
        },
        "outputId": "918a6f73-c334-4d58-dc90-fff7d39e83c6"
      },
      "cell_type": "code",
      "source": [
        "#some array\n",
        "arr = np.array([110,111,112,113,114,115,116])\n",
        "\n",
        "#we can get sub-array for a set of indexes, eg:\n",
        "idx_1_3 = [1,3]\n",
        "sub_arr_1_3 = arr[idx_1_3]\n",
        "print (arr,'[',idx_1_3,']','->', sub_arr_1_3)"
      ],
      "execution_count": 12,
      "outputs": [
        {
          "output_type": "stream",
          "text": [
            "[110 111 112 113 114 115 116] [ [1, 3] ] -> [111 113]\n"
          ],
          "name": "stdout"
        }
      ]
    },
    {
      "metadata": {
        "id": "oKDXoewoXoYy",
        "colab_type": "code",
        "colab": {
          "base_uri": "https://localhost:8080/",
          "height": 68
        },
        "outputId": "91c9e6bc-c7d5-4a25-9750-bc181f6ec819"
      },
      "cell_type": "code",
      "source": [
        "# MZ: number from 0 to 6 in random order\n",
        "ordered_idx = np.arange(7)\n",
        "permuteded_idx = np.random.permutation(7)\n",
        "print(ordered_idx)\n",
        "print(permuteded_idx)\n",
        "\n",
        "permuted_arr = arr[permuteded_idx]\n",
        "print (arr,'[',permuteded_idx,']','->', permuted_arr)"
      ],
      "execution_count": 13,
      "outputs": [
        {
          "output_type": "stream",
          "text": [
            "[0 1 2 3 4 5 6]\n",
            "[3 5 6 1 4 2 0]\n",
            "[110 111 112 113 114 115 116] [ [3 5 6 1 4 2 0] ] -> [113 115 116 111 114 112 110]\n"
          ],
          "name": "stdout"
        }
      ]
    },
    {
      "metadata": {
        "id": "3RD7hzdeXoY0",
        "colab_type": "text"
      },
      "cell_type": "markdown",
      "source": [
        "Some additional np things in this tutorial:"
      ]
    },
    {
      "metadata": {
        "id": "VYodvRroXoY0",
        "colab_type": "code",
        "colab": {
          "base_uri": "https://localhost:8080/",
          "height": 34
        },
        "outputId": "f641035e-3b0e-4747-e656-eb7db4fd4ed8"
      },
      "cell_type": "code",
      "source": [
        "#index of element with highest value\n",
        "np.argmax(permuted_arr)\n",
        "\n",
        "# MZ: gives the index of the maximum element (not the actual maximal value)"
      ],
      "execution_count": 14,
      "outputs": [
        {
          "output_type": "execute_result",
          "data": {
            "text/plain": [
              "2"
            ]
          },
          "metadata": {
            "tags": []
          },
          "execution_count": 14
        }
      ]
    },
    {
      "metadata": {
        "id": "EIUYrzjiXoY2",
        "colab_type": "code",
        "colab": {
          "base_uri": "https://localhost:8080/",
          "height": 51
        },
        "outputId": "7ef4a5b5-da4b-4f0d-ba3c-cadaecbe79d3"
      },
      "cell_type": "code",
      "source": [
        "arr2d = np.array([[0,1],[2,3]])\n",
        "print(arr2d)"
      ],
      "execution_count": 16,
      "outputs": [
        {
          "output_type": "stream",
          "text": [
            "[[0 1]\n",
            " [2 3]]\n"
          ],
          "name": "stdout"
        }
      ]
    },
    {
      "metadata": {
        "id": "z7Rh1dGaXoY7",
        "colab_type": "code",
        "colab": {
          "base_uri": "https://localhost:8080/",
          "height": 119
        },
        "outputId": "a367ff98-e84d-4570-afc1-4b19d506b56d"
      },
      "cell_type": "code",
      "source": [
        "#flatten\n",
        "# MZ: concatenates rows to 1D array\n",
        "arr_flat = arr2d.flatten()\n",
        "#reshape\n",
        "arr_4 = arr2d.reshape((4))\n",
        "arr_4_1 = arr2d.reshape((4,1))\n",
        "\n",
        "print (arr_flat)\n",
        "print (arr_4)\n",
        "print (arr_4_1)"
      ],
      "execution_count": 17,
      "outputs": [
        {
          "output_type": "stream",
          "text": [
            "[0 1 2 3]\n",
            "[0 1 2 3]\n",
            "[[0]\n",
            " [1]\n",
            " [2]\n",
            " [3]]\n"
          ],
          "name": "stdout"
        }
      ]
    },
    {
      "metadata": {
        "id": "ntg3GLJaXoY8",
        "colab_type": "text"
      },
      "cell_type": "markdown",
      "source": [
        "## 4. Bulding blocks of a neural network"
      ]
    },
    {
      "metadata": {
        "id": "judv65Lgp_TU",
        "colab_type": "text"
      },
      "cell_type": "markdown",
      "source": [
        "MZ\n",
        "\n",
        "linear combination of the input + some biases -> new values z\n",
        "\n",
        "calculate non linear transformation of these values\n",
        "\n",
        "1 neuron that does this transformation. takes bunch of input, weigths with some coefficients and performs linear transformation\n",
        "\n",
        "many neurons, take the same input, have same transformation function, but have different weights and biases -> will give 2 different outputs\n",
        "-> 1 layer of neural network\n",
        "\n",
        "optimization; define another function for the loss function\n",
        "\n",
        "optimizer that optimizes the parameters by minimizing loss function\n",
        "\n",
        "cf. the definition calculates the formula"
      ]
    },
    {
      "metadata": {
        "id": "7XemEDEbXoY_",
        "colab_type": "text"
      },
      "cell_type": "markdown",
      "source": [
        "Neural network consists of layers of neurons. Each neuron perfroms 2 operations.\n",
        "1. Calculate the linear transformation of the input vector $\\bar x$: \n",
        "$$z = \\bar W \\cdot \\bar x + b = \\sum {W_i x_i} + b$$ where $\\bar W$ is vector of weights and $b$ - bias.\n",
        "2. Perform the nonlinear transformation of the result using activation function $f$ $$y = f(z)$$ Here we will use rectified linear unit activation.\n",
        "\n",
        "In a fully connected neural network each layer is a set of N neurons, performing different transformations of all the same layer's inputs $\\bar x = [x_i]$ producing output vector $\\bar y = [y_j]_{i=1..N}$: $$y_j = f(\\bar W_j \\cdot \\bar x + b_j)$$\n",
        "\n",
        "Since output of each layer forms input of next layer, one can write for layer $l$: $$x^l_j = f(\\bar W^l_j \\cdot \\bar x^{l-1} + b^l_j)$$ where $\\bar x^0$ is network's input vactor.\n",
        "\n",
        "To simplify building the network, we'll define a helper function, creating neuron layer with given number of outputs:"
      ]
    },
    {
      "metadata": {
        "code_folding": [],
        "id": "0VUuAEfTXoZA",
        "colab_type": "code",
        "colab": {}
      },
      "cell_type": "code",
      "source": [
        "# MZ: implements the formula\n",
        "\n",
        "# activation = non linear function to calculate the output\n",
        "\n",
        "def fully_connected_layer(x, n_output, name=None, activation=None):\n",
        "    \"\"\"Fully connected layer.\n",
        "\n",
        "    Parameters\n",
        "    ----------\n",
        "    x : tf.Tensor\n",
        "        Input tensor to connect\n",
        "    n_output : int\n",
        "        Number of output neurons\n",
        "    name : None, optional\n",
        "        TF Scope to apply\n",
        "    activation : None, optional\n",
        "        Non-linear activation function\n",
        "\n",
        "    Returns\n",
        "    -------\n",
        "    h, W : tf.Tensor, tf.Tensor\n",
        "        Output of the fully connected layer and the weight matrix\n",
        "    \"\"\"\n",
        "    if len(x.get_shape()) != 2:\n",
        "        x = flatten(x, reuse=None)\n",
        "\n",
        "    n_input = x.get_shape().as_list()[1]\n",
        "\n",
        "    with tf.variable_scope(name or \"fc\", reuse=None):\n",
        "        W = tf.get_variable(\n",
        "            name='W',\n",
        "            shape=[n_input, n_output],\n",
        "            dtype=tf.float32,\n",
        "            initializer=tf.contrib.layers.xavier_initializer())\n",
        "\n",
        "        b = tf.get_variable(\n",
        "            name='b',\n",
        "            shape=[n_output],\n",
        "            dtype=tf.float32,\n",
        "            initializer=tf.constant_initializer(0.0))\n",
        "\n",
        "        h = tf.nn.bias_add(\n",
        "            name='h',\n",
        "            value=tf.matmul(x, W),\n",
        "            bias=b)\n",
        "\n",
        "        if activation:\n",
        "            h = activation(h)\n",
        "\n",
        "        return h, W"
      ],
      "execution_count": 0,
      "outputs": []
    },
    {
      "metadata": {
        "id": "NHbXINoaXoZC",
        "colab_type": "text"
      },
      "cell_type": "markdown",
      "source": [
        "In the case of classification, in the the last layer we use *softmax* transformation as non-linear transformation: $$y_i = \\sigma(\\bar z)_i = \\frac{ e^{z_i}}{\\sum_j e^{z_j}}$$"
      ]
    },
    {
      "metadata": {
        "id": "Lj5k1NqJXoZC",
        "colab_type": "text"
      },
      "cell_type": "markdown",
      "source": [
        "This will correspond to the one-hot labels that we use.\n",
        "Finally we will use the cross entropy as the loss function: $$H(Y_{pred}, Y_{true}) = - \\sum_i Y_{true, i} \\log(Y_{pred, i})$$"
      ]
    },
    {
      "metadata": {
        "id": "O7_Uw6UyXoZD",
        "colab_type": "text"
      },
      "cell_type": "markdown",
      "source": [
        "## 5. Bulding a neural network"
      ]
    },
    {
      "metadata": {
        "id": "rM3B9Zf5XoZF",
        "colab_type": "code",
        "colab": {}
      },
      "cell_type": "code",
      "source": [
        "n_input = 10\n",
        "n_output = 2"
      ],
      "execution_count": 0,
      "outputs": []
    },
    {
      "metadata": {
        "id": "xkjdel84XoZJ",
        "colab_type": "code",
        "colab": {}
      },
      "cell_type": "code",
      "source": [
        "g = tf.Graph()\n",
        "with g.as_default():\n",
        "    X = tf.placeholder(name='X', dtype=tf.float32, shape=[None, n_input])\n",
        "    Y = tf.placeholder(name='Y', dtype=tf.float32, shape=[None, n_output])\n",
        "    \n",
        "    #layer 1: 10 inputs -> 4, softmax activation\n",
        "    \n",
        "    # MZ: output of 1st layer = input of 2nd layer\n",
        "    \n",
        "    L1, W1 = fully_connected_layer(X , 4, 'L1', activation=tf.sigmoid)\n",
        "    L2, W2 = fully_connected_layer(L1 , 2, 'L2', activation=None)\n",
        "    Y_onehot = tf.nn.softmax(L2, name='Logits')\n",
        "    \n",
        "    #prediction: onehot->integer\n",
        "    Y_pred = tf.argmax(Y_onehot, axis=1, name='YPred')"
      ],
      "execution_count": 0,
      "outputs": []
    },
    {
      "metadata": {
        "id": "RyKX9-W0rNkL",
        "colab_type": "text"
      },
      "cell_type": "markdown",
      "source": [
        ""
      ]
    },
    {
      "metadata": {
        "id": "eraXYrdyrOct",
        "colab_type": "text"
      },
      "cell_type": "markdown",
      "source": [
        ""
      ]
    },
    {
      "metadata": {
        "id": "AaCRJosnXoZL",
        "colab_type": "code",
        "colab": {
          "base_uri": "https://localhost:8080/",
          "height": 68
        },
        "outputId": "3bdd4421-9026-46fb-a4ac-53e90ff322b7"
      },
      "cell_type": "code",
      "source": [
        "print(X)\n",
        "print(Y)\n",
        "print(Y_pred)"
      ],
      "execution_count": 22,
      "outputs": [
        {
          "output_type": "stream",
          "text": [
            "Tensor(\"X:0\", shape=(?, 10), dtype=float32)\n",
            "Tensor(\"Y:0\", shape=(?, 2), dtype=float32)\n",
            "Tensor(\"YPred:0\", shape=(?,), dtype=int64)\n"
          ],
          "name": "stdout"
        }
      ]
    },
    {
      "metadata": {
        "id": "XWRnXBIYXoZQ",
        "colab_type": "code",
        "colab": {
          "base_uri": "https://localhost:8080/",
          "height": 641
        },
        "outputId": "3abf3522-e39c-415b-c2a1-8a6ecafa5f16"
      },
      "cell_type": "code",
      "source": [
        "gr_disp.show(g.as_graph_def())"
      ],
      "execution_count": 23,
      "outputs": [
        {
          "output_type": "display_data",
          "data": {
            "text/html": [
              "\n",
              "            <iframe seamless style=\"width:800px;height:620px;border:0\" srcdoc=\"\n",
              "            <script>\n",
              "              function load() {\n",
              "                document.getElementById(&quot;graph0.6532914669128833&quot;).pbtxt = 'node {\\n  name: &quot;X&quot;\\n  op: &quot;Placeholder&quot;\\n  attr {\\n    key: &quot;dtype&quot;\\n    value {\\n      type: DT_FLOAT\\n    }\\n  }\\n  attr {\\n    key: &quot;shape&quot;\\n    value {\\n      shape {\\n        dim {\\n          size: -1\\n        }\\n        dim {\\n          size: 10\\n        }\\n      }\\n    }\\n  }\\n}\\nnode {\\n  name: &quot;Y&quot;\\n  op: &quot;Placeholder&quot;\\n  attr {\\n    key: &quot;dtype&quot;\\n    value {\\n      type: DT_FLOAT\\n    }\\n  }\\n  attr {\\n    key: &quot;shape&quot;\\n    value {\\n      shape {\\n        dim {\\n          size: -1\\n        }\\n        dim {\\n          size: 2\\n        }\\n      }\\n    }\\n  }\\n}\\nnode {\\n  name: &quot;L1/W/Initializer/random/uniform/shape&quot;\\n  op: &quot;Const&quot;\\n  attr {\\n    key: &quot;_class&quot;\\n    value {\\n      list {\\n        s: &quot;loc:@L1/W&quot;\\n      }\\n    }\\n  }\\n  attr {\\n    key: &quot;dtype&quot;\\n    value {\\n      type: DT_INT32\\n    }\\n  }\\n  attr {\\n    key: &quot;value&quot;\\n    value {\\n      tensor {\\n        dtype: DT_INT32\\n        tensor_shape {\\n          dim {\\n            size: 2\\n          }\\n        }\\n        tensor_content: &quot;\\\\n\\\\000\\\\000\\\\000\\\\004\\\\000\\\\000\\\\000&quot;\\n      }\\n    }\\n  }\\n}\\nnode {\\n  name: &quot;L1/W/Initializer/random/uniform/min&quot;\\n  op: &quot;Const&quot;\\n  attr {\\n    key: &quot;_class&quot;\\n    value {\\n      list {\\n        s: &quot;loc:@L1/W&quot;\\n      }\\n    }\\n  }\\n  attr {\\n    key: &quot;dtype&quot;\\n    value {\\n      type: DT_FLOAT\\n    }\\n  }\\n  attr {\\n    key: &quot;value&quot;\\n    value {\\n      tensor {\\n        dtype: DT_FLOAT\\n        tensor_shape {\\n        }\\n        float_val: -0.6546536684036255\\n      }\\n    }\\n  }\\n}\\nnode {\\n  name: &quot;L1/W/Initializer/random/uniform/max&quot;\\n  op: &quot;Const&quot;\\n  attr {\\n    key: &quot;_class&quot;\\n    value {\\n      list {\\n        s: &quot;loc:@L1/W&quot;\\n      }\\n    }\\n  }\\n  attr {\\n    key: &quot;dtype&quot;\\n    value {\\n      type: DT_FLOAT\\n    }\\n  }\\n  attr {\\n    key: &quot;value&quot;\\n    value {\\n      tensor {\\n        dtype: DT_FLOAT\\n        tensor_shape {\\n        }\\n        float_val: 0.6546536684036255\\n      }\\n    }\\n  }\\n}\\nnode {\\n  name: &quot;L1/W/Initializer/random/uniform/RandomUniform&quot;\\n  op: &quot;RandomUniform&quot;\\n  input: &quot;L1/W/Initializer/random/uniform/shape&quot;\\n  attr {\\n    key: &quot;T&quot;\\n    value {\\n      type: DT_INT32\\n    }\\n  }\\n  attr {\\n    key: &quot;_class&quot;\\n    value {\\n      list {\\n        s: &quot;loc:@L1/W&quot;\\n      }\\n    }\\n  }\\n  attr {\\n    key: &quot;dtype&quot;\\n    value {\\n      type: DT_FLOAT\\n    }\\n  }\\n  attr {\\n    key: &quot;seed&quot;\\n    value {\\n      i: 0\\n    }\\n  }\\n  attr {\\n    key: &quot;seed2&quot;\\n    value {\\n      i: 0\\n    }\\n  }\\n}\\nnode {\\n  name: &quot;L1/W/Initializer/random/uniform/sub&quot;\\n  op: &quot;Sub&quot;\\n  input: &quot;L1/W/Initializer/random/uniform/max&quot;\\n  input: &quot;L1/W/Initializer/random/uniform/min&quot;\\n  attr {\\n    key: &quot;T&quot;\\n    value {\\n      type: DT_FLOAT\\n    }\\n  }\\n  attr {\\n    key: &quot;_class&quot;\\n    value {\\n      list {\\n        s: &quot;loc:@L1/W&quot;\\n      }\\n    }\\n  }\\n}\\nnode {\\n  name: &quot;L1/W/Initializer/random/uniform/mul&quot;\\n  op: &quot;Mul&quot;\\n  input: &quot;L1/W/Initializer/random/uniform/RandomUniform&quot;\\n  input: &quot;L1/W/Initializer/random/uniform/sub&quot;\\n  attr {\\n    key: &quot;T&quot;\\n    value {\\n      type: DT_FLOAT\\n    }\\n  }\\n  attr {\\n    key: &quot;_class&quot;\\n    value {\\n      list {\\n        s: &quot;loc:@L1/W&quot;\\n      }\\n    }\\n  }\\n}\\nnode {\\n  name: &quot;L1/W/Initializer/random/uniform&quot;\\n  op: &quot;Add&quot;\\n  input: &quot;L1/W/Initializer/random/uniform/mul&quot;\\n  input: &quot;L1/W/Initializer/random/uniform/min&quot;\\n  attr {\\n    key: &quot;T&quot;\\n    value {\\n      type: DT_FLOAT\\n    }\\n  }\\n  attr {\\n    key: &quot;_class&quot;\\n    value {\\n      list {\\n        s: &quot;loc:@L1/W&quot;\\n      }\\n    }\\n  }\\n}\\nnode {\\n  name: &quot;L1/W&quot;\\n  op: &quot;VariableV2&quot;\\n  attr {\\n    key: &quot;_class&quot;\\n    value {\\n      list {\\n        s: &quot;loc:@L1/W&quot;\\n      }\\n    }\\n  }\\n  attr {\\n    key: &quot;container&quot;\\n    value {\\n      s: &quot;&quot;\\n    }\\n  }\\n  attr {\\n    key: &quot;dtype&quot;\\n    value {\\n      type: DT_FLOAT\\n    }\\n  }\\n  attr {\\n    key: &quot;shape&quot;\\n    value {\\n      shape {\\n        dim {\\n          size: 10\\n        }\\n        dim {\\n          size: 4\\n        }\\n      }\\n    }\\n  }\\n  attr {\\n    key: &quot;shared_name&quot;\\n    value {\\n      s: &quot;&quot;\\n    }\\n  }\\n}\\nnode {\\n  name: &quot;L1/W/Assign&quot;\\n  op: &quot;Assign&quot;\\n  input: &quot;L1/W&quot;\\n  input: &quot;L1/W/Initializer/random/uniform&quot;\\n  attr {\\n    key: &quot;T&quot;\\n    value {\\n      type: DT_FLOAT\\n    }\\n  }\\n  attr {\\n    key: &quot;_class&quot;\\n    value {\\n      list {\\n        s: &quot;loc:@L1/W&quot;\\n      }\\n    }\\n  }\\n  attr {\\n    key: &quot;use_locking&quot;\\n    value {\\n      b: true\\n    }\\n  }\\n  attr {\\n    key: &quot;validate_shape&quot;\\n    value {\\n      b: true\\n    }\\n  }\\n}\\nnode {\\n  name: &quot;L1/W/read&quot;\\n  op: &quot;Identity&quot;\\n  input: &quot;L1/W&quot;\\n  attr {\\n    key: &quot;T&quot;\\n    value {\\n      type: DT_FLOAT\\n    }\\n  }\\n  attr {\\n    key: &quot;_class&quot;\\n    value {\\n      list {\\n        s: &quot;loc:@L1/W&quot;\\n      }\\n    }\\n  }\\n}\\nnode {\\n  name: &quot;L1/b/Initializer/Const&quot;\\n  op: &quot;Const&quot;\\n  attr {\\n    key: &quot;_class&quot;\\n    value {\\n      list {\\n        s: &quot;loc:@L1/b&quot;\\n      }\\n    }\\n  }\\n  attr {\\n    key: &quot;dtype&quot;\\n    value {\\n      type: DT_FLOAT\\n    }\\n  }\\n  attr {\\n    key: &quot;value&quot;\\n    value {\\n      tensor {\\n        dtype: DT_FLOAT\\n        tensor_shape {\\n          dim {\\n            size: 4\\n          }\\n        }\\n        float_val: 0.0\\n      }\\n    }\\n  }\\n}\\nnode {\\n  name: &quot;L1/b&quot;\\n  op: &quot;VariableV2&quot;\\n  attr {\\n    key: &quot;_class&quot;\\n    value {\\n      list {\\n        s: &quot;loc:@L1/b&quot;\\n      }\\n    }\\n  }\\n  attr {\\n    key: &quot;container&quot;\\n    value {\\n      s: &quot;&quot;\\n    }\\n  }\\n  attr {\\n    key: &quot;dtype&quot;\\n    value {\\n      type: DT_FLOAT\\n    }\\n  }\\n  attr {\\n    key: &quot;shape&quot;\\n    value {\\n      shape {\\n        dim {\\n          size: 4\\n        }\\n      }\\n    }\\n  }\\n  attr {\\n    key: &quot;shared_name&quot;\\n    value {\\n      s: &quot;&quot;\\n    }\\n  }\\n}\\nnode {\\n  name: &quot;L1/b/Assign&quot;\\n  op: &quot;Assign&quot;\\n  input: &quot;L1/b&quot;\\n  input: &quot;L1/b/Initializer/Const&quot;\\n  attr {\\n    key: &quot;T&quot;\\n    value {\\n      type: DT_FLOAT\\n    }\\n  }\\n  attr {\\n    key: &quot;_class&quot;\\n    value {\\n      list {\\n        s: &quot;loc:@L1/b&quot;\\n      }\\n    }\\n  }\\n  attr {\\n    key: &quot;use_locking&quot;\\n    value {\\n      b: true\\n    }\\n  }\\n  attr {\\n    key: &quot;validate_shape&quot;\\n    value {\\n      b: true\\n    }\\n  }\\n}\\nnode {\\n  name: &quot;L1/b/read&quot;\\n  op: &quot;Identity&quot;\\n  input: &quot;L1/b&quot;\\n  attr {\\n    key: &quot;T&quot;\\n    value {\\n      type: DT_FLOAT\\n    }\\n  }\\n  attr {\\n    key: &quot;_class&quot;\\n    value {\\n      list {\\n        s: &quot;loc:@L1/b&quot;\\n      }\\n    }\\n  }\\n}\\nnode {\\n  name: &quot;L1/MatMul&quot;\\n  op: &quot;MatMul&quot;\\n  input: &quot;X&quot;\\n  input: &quot;L1/W/read&quot;\\n  attr {\\n    key: &quot;T&quot;\\n    value {\\n      type: DT_FLOAT\\n    }\\n  }\\n  attr {\\n    key: &quot;transpose_a&quot;\\n    value {\\n      b: false\\n    }\\n  }\\n  attr {\\n    key: &quot;transpose_b&quot;\\n    value {\\n      b: false\\n    }\\n  }\\n}\\nnode {\\n  name: &quot;L1/h&quot;\\n  op: &quot;BiasAdd&quot;\\n  input: &quot;L1/MatMul&quot;\\n  input: &quot;L1/b/read&quot;\\n  attr {\\n    key: &quot;T&quot;\\n    value {\\n      type: DT_FLOAT\\n    }\\n  }\\n  attr {\\n    key: &quot;data_format&quot;\\n    value {\\n      s: &quot;NHWC&quot;\\n    }\\n  }\\n}\\nnode {\\n  name: &quot;L1/Sigmoid&quot;\\n  op: &quot;Sigmoid&quot;\\n  input: &quot;L1/h&quot;\\n  attr {\\n    key: &quot;T&quot;\\n    value {\\n      type: DT_FLOAT\\n    }\\n  }\\n}\\nnode {\\n  name: &quot;L2/W/Initializer/random/uniform/shape&quot;\\n  op: &quot;Const&quot;\\n  attr {\\n    key: &quot;_class&quot;\\n    value {\\n      list {\\n        s: &quot;loc:@L2/W&quot;\\n      }\\n    }\\n  }\\n  attr {\\n    key: &quot;dtype&quot;\\n    value {\\n      type: DT_INT32\\n    }\\n  }\\n  attr {\\n    key: &quot;value&quot;\\n    value {\\n      tensor {\\n        dtype: DT_INT32\\n        tensor_shape {\\n          dim {\\n            size: 2\\n          }\\n        }\\n        tensor_content: &quot;\\\\004\\\\000\\\\000\\\\000\\\\002\\\\000\\\\000\\\\000&quot;\\n      }\\n    }\\n  }\\n}\\nnode {\\n  name: &quot;L2/W/Initializer/random/uniform/min&quot;\\n  op: &quot;Const&quot;\\n  attr {\\n    key: &quot;_class&quot;\\n    value {\\n      list {\\n        s: &quot;loc:@L2/W&quot;\\n      }\\n    }\\n  }\\n  attr {\\n    key: &quot;dtype&quot;\\n    value {\\n      type: DT_FLOAT\\n    }\\n  }\\n  attr {\\n    key: &quot;value&quot;\\n    value {\\n      tensor {\\n        dtype: DT_FLOAT\\n        tensor_shape {\\n        }\\n        float_val: -1.0\\n      }\\n    }\\n  }\\n}\\nnode {\\n  name: &quot;L2/W/Initializer/random/uniform/max&quot;\\n  op: &quot;Const&quot;\\n  attr {\\n    key: &quot;_class&quot;\\n    value {\\n      list {\\n        s: &quot;loc:@L2/W&quot;\\n      }\\n    }\\n  }\\n  attr {\\n    key: &quot;dtype&quot;\\n    value {\\n      type: DT_FLOAT\\n    }\\n  }\\n  attr {\\n    key: &quot;value&quot;\\n    value {\\n      tensor {\\n        dtype: DT_FLOAT\\n        tensor_shape {\\n        }\\n        float_val: 1.0\\n      }\\n    }\\n  }\\n}\\nnode {\\n  name: &quot;L2/W/Initializer/random/uniform/RandomUniform&quot;\\n  op: &quot;RandomUniform&quot;\\n  input: &quot;L2/W/Initializer/random/uniform/shape&quot;\\n  attr {\\n    key: &quot;T&quot;\\n    value {\\n      type: DT_INT32\\n    }\\n  }\\n  attr {\\n    key: &quot;_class&quot;\\n    value {\\n      list {\\n        s: &quot;loc:@L2/W&quot;\\n      }\\n    }\\n  }\\n  attr {\\n    key: &quot;dtype&quot;\\n    value {\\n      type: DT_FLOAT\\n    }\\n  }\\n  attr {\\n    key: &quot;seed&quot;\\n    value {\\n      i: 0\\n    }\\n  }\\n  attr {\\n    key: &quot;seed2&quot;\\n    value {\\n      i: 0\\n    }\\n  }\\n}\\nnode {\\n  name: &quot;L2/W/Initializer/random/uniform/sub&quot;\\n  op: &quot;Sub&quot;\\n  input: &quot;L2/W/Initializer/random/uniform/max&quot;\\n  input: &quot;L2/W/Initializer/random/uniform/min&quot;\\n  attr {\\n    key: &quot;T&quot;\\n    value {\\n      type: DT_FLOAT\\n    }\\n  }\\n  attr {\\n    key: &quot;_class&quot;\\n    value {\\n      list {\\n        s: &quot;loc:@L2/W&quot;\\n      }\\n    }\\n  }\\n}\\nnode {\\n  name: &quot;L2/W/Initializer/random/uniform/mul&quot;\\n  op: &quot;Mul&quot;\\n  input: &quot;L2/W/Initializer/random/uniform/RandomUniform&quot;\\n  input: &quot;L2/W/Initializer/random/uniform/sub&quot;\\n  attr {\\n    key: &quot;T&quot;\\n    value {\\n      type: DT_FLOAT\\n    }\\n  }\\n  attr {\\n    key: &quot;_class&quot;\\n    value {\\n      list {\\n        s: &quot;loc:@L2/W&quot;\\n      }\\n    }\\n  }\\n}\\nnode {\\n  name: &quot;L2/W/Initializer/random/uniform&quot;\\n  op: &quot;Add&quot;\\n  input: &quot;L2/W/Initializer/random/uniform/mul&quot;\\n  input: &quot;L2/W/Initializer/random/uniform/min&quot;\\n  attr {\\n    key: &quot;T&quot;\\n    value {\\n      type: DT_FLOAT\\n    }\\n  }\\n  attr {\\n    key: &quot;_class&quot;\\n    value {\\n      list {\\n        s: &quot;loc:@L2/W&quot;\\n      }\\n    }\\n  }\\n}\\nnode {\\n  name: &quot;L2/W&quot;\\n  op: &quot;VariableV2&quot;\\n  attr {\\n    key: &quot;_class&quot;\\n    value {\\n      list {\\n        s: &quot;loc:@L2/W&quot;\\n      }\\n    }\\n  }\\n  attr {\\n    key: &quot;container&quot;\\n    value {\\n      s: &quot;&quot;\\n    }\\n  }\\n  attr {\\n    key: &quot;dtype&quot;\\n    value {\\n      type: DT_FLOAT\\n    }\\n  }\\n  attr {\\n    key: &quot;shape&quot;\\n    value {\\n      shape {\\n        dim {\\n          size: 4\\n        }\\n        dim {\\n          size: 2\\n        }\\n      }\\n    }\\n  }\\n  attr {\\n    key: &quot;shared_name&quot;\\n    value {\\n      s: &quot;&quot;\\n    }\\n  }\\n}\\nnode {\\n  name: &quot;L2/W/Assign&quot;\\n  op: &quot;Assign&quot;\\n  input: &quot;L2/W&quot;\\n  input: &quot;L2/W/Initializer/random/uniform&quot;\\n  attr {\\n    key: &quot;T&quot;\\n    value {\\n      type: DT_FLOAT\\n    }\\n  }\\n  attr {\\n    key: &quot;_class&quot;\\n    value {\\n      list {\\n        s: &quot;loc:@L2/W&quot;\\n      }\\n    }\\n  }\\n  attr {\\n    key: &quot;use_locking&quot;\\n    value {\\n      b: true\\n    }\\n  }\\n  attr {\\n    key: &quot;validate_shape&quot;\\n    value {\\n      b: true\\n    }\\n  }\\n}\\nnode {\\n  name: &quot;L2/W/read&quot;\\n  op: &quot;Identity&quot;\\n  input: &quot;L2/W&quot;\\n  attr {\\n    key: &quot;T&quot;\\n    value {\\n      type: DT_FLOAT\\n    }\\n  }\\n  attr {\\n    key: &quot;_class&quot;\\n    value {\\n      list {\\n        s: &quot;loc:@L2/W&quot;\\n      }\\n    }\\n  }\\n}\\nnode {\\n  name: &quot;L2/b/Initializer/Const&quot;\\n  op: &quot;Const&quot;\\n  attr {\\n    key: &quot;_class&quot;\\n    value {\\n      list {\\n        s: &quot;loc:@L2/b&quot;\\n      }\\n    }\\n  }\\n  attr {\\n    key: &quot;dtype&quot;\\n    value {\\n      type: DT_FLOAT\\n    }\\n  }\\n  attr {\\n    key: &quot;value&quot;\\n    value {\\n      tensor {\\n        dtype: DT_FLOAT\\n        tensor_shape {\\n          dim {\\n            size: 2\\n          }\\n        }\\n        float_val: 0.0\\n      }\\n    }\\n  }\\n}\\nnode {\\n  name: &quot;L2/b&quot;\\n  op: &quot;VariableV2&quot;\\n  attr {\\n    key: &quot;_class&quot;\\n    value {\\n      list {\\n        s: &quot;loc:@L2/b&quot;\\n      }\\n    }\\n  }\\n  attr {\\n    key: &quot;container&quot;\\n    value {\\n      s: &quot;&quot;\\n    }\\n  }\\n  attr {\\n    key: &quot;dtype&quot;\\n    value {\\n      type: DT_FLOAT\\n    }\\n  }\\n  attr {\\n    key: &quot;shape&quot;\\n    value {\\n      shape {\\n        dim {\\n          size: 2\\n        }\\n      }\\n    }\\n  }\\n  attr {\\n    key: &quot;shared_name&quot;\\n    value {\\n      s: &quot;&quot;\\n    }\\n  }\\n}\\nnode {\\n  name: &quot;L2/b/Assign&quot;\\n  op: &quot;Assign&quot;\\n  input: &quot;L2/b&quot;\\n  input: &quot;L2/b/Initializer/Const&quot;\\n  attr {\\n    key: &quot;T&quot;\\n    value {\\n      type: DT_FLOAT\\n    }\\n  }\\n  attr {\\n    key: &quot;_class&quot;\\n    value {\\n      list {\\n        s: &quot;loc:@L2/b&quot;\\n      }\\n    }\\n  }\\n  attr {\\n    key: &quot;use_locking&quot;\\n    value {\\n      b: true\\n    }\\n  }\\n  attr {\\n    key: &quot;validate_shape&quot;\\n    value {\\n      b: true\\n    }\\n  }\\n}\\nnode {\\n  name: &quot;L2/b/read&quot;\\n  op: &quot;Identity&quot;\\n  input: &quot;L2/b&quot;\\n  attr {\\n    key: &quot;T&quot;\\n    value {\\n      type: DT_FLOAT\\n    }\\n  }\\n  attr {\\n    key: &quot;_class&quot;\\n    value {\\n      list {\\n        s: &quot;loc:@L2/b&quot;\\n      }\\n    }\\n  }\\n}\\nnode {\\n  name: &quot;L2/MatMul&quot;\\n  op: &quot;MatMul&quot;\\n  input: &quot;L1/Sigmoid&quot;\\n  input: &quot;L2/W/read&quot;\\n  attr {\\n    key: &quot;T&quot;\\n    value {\\n      type: DT_FLOAT\\n    }\\n  }\\n  attr {\\n    key: &quot;transpose_a&quot;\\n    value {\\n      b: false\\n    }\\n  }\\n  attr {\\n    key: &quot;transpose_b&quot;\\n    value {\\n      b: false\\n    }\\n  }\\n}\\nnode {\\n  name: &quot;L2/h&quot;\\n  op: &quot;BiasAdd&quot;\\n  input: &quot;L2/MatMul&quot;\\n  input: &quot;L2/b/read&quot;\\n  attr {\\n    key: &quot;T&quot;\\n    value {\\n      type: DT_FLOAT\\n    }\\n  }\\n  attr {\\n    key: &quot;data_format&quot;\\n    value {\\n      s: &quot;NHWC&quot;\\n    }\\n  }\\n}\\nnode {\\n  name: &quot;Logits&quot;\\n  op: &quot;Softmax&quot;\\n  input: &quot;L2/h&quot;\\n  attr {\\n    key: &quot;T&quot;\\n    value {\\n      type: DT_FLOAT\\n    }\\n  }\\n}\\nnode {\\n  name: &quot;YPred/dimension&quot;\\n  op: &quot;Const&quot;\\n  attr {\\n    key: &quot;dtype&quot;\\n    value {\\n      type: DT_INT32\\n    }\\n  }\\n  attr {\\n    key: &quot;value&quot;\\n    value {\\n      tensor {\\n        dtype: DT_INT32\\n        tensor_shape {\\n        }\\n        int_val: 1\\n      }\\n    }\\n  }\\n}\\nnode {\\n  name: &quot;YPred&quot;\\n  op: &quot;ArgMax&quot;\\n  input: &quot;Logits&quot;\\n  input: &quot;YPred/dimension&quot;\\n  attr {\\n    key: &quot;T&quot;\\n    value {\\n      type: DT_FLOAT\\n    }\\n  }\\n  attr {\\n    key: &quot;Tidx&quot;\\n    value {\\n      type: DT_INT32\\n    }\\n  }\\n  attr {\\n    key: &quot;output_type&quot;\\n    value {\\n      type: DT_INT64\\n    }\\n  }\\n}\\n';\n",
              "              }\n",
              "            </script>\n",
              "            <link rel=&quot;import&quot; href=&quot;https://tensorboard.appspot.com/tf-graph-basic.build.html&quot; onload=load()>\n",
              "            <div style=&quot;height:600px&quot;>\n",
              "              <tf-graph-basic id=&quot;graph0.6532914669128833&quot;></tf-graph-basic>\n",
              "            </div>\n",
              "        \"></iframe>\n",
              "        "
            ],
            "text/plain": [
              "<IPython.core.display.HTML object>"
            ]
          },
          "metadata": {
            "tags": []
          }
        }
      ]
    },
    {
      "metadata": {
        "id": "6y9l5B5QrhGl",
        "colab_type": "text"
      },
      "cell_type": "markdown",
      "source": [
        " MZ: \n",
        " \n",
        " 2 layers, L1 and L2, input x (10 columns and unkwon number of rows)\n",
        "\n",
        "L1: take the input values, multiplies by the weights, add some biases, calculate sigmoid activation and pass the output\n",
        "\n",
        "L2: take this output and doe xactly the same task"
      ]
    }
  ]
}