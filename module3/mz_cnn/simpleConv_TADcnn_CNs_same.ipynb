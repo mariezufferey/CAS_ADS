{
  "nbformat": 4,
  "nbformat_minor": 0,
  "metadata": {
    "colab": {
      "name": "simpleConv_TADcnn_CNs_same.ipynb",
      "version": "0.3.2",
      "provenance": [],
      "collapsed_sections": [],
      "toc_visible": true
    },
    "kernelspec": {
      "name": "python3",
      "display_name": "Python 3"
    },
    "accelerator": "GPU"
  },
  "cells": [
    {
      "cell_type": "markdown",
      "metadata": {
        "id": "X7RAuONfyxBS",
        "colab_type": "text"
      },
      "source": [
        ""
      ]
    },
    {
      "cell_type": "markdown",
      "metadata": {
        "id": "MjcbGHK91pyf",
        "colab_type": "text"
      },
      "source": [
        "# Convolutional Neural Network example"
      ]
    },
    {
      "cell_type": "markdown",
      "metadata": {
        "id": "Almrw48o1t_S",
        "colab_type": "text"
      },
      "source": [
        " <p>\n",
        "Marie Zufferey<br>\n",
        "CAS Data science - Machine learning project with TensorFlow<br>\n",
        "February 2019\n",
        "</p>\n"
      ]
    },
    {
      "cell_type": "markdown",
      "metadata": {
        "id": "iZhMUOoA0Znp",
        "colab_type": "text"
      },
      "source": [
        "_multiKernel: \n",
        "=> 3 conv layers with same number of kernels (+ final layer for the output)"
      ]
    },
    {
      "cell_type": "code",
      "metadata": {
        "id": "lp1c6brSioql",
        "colab_type": "code",
        "colab": {}
      },
      "source": [
        "n_minibatches=10\n",
        "n_epochs=100\n",
        "minibatch_size=10\n",
        "n_samples_valid=1000\n",
        "\n",
        "bin_seq_len=100\n",
        "\n",
        "valid_ratio=0.2\n",
        "train_ratio=0.8\n",
        "\n",
        "# tuned:\n",
        "learning_rate = 0.001\n",
        "\n",
        "epoch_out_step = 100 \n",
        "\n",
        "image_file = \"CNs_same_nMB\" + str(n_minibatches) + \"_sizeMB\" + str(minibatch_size) +\\\n",
        "              \"_nE\" + str(n_epochs) + \"_nVal\" + str(n_samples_valid) +\\\n",
        "              \"_LR\" + str(learning_rate) + \".png\"\n",
        "\n",
        "log_file = \"CNs_same_nMB\" + str(n_minibatches) + \"_sizeMB\" + str(minibatch_size) +\\\n",
        "              \"_nE\" + str(n_epochs) + \"_nVal\" + str(n_samples_valid) +\\\n",
        "              \"_LR\" + str(learning_rate) + \"_log.txt\""
      ],
      "execution_count": 0,
      "outputs": []
    },
    {
      "cell_type": "markdown",
      "metadata": {
        "id": "NbYvlmO32Jzp",
        "colab_type": "text"
      },
      "source": [
        "## 1. Load necessary libraries"
      ]
    },
    {
      "cell_type": "code",
      "metadata": {
        "id": "hRb2jJp32Ge6",
        "colab_type": "code",
        "outputId": "d024049b-5f98-4fba-9208-612a12da0265",
        "colab": {
          "base_uri": "https://localhost:8080/",
          "height": 539
        }
      },
      "source": [
        "# !!! HARD-CODED INPUT FOLDER NAMES HERE !!!\n",
        "! tar -xzvf myutils.tar.gz\n",
        "#! tar -xzvf random_chromo_data.tar.gz\n",
        "! tar -xzvf cnn_data.tar.gz\n",
        "\n",
        "import sys\n",
        "import os\n",
        "import math\n",
        "import random\n",
        "import re\n",
        "\n",
        "import pandas as pd\n",
        "\n",
        "import numpy as np\n",
        "import matplotlib.pyplot as plt\n",
        "import IPython.display as ipyd\n",
        "import tensorflow as tf\n",
        "from PIL import Image\n",
        "\n",
        "# We'll tell matplotlib to inline any drawn figures like so:\n",
        "%matplotlib inline\n",
        "plt.style.use('ggplot')\n",
        "\n",
        "from myutils import gr_disp\n",
        "from myutils_v2 import *\n",
        "from my_cnn_functions import *\n",
        "\n",
        "# for online def of nested dict\n",
        "from collections import defaultdict\n",
        "nesteddict = lambda : defaultdict(nesteddict)\n",
        "\n",
        "\n",
        "from IPython.core.display import HTML\n",
        "HTML(\"\"\"<style> .rendered_html code { \n",
        "    padding: 2px 5px;\n",
        "    color: #0000aa;\n",
        "    background-color: #cccccc;\n",
        "} </style>\"\"\")"
      ],
      "execution_count": 17,
      "outputs": [
        {
          "output_type": "stream",
          "text": [
            "myutils/\n",
            "myutils/gr_disp.pyc\n",
            "myutils/__init__.py\n",
            "myutils/inception.py\n",
            "myutils/__init__.pyc\n",
            "myutils/gr_disp.py\n",
            "cnn_data/\n",
            "cnn_data/GM12878_chr10_final_agg_fltrd.txt\n",
            "cnn_data/GM12878_chr11_final_agg_fltrd.txt\n",
            "cnn_data/GM12878_chr12_final_agg_fltrd.txt\n",
            "cnn_data/GM12878_chr13_final_agg_fltrd.txt\n",
            "cnn_data/GM12878_chr14_final_agg_fltrd.txt\n",
            "cnn_data/GM12878_chr15_final_agg_fltrd.txt\n",
            "cnn_data/GM12878_chr16_final_agg_fltrd.txt\n",
            "cnn_data/GM12878_chr17_final_agg_fltrd.txt\n",
            "cnn_data/GM12878_chr18_final_agg_fltrd.txt\n",
            "cnn_data/GM12878_chr19_final_agg_fltrd.txt\n",
            "cnn_data/GM12878_chr1_final_agg_fltrd.txt\n",
            "cnn_data/GM12878_chr20_final_agg_fltrd.txt\n",
            "cnn_data/GM12878_chr21_final_agg_fltrd.txt\n",
            "cnn_data/GM12878_chr22_final_agg_fltrd.txt\n",
            "cnn_data/GM12878_chr2_final_agg_fltrd.txt\n",
            "cnn_data/GM12878_chr3_final_agg_fltrd.txt\n",
            "cnn_data/GM12878_chr4_final_agg_fltrd.txt\n",
            "cnn_data/GM12878_chr5_final_agg_fltrd.txt\n",
            "cnn_data/GM12878_chr6_final_agg_fltrd.txt\n",
            "cnn_data/GM12878_chr7_final_agg_fltrd.txt\n",
            "cnn_data/GM12878_chr8_final_agg_fltrd.txt\n",
            "cnn_data/GM12878_chr9_final_agg_fltrd.txt\n"
          ],
          "name": "stdout"
        },
        {
          "output_type": "execute_result",
          "data": {
            "text/html": [
              "<style> .rendered_html code { \n",
              "    padding: 2px 5px;\n",
              "    color: #0000aa;\n",
              "    background-color: #cccccc;\n",
              "} </style>"
            ],
            "text/plain": [
              "<IPython.core.display.HTML object>"
            ]
          },
          "metadata": {
            "tags": []
          },
          "execution_count": 17
        }
      ]
    },
    {
      "cell_type": "markdown",
      "metadata": {
        "id": "DbDBa5RM2PhE",
        "colab_type": "text"
      },
      "source": [
        "## 2. Prepare input data\n"
      ]
    },
    {
      "cell_type": "code",
      "metadata": {
        "id": "BdWZbd8S2Kzx",
        "colab_type": "code",
        "outputId": "a86d59c6-5379-4985-9772-91b828828e22",
        "colab": {
          "base_uri": "https://localhost:8080/",
          "height": 107
        }
      },
      "source": [
        "### HARD-CODED SETTINGS FOR THE INPUT DATA:\n",
        "\n",
        "input_folder = \"cnn_data\"\n",
        "\n",
        "model_logfile = \"train_model_logfile_trueData.txt\"\n",
        "\n",
        "image_file = \"model_result.png\"\n",
        "\n",
        "chromo_pattern = '.*(chr.+)[_\\\\.].*'\n",
        "col_with_BD_score = 0 # the boundary score is held in the 1st column of the DF\n",
        "print(\"! hard-coded chromo_pattern = \" + chromo_pattern)\n",
        "print(\"! hard-coded col_with_BD_score = \" + str(col_with_BD_score))\n",
        "\n",
        "\n",
        "print(\"! hard-coded bin_seq_len = \" + str(bin_seq_len))\n",
        "print(\"! hard-coded valid_ratio = \" + str(valid_ratio))\n",
        "print(\"! hard-coded train_ratio = \" + str(train_ratio))\n"
      ],
      "execution_count": 18,
      "outputs": [
        {
          "output_type": "stream",
          "text": [
            "! hard-coded chromo_pattern = .*(chr.+)[_\\.].*\n",
            "! hard-coded col_with_BD_score = 0\n",
            "! hard-coded bin_seq_len = 100\n",
            "! hard-coded valid_ratio = 0.2\n",
            "! hard-coded train_ratio = 0.8\n"
          ],
          "name": "stdout"
        }
      ]
    },
    {
      "cell_type": "markdown",
      "metadata": {
        "id": "vau1XOqP2c11",
        "colab_type": "text"
      },
      "source": [
        "### 2a. Load and prepare input data"
      ]
    },
    {
      "cell_type": "code",
      "metadata": {
        "id": "XZmKRgUE2f0r",
        "colab_type": "code",
        "colab": {}
      },
      "source": [
        "all_chromo_files = os.listdir(input_folder)\n",
        "\n",
        "# maintain the following variables:\n",
        "# (because I want to store all the data for all chromosomes in a single dataframe but I want\n",
        "# to be able to perform train/validation separation in a chromosome-specific way)\n",
        "chromos = []\n",
        "chromos_length = {}\n",
        "cumlength = 0\n",
        "chromos_cumlength = {}\n",
        "inputDF = None\n",
        "n_chip = None\n",
        "\n",
        "# derive chromo name from file name\n",
        "for chromo_file in all_chromo_files:\n",
        "  \n",
        "    #print(chromo_file)\n",
        "  \n",
        "    match_chromo = re.match(chromo_pattern, chromo_file)\n",
        "    if match_chromo == None:\n",
        "      continue\n",
        "    curr_chromo = match_chromo.group(1)\n",
        "    chromos.append(curr_chromo)\n",
        "    #print(\"> \" + chromo_file + \"\\t->\\t\" + curr_chromo)\n",
        "    chromoDF = pd.read_csv(input_folder + \"/\"+ chromo_file, sep=\"\\t\", header=0)\n",
        "    #print(chromoDF.iloc[0:5,0:5])\n",
        "    n_bins = chromoDF.shape[0]\n",
        "    chromos_length[curr_chromo] = n_bins\n",
        "    chromos_cumlength[curr_chromo] = cumlength\n",
        "    \n",
        "    cumlength += n_bins # update after: cumlength for the first chromo = 0\n",
        "      \n",
        "    if inputDF is None:\n",
        "      inputDF = chromoDF\n",
        "      n_chip = inputDF.shape[1] - 1\n",
        "    else:\n",
        "      assert chromoDF.shape[1] == inputDF.shape[1]\n",
        "      assert chromoDF.columns.tolist() == inputDF.columns.tolist()\n",
        "      inputDF = inputDF.append(chromoDF)\n",
        "      \n",
        "    #print(\"... n_bins = \" + str(n_bins))\n",
        "    #print(\"... n_chip = \" + str(n_chip))\n",
        "\n",
        "#print(chromos)\n",
        "\n",
        "assert n_chip != None\n",
        "assert not inputDF is None\n",
        "assert cumlength == inputDF.shape[0]\n",
        "    "
      ],
      "execution_count": 0,
      "outputs": []
    },
    {
      "cell_type": "markdown",
      "metadata": {
        "id": "r-3rWeZm2idc",
        "colab_type": "text"
      },
      "source": [
        "### 2b. Normalization"
      ]
    },
    {
      "cell_type": "code",
      "metadata": {
        "id": "xFhSuBoi2iml",
        "colab_type": "code",
        "outputId": "eed7738b-cd3c-490d-cee6-836fa77fbecd",
        "colab": {
          "base_uri": "https://localhost:8080/",
          "height": 161
        }
      },
      "source": [
        "### DATA NORMALIZATION\n",
        "### For the input to the neural network, standardize the columns (mean=0, variance=1)\n",
        "\n",
        "# norm_inputDF = (inputDF-inputDF.mean())/inputDF.std()\n",
        "# corrected: normalize each channel separately\n",
        "norm_inputDF = (inputDF-inputDF.mean(axis=0))/inputDF.std(axis=0)\n",
        "print(norm_inputDF.iloc[0:5,0:5])\n",
        "\n",
        "\n",
        "# chekc data frame column mean and std\n",
        "assert all(norm_inputDF.mean(axis=0) < 1e-10)\n",
        "assert all(norm_inputDF.std(axis=0) - 1 < 1e-10)\n",
        "assert norm_inputDF.shape[1] == len(norm_inputDF.mean(axis=0) < 1e-10)\n",
        "\n",
        "# ensure using only the norm_inputDF later on\n",
        "del inputDF"
      ],
      "execution_count": 20,
      "outputs": [
        {
          "output_type": "stream",
          "text": [
            "   binScore  ...  ENCFF001SUE_H3K4me1\n",
            "0 -0.435941  ...            -0.547291\n",
            "1  0.675694  ...            -0.547291\n",
            "2 -0.673768  ...            -0.547291\n",
            "3 -1.111572  ...            -0.547291\n",
            "4 -1.123412  ...            -0.547291\n",
            "\n",
            "[5 rows x 5 columns]\n"
          ],
          "name": "stdout"
        }
      ]
    },
    {
      "cell_type": "markdown",
      "metadata": {
        "id": "6X7NuFUj2r7k",
        "colab_type": "text"
      },
      "source": [
        "### 2c. Split train and validation data set"
      ]
    },
    {
      "cell_type": "code",
      "metadata": {
        "id": "dAbaoP5i2t-t",
        "colab_type": "code",
        "outputId": "e898ee9f-f243-4f9f-f89f-aaf44daefeb4",
        "colab": {
          "base_uri": "https://localhost:8080/",
          "height": 71
        }
      },
      "source": [
        "# for each chromo\n",
        "# a) retrieve # of bins\n",
        "# b) retrieve valid positions (1...chr_len-bin_seq_len +1)\n",
        "# c) set # of train/validation indices to sample\n",
        "# d) random sample the train/validation indices\n",
        "# e) recaste the indices (indices + cumsumlength)\n",
        "# f) append to train/validation input dataset\n",
        "\n",
        "# will store the list of the 1st bin position\n",
        "all_train_indices = [] \n",
        "all_valid_indices = []\n",
        "\n",
        "for chr in chromos:\n",
        "  #print(\"> START prepare data for \" + chr)\n",
        "  # since I want to retrieve a sequence of bins -> need to end before the end of the chromosome...\n",
        "  # and since the norm_inputDF contains all chromos -> need to shift the idx to the start of the chromo  \n",
        "  chr_nbin = chromos_length[chr]\n",
        "  chr_cumlen = chromos_cumlength[chr]\n",
        "  chr_valid_start_positions = list(range(chr_cumlen, chr_nbin + chr_cumlen - bin_seq_len + 1))\n",
        "\n",
        "  assert all((np.array(chr_valid_start_positions) + bin_seq_len) <= (chr_nbin + chr_cumlen))\n",
        "    \n",
        "  \n",
        "  # !!! BUT SAMPLES WONT BE INDEPENDENT -> ONE BIN WILL BE IN MANY SAMPLES (not at middle position...)\n",
        "  n_train = int(math.floor(train_ratio * len(chr_valid_start_positions)))\n",
        "  n_valid = int(math.floor(valid_ratio * len(chr_valid_start_positions)))\n",
        "  assert (n_train + n_valid) <= chr_nbin\n",
        "  # shuffle the start indices (NB: not sure it is needed - shuffling also done before iteration over minibatches at each epoch)\n",
        "  tmp = list(chr_valid_start_positions)\n",
        "  random.shuffle(chr_valid_start_positions)\n",
        "  assert tmp != chr_valid_start_positions # ensure shuffle is done in place...\n",
        "  train_indices = chr_valid_start_positions[:n_train]\n",
        "  valid_indices = chr_valid_start_positions[n_train:(n_train + n_valid)]\n",
        "  \n",
        "  #print(\"# of train indices = \" + str(len(train_indices)))\n",
        "  #print(\"# of valid indices = \" + str(len(valid_indices)))\n",
        "   \n",
        "  all_train_indices += train_indices\n",
        "  all_valid_indices += valid_indices\n",
        "\n",
        "  \n",
        "print(\"# of samples = \" + str(norm_inputDF.shape[0]))\n",
        "print(\"# of all_train indices = \" + str(len(all_train_indices)))\n",
        "print(\"# of all_valid indices = \" + str(len(all_valid_indices)))\n",
        "\n",
        "# since I want to retrieve a sequence of bins -> have ended before the end of each chromosome...\n",
        "all_chromo_nbr_invalid_start_positions = (bin_seq_len - 1) * len(chromos)\n",
        "\n",
        "# cannot be tested equal because of the rounding\n",
        "assert (len(all_train_indices) + len(all_valid_indices)) <= (math.floor(train_ratio*\n",
        "                                                                        norm_inputDF.shape[0])+\n",
        "                                                             math.floor(valid_ratio * \n",
        "                                                                        norm_inputDF.shape[0]))                                                                                       "
      ],
      "execution_count": 21,
      "outputs": [
        {
          "output_type": "stream",
          "text": [
            "# of samples = 128394\n",
            "# of all_train indices = 100964\n",
            "# of all_valid indices = 25236\n"
          ],
          "name": "stdout"
        }
      ]
    },
    {
      "cell_type": "markdown",
      "metadata": {
        "id": "qOsWWZZm2yV2",
        "colab_type": "text"
      },
      "source": [
        "## 3. Define helper functions"
      ]
    },
    {
      "cell_type": "markdown",
      "metadata": {
        "id": "mJYljQA62yh1",
        "colab_type": "text"
      },
      "source": [
        "###3.a. Function to retrieve current dataset to pass to the network for a given minibatch"
      ]
    },
    {
      "cell_type": "code",
      "metadata": {
        "id": "8qrvH8Yu21ha",
        "colab_type": "code",
        "colab": {}
      },
      "source": [
        "# DEFINED IN: my_cnn_functions.py"
      ],
      "execution_count": 0,
      "outputs": []
    },
    {
      "cell_type": "markdown",
      "metadata": {
        "id": "pHUY0Lx73CH3",
        "colab_type": "text"
      },
      "source": [
        "### 3.b. Wrapper functions to build the model"
      ]
    },
    {
      "cell_type": "code",
      "metadata": {
        "id": "H9T966Gl3C4z",
        "colab_type": "code",
        "colab": {}
      },
      "source": [
        "# DEFINED IN: my_cnn_functions.py"
      ],
      "execution_count": 0,
      "outputs": []
    },
    {
      "cell_type": "markdown",
      "metadata": {
        "id": "bOko9Wrl4ls1",
        "colab_type": "text"
      },
      "source": [
        "## 4. Define the graph* (with graph.as_default(): ... )*\n"
      ]
    },
    {
      "cell_type": "markdown",
      "metadata": {
        "id": "e19OTZSa1InV",
        "colab_type": "text"
      },
      "source": [
        "!!! _multiKernel: 3 layers of 16 kernels, kernels of same size (+ final layer for the output)\n",
        "\n",
        "no maxpool\n",
        "\n",
        "SAME padding\n",
        "\n",
        "1x100x56\n",
        "-> kernel_1: 16x (3x3x56) \n",
        "-> out_1: 1x100x16\n",
        "\n",
        "-> kernel_2: 16x (3x3x16) \n",
        "-> out_12 1x100x16\n",
        "\n",
        "-> kernel_3: 16x (3x3x16) \n",
        "-> out_3: 1x100x16\n",
        "\n",
        "-> final_kernel_1: 1x (3x3x16) \n",
        "-> final_out: 1x100x1\n"
      ]
    },
    {
      "cell_type": "markdown",
      "metadata": {
        "id": "FZDQmpkW4l5z",
        "colab_type": "text"
      },
      "source": [
        "###4.a. Hard-coded settings"
      ]
    },
    {
      "cell_type": "code",
      "metadata": {
        "id": "tL51Z_4S4o-Q",
        "colab_type": "code",
        "colab": {}
      },
      "source": [
        "## HARD-CODED FOR THE MODEL\n",
        "dropout_keep_prob = 1    # no dropout regularization for the moment\n",
        "\n",
        "CN1_n_filt=16\n",
        "CN1_k_size=3\n",
        "CN1_n_stri_conv=1\n",
        "CN1_p_type=\"same\"\n",
        "CN1_activ_fct=tf.nn.relu\n",
        "\n",
        "\n",
        "CN2_n_filt = CN3_n_filt = CN1_n_filt\n",
        "CN2_k_size = CN3_k_size = CN1_k_size\n",
        "CN2_n_stri_conv = CN3_n_stri_conv = CN1_n_stri_conv\n",
        "CN2_p_type = CN3_p_type = CN1_p_type\n",
        "CN2_activ_fct = CN3_activ_fct = CN1_activ_fct\n",
        "\n",
        "\n",
        "finalCN_n_filt = 1\n",
        "finalCN_k_size = 1\n",
        "finalCN_n_stri_conv = 1\n",
        "finalCN_p_type = CN1_p_type\n",
        "finalCN_activ_fct = None\n",
        "\n",
        "\n",
        "allCN_n_filt = [CN1_n_filt, CN2_n_filt, CN3_n_filt, finalCN_n_filt]\n",
        "allCN_k_size = [CN1_k_size, CN2_k_size, CN3_k_size, finalCN_k_size]\n",
        "allCN_n_stri_conv= [CN1_n_stri_conv, CN2_n_stri_conv,  CN3_n_stri_conv, finalCN_n_stri_conv]\n",
        "allCN_p_type= [CN1_p_type, CN2_p_type, CN3_p_type, finalCN_p_type]\n",
        "allCN_activ_fct= [CN1_activ_fct, CN2_activ_fct, CN3_activ_fct, finalCN_activ_fct]\n",
        "                  \n",
        "  \n",
        "  \n",
        "            \n",
        "\n",
        "# ### CROPPING THE INPUT\n",
        "# if p_type.lower() == \"valid\":\n",
        "#   crop_delta =  k_size//2\n",
        "#   crop_step = (mp_size)**n_MP\n",
        "# elif p_type.lower() == \"same\":\n",
        "#   crop_delta =0\n",
        "#   crop_step = (mp_size)**n_MP\n",
        "# else:\n",
        "#   print(\"invalid p_type\")\n",
        "#   sys.exit(1)\n",
        "\n",
        "  \n",
        "# y_input_cropped = y_input[crop_delta:-crop_delta:crop_step]\n",
        "\n",
        "# => NO MAX POOLING AND SAME PADDING => NO CROPPING NEEDED\n",
        "\n",
        "bin_seq_len_cropped = bin_seq_len\n",
        "\n",
        "crop_step=1"
      ],
      "execution_count": 0,
      "outputs": []
    },
    {
      "cell_type": "code",
      "metadata": {
        "id": "CHdzZpwN2U9Y",
        "colab_type": "code",
        "colab": {}
      },
      "source": [
        "allCN_n_filt = 20*[CN1_n_filt] + [finalCN_n_filt]\n",
        "allCN_n_filt\n",
        "allCN_k_size = 20*[CN1_k_size] + [finalCN_k_size]\n",
        "allCN_n_stri_conv = 20 * [CN1_n_stri_conv] + [finalCN_n_stri_conv]\n",
        "allCN_p_type= 20 * [CN1_p_type] + [finalCN_p_type]\n",
        "allCN_activ_fct= 20 * [CN1_activ_fct] + [finalCN_activ_fct]\n",
        "\n",
        "\n",
        "\n",
        "CN1_n_filt = 16\n",
        "CN2_n_filt = 64\n",
        "CN3_n_filt = 128\n",
        "CN4_n_filt = 256\n",
        "CN5_n_filt = 128\n",
        "CN6_n_filt = 64\n",
        "CN7_n_filt = 16\n",
        "\n",
        "\n",
        "allCN_n_filt = [CN1_n_filt, CN2_n_filt, CN3_n_filt,  CN4_n_filt,  CN5_n_filt,  CN6_n_filt,  CN7_n_filt, finalCN_n_filt]\n",
        "allCN_k_size = 7*[CN1_k_size] + [finalCN_k_size]\n",
        "allCN_n_stri_conv= 7*[CN1_n_stri_conv] + [finalCN_n_stri_conv]\n",
        "allCN_p_type= 7 * [CN1_p_type] + [finalCN_p_type]\n",
        "allCN_activ_fct= 7 * [CN1_activ_fct] + [finalCN_activ_fct]\n"
      ],
      "execution_count": 0,
      "outputs": []
    },
    {
      "cell_type": "markdown",
      "metadata": {
        "id": "HSgKZIgh4rzZ",
        "colab_type": "text"
      },
      "source": [
        "###4.b. Define the model"
      ]
    },
    {
      "cell_type": "code",
      "metadata": {
        "id": "0E6dhIyx4r-F",
        "colab_type": "code",
        "outputId": "4dd8b505-ca69-4ed3-d2a4-4d28f6d31355",
        "colab": {
          "base_uri": "https://localhost:8080/",
          "height": 53
        }
      },
      "source": [
        "print(\"> START constructing TF graph\")\n",
        "\n",
        "g = tf.Graph()\n",
        "\n",
        "print(\"... construct placeholders\")\n",
        "with g.as_default():\n",
        "  \n",
        "\n",
        "  ### DEFINE INPUT PLACEHOLDERS  # -> put None instead of minibatch_size to be run with validation set !!!\n",
        "  x_input = tf.placeholder(dtype = tf.float32, \n",
        "                           shape = [None, bin_seq_len, n_chip],  # [batch_size, sequence_length, num_proteins]\n",
        "                           name = \"x_input\") \n",
        " \n",
        "  ### y_obs need to be the cropped variables !!!!!!! \n",
        "  y_obs = tf.placeholder(dtype = tf.float32, \n",
        "                         shape = [None, bin_seq_len_cropped, 1],  # [batch_size, sequence_length] or [batch_size, sequence_length, 1]\n",
        "                         name  = \"y_obs\")\n",
        "  \n",
        "  minibatch_size_ = tf.placeholder(dtype = tf.int32,   # [batch_size, sequence_length] or [batch_size, sequence_length, 1]\n",
        "                         name  = \"minibatch_size_\")\n",
        "\n",
        "  # probability to keep the unit at regularization\n",
        "  drop_keep_prob = tf.placeholder(tf.float32, name=\"drop_keep_prob\")\n",
        "  \n",
        "  # learning rate\n",
        "  learn_rate = tf.placeholder(tf.float32, name =\"learn_rate\")\n",
        "  \n",
        "  ### CALL THE NN TO RETRIEVE THE PREDICTIONS\n",
        "  y_pred =   conv1d_model_CNs(CN_input = x_input,\n",
        "                   CN_nbr_filters = allCN_n_filt,\n",
        "                   CN_size_kernel = allCN_k_size,\n",
        "                   CN_step_stride= allCN_n_stri_conv,\n",
        "                   CN_type_padding= allCN_p_type,\n",
        "                   CN_activ_function= allCN_activ_fct,\n",
        " \n",
        "                  minibatch_size=minibatch_size_,          \n",
        "                  bin_seq_len=bin_seq_len,\n",
        "                  n_chip = n_chip\n",
        "                            )\n",
        "\n",
        "  \n",
        "  ### OPTIMIZATION  \n",
        "  # compute the cost -> linear function with MSE \n",
        "  loss = tf.reduce_mean(tf.square(y_obs - y_pred))\n",
        "\n",
        "  # run the optimizer\n",
        "  optimizer = tf.train.AdamOptimizer(learning_rate=learn_rate).minimize(loss)\n",
        "\n",
        "  \n",
        "    # for visualization we will calculate the gradients\n",
        "    #gradients of each of bin_seq_len outputs over input x\n",
        "   # yh_grad = [tf.gradients(Y_onehot[..., i], X) for i in range(10)]\n",
        "    #gradient of maximal output over input x\n",
        "    #ym_grad = tf.gradients(tf.reduce_max(Y_onehot, axis=1), X)"
      ],
      "execution_count": 26,
      "outputs": [
        {
          "output_type": "stream",
          "text": [
            "> START constructing TF graph\n",
            "... construct placeholders\n"
          ],
          "name": "stdout"
        }
      ]
    },
    {
      "cell_type": "code",
      "metadata": {
        "id": "YEC4TLHwFwkF",
        "colab_type": "code",
        "outputId": "83ba985a-e389-4f2e-ab9c-78caf403e589",
        "colab": {
          "base_uri": "https://localhost:8080/",
          "height": 377
        }
      },
      "source": [
        "\n",
        "all_minibatch_avg_loss_train = []\n",
        "all_epoch_loss_train = []\n",
        "all_epoch_loss_valid = []\n",
        "\n",
        "losses_train = []\n",
        "losses_valid = []\n",
        "\n",
        "# Start training\n",
        "with tf.Session(graph=g) as sess:\n",
        "    # Run the initializer\n",
        "    sess.run(tf.global_variables_initializer())\n",
        " \n",
        "    # training in 2 loops: 1) outer: over epochs; 2) for each epoch: over mini-batches (optimization for all of the minin-batches)\n",
        "    # -> at the end of 1 epoch, as many optimization as mini-batches\n",
        "    # !!! data should not go into training pipeline in same order !!!\n",
        "    # -> at the beginning of each epoch, shuffle the indices before iterating over the mini-batches !!!\n",
        "    all_epoch_avg_loss_train = []\n",
        "    all_epoch_avg_loss_valid = []\n",
        "    \n",
        "    # Iteration over the batches\n",
        "    for i_epoch in range(n_epochs):\n",
        "      epoch_avg_loss_train = 0\n",
        "      epoch_avg_loss_valid = 0\n",
        "      \n",
        "      for i_minibatch in range(n_minibatches):\n",
        "        \n",
        "        minibatch_x, minibatch_y = get_minibatch_xy(index_list=all_train_indices,\n",
        "                                                  i_batch=i_minibatch, \n",
        "                                                  n_to_sample=minibatch_size,\n",
        "                                                  full_inputDF = norm_inputDF,\n",
        "                                                  y_obs_colnbr = col_with_BD_score,\n",
        "                                                  seq_len = bin_seq_len) \n",
        "\n",
        "        x_sequence=minibatch_x\n",
        "\n",
        "        if CN1_p_type.lower() == \"same\": \n",
        "          y_input_cropped=np.apply_along_axis(crop_seq, 1, minibatch_y,  mp_step=crop_step, check_size=bin_seq_len_cropped)\n",
        "        else:\n",
        "          print(\"not implemented\")\n",
        "          sys.exit(1)\n",
        "          \n",
        "        # sess.run() should be fed with all minibatch samples        \n",
        "        # CALL ONLY THE OPTIMIZER !!! -> IN CASCADE, WILL RUN THE FULL GRAPH\n",
        "        # Run optimization (backprop) # should have as many optimizations as mini-batches \n",
        "        # Fit training using batch data\n",
        "        _, minibatch_loss = sess.run((optimizer, loss),\n",
        "                  feed_dict={\n",
        "                      x_input: x_sequence,\n",
        "                      y_obs: y_input_cropped,\n",
        "                      learn_rate: learning_rate,\n",
        "                      minibatch_size_:minibatch_size\n",
        "                      })\n",
        "\n",
        "        loss_train = minibatch_loss\n",
        "        losses_train.append(np.mean(loss_train))\n",
        "                \n",
        "        x_valid, y_valid = get_minibatch_xy(index_list=all_valid_indices,\n",
        "                                  i_batch=0, \n",
        "                                  n_to_sample=n_samples_valid,  # !!!!!!!!!!!!!!!!!! WRONG HERE BUT I NEED TO UPDATE THE GRAPH MODEL DEFINITION !!!!!!!!!!!!!!!!!!,\n",
        "                                  full_inputDF = norm_inputDF,\n",
        "                                  y_obs_colnbr = col_with_BD_score,\n",
        "                                  seq_len = bin_seq_len)   \n",
        "        \n",
        "        if CN1_p_type.lower() == \"same\": \n",
        "          y_valid_cropped=np.apply_along_axis(crop_seq, 1, y_valid,  mp_step=crop_step, check_size=bin_seq_len_cropped)\n",
        "        else:\n",
        "          print(\"not implemented\")\n",
        "          sys.exit(1)\n",
        "          \n",
        "        loss_valid = sess.run((loss),feed_dict={\n",
        "                      x_input: x_valid,\n",
        "                      y_obs: y_valid_cropped,\n",
        "                      learn_rate: learning_rate,\n",
        "                      minibatch_size_:n_samples_valid\n",
        "                      })\n",
        "                \n",
        "        losses_valid.append(np.mean(loss_valid))\n",
        "\n",
        "        txt = \"Epoch: %03d/%03d - minibatch: %03d/%03d,  minibatch_loss_train = %.9f\" % (i_epoch, n_epochs,i_minibatch, n_minibatches, loss_train)\n",
        "        if not i_epoch % epoch_out_step:\n",
        "          print(txt)\n",
        "          print_in_file(mytext=txt, filename=log_file)\n",
        "        \n",
        "        txt = \"Epoch: %03d/%03d - minibatch: %03d/%03d,  minibatch_loss_valid = %.9f\" % (i_epoch, n_epochs,i_minibatch, n_minibatches, loss_valid)\n",
        "        if not i_epoch % epoch_out_step:\n",
        "          print(txt)\n",
        "          print_in_file(mytext=txt, filename=log_file)\n",
        "\n",
        "\n",
        "        # Add current mini-batch loss to average loss for this epoch:\n",
        "        epoch_avg_loss_train += loss_train/n_minibatches\n",
        "        epoch_avg_loss_valid += loss_valid/n_minibatches\n",
        "\n",
        "\n",
        "      # END-For i_minibatch\n",
        "      all_epoch_avg_loss_train.append(epoch_avg_loss_train)\n",
        "      all_epoch_avg_loss_valid.append(epoch_avg_loss_valid)\n",
        "      "
      ],
      "execution_count": 27,
      "outputs": [
        {
          "output_type": "stream",
          "text": [
            "Epoch: 000/100 - minibatch: 000/010,  minibatch_loss_train = 1.968889594\n",
            "Epoch: 000/100 - minibatch: 000/010,  minibatch_loss_valid = 2.338384151\n",
            "Epoch: 000/100 - minibatch: 001/010,  minibatch_loss_train = 2.105943441\n",
            "Epoch: 000/100 - minibatch: 001/010,  minibatch_loss_valid = 2.319736481\n",
            "Epoch: 000/100 - minibatch: 002/010,  minibatch_loss_train = 2.584591866\n",
            "Epoch: 000/100 - minibatch: 002/010,  minibatch_loss_valid = 2.301503420\n",
            "Epoch: 000/100 - minibatch: 003/010,  minibatch_loss_train = 2.516873121\n",
            "Epoch: 000/100 - minibatch: 003/010,  minibatch_loss_valid = 2.283830404\n",
            "Epoch: 000/100 - minibatch: 004/010,  minibatch_loss_train = 1.993777752\n",
            "Epoch: 000/100 - minibatch: 004/010,  minibatch_loss_valid = 2.267160416\n",
            "Epoch: 000/100 - minibatch: 005/010,  minibatch_loss_train = 2.150734425\n",
            "Epoch: 000/100 - minibatch: 005/010,  minibatch_loss_valid = 2.251149416\n",
            "Epoch: 000/100 - minibatch: 006/010,  minibatch_loss_train = 2.409560680\n",
            "Epoch: 000/100 - minibatch: 006/010,  minibatch_loss_valid = 2.235860109\n",
            "Epoch: 000/100 - minibatch: 007/010,  minibatch_loss_train = 2.552739859\n",
            "Epoch: 000/100 - minibatch: 007/010,  minibatch_loss_valid = 2.220454931\n",
            "Epoch: 000/100 - minibatch: 008/010,  minibatch_loss_train = 2.589994431\n",
            "Epoch: 000/100 - minibatch: 008/010,  minibatch_loss_valid = 2.205065727\n",
            "Epoch: 000/100 - minibatch: 009/010,  minibatch_loss_train = 2.092835188\n",
            "Epoch: 000/100 - minibatch: 009/010,  minibatch_loss_valid = 2.190062284\n"
          ],
          "name": "stdout"
        }
      ]
    },
    {
      "cell_type": "code",
      "metadata": {
        "id": "FS5TxURGfJ4A",
        "colab_type": "code",
        "outputId": "f2b06e27-f32e-4048-bda7-b96c034507cb",
        "colab": {
          "base_uri": "https://localhost:8080/",
          "height": 500
        }
      },
      "source": [
        "# PLOT LOSS    (function defined in my_cnn_functions.py)\n",
        "mytit= \"# MB=%d, # epochs=%d, MB size=%d, # valid=%d - learning rate=%f\" % (n_minibatches, n_epochs, minibatch_size, n_samples_valid, learning_rate) \n",
        "loss_plot(train_data=all_epoch_avg_loss_train, \n",
        "          valid_data=all_epoch_avg_loss_valid, \n",
        "          plotTit = mytit,\n",
        "         image_file = image_file)\n",
        "\n"
      ],
      "execution_count": 28,
      "outputs": [
        {
          "output_type": "display_data",
          "data": {
            "image/png": "[encoded data removed]",
            "text/plain": [
              "<Figure size 720x576 with 1 Axes>"
            ]
          },
          "metadata": {
            "tags": []
          }
        }
      ]
    },
    {
      "cell_type": "code",
      "metadata": {
        "id": "8U1BF0GR9FCr",
        "colab_type": "code",
        "colab": {
          "base_uri": "https://localhost:8080/",
          "height": 1817
        },
        "outputId": "8464c07e-2377-4eb8-d2f3-2e97b3601dad"
      },
      "source": [
        "all_epoch_avg_loss_train\n",
        "all_epoch_avg_loss_valid"
      ],
      "execution_count": 29,
      "outputs": [
        {
          "output_type": "execute_result",
          "data": {
            "text/plain": [
              "[2.2613207340240478,\n",
              " 2.1151522397994995,\n",
              " 1.9940516710281366,\n",
              " 1.8887374758720399,\n",
              " 1.7961036086082456,\n",
              " 1.7141730666160582,\n",
              " 1.641236412525177,\n",
              " 1.575917088985443,\n",
              " 1.5170482158660887,\n",
              " 1.463680696487427,\n",
              " 1.4150659799575804,\n",
              " 1.3706196188926696,\n",
              " 1.32987779378891,\n",
              " 1.2924606084823607,\n",
              " 1.2580504059791564,\n",
              " 1.2263773560523987,\n",
              " 1.1972077488899233,\n",
              " 1.170334029197693,\n",
              " 1.145569086074829,\n",
              " 1.1227430939674379,\n",
              " 1.1017009258270265,\n",
              " 1.082300317287445,\n",
              " 1.0644102811813354,\n",
              " 1.0479103326797485,\n",
              " 1.0326892971992492,\n",
              " 1.0186446905136108,\n",
              " 1.005682075023651,\n",
              " 0.9937143981456757,\n",
              " 0.9826614797115326,\n",
              " 0.9724495589733123,\n",
              " 0.9630106449127198,\n",
              " 0.9542822718620302,\n",
              " 0.9462071180343627,\n",
              " 0.9387323915958404,\n",
              " 0.9318096995353699,\n",
              " 0.925394594669342,\n",
              " 0.9194463729858399,\n",
              " 0.9139276623725892,\n",
              " 0.9088042378425599,\n",
              " 0.9040446639060974,\n",
              " 0.899620234966278,\n",
              " 0.8955045878887176,\n",
              " 0.8916735649108886,\n",
              " 0.8881050825119019,\n",
              " 0.8847787857055663,\n",
              " 0.8816761434078216,\n",
              " 0.8787799954414367,\n",
              " 0.8760747730731965,\n",
              " 0.8735460817813873,\n",
              " 0.8711806893348694,\n",
              " 0.8689665019512176,\n",
              " 0.8668923139572144,\n",
              " 0.8649479627609252,\n",
              " 0.8631238818168642,\n",
              " 0.8614114940166472,\n",
              " 0.8598027050495147,\n",
              " 0.8582902610301971,\n",
              " 0.8568672239780427,\n",
              " 0.8555273592472076,\n",
              " 0.8542649507522583,\n",
              " 0.8530745208263398,\n",
              " 0.851951265335083,\n",
              " 0.8508905112743379,\n",
              " 0.8498881101608275,\n",
              " 0.8489401161670684,\n",
              " 0.848042929172516,\n",
              " 0.8471931874752044,\n",
              " 0.8463878452777862,\n",
              " 0.845624005794525,\n",
              " 0.8448990166187287,\n",
              " 0.844210398197174,\n",
              " 0.8435558676719666,\n",
              " 0.8429333388805389,\n",
              " 0.8423407793045042,\n",
              " 0.8417764127254485,\n",
              " 0.841238534450531,\n",
              " 0.8407255411148071,\n",
              " 0.8402359962463379,\n",
              " 0.839768499135971,\n",
              " 0.8393218338489533,\n",
              " 0.8388947188854217,\n",
              " 0.8384861707687378,\n",
              " 0.8380950927734375,\n",
              " 0.8377205073833465,\n",
              " 0.8373615860939027,\n",
              " 0.8370174527168274,\n",
              " 0.8366873264312744,\n",
              " 0.8363705158233644,\n",
              " 0.8360662877559661,\n",
              " 0.8357740104198457,\n",
              " 0.8354931354522707,\n",
              " 0.8352230370044708,\n",
              " 0.8349632799625396,\n",
              " 0.8347132682800293,\n",
              " 0.8344726204872132,\n",
              " 0.8342408716678619,\n",
              " 0.8340175926685334,\n",
              " 0.8338024079799651,\n",
              " 0.8335949778556824,\n",
              " 0.8333949685096741]"
            ]
          },
          "metadata": {
            "tags": []
          },
          "execution_count": 29
        }
      ]
    },
    {
      "cell_type": "code",
      "metadata": {
        "id": "ivWg4FpW9DPN",
        "colab_type": "code",
        "colab": {}
      },
      "source": [
        "def loss_plot(train_data, valid_data, image_file=None, plotTit=None):\n",
        "\n",
        "  import matplotlib.pyplot as plt\n",
        "\n",
        "  import numpy as np\n",
        "\n",
        "  fig, axs = plt.subplots(1, 1, figsize=(10,8))\n",
        "  ep_arr = np.arange(len(train_data))\n",
        "  # axs.plot(ep_arr, all_epoch_loss_train, 'r')\n",
        "  # axs.legend(('training loss'),  loc='upper right')\n",
        "  axs.plot(ep_arr, train_data, 'r', ep_arr, valid_data, 'b')\n",
        "  axs.legend(('epoch training loss', 'epoch valid loss'),  loc='upper right')\n",
        "\n",
        "  if plotTit:\n",
        "    plt.title(plotTit)\n",
        "  if image_file:\n",
        "    fig.savefig(image_file)   # save the figure to file\n"
      ],
      "execution_count": 0,
      "outputs": []
    }
  ]
}