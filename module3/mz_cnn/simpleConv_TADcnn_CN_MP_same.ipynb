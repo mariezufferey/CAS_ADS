{
  "nbformat": 4,
  "nbformat_minor": 0,
  "metadata": {
    "colab": {
      "name": "simpleConv_TADcnn_CN_MP_same.ipynb",
      "version": "0.3.2",
      "provenance": [],
      "collapsed_sections": [],
      "toc_visible": true
    },
    "kernelspec": {
      "name": "python3",
      "display_name": "Python 3"
    },
    "accelerator": "GPU"
  },
  "cells": [
    {
      "cell_type": "markdown",
      "metadata": {
        "id": "MjcbGHK91pyf",
        "colab_type": "text"
      },
      "source": [
        "# Convolutional Neural Network example"
      ]
    },
    {
      "cell_type": "markdown",
      "metadata": {
        "id": "Almrw48o1t_S",
        "colab_type": "text"
      },
      "source": [
        "<p>\n",
        "Marie Zufferey<br>\n",
        "CAS Data science - Machine learning project with TensorFlow<br>\n",
        "February 2019\n",
        "</p>\n",
        "\n",
        "CN1 => 16 kernels of size 3\n",
        "\n",
        "MP1 => stride 2, MP 2\n",
        "\n",
        "CNfinal\n"
      ]
    },
    {
      "cell_type": "markdown",
      "metadata": {
        "id": "NbYvlmO32Jzp",
        "colab_type": "text"
      },
      "source": [
        "## 1. Load necessary libraries"
      ]
    },
    {
      "cell_type": "code",
      "metadata": {
        "id": "hRb2jJp32Ge6",
        "colab_type": "code",
        "outputId": "3bbb7716-9fef-4066-a147-5bfccc8ff6db",
        "colab": {
          "base_uri": "https://localhost:8080/",
          "height": 578
        }
      },
      "source": [
        "# !!! HARD-CODED INPUT FOLDER NAMES HERE !!!\n",
        "! tar -xzvf myutils.tar.gz\n",
        "#! tar -xzvf random_chromo_data.tar.gz\n",
        "! tar -xzvf cnn_data.tar.gz\n",
        "\n",
        "import sys\n",
        "import os\n",
        "import math\n",
        "import random\n",
        "import re\n",
        "\n",
        "import pandas as pd\n",
        "\n",
        "import numpy as np\n",
        "import matplotlib.pyplot as plt\n",
        "import IPython.display as ipyd\n",
        "import tensorflow as tf\n",
        "from PIL import Image\n",
        "\n",
        "# We'll tell matplotlib to inline any drawn figures like so:\n",
        "%matplotlib inline\n",
        "plt.style.use('ggplot')\n",
        "\n",
        "from myutils import gr_disp\n",
        "from myutils_v2 import *\n",
        "from my_cnn_functions import *\n",
        "\n",
        "\n",
        "# for online def of nested dict\n",
        "from collections import defaultdict\n",
        "nesteddict = lambda : defaultdict(nesteddict)\n",
        "\n",
        "\n",
        "from IPython.core.display import HTML\n",
        "HTML(\"\"\"<style> .rendered_html code { \n",
        "    padding: 2px 5px;\n",
        "    color: #0000aa;\n",
        "    background-color: #cccccc;\n",
        "} </style>\"\"\")"
      ],
      "execution_count": 0,
      "outputs": [
        {
          "output_type": "stream",
          "text": [
            "myutils/\n",
            "myutils/gr_disp.pyc\n",
            "myutils/__init__.py\n",
            "myutils/inception.py\n",
            "myutils/__init__.pyc\n",
            "myutils/gr_disp.py\n",
            "cnn_data/\n",
            "cnn_data/GM12878_chr10_final_agg_fltrd.txt\n",
            "cnn_data/GM12878_chr11_final_agg_fltrd.txt\n",
            "cnn_data/GM12878_chr12_final_agg_fltrd.txt\n",
            "cnn_data/GM12878_chr13_final_agg_fltrd.txt\n",
            "cnn_data/GM12878_chr14_final_agg_fltrd.txt\n",
            "cnn_data/GM12878_chr15_final_agg_fltrd.txt\n",
            "cnn_data/GM12878_chr16_final_agg_fltrd.txt\n",
            "cnn_data/GM12878_chr17_final_agg_fltrd.txt\n",
            "cnn_data/GM12878_chr18_final_agg_fltrd.txt\n",
            "cnn_data/GM12878_chr19_final_agg_fltrd.txt\n",
            "cnn_data/GM12878_chr1_final_agg_fltrd.txt\n",
            "cnn_data/GM12878_chr20_final_agg_fltrd.txt\n",
            "cnn_data/GM12878_chr21_final_agg_fltrd.txt\n",
            "cnn_data/GM12878_chr22_final_agg_fltrd.txt\n",
            "cnn_data/GM12878_chr2_final_agg_fltrd.txt\n",
            "cnn_data/GM12878_chr3_final_agg_fltrd.txt\n",
            "cnn_data/GM12878_chr4_final_agg_fltrd.txt\n",
            "cnn_data/GM12878_chr5_final_agg_fltrd.txt\n",
            "cnn_data/GM12878_chr6_final_agg_fltrd.txt\n",
            "cnn_data/GM12878_chr7_final_agg_fltrd.txt\n",
            "cnn_data/GM12878_chr8_final_agg_fltrd.txt\n",
            "cnn_data/GM12878_chr9_final_agg_fltrd.txt\n",
            "input: \t1 x 12 x 1\n",
            "in_width: \t1\n",
            "out_width: \t1.0\n",
            "output: \t1.0 x 12.0 x 1\n"
          ],
          "name": "stdout"
        },
        {
          "output_type": "execute_result",
          "data": {
            "text/html": [
              "<style> .rendered_html code { \n",
              "    padding: 2px 5px;\n",
              "    color: #0000aa;\n",
              "    background-color: #cccccc;\n",
              "} </style>"
            ],
            "text/plain": [
              "<IPython.core.display.HTML object>"
            ]
          },
          "metadata": {
            "tags": []
          },
          "execution_count": 1
        }
      ]
    },
    {
      "cell_type": "code",
      "metadata": {
        "id": "vs44aZOSiVO2",
        "colab_type": "code",
        "colab": {}
      },
      "source": [
        "n_minibatches=10\n",
        "n_epochs=100\n",
        "minibatch_size=10\n",
        "n_samples_valid=1000\n",
        "\n",
        "bin_seq_len=100\n",
        "\n",
        "valid_ratio=0.2\n",
        "train_ratio=0.8\n",
        "\n",
        "epoch_out_step = 20 # at which step to display\n",
        "learning_rate = 0.001\n",
        "\n",
        "image_file = \"CN_MP_same_nMB\" + str(n_minibatches) + \"_sizeMB\" + str(minibatch_size) +\\\n",
        "              \"_nE\" + str(n_epochs) + \"_nVal\" + str(n_samples_valid) +\\\n",
        "              \"_LR\" + str(learning_rate) + \".png\"\n",
        "\n",
        "log_file = \"CN_MP_same_nMB\" + str(n_minibatches) + \"_sizeMB\" + str(minibatch_size) +\\\n",
        "              \"_nE\" + str(n_epochs) + \"_nVal\" + str(n_samples_valid) +\\\n",
        "              \"_LR\" + str(learning_rate) + \"_log.txt\"\n",
        "\n"
      ],
      "execution_count": 0,
      "outputs": []
    },
    {
      "cell_type": "markdown",
      "metadata": {
        "id": "DbDBa5RM2PhE",
        "colab_type": "text"
      },
      "source": [
        "## 2. Prepare input data\n"
      ]
    },
    {
      "cell_type": "code",
      "metadata": {
        "id": "BdWZbd8S2Kzx",
        "colab_type": "code",
        "outputId": "6b0564b1-2533-4b00-818d-aabce1b5d66e",
        "colab": {
          "base_uri": "https://localhost:8080/",
          "height": 102
        }
      },
      "source": [
        "### HARD-CODED SETTINGS FOR THE INPUT DATA:\n",
        "\n",
        "input_folder = \"cnn_data\"\n",
        "\n",
        "model_logfile = \"train_model_logfile_trueData.txt\"\n",
        "\n",
        "\n",
        "\n",
        "chromo_pattern = '.*(chr.+)[_\\\\.].*'\n",
        "col_with_BD_score = 0 # the boundary score is held in the 1st column of the DF\n",
        "print(\"! hard-coded chromo_pattern = \" + chromo_pattern)\n",
        "print(\"! hard-coded col_with_BD_score = \" + str(col_with_BD_score))\n",
        "\n",
        "\n",
        "print(\"! hard-coded bin_seq_len = \" + str(bin_seq_len))\n",
        "print(\"! hard-coded valid_ratio = \" + str(valid_ratio))\n",
        "print(\"! hard-coded train_ratio = \" + str(train_ratio))\n"
      ],
      "execution_count": 0,
      "outputs": [
        {
          "output_type": "stream",
          "text": [
            "! hard-coded chromo_pattern = .*(chr.+)[_\\.].*\n",
            "! hard-coded col_with_BD_score = 0\n",
            "! hard-coded bin_seq_len = 100\n",
            "! hard-coded valid_ratio = 0.2\n",
            "! hard-coded train_ratio = 0.8\n"
          ],
          "name": "stdout"
        }
      ]
    },
    {
      "cell_type": "markdown",
      "metadata": {
        "id": "vau1XOqP2c11",
        "colab_type": "text"
      },
      "source": [
        "### 2a. Load and prepare input data"
      ]
    },
    {
      "cell_type": "code",
      "metadata": {
        "id": "XZmKRgUE2f0r",
        "colab_type": "code",
        "colab": {}
      },
      "source": [
        "all_chromo_files = os.listdir(input_folder)\n",
        "\n",
        "# maintain the following variables:\n",
        "# (because I want to store all the data for all chromosomes in a single dataframe but I want\n",
        "# to be able to perform train/validation separation in a chromosome-specific way)\n",
        "chromos = []\n",
        "chromos_length = {}\n",
        "cumlength = 0\n",
        "chromos_cumlength = {}\n",
        "inputDF = None\n",
        "n_chip = None\n",
        "\n",
        "# derive chromo name from file name\n",
        "for chromo_file in all_chromo_files:\n",
        "  \n",
        "    #print(chromo_file)\n",
        "  \n",
        "    match_chromo = re.match(chromo_pattern, chromo_file)\n",
        "    if match_chromo == None:\n",
        "      continue\n",
        "    curr_chromo = match_chromo.group(1)\n",
        "    chromos.append(curr_chromo)\n",
        "    \n",
        "    #print(\"> \" + chromo_file + \"\\t->\\t\" + curr_chromo)\n",
        "    \n",
        "    chromoDF = pd.read_csv(input_folder + \"/\"+ chromo_file, sep=\"\\t\", header=0)\n",
        "    \n",
        "    #print(chromoDF.iloc[0:5,0:5])\n",
        "    n_bins = chromoDF.shape[0]\n",
        "    \n",
        "    \n",
        "    chromos_length[curr_chromo] = n_bins\n",
        "    chromos_cumlength[curr_chromo] = cumlength\n",
        "    \n",
        "    cumlength += n_bins # update after: cumlength for the first chromo = 0\n",
        "    \n",
        "    \n",
        "    if inputDF is None:\n",
        "      inputDF = chromoDF\n",
        "      n_chip = inputDF.shape[1] - 1\n",
        "    else:\n",
        "      assert chromoDF.shape[1] == inputDF.shape[1]\n",
        "      assert chromoDF.columns.tolist() == inputDF.columns.tolist()\n",
        "      inputDF = inputDF.append(chromoDF)\n",
        "      \n",
        "    #print(\"... n_bins = \" + str(n_bins))\n",
        "    #print(\"... n_chip = \" + str(n_chip))\n",
        "\n",
        "#print(chromos)\n",
        "\n",
        "assert n_chip != None\n",
        "assert not inputDF is None\n",
        "assert cumlength == inputDF.shape[0]\n",
        "    "
      ],
      "execution_count": 0,
      "outputs": []
    },
    {
      "cell_type": "markdown",
      "metadata": {
        "id": "r-3rWeZm2idc",
        "colab_type": "text"
      },
      "source": [
        "### 2b. Normalization"
      ]
    },
    {
      "cell_type": "code",
      "metadata": {
        "id": "xFhSuBoi2iml",
        "colab_type": "code",
        "outputId": "4544e268-4fc7-4bab-b697-be54b1274228",
        "colab": {
          "base_uri": "https://localhost:8080/",
          "height": 238
        }
      },
      "source": [
        "### DATA NORMALIZATION\n",
        "### For the input to the neural network, standardize the columns (mean=0, variance=1)\n",
        "\n",
        "# norm_inputDF = (inputDF-inputDF.mean())/inputDF.std()\n",
        "# corrected: normalize each channel separately\n",
        "norm_inputDF = (inputDF-inputDF.mean(axis=0))/inputDF.std(axis=0)\n",
        "print(norm_inputDF.iloc[0:5,0:5])\n",
        "\n",
        "# chekc data frame column mean and std\n",
        "assert all(norm_inputDF.mean(axis=0) < 1e-10)\n",
        "assert all(norm_inputDF.std(axis=0) - 1 < 1e-10)\n",
        "assert norm_inputDF.shape[1] == len(norm_inputDF.mean(axis=0) < 1e-10)\n",
        "\n",
        "# ensure using only the norm_inputDF later on\n",
        "del inputDF\n"
      ],
      "execution_count": 0,
      "outputs": [
        {
          "output_type": "stream",
          "text": [
            "   binScore  ENCFF001SUB_ENCFF001XPJ_ENCFF001XPK_CTCF  ENCFF001SUC_EZH2  \\\n",
            "0  0.453783                                 -0.533415         -0.443063   \n",
            "1 -1.120404                                  0.564859         -0.443063   \n",
            "2 -1.125545                                  1.961059          0.107238   \n",
            "3 -1.112067                                  1.604775          0.094801   \n",
            "4 -1.071426                                 -0.378399         -0.443063   \n",
            "\n",
            "   ENCFF001SUD_H2AFZ  ENCFF001SUE_H3K4me1  \n",
            "0          -0.488051            -0.547291  \n",
            "1          -0.488051            -0.547291  \n",
            "2           1.209626             0.705221  \n",
            "3          -0.488051            -0.547291  \n",
            "4          -0.488051            -0.547291  \n"
          ],
          "name": "stdout"
        }
      ]
    },
    {
      "cell_type": "markdown",
      "metadata": {
        "id": "6X7NuFUj2r7k",
        "colab_type": "text"
      },
      "source": [
        "### 2c. Split train and validation data set"
      ]
    },
    {
      "cell_type": "code",
      "metadata": {
        "id": "dAbaoP5i2t-t",
        "colab_type": "code",
        "outputId": "2c0be522-1a41-46c7-aa2d-ec88432844c7",
        "colab": {
          "base_uri": "https://localhost:8080/",
          "height": 68
        }
      },
      "source": [
        "# for each chromo\n",
        "# a) retrieve # of bins\n",
        "# b) retrieve valid positions (1...chr_len-bin_seq_len +1)\n",
        "# c) set # of train/validation indices to sample\n",
        "# d) random sample the train/validation indices\n",
        "# e) recaste the indices (indices + cumsumlength)\n",
        "# f) append to train/validation input dataset\n",
        "\n",
        "# will store the list of the 1st bin position\n",
        "all_train_indices = [] \n",
        "all_valid_indices = []\n",
        "\n",
        "for chr in chromos:\n",
        "  #print(\"> START prepare data for \" + chr)\n",
        "  # since I want to retrieve a sequence of bins -> need to end before the end of the chromosome...\n",
        "  # and since the norm_inputDF contains all chromos -> need to shift the idx to the start of the chromo  \n",
        "  chr_nbin = chromos_length[chr]\n",
        "  chr_cumlen = chromos_cumlength[chr]\n",
        "  chr_valid_start_positions = list(range(chr_cumlen, chr_nbin + chr_cumlen - bin_seq_len + 1))\n",
        "\n",
        "  assert all((np.array(chr_valid_start_positions) + bin_seq_len) <= (chr_nbin + chr_cumlen))\n",
        "  \n",
        "  # !!! BUT SAMPLES WONT BE INDEPENDENT -> ONE BIN WILL BE IN MANY SAMPLES (not at middle position...)\n",
        "  n_train = int(math.floor(train_ratio * len(chr_valid_start_positions)))\n",
        "  n_valid = int(math.floor(valid_ratio * len(chr_valid_start_positions)))\n",
        "  assert (n_train + n_valid) <= chr_nbin\n",
        "  # shuffle the start indices (NB: not sure it is needed - shuffling also done before iteration over minibatches at each epoch)\n",
        "  tmp = list(chr_valid_start_positions)\n",
        "  random.shuffle(chr_valid_start_positions)\n",
        "  assert tmp != chr_valid_start_positions # ensure shuffle is done in place...\n",
        "  train_indices = chr_valid_start_positions[:n_train]\n",
        "  valid_indices = chr_valid_start_positions[n_train:(n_train + n_valid)]\n",
        "  \n",
        "  #print(\"# of train indices = \" + str(len(train_indices)))\n",
        "  #print(\"# of valid indices = \" + str(len(valid_indices)))\n",
        "   \n",
        "  all_train_indices += train_indices\n",
        "  all_valid_indices += valid_indices\n",
        "\n",
        "  \n",
        "print(\"# of samples = \" + str(norm_inputDF.shape[0]))\n",
        "print(\"# of all_train indices = \" + str(len(all_train_indices)))\n",
        "print(\"# of all_valid indices = \" + str(len(all_valid_indices)))\n",
        "\n",
        "# since I want to retrieve a sequence of bins -> have ended before the end of each chromosome...\n",
        "all_chromo_nbr_invalid_start_positions = (bin_seq_len - 1) * len(chromos)\n",
        "\n",
        "# cannot be tested equal because of the rounding\n",
        "assert (len(all_train_indices) + len(all_valid_indices)) <= (math.floor(train_ratio*\n",
        "                                                                        norm_inputDF.shape[0])+\n",
        "                                                             math.floor(valid_ratio * \n",
        "                                                                        norm_inputDF.shape[0]))\n"
      ],
      "execution_count": 0,
      "outputs": [
        {
          "output_type": "stream",
          "text": [
            "# of samples = 128394\n",
            "# of all_train indices = 100964\n",
            "# of all_valid indices = 25236\n"
          ],
          "name": "stdout"
        }
      ]
    },
    {
      "cell_type": "markdown",
      "metadata": {
        "id": "qOsWWZZm2yV2",
        "colab_type": "text"
      },
      "source": [
        "## 3. Define helper functions"
      ]
    },
    {
      "cell_type": "markdown",
      "metadata": {
        "id": "mJYljQA62yh1",
        "colab_type": "text"
      },
      "source": [
        "###3.a. Function to retrieve current dataset to pass to the network for a given minibatch"
      ]
    },
    {
      "cell_type": "code",
      "metadata": {
        "id": "8qrvH8Yu21ha",
        "colab_type": "code",
        "colab": {}
      },
      "source": [
        "# DEFINED IN: my_cnn_functions.py"
      ],
      "execution_count": 0,
      "outputs": []
    },
    {
      "cell_type": "markdown",
      "metadata": {
        "id": "pHUY0Lx73CH3",
        "colab_type": "text"
      },
      "source": [
        "### 3.b. Wrapper functions to build the model"
      ]
    },
    {
      "cell_type": "code",
      "metadata": {
        "id": "H9T966Gl3C4z",
        "colab_type": "code",
        "colab": {}
      },
      "source": [
        "# DEFINED IN: my_cnn_functions.py"
      ],
      "execution_count": 0,
      "outputs": []
    },
    {
      "cell_type": "markdown",
      "metadata": {
        "id": "bOko9Wrl4ls1",
        "colab_type": "text"
      },
      "source": [
        "## 4. Define the graph* (with graph.as_default(): ... )*\n"
      ]
    },
    {
      "cell_type": "markdown",
      "metadata": {
        "id": "FZDQmpkW4l5z",
        "colab_type": "text"
      },
      "source": [
        "###4.a. Hard-coded settings"
      ]
    },
    {
      "cell_type": "code",
      "metadata": {
        "id": "tL51Z_4S4o-Q",
        "colab_type": "code",
        "colab": {}
      },
      "source": [
        "## HARD CODED FOR THE INPUT\n",
        "\n",
        "dropout_keep_prob = 1    # no dropout regularization for the moment\n",
        "\n",
        "n_filt=16\n",
        "k_size=1\n",
        "n_stri_conv=1\n",
        "p_type=\"same\"\n",
        "activ_fct=tf.nn.relu\n",
        "mp_size=2\n",
        "n_stri_pool=2\n",
        "\n",
        "bin_seq_len=int(bin_seq_len)\n",
        "n_chip=int(n_chip)\n",
        "\n",
        "# ### CROPPING THE INPUT\n",
        "# if p_type.lower() == \"valid\":\n",
        "#   crop_delta =  k_size//2\n",
        "#   crop_step = (mp_size)**n_MP\n",
        "# elif p_type.lower() == \"same\":\n",
        "#   crop_delta =0\n",
        "#   crop_step = (mp_size)**n_MP\n",
        "# else:\n",
        "#   print(\"invalid p_type\")\n",
        "#   sys.exit(1)\n",
        "\n",
        " \n",
        "# y_input_cropped = y_input[crop_delta:-crop_delta:crop_step]\n",
        "\n",
        "crop_delta =0\n",
        "crop_step=mp_size\n",
        "bin_seq_len_cropped = bin_seq_len//mp_size\n"
      ],
      "execution_count": 0,
      "outputs": []
    },
    {
      "cell_type": "markdown",
      "metadata": {
        "id": "HSgKZIgh4rzZ",
        "colab_type": "text"
      },
      "source": [
        "###4.b. Define the model"
      ]
    },
    {
      "cell_type": "code",
      "metadata": {
        "id": "GIgl5Jm2hcOM",
        "colab_type": "code",
        "colab": {}
      },
      "source": [
        ""
      ],
      "execution_count": 0,
      "outputs": []
    },
    {
      "cell_type": "code",
      "metadata": {
        "id": "0E6dhIyx4r-F",
        "colab_type": "code",
        "outputId": "9a454bc9-4af8-432a-9c0f-fc16fd89b3e1",
        "colab": {
          "base_uri": "https://localhost:8080/",
          "height": 224
        }
      },
      "source": [
        "import tensorflow as tf\n",
        "\n",
        "print(\"> START constructing TF graph\")\n",
        "\n",
        "g = tf.Graph()\n",
        "\n",
        "print(\"... construct placeholders\")\n",
        "with g.as_default():\n",
        "  \n",
        "\n",
        "  ### DEFINE INPUT PLACEHOLDERS  # -> put None instead of minibatch_size to be run with validation set !!!\n",
        "  x_input = tf.placeholder(dtype = tf.float32, \n",
        "                           shape = [None, bin_seq_len, n_chip],  # [batch_size, sequence_length, num_proteins]\n",
        "                           name = \"x_input\") \n",
        " \n",
        "  ### y_obs need to be the cropped variables !!!!!!! \n",
        "  y_obs = tf.placeholder(dtype = tf.float32, \n",
        "                         shape = [None, bin_seq_len_cropped, 1],  # [batch_size, sequence_length] or [batch_size, sequence_length, 1]\n",
        "                         name  = \"y_obs\")\n",
        "\n",
        "  minibatch_size_ = tf.placeholder(dtype = tf.int32,   # [batch_size, sequence_length] or [batch_size, sequence_length, 1]\n",
        "                         name  = \"minibatch_size_\")\n",
        "\n",
        "  # probability to keep the unit at regularization\n",
        "  drop_keep_prob = tf.placeholder(tf.float32, name=\"drop_keep_prob\")\n",
        "  \n",
        "  # learning rate\n",
        "  learn_rate = tf.placeholder(tf.float32, name =\"learn_rate\")\n",
        "  \n",
        "  ### CALL THE NN TO RETRIEVE THE PREDICTIONS\n",
        "  y_pred =   conv1d_model_CN_MP(CN_input = x_input,\n",
        "                   CN_nbr_filters = n_filt,\n",
        "                   CN_size_kernel = k_size,\n",
        "                   CN_step_stride=n_stri_conv,\n",
        "                   CN_type_padding=p_type,\n",
        "                   CN_activ_function=activ_fct,\n",
        "                  \n",
        "                  MP_mp_size = mp_size,\n",
        "                  MP_step_stride = n_stri_pool,\n",
        "                  MP_type_padding = p_type,\n",
        "                             \n",
        "                  minibatch_size = minibatch_size_,           \n",
        "                  bin_seq_len=bin_seq_len,\n",
        "                  n_chip = n_chip\n",
        "                            )\n",
        "\n",
        "  \n",
        "  ### OPTIMIZATION  \n",
        "  # compute the cost -> linear function with MSE \n",
        "  loss = tf.reduce_mean(tf.square(y_obs - y_pred))\n",
        "\n",
        "  # run the optimizer\n",
        "  optimizer = tf.train.AdamOptimizer(learning_rate=learn_rate).minimize(loss)\n",
        "\n",
        "  \n",
        "    # for visualization we will calculate the gradients\n",
        "    #gradients of each of bin_seq_len outputs over input x\n",
        "   # yh_grad = [tf.gradients(Y_onehot[..., i], X) for i in range(10)]\n",
        "    #gradient of maximal output over input x\n",
        "    #ym_grad = tf.gradients(tf.reduce_max(Y_onehot, axis=1), X)\n"
      ],
      "execution_count": 0,
      "outputs": [
        {
          "output_type": "stream",
          "text": [
            "> START constructing TF graph\n",
            "... construct placeholders\n",
            "WARNING:tensorflow:From /content/my_cnn_functions.py:100: conv1d (from tensorflow.python.layers.convolutional) is deprecated and will be removed in a future version.\n",
            "Instructions for updating:\n",
            "Use keras.layers.conv1d instead.\n",
            "WARNING:tensorflow:From /usr/local/lib/python3.6/dist-packages/tensorflow/python/framework/op_def_library.py:263: colocate_with (from tensorflow.python.framework.ops) is deprecated and will be removed in a future version.\n",
            "Instructions for updating:\n",
            "Colocations handled automatically by placer.\n",
            "WARNING:tensorflow:From /content/my_cnn_functions.py:119: max_pooling1d (from tensorflow.python.layers.pooling) is deprecated and will be removed in a future version.\n",
            "Instructions for updating:\n",
            "Use keras.layers.max_pooling1d instead.\n"
          ],
          "name": "stdout"
        }
      ]
    },
    {
      "cell_type": "code",
      "metadata": {
        "id": "YEC4TLHwFwkF",
        "colab_type": "code",
        "outputId": "f2a64eae-4f30-4df6-d075-f82266775ced",
        "colab": {
          "base_uri": "https://localhost:8080/",
          "height": 1717
        }
      },
      "source": [
        "all_minibatch_avg_loss_train = []\n",
        "all_epoch_loss_train = []\n",
        "all_epoch_loss_valid = []\n",
        "\n",
        "losses_train = []\n",
        "losses_valid = []\n",
        "\n",
        "# Start training\n",
        "with tf.Session(graph=g) as sess:\n",
        "    # Run the initializer\n",
        "    sess.run(tf.global_variables_initializer())\n",
        " \n",
        "    # training in 2 loops: 1) outer: over epochs; 2) for each epoch: over mini-batches (optimization for all of the minin-batches)\n",
        "    # -> at the end of 1 epoch, as many optimization as mini-batches\n",
        "    # !!! data should not go into training pipeline in same order !!!\n",
        "    # -> at the beginning of each epoch, shuffle the indices before iterating over the mini-batches !!!\n",
        "    all_epoch_avg_loss_train = []\n",
        "    all_epoch_avg_loss_valid = []\n",
        "    \n",
        "    # Iteration over the batches\n",
        "    for i_epoch in range(n_epochs):\n",
        "      epoch_avg_loss_train = 0\n",
        "      epoch_avg_loss_valid = 0\n",
        "      \n",
        "      for i_minibatch in range(n_minibatches):\n",
        "        \n",
        "\n",
        "        \n",
        "        minibatch_x, minibatch_y = get_minibatch_xy(index_list=all_train_indices,\n",
        "                                                  i_batch=i_minibatch, \n",
        "                                                  n_to_sample=minibatch_size,\n",
        "                                                  full_inputDF = norm_inputDF,\n",
        "                                                  y_obs_colnbr = col_with_BD_score,\n",
        "                                                  seq_len = bin_seq_len) \n",
        "        x_sequence=minibatch_x\n",
        "\n",
        "        if p_type.lower() == \"same\": \n",
        "          y_input_cropped=np.apply_along_axis(crop_seq, 1, minibatch_y,  mp_step=crop_step, check_size=bin_seq_len_cropped)\n",
        "        else:\n",
        "          print(\"not implemented\")\n",
        "          sys.exit(1)\n",
        "        # sess.run() should be fed with all minibatch samples        \n",
        "        # CALL ONLY THE OPTIMIZER !!! -> IN CASCADE, WILL RUN THE FULL GRAPH\n",
        "        # Run optimization (backprop) # should have as many optimizations as mini-batches \n",
        "        # Fit training using batch data\n",
        "        _, minibatch_loss = sess.run((optimizer, loss),\n",
        "                  feed_dict={\n",
        "                      x_input: x_sequence,\n",
        "                      y_obs: y_input_cropped,\n",
        "                      learn_rate: learning_rate,\n",
        "                                            minibatch_size_ :minibatch_size\n",
        "\n",
        "                      })\n",
        "\n",
        "        loss_train = minibatch_loss\n",
        "        losses_train.append(np.mean(loss_train))\n",
        "                        \n",
        "        x_valid, y_valid = get_minibatch_xy(index_list=all_valid_indices,\n",
        "                                  i_batch=0, \n",
        "                                  n_to_sample=n_samples_valid,  # !!!!!!!!!!!!!!!!!! WRONG HERE BUT I NEED TO UPDATE THE GRAPH MODEL DEFINITION !!!!!!!!!!!!!!!!!!,\n",
        "                                  full_inputDF = norm_inputDF,\n",
        "                                  y_obs_colnbr = col_with_BD_score,\n",
        "                                  seq_len = bin_seq_len)   \n",
        "        \n",
        "        if p_type.lower() == \"same\": \n",
        "          y_valid_cropped=np.apply_along_axis(crop_seq, 1, y_valid,  mp_step=crop_step, check_size=bin_seq_len_cropped)\n",
        "        else:\n",
        "          print(\"not implemented\")\n",
        "          sys.exit(1)\n",
        "          \n",
        "        loss_valid = sess.run((loss),feed_dict={\n",
        "                      x_input: x_valid,\n",
        "                      y_obs: y_valid_cropped,\n",
        "                      learn_rate: learning_rate,\n",
        "                      minibatch_size_: n_samples_valid\n",
        "                      })\n",
        "\n",
        "        \n",
        "        losses_valid.append(np.mean(loss_valid))\n",
        "\n",
        "        txt = \"Epoch: %03d/%03d - minibatch: %03d/%03d,  minibatch_loss_train = %.9f\" % (i_epoch, n_epochs,i_minibatch, n_minibatches, loss_train)\n",
        "        if not i_epoch % epoch_out_step:\n",
        "          print(txt)\n",
        "          print_in_file(mytext=txt, filename=log_file)\n",
        "        \n",
        "        txt = \"Epoch: %03d/%03d - minibatch: %03d/%03d,  minibatch_loss_valid = %.9f\" % (i_epoch, n_epochs,i_minibatch, n_minibatches, loss_valid)\n",
        "        if not i_epoch % epoch_out_step:\n",
        "          print(txt)\n",
        "          print_in_file(mytext=txt, filename=log_file)\n",
        "\n",
        "\n",
        "        # Add current mini-batch loss to average loss for this epoch:\n",
        "        epoch_avg_loss_train += loss_train/n_minibatches\n",
        "        epoch_avg_loss_valid += loss_valid/n_minibatches\n",
        "\n",
        "\n",
        "      # END-For i_minibatch\n",
        "      all_epoch_avg_loss_train.append(epoch_avg_loss_train)\n",
        "      all_epoch_avg_loss_valid.append(epoch_avg_loss_valid)"
      ],
      "execution_count": 0,
      "outputs": [
        {
          "output_type": "stream",
          "text": [
            "Epoch: 000/100 - minibatch: 000/010,  minibatch_loss_train = 5.889060497\n",
            "Epoch: 000/100 - minibatch: 000/010,  minibatch_loss_valid = 4.883594513\n",
            "Epoch: 000/100 - minibatch: 001/010,  minibatch_loss_train = 5.056371689\n",
            "Epoch: 000/100 - minibatch: 001/010,  minibatch_loss_valid = 4.502574921\n",
            "Epoch: 000/100 - minibatch: 002/010,  minibatch_loss_train = 4.776245594\n",
            "Epoch: 000/100 - minibatch: 002/010,  minibatch_loss_valid = 4.207888126\n",
            "Epoch: 000/100 - minibatch: 003/010,  minibatch_loss_train = 6.104215622\n",
            "Epoch: 000/100 - minibatch: 003/010,  minibatch_loss_valid = 3.974621534\n",
            "Epoch: 000/100 - minibatch: 004/010,  minibatch_loss_train = 5.038725376\n",
            "Epoch: 000/100 - minibatch: 004/010,  minibatch_loss_valid = 3.809351921\n",
            "Epoch: 000/100 - minibatch: 005/010,  minibatch_loss_train = 5.798929214\n",
            "Epoch: 000/100 - minibatch: 005/010,  minibatch_loss_valid = 3.690274954\n",
            "Epoch: 000/100 - minibatch: 006/010,  minibatch_loss_train = 4.778449059\n",
            "Epoch: 000/100 - minibatch: 006/010,  minibatch_loss_valid = 3.601022243\n",
            "Epoch: 000/100 - minibatch: 007/010,  minibatch_loss_train = 5.180255413\n",
            "Epoch: 000/100 - minibatch: 007/010,  minibatch_loss_valid = 3.525280714\n",
            "Epoch: 000/100 - minibatch: 008/010,  minibatch_loss_train = 5.070496082\n",
            "Epoch: 000/100 - minibatch: 008/010,  minibatch_loss_valid = 3.449733019\n",
            "Epoch: 000/100 - minibatch: 009/010,  minibatch_loss_train = 3.649853468\n",
            "Epoch: 000/100 - minibatch: 009/010,  minibatch_loss_valid = 3.372622728\n",
            "Epoch: 020/100 - minibatch: 000/010,  minibatch_loss_train = 1.034218431\n",
            "Epoch: 020/100 - minibatch: 000/010,  minibatch_loss_valid = 1.193439722\n",
            "Epoch: 020/100 - minibatch: 001/010,  minibatch_loss_train = 1.041888595\n",
            "Epoch: 020/100 - minibatch: 001/010,  minibatch_loss_valid = 1.192337632\n",
            "Epoch: 020/100 - minibatch: 002/010,  minibatch_loss_train = 1.031747937\n",
            "Epoch: 020/100 - minibatch: 002/010,  minibatch_loss_valid = 1.191301465\n",
            "Epoch: 020/100 - minibatch: 003/010,  minibatch_loss_train = 1.056807160\n",
            "Epoch: 020/100 - minibatch: 003/010,  minibatch_loss_valid = 1.190662384\n",
            "Epoch: 020/100 - minibatch: 004/010,  minibatch_loss_train = 0.930878401\n",
            "Epoch: 020/100 - minibatch: 004/010,  minibatch_loss_valid = 1.190216422\n",
            "Epoch: 020/100 - minibatch: 005/010,  minibatch_loss_train = 0.934193194\n",
            "Epoch: 020/100 - minibatch: 005/010,  minibatch_loss_valid = 1.189197659\n",
            "Epoch: 020/100 - minibatch: 006/010,  minibatch_loss_train = 1.142030239\n",
            "Epoch: 020/100 - minibatch: 006/010,  minibatch_loss_valid = 1.187667727\n",
            "Epoch: 020/100 - minibatch: 007/010,  minibatch_loss_train = 1.037169456\n",
            "Epoch: 020/100 - minibatch: 007/010,  minibatch_loss_valid = 1.186668396\n",
            "Epoch: 020/100 - minibatch: 008/010,  minibatch_loss_train = 0.916439414\n",
            "Epoch: 020/100 - minibatch: 008/010,  minibatch_loss_valid = 1.185756445\n",
            "Epoch: 020/100 - minibatch: 009/010,  minibatch_loss_train = 1.005595207\n",
            "Epoch: 020/100 - minibatch: 009/010,  minibatch_loss_valid = 1.184688091\n",
            "Epoch: 040/100 - minibatch: 000/010,  minibatch_loss_train = 0.877274394\n",
            "Epoch: 040/100 - minibatch: 000/010,  minibatch_loss_valid = 1.069445968\n",
            "Epoch: 040/100 - minibatch: 001/010,  minibatch_loss_train = 0.842845678\n",
            "Epoch: 040/100 - minibatch: 001/010,  minibatch_loss_valid = 1.069000483\n",
            "Epoch: 040/100 - minibatch: 002/010,  minibatch_loss_train = 0.885288298\n",
            "Epoch: 040/100 - minibatch: 002/010,  minibatch_loss_valid = 1.068469405\n",
            "Epoch: 040/100 - minibatch: 003/010,  minibatch_loss_train = 0.848611057\n",
            "Epoch: 040/100 - minibatch: 003/010,  minibatch_loss_valid = 1.068352222\n",
            "Epoch: 040/100 - minibatch: 004/010,  minibatch_loss_train = 0.818087876\n",
            "Epoch: 040/100 - minibatch: 004/010,  minibatch_loss_valid = 1.068488955\n",
            "Epoch: 040/100 - minibatch: 005/010,  minibatch_loss_train = 0.776060283\n",
            "Epoch: 040/100 - minibatch: 005/010,  minibatch_loss_valid = 1.068206668\n",
            "Epoch: 040/100 - minibatch: 006/010,  minibatch_loss_train = 0.908804536\n",
            "Epoch: 040/100 - minibatch: 006/010,  minibatch_loss_valid = 1.067484379\n",
            "Epoch: 040/100 - minibatch: 007/010,  minibatch_loss_train = 0.818356693\n",
            "Epoch: 040/100 - minibatch: 007/010,  minibatch_loss_valid = 1.067275643\n",
            "Epoch: 040/100 - minibatch: 008/010,  minibatch_loss_train = 0.769941151\n",
            "Epoch: 040/100 - minibatch: 008/010,  minibatch_loss_valid = 1.066953421\n",
            "Epoch: 040/100 - minibatch: 009/010,  minibatch_loss_train = 0.847845256\n",
            "Epoch: 040/100 - minibatch: 009/010,  minibatch_loss_valid = 1.066391706\n",
            "Epoch: 060/100 - minibatch: 000/010,  minibatch_loss_train = 0.805994809\n",
            "Epoch: 060/100 - minibatch: 000/010,  minibatch_loss_valid = 1.018055439\n",
            "Epoch: 060/100 - minibatch: 001/010,  minibatch_loss_train = 0.756794393\n",
            "Epoch: 060/100 - minibatch: 001/010,  minibatch_loss_valid = 1.017805338\n",
            "Epoch: 060/100 - minibatch: 002/010,  minibatch_loss_train = 0.807620585\n",
            "Epoch: 060/100 - minibatch: 002/010,  minibatch_loss_valid = 1.017391324\n",
            "Epoch: 060/100 - minibatch: 003/010,  minibatch_loss_train = 0.753720701\n",
            "Epoch: 060/100 - minibatch: 003/010,  minibatch_loss_valid = 1.017498136\n",
            "Epoch: 060/100 - minibatch: 004/010,  minibatch_loss_train = 0.760374308\n",
            "Epoch: 060/100 - minibatch: 004/010,  minibatch_loss_valid = 1.017980576\n",
            "Epoch: 060/100 - minibatch: 005/010,  minibatch_loss_train = 0.709947109\n",
            "Epoch: 060/100 - minibatch: 005/010,  minibatch_loss_valid = 1.017889977\n",
            "Epoch: 060/100 - minibatch: 006/010,  minibatch_loss_train = 0.815181613\n",
            "Epoch: 060/100 - minibatch: 006/010,  minibatch_loss_valid = 1.017070174\n",
            "Epoch: 060/100 - minibatch: 007/010,  minibatch_loss_train = 0.731791079\n",
            "Epoch: 060/100 - minibatch: 007/010,  minibatch_loss_valid = 1.016974092\n",
            "Epoch: 060/100 - minibatch: 008/010,  minibatch_loss_train = 0.702827990\n",
            "Epoch: 060/100 - minibatch: 008/010,  minibatch_loss_valid = 1.016820312\n",
            "Epoch: 060/100 - minibatch: 009/010,  minibatch_loss_train = 0.772873998\n",
            "Epoch: 060/100 - minibatch: 009/010,  minibatch_loss_valid = 1.016436219\n",
            "Epoch: 080/100 - minibatch: 000/010,  minibatch_loss_train = 0.764549077\n",
            "Epoch: 080/100 - minibatch: 000/010,  minibatch_loss_valid = 0.990122974\n",
            "Epoch: 080/100 - minibatch: 001/010,  minibatch_loss_train = 0.713364482\n",
            "Epoch: 080/100 - minibatch: 001/010,  minibatch_loss_valid = 0.990036845\n",
            "Epoch: 080/100 - minibatch: 002/010,  minibatch_loss_train = 0.768104851\n",
            "Epoch: 080/100 - minibatch: 002/010,  minibatch_loss_valid = 0.989755154\n",
            "Epoch: 080/100 - minibatch: 003/010,  minibatch_loss_train = 0.697240949\n",
            "Epoch: 080/100 - minibatch: 003/010,  minibatch_loss_valid = 0.989985406\n",
            "Epoch: 080/100 - minibatch: 004/010,  minibatch_loss_train = 0.731440067\n",
            "Epoch: 080/100 - minibatch: 004/010,  minibatch_loss_valid = 0.990598142\n",
            "Epoch: 080/100 - minibatch: 005/010,  minibatch_loss_train = 0.669342518\n",
            "Epoch: 080/100 - minibatch: 005/010,  minibatch_loss_valid = 0.990605533\n",
            "Epoch: 080/100 - minibatch: 006/010,  minibatch_loss_train = 0.763893783\n",
            "Epoch: 080/100 - minibatch: 006/010,  minibatch_loss_valid = 0.989859819\n",
            "Epoch: 080/100 - minibatch: 007/010,  minibatch_loss_train = 0.675908208\n",
            "Epoch: 080/100 - minibatch: 007/010,  minibatch_loss_valid = 0.989781260\n",
            "Epoch: 080/100 - minibatch: 008/010,  minibatch_loss_train = 0.667079091\n",
            "Epoch: 080/100 - minibatch: 008/010,  minibatch_loss_valid = 0.989638805\n",
            "Epoch: 080/100 - minibatch: 009/010,  minibatch_loss_train = 0.733609855\n",
            "Epoch: 080/100 - minibatch: 009/010,  minibatch_loss_valid = 0.989360809\n"
          ],
          "name": "stdout"
        }
      ]
    },
    {
      "cell_type": "code",
      "metadata": {
        "id": "RxU3M25AeY3n",
        "colab_type": "code",
        "outputId": "1d6b453b-4de4-48b3-e50e-15c8e6e9c1eb",
        "colab": {
          "base_uri": "https://localhost:8080/",
          "height": 500
        }
      },
      "source": [
        "# PLOT LOSS    (function defined in my_cnn_functions.py)\n",
        "mytit= \"# MB=%d, # epochs=%d, MB size=%d, # valid=%d - learning rate=%.5f\" % (n_minibatches, n_epochs, minibatch_size, n_samples_valid, learning_rate) \n",
        "\n",
        "loss_plot(train_data=all_epoch_avg_loss_train, valid_data=all_epoch_avg_loss_valid, \n",
        "          plotTit = mytit, image_file = image_file\n",
        "         )\n",
        "\n"
      ],
      "execution_count": 0,
      "outputs": [
        {
          "output_type": "display_data",
          "data": {
            "image/png": "[encoded data removed]",
            "text/plain": [
              "<Figure size 720x576 with 1 Axes>"
            ]
          },
          "metadata": {
            "tags": []
          }
        }
      ]
    }
  ]
}